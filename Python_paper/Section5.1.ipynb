{
 "cells": [
  {
   "cell_type": "markdown",
   "metadata": {},
   "source": [
    "# Australian dataset"
   ]
  },
  {
   "cell_type": "code",
   "execution_count": 1,
   "metadata": {},
   "outputs": [],
   "source": [
    "%run preamble.py\n",
    "ausautoBI8999 = pd.read_csv(\"../Data/ausautoBI8999.csv\")"
   ]
  },
  {
   "cell_type": "code",
   "execution_count": 2,
   "metadata": {},
   "outputs": [
    {
     "name": "stdout",
     "output_type": "stream",
     "text": [
      "\\begin{tabular}{lrr}\n",
      "\\toprule\n",
      "   FinDate &  FinMth &  AggClaim \\\\\n",
      "\\midrule\n",
      "1993-10-01 &      52 &     87.75 \\\\\n",
      "1994-02-01 &      56 &    353.62 \\\\\n",
      "1994-02-01 &      56 &    688.83 \\\\\n",
      "1994-05-01 &      59 &    172.80 \\\\\n",
      "1994-09-01 &      63 &     43.29 \\\\\n",
      "\\bottomrule\n",
      "\\end{tabular}\n",
      "\n",
      "\\begin{tabular}{ll}\n",
      "\\toprule\n",
      "{} &    AggClaim \\\\\n",
      "\\midrule\n",
      "count &    22036.00 \\\\\n",
      "mean  &    38367.22 \\\\\n",
      "std   &    90981.11 \\\\\n",
      "min   &        9.96 \\\\\n",
      "25\\%   &     6296.97 \\\\\n",
      "50\\%   &    13853.87 \\\\\n",
      "75\\%   &    35123.42 \\\\\n",
      "max   &  4485797.21 \\\\\n",
      "\\bottomrule\n",
      "\\end{tabular}\n",
      "\n"
     ]
    }
   ],
   "source": [
    "from datetime import datetime\n",
    "aus = pd.concat([ausautoBI8999[[\"FinDate\", \"FinMth\" ,\"AggClaim\"]], \n",
    "                 pd.DataFrame({'year':np.array([datetime.fromisoformat(ausautoBI8999[\"FinDate\"].iloc[k]).year \n",
    "                                                for k in range(len(ausautoBI8999[\"FinDate\"]))])})\n",
    "                ], axis = 1)\n",
    "print(aus[[\"FinDate\", \"FinMth\", \"AggClaim\"]].head(5).to_latex(index=False))\n",
    "print(aus[[\"AggClaim\"]].describe().applymap(\"{:.2f}\".format).to_latex())"
   ]
  },
  {
   "cell_type": "code",
   "execution_count": 3,
   "metadata": {},
   "outputs": [
    {
     "data": {
      "image/png": "[encoded data removed]",
      "text/plain": [
       "<Figure size 360x252 with 2 Axes>"
      ]
     },
     "metadata": {
      "needs_background": "light"
     },
     "output_type": "display_data"
    }
   ],
   "source": [
    "fig, axs = plt.subplots(1,2, figsize=(5, 3.5), tight_layout=True)\n",
    "num_bins = 40\n",
    "# the histogram of the data\n",
    "n, bins, patches = axs[0].hist(aus.AggClaim / 1e6, num_bins, alpha=0.5)\n",
    "axs[1].boxplot(aus.AggClaim / 1e6)\n",
    "axs[0].set_xlabel(\"\")\n",
    "axs[0].set_ylabel(\"Frequency\")\n",
    "axs[1].set_ylabel(\"\")\n",
    "axs[1].set_xticks([])\n",
    "plt.suptitle(\"Claim amounts (in millions)\")\n",
    "# plt.show()\n",
    "sns.despine()\n",
    "plt.savefig(\"../Figures/hist_box_aus_en.pdf\")"
   ]
  },
  {
   "cell_type": "code",
   "execution_count": 8,
   "metadata": {},
   "outputs": [
    {
     "name": "stdout",
     "output_type": "stream",
     "text": [
      "Fitting lnorm-par model\n",
      "Fitting wei-par model\n",
      "Fitting gam-par model\n",
      "Time: 798.2041091918945\n"
     ]
    }
   ],
   "source": [
    "np.random.seed(333)\n",
    "aus['scaled_aggclaims'] = aus['AggClaim'] / 1e6 \n",
    "aus['scaled_aggclaims'].quantile([0.95, 0.99])\n",
    "loss_models = ['lnorm-par', 'wei-par', \"gam-par\"]\n",
    "X = aus['scaled_aggclaims'].values\n",
    "model_prior, a, b =  \"gamma\", 0.1 * np.ones(3), 0.1 * np.ones(3)\n",
    "# SMC settings\n",
    "popSize, verbose, smc_method, paralell, nproc = 5000, True, \"likelihood_anealing\", True, 40\n",
    "start_time = time()\n",
    "traces, summary = fit_composite_models_smc(X,loss_models,\n",
    "                                                     model_prior, a, b, popSize, verbose, smc_method, paralell, nproc)\n",
    "print(\"Time: \"+str(time() -  start_time))"
   ]
  },
  {
   "cell_type": "code",
   "execution_count": 9,
   "metadata": {},
   "outputs": [
    {
     "data": {
      "text/html": [
       "<div>\n",
       "<style scoped>\n",
       "    .dataframe tbody tr th:only-of-type {\n",
       "        vertical-align: middle;\n",
       "    }\n",
       "\n",
       "    .dataframe tbody tr th {\n",
       "        vertical-align: top;\n",
       "    }\n",
       "\n",
       "    .dataframe thead th {\n",
       "        text-align: right;\n",
       "    }\n",
       "</style>\n",
       "<table border=\"1\" class=\"dataframe\">\n",
       "  <thead>\n",
       "    <tr style=\"text-align: right;\">\n",
       "      <th></th>\n",
       "      <th>loss_model</th>\n",
       "      <th>log_marg</th>\n",
       "      <th>DIC</th>\n",
       "      <th>WAIC</th>\n",
       "      <th>shape</th>\n",
       "      <th>tail</th>\n",
       "      <th>thres</th>\n",
       "      <th>model_evidence</th>\n",
       "    </tr>\n",
       "  </thead>\n",
       "  <tbody>\n",
       "    <tr>\n",
       "      <th>0</th>\n",
       "      <td>lnorm-par</td>\n",
       "      <td>54193.611597</td>\n",
       "      <td>-105218.224756</td>\n",
       "      <td>-108416.325656</td>\n",
       "      <td>1.462047</td>\n",
       "      <td>2.702887</td>\n",
       "      <td>6.300319</td>\n",
       "      <td>3.536153e-161</td>\n",
       "    </tr>\n",
       "    <tr>\n",
       "      <th>0</th>\n",
       "      <td>wei-par</td>\n",
       "      <td>54559.203894</td>\n",
       "      <td>-109162.861115</td>\n",
       "      <td>-109150.058703</td>\n",
       "      <td>1.051998</td>\n",
       "      <td>1.048016</td>\n",
       "      <td>0.033785</td>\n",
       "      <td>2.104980e-02</td>\n",
       "    </tr>\n",
       "    <tr>\n",
       "      <th>0</th>\n",
       "      <td>gam-par</td>\n",
       "      <td>54563.043483</td>\n",
       "      <td>-109170.623864</td>\n",
       "      <td>-109157.774302</td>\n",
       "      <td>1.074640</td>\n",
       "      <td>1.052034</td>\n",
       "      <td>0.034563</td>\n",
       "      <td>9.789502e-01</td>\n",
       "    </tr>\n",
       "  </tbody>\n",
       "</table>\n",
       "</div>"
      ],
      "text/plain": [
       "  loss_model      log_marg            DIC           WAIC     shape      tail  \\\n",
       "0  lnorm-par  54193.611597 -105218.224756 -108416.325656  1.462047  2.702887   \n",
       "0    wei-par  54559.203894 -109162.861115 -109150.058703  1.051998  1.048016   \n",
       "0    gam-par  54563.043483 -109170.623864 -109157.774302  1.074640  1.052034   \n",
       "\n",
       "      thres  model_evidence  \n",
       "0  6.300319   3.536153e-161  \n",
       "0  0.033785    2.104980e-02  \n",
       "0  0.034563    9.789502e-01  "
      ]
     },
     "execution_count": 9,
     "metadata": {},
     "output_type": "execute_result"
    }
   ],
   "source": [
    "summary"
   ]
  },
  {
   "cell_type": "code",
   "execution_count": 11,
   "metadata": {},
   "outputs": [
    {
     "data": {
      "image/png": "[encoded data removed]",
      "text/plain": [
       "<Figure size 360x252 with 3 Axes>"
      ]
     },
     "metadata": {
      "needs_background": "light"
     },
     "output_type": "display_data"
    },
    {
     "data": {
      "image/png": "[encoded data removed]",
      "text/plain": [
       "<Figure size 360x252 with 3 Axes>"
      ]
     },
     "metadata": {
      "needs_background": "light"
     },
     "output_type": "display_data"
    },
    {
     "data": {
      "image/png": "[encoded data removed]",
      "text/plain": [
       "<Figure size 360x252 with 3 Axes>"
      ]
     },
     "metadata": {
      "needs_background": "light"
     },
     "output_type": "display_data"
    }
   ],
   "source": [
    "xlabels = [\"Shape\", \"Tail\", \"Threshold\"] \n",
    "colors = [\"red\", \"green\", \"blue\"]\n",
    "parms_names = [\"shape\", \"tail\", \"thres\"]\n",
    "title_labs = [\"Shape\", \"Tail\", \"Thres\"]\n",
    "\n",
    "for i, loss_model in enumerate(loss_models):\n",
    "    fig, axs = plt.subplots(1, 3, figsize=(5, 3.5))\n",
    "    for k in range(len(parms_names)):\n",
    "\n",
    "        trace_temp = traces[loss_model]\n",
    "\n",
    "        positions = np.linspace(min(trace_temp[parms_names[k]]), \n",
    "                                max(trace_temp[parms_names[k]]), 1000)\n",
    "        kernel = st.gaussian_kde(trace_temp[parms_names[k]])\n",
    "        axs[k].plot(positions, kernel(positions), lw=3, \n",
    "                    color = colors[i] , alpha = 0.75)\n",
    "\n",
    "        axs[k].set_yticks([])\n",
    "        axs[k].set_title(xlabels[k])\n",
    "        axs[k].set_xticks(np.round(\n",
    "        trace_temp[parms_names[k]].quantile([0.05, 0.95]).values, 2))\n",
    "        \n",
    "    handles, labels = axs[0].get_legend_handles_labels()\n",
    "    fig.tight_layout()\n",
    "    fig.legend(handles, labels, ncol = 2, borderaxespad=0., loc='upper center', \n",
    "               frameon=False)\n",
    "    \n",
    "    sns.despine()\n",
    "    plt.savefig(\"../Figures/posterior_aus_\"+str(loss_model)+\"_en.pdf\")"
   ]
  },
  {
   "cell_type": "code",
   "execution_count": 7,
   "metadata": {},
   "outputs": [
    {
     "name": "stdout",
     "output_type": "stream",
     "text": [
      "[1.0745339  1.05236624 0.03456567]\n"
     ]
    },
    {
     "data": {
      "image/png": "[encoded data removed]",
      "text/plain": [
       "<Figure size 180x180 with 1 Axes>"
      ]
     },
     "metadata": {},
     "output_type": "display_data"
    }
   ],
   "source": [
    "np.random.seed(333)\n",
    "K, loss_model = 100000, 'gam-par'\n",
    "parms =  traces[loss_model].mean().values\n",
    "print(parms)\n",
    "X0 = sim_gam_par(K, parms[0], parms[1], parms[2])\n",
    "qq_plot_en(X, X0, \"blue\")\n",
    "sns.despine()\n",
    "plt.savefig(\"../Figures/QQplot_gam_par_aus_en.pdf\")"
   ]
  },
  {
   "cell_type": "code",
   "execution_count": 8,
   "metadata": {},
   "outputs": [
    {
     "name": "stdout",
     "output_type": "stream",
     "text": [
      "[1.05148097 1.04848788 0.03381176]\n"
     ]
    },
    {
     "data": {
      "image/png": "[encoded data removed]",
      "text/plain": [
       "<Figure size 180x180 with 1 Axes>"
      ]
     },
     "metadata": {},
     "output_type": "display_data"
    }
   ],
   "source": [
    "np.random.seed(333)\n",
    "K, loss_model = 100000, 'wei-par'\n",
    "parms =  traces[loss_model].mean().values\n",
    "print(parms)\n",
    "X0 = sim_wei_par(K, parms[0], parms[1], parms[2])\n",
    "qq_plot_en(X, X0, \"green\")\n",
    "sns.despine()\n",
    "plt.savefig(\"../Figures/QQplot_wei_par_aus_en.pdf\")"
   ]
  },
  {
   "cell_type": "code",
   "execution_count": 9,
   "metadata": {},
   "outputs": [
    {
     "name": "stdout",
     "output_type": "stream",
     "text": [
      "[1.46308445 2.65058231 6.54569995]\n"
     ]
    },
    {
     "data": {
      "image/png": "[encoded data removed]",
      "text/plain": [
       "<Figure size 180x180 with 1 Axes>"
      ]
     },
     "metadata": {},
     "output_type": "display_data"
    }
   ],
   "source": [
    "np.random.seed(333)\n",
    "K, loss_model = 100000, 'lnorm-par'\n",
    "parms =  traces[loss_model].mean().values\n",
    "print(parms)\n",
    "X0 = sim_lnorm_par(K, parms[0], parms[1], parms[2])\n",
    "qq_plot_en(X, X0, \"red\")\n",
    "sns.despine()\n",
    "plt.savefig(\"../Figures/QQplot_lnorm_par_aus_en.pdf\")\n"
   ]
  },
  {
   "cell_type": "code",
   "execution_count": 10,
   "metadata": {},
   "outputs": [
    {
     "name": "stderr",
     "output_type": "stream",
     "text": [
      "Initializing SMC sampler...\n",
      "Multiprocess sampling (1 chain in 1 job)\n",
      "Stage:   0 Beta: 0.000\n",
      "Stage:   1 Beta: 0.000\n",
      "Stage:   2 Beta: 0.000\n",
      "Stage:   3 Beta: 0.000\n",
      "Stage:   4 Beta: 0.001\n",
      "Stage:   5 Beta: 0.003\n",
      "Stage:   6 Beta: 0.008\n",
      "Stage:   7 Beta: 0.028\n",
      "Stage:   8 Beta: 0.095\n",
      "Stage:   9 Beta: 0.317\n",
      "Stage:  10 Beta: 1.000\n"
     ]
    },
    {
     "name": "stdout",
     "output_type": "stream",
     "text": [
      "CPU times: user 31.1 s, sys: 770 ms, total: 31.8 s\n",
      "Wall time: 24.2 s\n"
     ]
    }
   ],
   "source": [
    "with pm.Model() as model_sev:\n",
    "    μ = pm.Normal(\"mu\",mu=0, sigma=10)\n",
    "    σ = pm.Gamma(\"sig\",alpha = 0.1, beta = 0.1)\n",
    "    U = pm.Lognormal(\"U\", mu=μ, sigma=σ, observed=X)\n",
    "    %time trace_lnorm = pm.sample_smc(popSize, random_seed=333, chains = 1)"
   ]
  },
  {
   "cell_type": "code",
   "execution_count": 11,
   "metadata": {},
   "outputs": [
    {
     "name": "stdout",
     "output_type": "stream",
     "text": [
      "-4.259503162787151 1.4625127747581153\n"
     ]
    },
    {
     "data": {
      "image/png": "[encoded data removed]",
      "text/plain": [
       "<Figure size 180x180 with 1 Axes>"
      ]
     },
     "metadata": {},
     "output_type": "display_data"
    }
   ],
   "source": [
    "np.random.seed(333)\n",
    "μ, σ = trace_lnorm['mu'].mean(), trace_lnorm['sig'].mean()\n",
    "print(μ, σ)\n",
    "X0 = np.random.lognormal(mean = μ, sigma  = σ, size=K)\n",
    "qq_plot_en(X, X0, \"red\")\n",
    "sns.despine()\n",
    "plt.savefig(\"../Figures/QQplot_lnorm_aus_en.pdf\")"
   ]
  },
  {
   "cell_type": "code",
   "execution_count": 12,
   "metadata": {},
   "outputs": [
    {
     "data": {
      "text/plain": [
       "54210.89485771078"
      ]
     },
     "execution_count": 12,
     "metadata": {},
     "output_type": "execute_result"
    }
   ],
   "source": [
    "from numba import jit\n",
    "@jit(nopython=True)\n",
    "def log_like_lnorm(X, mu, σ):\n",
    "    n = X.size\n",
    "    return - n * np.log(σ * (2 * ma.pi)**(1/2)) - np.sum(np.log(X)) - np.sum((np.log(X) - mu)**2 / 2 / σ**2)\n",
    "\n",
    "@jit(nopython=True)\n",
    "def log_pdf_lnorm(x, mu, σ):\n",
    "    return - 1 * np.log(σ * (2 * ma.pi)**(1/2)) - np.log(x) - (np.log(x) - mu)**2 / 2 / σ**2\n",
    "mu, σ = trace_lnorm['mu'].mean(), trace_lnorm['sig'].mean()\n",
    "\n",
    "μ_map, σ_map = trace_lnorm['mu'].mean(), trace_lnorm['sig'].mean()\n",
    "log_vrais_map = log_like_lnorm(X, μ_map, σ_map)\n",
    "log_vrais_map"
   ]
  },
  {
   "cell_type": "code",
   "execution_count": 13,
   "metadata": {},
   "outputs": [
    {
     "data": {
      "text/plain": [
       "-108420.54498218626"
      ]
     },
     "execution_count": 13,
     "metadata": {},
     "output_type": "execute_result"
    }
   ],
   "source": [
    "μ_trace, σ_trace = trace_lnorm['mu'], trace_lnorm['sig']\n",
    "p_DIC = np.mean([log_like_lnorm(X, μ_trace[k], σ_trace[k]) \n",
    "                 for k in range(len(μ_trace))]) - log_vrais_map\n",
    "p_DIC\n",
    "DIC = -2 * (log_vrais_map - p_DIC)\n",
    "DIC\n",
    "lppd = np.sum([np.log(np.mean([np.exp(log_pdf_lnorm(X[j],μ_trace[k], σ_trace[k])) \n",
    "                 for k in range(len(μ_trace))])) for j in range(len(X))])\n",
    "p_WAIC = np.var([log_like_lnorm(X, μ_trace[k], σ_trace[k]) \n",
    "                 for k in range(len(μ_trace))])\n",
    "WAIC = -2 *(lppd - p_WAIC)\n",
    "WAIC"
   ]
  },
  {
   "cell_type": "code",
   "execution_count": 14,
   "metadata": {},
   "outputs": [
    {
     "name": "stdout",
     "output_type": "stream",
     "text": [
      "  loss_model      log_marg            DIC           WAIC  model_evidence\n",
      "0  lnorm-par  54194.060423 -101776.172718 -108416.062486   5.957410e-161\n",
      "0    wei-par  54558.862000 -109163.321344 -109149.633974    1.608309e-02\n",
      "0    gam-par  54562.975773 -109170.804667 -109157.524498    9.839169e-01\n",
      "0      lnorm  54196.817255 -108423.803897 -108420.544982   9.382848e-160\n",
      "\\begin{tabular}{lrrrr}\n",
      "\\toprule\n",
      "loss\\_model &  log\\_marg &  model\\_evidence &        DIC &       WAIC \\\\\n",
      "\\midrule\n",
      " lnorm-par &  54194.06 &            0.00 & -101776.17 & -108416.06 \\\\\n",
      "   wei-par &  54558.86 &            0.02 & -109163.32 & -109149.63 \\\\\n",
      "   gam-par &  54562.98 &            0.98 & -109170.80 & -109157.52 \\\\\n",
      "     lnorm &  54196.82 &            0.00 & -108423.80 & -108420.54 \\\\\n",
      "\\bottomrule\n",
      "\\end{tabular}\n",
      "\n"
     ]
    }
   ],
   "source": [
    "log_marg_compo = summary[['loss_model', 'log_marg', 'DIC', \"WAIC\"]]\n",
    "log_marg_lnorm = pd.DataFrame({'loss_model': [\"lnorm\"], \n",
    "                               'log_marg' : trace_lnorm.report.log_marginal_likelihood,\n",
    "                               'DIC':DIC,\n",
    "                               \"WAIC\":WAIC})\n",
    "log_marg_df = pd.concat([log_marg_compo, log_marg_lnorm])\n",
    "log_marg_df['model_evidence'] = np.exp(log_marg_df['log_marg'] - log_marg_df['log_marg'].max()) / \\\n",
    "np.sum(np.exp(log_marg_df['log_marg'] - log_marg_df['log_marg'].max()))\n",
    "print(log_marg_df)\n",
    "print(log_marg_df[['loss_model', 'log_marg',\"model_evidence\", 'DIC', \"WAIC\"]].to_latex(float_format=\"%.2f\", index=False))"
   ]
  },
  {
   "cell_type": "code",
   "execution_count": 15,
   "metadata": {},
   "outputs": [
    {
     "name": "stdout",
     "output_type": "stream",
     "text": [
      "\\begin{tabular}{lrr}\n",
      "\\toprule\n",
      "loss\\_model &  q95 &  q99 \\\\\n",
      "\\midrule\n",
      " lnorm-par & 0.25 & 0.68 \\\\\n",
      "   wei-par & 0.15 & 0.70 \\\\\n",
      "   gam-par & 0.15 & 0.69 \\\\\n",
      "     lnorm & 0.16 & 0.42 \\\\\n",
      "  ensemble & 0.15 & 0.69 \\\\\n",
      " empirical & 0.15 & 0.39 \\\\\n",
      "\\bottomrule\n",
      "\\end{tabular}\n",
      "\n"
     ]
    },
    {
     "data": {
      "text/html": [
       "<div>\n",
       "<style scoped>\n",
       "    .dataframe tbody tr th:only-of-type {\n",
       "        vertical-align: middle;\n",
       "    }\n",
       "\n",
       "    .dataframe tbody tr th {\n",
       "        vertical-align: top;\n",
       "    }\n",
       "\n",
       "    .dataframe thead th {\n",
       "        text-align: right;\n",
       "    }\n",
       "</style>\n",
       "<table border=\"1\" class=\"dataframe\">\n",
       "  <thead>\n",
       "    <tr style=\"text-align: right;\">\n",
       "      <th></th>\n",
       "      <th>loss_model</th>\n",
       "      <th>q95</th>\n",
       "      <th>q99</th>\n",
       "    </tr>\n",
       "  </thead>\n",
       "  <tbody>\n",
       "    <tr>\n",
       "      <th>0</th>\n",
       "      <td>lnorm-par</td>\n",
       "      <td>0.249457</td>\n",
       "      <td>0.676207</td>\n",
       "    </tr>\n",
       "    <tr>\n",
       "      <th>1</th>\n",
       "      <td>wei-par</td>\n",
       "      <td>0.150498</td>\n",
       "      <td>0.698518</td>\n",
       "    </tr>\n",
       "    <tr>\n",
       "      <th>2</th>\n",
       "      <td>gam-par</td>\n",
       "      <td>0.150016</td>\n",
       "      <td>0.692354</td>\n",
       "    </tr>\n",
       "    <tr>\n",
       "      <th>3</th>\n",
       "      <td>lnorm</td>\n",
       "      <td>0.156628</td>\n",
       "      <td>0.424353</td>\n",
       "    </tr>\n",
       "    <tr>\n",
       "      <th>0</th>\n",
       "      <td>ensemble</td>\n",
       "      <td>0.150024</td>\n",
       "      <td>0.692453</td>\n",
       "    </tr>\n",
       "    <tr>\n",
       "      <th>scaled_aggclaims</th>\n",
       "      <td>empirical</td>\n",
       "      <td>0.148715</td>\n",
       "      <td>0.394254</td>\n",
       "    </tr>\n",
       "  </tbody>\n",
       "</table>\n",
       "</div>"
      ],
      "text/plain": [
       "                 loss_model       q95       q99\n",
       "0                 lnorm-par  0.249457  0.676207\n",
       "1                   wei-par  0.150498  0.698518\n",
       "2                   gam-par  0.150016  0.692354\n",
       "3                     lnorm  0.156628  0.424353\n",
       "0                  ensemble  0.150024  0.692453\n",
       "scaled_aggclaims  empirical  0.148715  0.394254"
      ]
     },
     "execution_count": 15,
     "metadata": {},
     "output_type": "execute_result"
    }
   ],
   "source": [
    "parms_names = [\"shape\", \"tail\", \"thres\"]\n",
    "summary['index'] = np.arange(0, 3, 1)\n",
    "q_compo = pd.DataFrame(np.array([[quantile_compo(0.95, summary['loss_model'].iloc[k], summary[parms_names].iloc[k].values), \n",
    "     quantile_compo(0.99, summary['loss_model'].iloc[k], summary[parms_names].iloc[k].values )] \n",
    "                              for k in range(len(summary))]), \n",
    "                        index = np.arange(0, 3, 1))\n",
    "q_compo.columns = ['q95', 'q99']\n",
    "q_compo['loss_model'] = loss_models\n",
    "# q_compo = pd.merge(summary, q_compo.reset_index()).set_index('index')\n",
    "mu, sig = trace_lnorm['mu'].mean(), trace_lnorm['sig'].mean()\n",
    "q_lnorm = pd.DataFrame(st.lognorm(s = sig , scale = np.exp(mu)).ppf([0.95, 0.99])).T\n",
    "q_lnorm.columns = ['q95','q99']\n",
    "q_lnorm['loss_model'] = 'lnorm'\n",
    "q_loss = pd.merge(pd.concat([q_compo, q_lnorm]),log_marg_df, on = 'loss_model' )\n",
    "q_ens = pd.DataFrame({'q95':np.dot(q_loss['q95'].values, q_loss['model_evidence'].values),\n",
    "                      'q99':np.dot(q_loss['q99'].values, q_loss['model_evidence'].values)\n",
    "                     }, index = [0])\n",
    "q_ens['loss_model'] = \"ensemble\"\n",
    "q_emp = pd.DataFrame(aus['scaled_aggclaims'].quantile([0.95, 0.99])).T\n",
    "q_emp.columns = [\"q95\", \"q99\"]\n",
    "q_emp['loss_model'] = \"empirical\"\n",
    "q_emp\n",
    "q_df = pd.concat([q_loss[['loss_model', \"q95\", \"q99\"]], q_ens, q_emp])\n",
    "print(q_df.to_latex(float_format=\"%.2f\", index=False))\n",
    "q_df"
   ]
  }
 ],
 "metadata": {
  "kernelspec": {
   "display_name": "Python 3",
   "language": "python",
   "name": "python3"
  },
  "language_info": {
   "codemirror_mode": {
    "name": "ipython",
    "version": 3
   },
   "file_extension": ".py",
   "mimetype": "text/x-python",
   "name": "python",
   "nbconvert_exporter": "python",
   "pygments_lexer": "ipython3",
   "version": "3.8.8"
  }
 },
 "nbformat": 4,
 "nbformat_minor": 4
}
