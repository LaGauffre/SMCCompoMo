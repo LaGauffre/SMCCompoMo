{
 "cells": [
  {
   "cell_type": "code",
   "execution_count": 41,
   "metadata": {},
   "outputs": [],
   "source": [
    "import scipy.special as sp\n",
    "import math as ma\n",
    "import numpy as np\n",
    "import scipy.stats as st\n",
    "import numba as nb\n",
    "import seaborn as sns\n",
    "import matplotlib.pyplot as plt\n",
    "import pandas as pd"
   ]
  },
  {
   "cell_type": "markdown",
   "metadata": {},
   "source": [
    "# Bayesian inference of discontinuous composite model\n",
    "\n",
    "The model has pdf \n",
    "\n",
    "$$\n",
    "f(x) = \\begin{cases}\n",
    "pf_1(x)/F_1(\\gamma)& \\text{ if }x\\leq \\gamma \\\\\n",
    "(1-p)f_2(x)/\\overline{F}_2(\\gamma)&\\text{ if }x> \\gamma\n",
    "\\end{cases},\n",
    "$$\n",
    "where $f_1$ is the gamma pdf with \n",
    "\n",
    "$$\n",
    "f_1(x) = \\frac{x^{r-1}e^{-x/m}}{\\Gamma(r)m^r},\\text{ } x>0\n",
    "$$\n",
    "\n",
    "and f_2 is the Pareto type 2 distribution with \n",
    "\n",
    "$$\n",
    "f_2(x) = \\frac{\\alpha \\gamma^\\alpha}{x^{\\alpha+1}}\\text{ } x>\\gamma\n",
    "$$\n",
    "\n",
    "The following method simulate data from this model"
   ]
  },
  {
   "cell_type": "code",
   "execution_count": 4,
   "metadata": {},
   "outputs": [],
   "source": [
    "def sim_dis_gam_par(n, r, m, α, γ, p):\n",
    "    \"\"\"\n",
    "    Sample from a discontinuous Gamma-Pareto model.\n",
    "\n",
    "    Parameters\n",
    "    ----------\n",
    "    n : int \n",
    "        sample size.\n",
    "    r : float\n",
    "        shape parameter of the Gamma distribution.\n",
    "    m : float\n",
    "        scale parameter of the Gamma distribution.\n",
    "    α : float\n",
    "        Tail index of the Pareto distribution.\n",
    "    γ : float\n",
    "        Threshold parameter of the composite model.\n",
    "    p: float\n",
    "        mixing parameter of the composite model\n",
    "\n",
    "    Returns\n",
    "    -------\n",
    "    array\n",
    "    A sample drawn from the dicontinuous gamma-Pareto distribution.\n",
    "    \n",
    "    Example\n",
    "    -------\n",
    "    n, r, m, α, γ, p = 10, 2, 3, 1/2, 5, 1/3\n",
    "    X = sim_dis_gam_par(n, r, m, α, γ, p)\n",
    "    \"\"\"    \n",
    "    gamma_rv = st.gamma(r)\n",
    "    par_rv = st.pareto(α)\n",
    "    binom_rv =  st.binom(1, p)\n",
    "    par_rvs = γ * par_rv.rvs(size = n)\n",
    "    binom_rvs = binom_rv.rvs(size = n)\n",
    "    gamma_rvs = m * gamma_rv.ppf(sp.gammainc(r, γ / m) *\\\n",
    "                               np.random.uniform(size = n))\n",
    "    return(binom_rvs * gamma_rvs + (1 - binom_rvs) * par_rvs)"
   ]
  },
  {
   "cell_type": "markdown",
   "metadata": {},
   "source": [
    "The following method provides the a computational tool for the log likelihood of the model"
   ]
  },
  {
   "cell_type": "code",
   "execution_count": 19,
   "metadata": {},
   "outputs": [],
   "source": [
    "@nb.jit(nopython = True)\n",
    "def reg_inc_gamma(a,x):\n",
    "    \"\"\"\n",
    "    Compute the regularized incomplete gamma function.\n",
    "\n",
    "    Parameters\n",
    "    ----------\n",
    "    a : float \n",
    "        parameter of the gamma function.\n",
    "    x : float\n",
    "        upper bound of the integral.\n",
    "\n",
    "    Returns\n",
    "    -------\n",
    "    float\n",
    "    Value of the regularized incomplete gamma function\n",
    "    \n",
    "    Example\n",
    "    -------\n",
    "    a, x = 3, 1 \n",
    "    sp.gammainc(a, x),  reg_inc_gamma(a,x)\n",
    "    \"\"\"\n",
    "    xam = -x + a * np.log(x)\n",
    "    if x <= 1 + a:\n",
    "        s = 1/a\n",
    "        r = s\n",
    "        for j in np.arange(1, 61, 1):\n",
    "            r = r * x / (a + j)\n",
    "            s = s + r\n",
    "            if (abs(r /s) < 1e-15):\n",
    "                break\n",
    "        gin  = np.exp(xam) * s\n",
    "        ga = ma.gamma(a)\n",
    "        gip = gin / ga\n",
    "        gim = ga - gin\n",
    "    else:\n",
    "        t0 = 0\n",
    "        for j in np.flip(np.arange(1, 61, 1)):\n",
    "            t0 = (j - a) / (1 + j / (x + t0))\n",
    "        gim  = np.exp(xam) / (x + t0)\n",
    "        ga = ma.gamma(a)\n",
    "        gin = ga - gim\n",
    "        gip = 1 - gim / ga\n",
    "    return(gip)\n",
    "\n",
    "def logp_dis_gam_par(X):\n",
    "    \"\"\"\n",
    "    Likelihood function of the discontinuous Gamma-Pareto model.\n",
    "\n",
    "    Parameters\n",
    "    ----------\n",
    "    X : Array \n",
    "        Insurance losses.\n",
    "\n",
    "    Returns\n",
    "    -------\n",
    "    function\n",
    "    Allows the evaluation of the likelihood in the parameters provided the \n",
    "    data.\n",
    "    \n",
    "    Example\n",
    "    -------\n",
    "    n, r, m, α, γ, p = 10, 2, 3, 1/2, 5, 1/3\n",
    "    X = sim_dis_gam_par(n, r, m, α, γ, p)\n",
    "    logp = logp_dis_gam_par(X)\n",
    "    logp(np.array([2, 3, 1/2, 5, 1/3]))\n",
    "    costFn = lambda parms: -logp(parms)\n",
    "    bnds = ((0, None), (0, None), (0, None))\n",
    "    θ0 = (1, 1, 1)\n",
    "    minRes = minimize(costFn, θ0,bounds=bnds)\n",
    "    minRes\n",
    "    \"\"\"\n",
    "    def logp(parms):\n",
    "        r, m, α, γ, p = parms\n",
    "        \n",
    "        if np.all(parms > 0):\n",
    "            if p > 0 and p < 1:\n",
    "                X1 = X[X < γ]\n",
    "                X2 = X[X >= γ]\n",
    "                F1 = reg_inc_gamma(r, γ / m)\n",
    "                    \n",
    "                return(len(X1) * (np.log(p) - np.log(F1) - np.log(ma.gamma(r)) - \\\n",
    "                                  r * np.log(m)) - np.sum(X1) / m +\\\n",
    "                       (r-1) * np.sum(np.log(X1)) + len(X2) *(np.log(1-p) +\\\n",
    "                        np.log(α) + α * np.log(γ)) - (α + 1) * np.sum(np.log(X2))\n",
    "                       )\n",
    "            else: \n",
    "                return(-np.inf)\n",
    "            \n",
    "        else:\n",
    "            return(-np.inf)\n",
    "    return nb.jit(nopython = True)(logp)"
   ]
  },
  {
   "cell_type": "markdown",
   "metadata": {},
   "source": [
    "The model has 5 unknown parameters. The prior distributions setting are independant gamma and beta as follows\n",
    "\n",
    "$$\n",
    "p\\sim \\text{Beta}(a_p, b_p),\\text{, }r\\sim \\text{Gamma}(a_r, b_r)\\text{, }m\\sim \\text{Gamma}(a_m, b_m)\\text{, }\\alpha\\sim \\text{Gamma}(a_\\alpha, b_\\alpha)\\text{, and }\\gamma\\sim \\text{Gamma}(a_\\gamma, b_\\gamma)\n",
    "$$\n",
    "\n",
    "The following method samples from such a prior distribution"
   ]
  },
  {
   "cell_type": "code",
   "execution_count": 59,
   "metadata": {},
   "outputs": [],
   "source": [
    "def sim_gamma_beta_prior(a, b, parms_names, popSize):\n",
    "    \"\"\"\n",
    "    Sample from independent gamma priors and one beta prior.\n",
    "\n",
    "    Parameters\n",
    "    ----------\n",
    "    a : array \n",
    "        shape hyperparameters.\n",
    "    b : array\n",
    "        scale hyperparameters.\n",
    "    parms_names: array\n",
    "        name of the parameters\n",
    "    popSize: int\n",
    "        sample size\n",
    "        \n",
    "    Returns\n",
    "    -------\n",
    "    dataframe\n",
    "    Initialize parameters value from the independent \n",
    "    gamma prior distribution.\n",
    "    \n",
    "    Example\n",
    "    -------\n",
    "    a, b, parms_name, popSize   = [0.1, 0.1, 0.1], [10, 10, 10],\\\n",
    "        ['k','α', 'θ'], 10\n",
    "    sim_gamma_prior(a, b, parms_name, popSize)\n",
    "    \"\"\"\n",
    "    mat = [st.gamma(a[j]).rvs(popSize) / b[j] \n",
    "               for j in range(len(a)-1)]\n",
    "    mat.append(st.beta(a[-1], b[-1]).rvs(popSize))\n",
    "    res = pd.DataFrame(np.matrix(mat).transpose())\n",
    "    res.columns = parms_names\n",
    "    return res\n",
    " "
   ]
  },
  {
   "cell_type": "code",
   "execution_count": 110,
   "metadata": {},
   "outputs": [
    {
     "data": {
      "text/plain": [
       "(27.963261207236364, 27.963261207236368)"
      ]
     },
     "execution_count": 110,
     "metadata": {},
     "output_type": "execute_result"
    }
   ],
   "source": [
    "np.dot((a_gammas - 1), np.log(gammas)), np.sum((a_gammas - 1) * np.log(gammas))"
   ]
  },
  {
   "cell_type": "code",
   "execution_count": 113,
   "metadata": {},
   "outputs": [],
   "source": [
    "def logp_gamma_beta_prior(a, b):\n",
    "    \"\"\"\n",
    "    log probabilities of independent gamma priors and one beta prior.\n",
    "\n",
    "    Parameters\n",
    "    ----------\n",
    "    a : array \n",
    "        shape hyperparameters.\n",
    "    b : array\n",
    "        scale hyperparameters.\n",
    "    \n",
    "\n",
    "    Returns\n",
    "    -------\n",
    "    function\n",
    "    Allows to evaluate the log probabilities in the proposed parameters.\n",
    "    \n",
    "    Example\n",
    "    -------\n",
    "    \"\"\"\n",
    "    def logp_prior(parms):\n",
    "        gammas, beta, a_gammas, a_beta, b_gammas, b_beta = parms[:len(parms)-1], parms[-1], a[:len(parms)-1], a[-1], b[:len(parms)-1], b[-1]\n",
    "        if np.all(parms)>0 and beta < 1:\n",
    "            l_gamma =  np.sum((a_gammas - 1) * np.log(gammas)) - np.sum(gammas * b_gammas) + np.sum(a_gammas * np.log(b_gammas)) - np.sum(np.log(np.array([ma.gamma( a_scalar ) for a_scalar in a_gammas])))\n",
    "            l_beta = (a_beta - 1)*np.log(beta) + (b_beta - 1)*np.log(1 - beta) +  np.log(ma.gamma(a_beta)) + np.log(ma.gamma(b_beta)) - np.log(ma.gamma(a_beta + b_beta))\n",
    "\n",
    "            return(l_gamma + l_beta)\n",
    "        else:\n",
    "            return(-np.inf)\n",
    "    return nb.jit(nopython=True)(logp_prior)"
   ]
  },
  {
   "cell_type": "code",
   "execution_count": 114,
   "metadata": {},
   "outputs": [
    {
     "data": {
      "text/plain": [
       "[13.205566501705341,\n",
       " 28.26549297350392,\n",
       " -3.8847969362037413,\n",
       " 3.953301411628827,\n",
       " 42.7686106752453,\n",
       " -5.272158561529476,\n",
       " -3.1464087675467085,\n",
       " 26.372636315832985,\n",
       " -4.080174959481209,\n",
       " -3.529625132051783]"
      ]
     },
     "execution_count": 114,
     "metadata": {},
     "output_type": "execute_result"
    }
   ],
   "source": [
    "parms_names = [\"r\",\"m\", \"α\", \"γ\" , \"p\"]\n",
    "a, b, popSize = np.append(0.1*np.ones(len(parms_names)-1), 2), np.append(0.1*np.ones(len(parms_names)-1), 2.0), 10\n",
    "particle_cloud = sim_gamma_beta_prior(a, b, parms_names, popSize)\n",
    "particles = particle_cloud.values\n",
    "logp_prior = logp_gamma_beta_prior(a, b)\n",
    "[logp_prior(parms) for parms in particles]"
   ]
  },
  {
   "cell_type": "code",
   "execution_count": 117,
   "metadata": {},
   "outputs": [],
   "source": [
    "@nb.jit(nopython=True)\n",
    "def Gibbs_move(n_moves, step_size, log_prob, log_prob_prior, init_parms, γ, d):   \n",
    "    \"\"\"\n",
    "    Function to perform Gibbs moves.\n",
    "\n",
    "    Parameters\n",
    "    ----------\n",
    "    n_moves : int \n",
    "        number of moves.\n",
    "    step_size: Array\n",
    "        size of the steps in the MH within Gibbs move\n",
    "    log_prob: function\n",
    "        log likelihood function\n",
    "    log_prob_prior: function\n",
    "        log probability of the prior distribution\n",
    "    init_parms: array\n",
    "        initial value of the parameters\n",
    "    γ: float\n",
    "        Temperature\n",
    "    d: int\n",
    "        number of parameters\n",
    "        \n",
    "    Returns\n",
    "    -------\n",
    "    dataframe\n",
    "    trace of each parameter and acceptance rate.\n",
    "    \n",
    "    Example\n",
    "    -------\n",
    "    k, α, θ = 1/2, 1/2, 5 \n",
    "    X = sim_wei_par(100, k, α, θ)\n",
    "    n_moves, step_size, log_prob, log_prob_prior, init_parms, γ, parms_names = 2, [0.05, 0.01, 2], \\\n",
    "    logp_wei_par(X), uniform_prior(np.array([0,0,0]), np.array([10,10,10])), np.array([1,1,1]), 1, ['k', 'α', 'θ']\n",
    "    trace, acceptance = Gibbs_move(n_moves, step_size, log_prob, log_prob_prior, init_parms, γ, parms_names)\n",
    "    \"\"\"\n",
    "    accepted_matrix = [np.repeat(False,d)]\n",
    "   \n",
    "    trace = [init_parms]\n",
    "    \n",
    "\n",
    "    # epsilon = np.random.multivariate_normal(mean = np.zeros(d), \n",
    "    #                                       cov = np.diag(step_size), size = n_moves)\n",
    "    \n",
    "    # for noise in np.atleast_2d(epsilon):\n",
    "    for j in range(n_moves):\n",
    "        parms_perturbed = trace[-1].copy()\n",
    "        parms_new = trace[-1].copy()\n",
    "        accepted = []\n",
    "        for i in range(d):\n",
    "            noise = np.random.normal(0, np.sqrt(step_size[i]))\n",
    "            parms_perturbed[i] = parms_perturbed[i] + noise\n",
    "            \n",
    "            parms_new[i] = parms_perturbed[i]\n",
    "            # acceptance rate\n",
    "            old_log_p = γ * log_prob(trace[-1]) + log_prob_prior(trace[-1])\n",
    "            new_log_p = γ * log_prob(parms_new) + log_prob_prior(parms_new)        \n",
    "            ###\n",
    "            acc =  new_log_p - old_log_p \n",
    "            ###       \n",
    "            if np.log(np.random.rand()) < acc:\n",
    "                parms_new[i] = parms_perturbed[i]\n",
    "                accepted.append(True)\n",
    "            else:\n",
    "                parms_new[i] = trace[-1][i]\n",
    "                # np.put(parms_new, i, trace[-1][i])\n",
    "                accepted.append(False)\n",
    "        trace.append(parms_new) \n",
    "        accepted_matrix.append(np.array(accepted))\n",
    "                \n",
    "     \n",
    "    return(trace, accepted_matrix)"
   ]
  },
  {
   "cell_type": "code",
   "execution_count": 128,
   "metadata": {},
   "outputs": [
    {
     "data": {
      "image/png": "[encoded data removed]",
      "text/plain": [
       "<Figure size 432x288 with 1 Axes>"
      ]
     },
     "metadata": {
      "needs_background": "light"
     },
     "output_type": "display_data"
    }
   ],
   "source": [
    "n, r, m, α, γ, p = 1000, 10, 3, 4, 5, 1/3\n",
    "true_parms = np.array([n, r, m, α, γ, p])\n",
    "X = sim_dis_gam_par(n, r, m, α, γ, p)\n",
    "plt.hist(X,bins=200)\n",
    "sns.despine()"
   ]
  },
  {
   "cell_type": "code",
   "execution_count": 121,
   "metadata": {},
   "outputs": [],
   "source": [
    "n_moves, step_size, log_prob, log_prob_prior, init_parms, τ, d = 10000, np.array([0.1, 0.1, 0.1, 0.1, 0.01]), logp_dis_gam_par(X), logp_gamma_beta_prior(a, b), particles[0], 1, len(particles[0])\n",
    "trace, acceptance = Gibbs_move(n_moves, step_size, log_prob, log_prob_prior, init_parms, τ, d)\n",
    "trace_gibbs = pd.DataFrame(trace).iloc[int(n_moves / 2):]\n",
    "trace_gibbs.columns = parms_names"
   ]
  },
  {
   "cell_type": "code",
   "execution_count": 131,
   "metadata": {},
   "outputs": [
    {
     "data": {
      "image/png": "[encoded data removed]",
      "text/plain": [
       "<Figure size 720x252 with 5 Axes>"
      ]
     },
     "metadata": {
      "needs_background": "light"
     },
     "output_type": "display_data"
    }
   ],
   "source": [
    "fig, axs = plt.subplots(1, len(parms_names), figsize=(10, 3.5))\n",
    "x_labs = parms_names\n",
    "for k in range(len(x_labs)):\n",
    "    positions = np.linspace(min(trace_gibbs[parms_names[k]]), max(trace_gibbs[parms_names[k]]), 1000)\n",
    "    kernel = st.gaussian_kde(trace_gibbs[parms_names[k]])\n",
    "    axs[k].plot(positions, kernel(positions), lw=3, label = \"a posteriori\", color = \"blue\")\n",
    "\n",
    "    axs[k].axvline(true_parms[k], color = \"black\", linestyle = \"dotted\", label = \"mle\")\n",
    "    axs[k].set_yticks([])\n",
    "    axs[k].set_xticks(np.round(\n",
    "        trace_gibbs[parms_names[k]].quantile([0.05, 0.95]).values, 2))\n",
    "    axs[k].set_xlabel(x_labs[k])\n",
    "\n",
    "handles, labels = axs[0].get_legend_handles_labels()\n",
    "fig.legend(handles, labels, ncol = 3, borderaxespad=0., loc='upper center', \n",
    "           frameon=False)\n",
    "sns.despine()\n",
    "fig.tight_layout()"
   ]
  },
  {
   "cell_type": "code",
   "execution_count": null,
   "metadata": {},
   "outputs": [],
   "source": []
  }
 ],
 "metadata": {
  "kernelspec": {
   "display_name": "Python 3",
   "language": "python",
   "name": "python3"
  },
  "language_info": {
   "codemirror_mode": {
    "name": "ipython",
    "version": 3
   },
   "file_extension": ".py",
   "mimetype": "text/x-python",
   "name": "python",
   "nbconvert_exporter": "python",
   "pygments_lexer": "ipython3",
   "version": "3.8.5"
  }
 },
 "nbformat": 4,
 "nbformat_minor": 4
}
