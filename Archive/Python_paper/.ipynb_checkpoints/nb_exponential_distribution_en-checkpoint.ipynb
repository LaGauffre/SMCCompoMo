{
 "cells": [
  {
   "cell_type": "code",
   "execution_count": 1,
   "metadata": {},
   "outputs": [],
   "source": [
    "import numpy as np\n",
    "from numpy.random import Generator, PCG64, SeedSequence\n",
    "import pandas as pd\n",
    "import matplotlib.pyplot as plt\n",
    "import scipy.stats as st\n",
    "from math import pi\n",
    "import seaborn as sns\n",
    "from scipy.special import gamma, logsumexp\n",
    "from tqdm import tqdm\n",
    "from joblib import Parallel, delayed\n",
    "import time\n",
    "from numba import jit"
   ]
  },
  {
   "cell_type": "markdown",
   "metadata": {},
   "source": [
    "# Bayesian fit and normalizing constant calculation of the exponential distribution\n",
    "\n",
    "## Conjugate prior\n",
    "\n",
    "The exponential distribution $\\text{Exp}(\\delta)$, the likelihood function associated to an iid sample  $x=(x_1,\\ldots, x_n)$ is\n",
    "\n",
    "$$\n",
    "L(x|\\delta)  = \\delta^n\\cdot e^{-\\delta \\sum_{i = 1}^n x_i},\\text{ }x>0.\n",
    "$$\n",
    "\n",
    "Suppose that the prior distribution over $\\delta$ is gamma $\\text{Gamma}(a,1/b)$ with pdf\n",
    "\n",
    "$$\n",
    "\\pi(\\delta) = \\frac{b^a\\delta^{a-1}e^{-b\\cdot \\delta}}{\\Gamma(a)}, \\delta >0.\n",
    "$$\n",
    "\n",
    "The posterior distribution is then given by \n",
    "\n",
    "$$\n",
    "\\pi(\\delta|x)=\\frac{L(x|\\delta)\\pi(\\delta)}{Z(x)} \\sim \\text{Gamma}\\left(n+a, \\frac{1}{b+ \\sum_{i = 1}^n x_i} \\right).\n",
    "$$\n",
    "\n",
    "The normalizing constant is equal to \n",
    "\n",
    "$$\n",
    "Z(x) = \\frac{b^a\\Gamma(a+n)}{\\Gamma(a)\\left(b+\\sum_{i = 1}^n x_i\\right)^{a+n}}\n",
    "$$\n",
    "\n",
    "The following function sample from the posterior distribution. \n"
   ]
  },
  {
   "cell_type": "code",
   "execution_count": 2,
   "metadata": {},
   "outputs": [],
   "source": [
    "def sample_pos_δ(X, a, b, size):\n",
    "    return(np.random.gamma(shape = len(X) + a, scale=1 / (b + sum(X)), size=size))"
   ]
  },
  {
   "cell_type": "markdown",
   "metadata": {},
   "source": [
    "We illustrate the concentration of the posterior distribution arround the true value as the sample sizes increase from $10$ to $1000$."
   ]
  },
  {
   "cell_type": "code",
   "execution_count": 4,
   "metadata": {},
   "outputs": [
    {
     "data": {
      "image/png": "[encoded data removed]",
      "text/plain": [
       "<Figure size 180x252 with 1 Axes>"
      ]
     },
     "metadata": {
      "needs_background": "light"
     },
     "output_type": "display_data"
    }
   ],
   "source": [
    "δ_true = 3\n",
    "fig, axs = plt.subplots(1, 1, figsize=(2.5, 3.5))\n",
    "for n in [5, 10, 50]:\n",
    "    X, a, b, size = np.random.gamma(shape = 1, scale= 1 / δ_true, size=n), 0.1, 0.1, 50000\n",
    "    δ_pos = sample_pos_δ(X, a, b, size)\n",
    "    positions = np.linspace(min(δ_pos), max(δ_pos), 1000)\n",
    "    kernel = st.gaussian_kde(δ_pos)\n",
    "    plt.plot(positions, kernel(positions), lw=2, label = \"n = \"+str(n))\n",
    "    \n",
    "plt.axvline(x = δ_true, c = \"black\", lw=1, linestyle= \"dotted\", label = \"True value\")\n",
    "plt.legend(fontsize = 6)\n",
    "\n",
    "\n",
    "plt.yticks([])\n",
    "plt.xlabel(\"δ\")\n",
    "sns.despine()\n",
    "plt.savefig(\"../Figures/hist_post_sample_exponential_en.pdf\")"
   ]
  },
  {
   "cell_type": "markdown",
   "metadata": {},
   "source": [
    "## Metropolis Hasting random walk\n",
    "\n",
    "We now apply the MH sampling scheme to sample from the posterior distribution. It requires the log ligelihood and also the log probability of the prior distribution "
   ]
  },
  {
   "cell_type": "code",
   "execution_count": 5,
   "metadata": {},
   "outputs": [],
   "source": [
    "# Log likelihood for the MH RW\n",
    "def logp_exp(X):\n",
    "    def logp(parms):\n",
    "        λ = parms\n",
    "        if λ>0:\n",
    "            return(len(X) * np.log(λ) - sum(X) * λ)\n",
    "        else: \n",
    "            return(-np.inf)\n",
    "    return logp\n",
    "# Log likelihood for the temperature search\n",
    "def logp_exp_vect(X):\n",
    "    def logp(parms):\n",
    "        λ = parms\n",
    "        return(len(X) * np.log(λ) - sum(X) * λ)\n",
    "    return logp\n",
    "\n",
    "def logp_exp_vect(X):\n",
    "    def logp(parms):\n",
    "        λ = parms\n",
    "        return(len(X) * np.log(λ) - sum(X) * λ)\n",
    "    return logp\n",
    "\n",
    "# Log probability when the parameter is gamma distributed a priori \n",
    "def gamma_prior(a, b):\n",
    "    def logp_prior(parms):\n",
    "        λ = parms\n",
    "        if λ>0:\n",
    "            return((a - 1) * np.log(λ) - λ * b + a * np.log(b) - np.log(gamma(a)))\n",
    "        else:\n",
    "            return(-np.inf)\n",
    "    return logp_prior\n",
    "\n",
    "# Function to generate the Markov chain trajectory\n",
    "def MH_move_exp(n_moves, step_size, log_prob, log_prob_prior, init_parms, γ):\n",
    "    accepted = []\n",
    "    λ = np.array([init_parms])\n",
    "    epsilon = np.random.normal(size=n_moves)\n",
    "    for noise in epsilon:\n",
    "        λ_new = λ[-1] + step_size * noise  \n",
    "        old_log_p = γ * log_prob((λ[-1])) + log_prob_prior((λ[-1]))\n",
    "        new_log_p = γ * log_prob((λ_new)) + log_prob_prior((λ_new))\n",
    "        acc =  new_log_p - old_log_p \n",
    "\n",
    "        if np.log(np.random.rand()) < acc:\n",
    "            λ = np.append(λ, λ_new)\n",
    "            accepted.append(True)\n",
    "        else:\n",
    "            λ =  np.append(λ, np.copy(λ[-1]))\n",
    "            accepted.append(False)   \n",
    "    return(λ[1:], accepted)"
   ]
  },
  {
   "cell_type": "markdown",
   "metadata": {},
   "source": [
    "We sample value from the posterior distribution using Metropolis Hasting for different value of the scaling parameter $h$ parameters and return the trace plots."
   ]
  },
  {
   "cell_type": "code",
   "execution_count": 6,
   "metadata": {},
   "outputs": [
    {
     "data": {
      "image/png": "[encoded data removed]",
      "text/plain": [
       "<Figure size 360x180 with 2 Axes>"
      ]
     },
     "metadata": {
      "needs_background": "light"
     },
     "output_type": "display_data"
    },
    {
     "data": {
      "image/png": "[encoded data removed]",
      "text/plain": [
       "<Figure size 360x180 with 2 Axes>"
      ]
     },
     "metadata": {
      "needs_background": "light"
     },
     "output_type": "display_data"
    },
    {
     "data": {
      "image/png": "[encoded data removed]",
      "text/plain": [
       "<Figure size 360x180 with 2 Axes>"
      ]
     },
     "metadata": {
      "needs_background": "light"
     },
     "output_type": "display_data"
    }
   ],
   "source": [
    "np.random.seed(123)\n",
    "X, a, b = np.random.gamma(shape = 1, scale= 1 / δ_true, size = 25), 0.001, 0.001\n",
    "δ_pos = sample_pos_δ(X, a, b, 100000)\n",
    "positions = np.linspace(min(δ_pos), max(δ_pos), 1000)\n",
    "kernel = st.gaussian_kde(δ_pos)\n",
    "num_bins = 50\n",
    "step_sizes = [0.01, 2.8, 30]\n",
    "k = 0\n",
    "for step_size in step_sizes:\n",
    "    n_moves, log_prob, log_prob_prior, init_parms, γ = 10000, logp_exp(X), gamma_prior(a, b), np.array([1]), 1 \n",
    "    trace, acc = MH_move_exp(n_moves, step_size, log_prob, log_prob_prior, init_parms, γ)\n",
    "    fig, axs = plt.subplots(1, 2, figsize=(5, 2.5))\n",
    "    axs[0].plot(trace, lw=1)\n",
    "    axs[0].axhline(δ_true, color = \"black\", linestyle = \"dotted\")\n",
    "    axs[0].set_xticks([])\n",
    "    axs[1].plot(positions, kernel(positions), lw=3, label = \"posterior\")\n",
    "    n, bins, patches = axs[1].hist(trace[5000:], num_bins, density=1)\n",
    "    axs[1].axvline(δ_true, color = \"black\", linestyle = \"dotted\", label = \"true value\")\n",
    "    axs[1].set_yticks([])\n",
    "\n",
    "    axs[1].legend(fontsize = 7)\n",
    "    sns.despine()\n",
    "    plt.savefig(\"../Figures/trace_hist_exponential_\"+str(k)+\"_en.pdf\")\n",
    "\n",
    "    k+=1"
   ]
  },
  {
   "cell_type": "markdown",
   "metadata": {},
   "source": [
    "## Sequential Monte Carlo\n",
    "\n",
    "The SMC algorithm returns posterior samples and an estimation of the normalizing constant given by (in the exponential model considered)"
   ]
  },
  {
   "cell_type": "code",
   "execution_count": 7,
   "metadata": {},
   "outputs": [],
   "source": [
    "def norm_constant(X, a, b):\n",
    "    return(\n",
    "        a*np.log(b)-(a + len(X)) * np.log(sum(X) + b) + sum(np.log([a+k for k in range(len(X))]))\n",
    "           )"
   ]
  },
  {
   "cell_type": "markdown",
   "metadata": {},
   "source": [
    "The SMC algorithm adapt sequentially the intermediary distribution by either increasing the temperature "
   ]
  },
  {
   "cell_type": "code",
   "execution_count": 8,
   "metadata": {},
   "outputs": [],
   "source": [
    "def temperature_search(λ, W_prev, target, γ_prev, log_prob):\n",
    "    popSize = len(λ)\n",
    "    γ_up, γ_down = 2, γ_prev\n",
    "    while γ_up - γ_down > 1e-6:\n",
    "        γ_new = (γ_up + γ_down) / 2\n",
    "        w =  np.exp(log_prob(λ)) ** (γ_new - γ_prev)\n",
    "        if sum(w) == 0 or np.any(np.isnan(w)):\n",
    "            W = 1 / popSize *np.ones(popSize)\n",
    "            ESS = 0\n",
    "        else:\n",
    "            W = w / sum(w)\n",
    "            ESS =  1 / sum(W**2)\n",
    "        # print(γ_new, ESS)\n",
    "        if ESS == target:\n",
    "            break\n",
    "        else:\n",
    "            if ESS < target:\n",
    "                γ_up = γ_new\n",
    "            else:\n",
    "                γ_down = γ_new\n",
    "    if γ_new >= 1: \n",
    "        γ_new = 1\n",
    "\n",
    "        w =  np.exp(log_prob(λ)) ** (γ_new - γ_prev)\n",
    "        \n",
    "        W = w / sum(w)\n",
    "        ESS =  1 / sum(W**2)\n",
    "    return(γ_new, w, W, int(ESS))"
   ]
  },
  {
   "cell_type": "code",
   "execution_count": 9,
   "metadata": {},
   "outputs": [],
   "source": [
    "def smc_exp(popSize, a, b,log_prob_vect, log_prob, log_prob_prior, c, ρ, \n",
    "            n_step_max, paralell, n_proc):\n",
    "    # popSize = number of particles\n",
    "    # a,b = hyperparameter of the prior distribution on λ\n",
    "    # c = probability that a particle is moved at least once\n",
    "    # ρ = proportion of the sample of the ESS \n",
    "    # temp_step = size of the step in the search of the right temperature\n",
    "\n",
    "    # The parameter is gamma distributed\n",
    "    λ_prior = st.gamma(a)\n",
    "    #  particles initialization\n",
    "    print('sample generation 0')\n",
    "    clouds = [pd.DataFrame({'λ': λ_prior.rvs(popSize) / b,\n",
    "                          'w':np.ones(popSize)/ popSize,\n",
    "                          'W': np.ones(popSize) / popSize\n",
    "                          })]\n",
    "    # Temperature sequence\n",
    "    γ_seq = np.array([0])\n",
    "    # Generation counter\n",
    "    g=0\n",
    "    \n",
    "    # We keep on iterating until the temperature reaches 1\n",
    "    while γ_seq[-1] < 1:\n",
    "        # g, ESS, k = g + 1, 1, - err\n",
    "        g = g + 1\n",
    "        print('Sampling particles from generation ' + str(g))\n",
    "        cloud = pd.DataFrame({ 'λ':[], 'w':[], 'W':[]})\n",
    "        # Updating temperature sequence \n",
    "        γ, w, W, ESS = temperature_search(clouds[g-1]['λ'].values, \n",
    "                                              clouds[g-1]['W'].values,\n",
    "                                              ρ * popSize, \n",
    "                                              γ_seq[-1], log_prob_vect)\n",
    "        \n",
    "       \n",
    "        γ_seq = np.append(γ_seq, γ)\n",
    "                          \n",
    "        # Updating unormalized weights\n",
    "        cloud['w'] = w\n",
    "        # Updating normalized weights\n",
    "        cloud['W'] = W\n",
    "       \n",
    "        step_size = np.sqrt(np.cov(clouds[g-1]['λ'].values\n",
    "                                   , aweights=W))*2.38\n",
    "        particles = clouds[g-1]['λ'].values[np.random.choice(popSize,\n",
    "                                                     popSize, p = W)]\n",
    "        def move_particle_trial(particle):\n",
    "            λ, accepted = MH_move_exp(1, step_size, \n",
    "                                      log_prob, log_prob_prior, particle, γ)\n",
    "            return([λ[-1], np.mean(accepted)])\n",
    "        \n",
    "        if paralell:\n",
    "            res = np.matrix(Parallel(n_jobs=n_proc)(delayed(move_particle_trial)(i) \n",
    "                                           for i in particles))\n",
    "        else:\n",
    "            res = np.matrix([move_particle_trial(particle) \n",
    "                             for particle in particles])\n",
    "        \n",
    "        λ_trial = np.asarray(res[:,0]).flatten()\n",
    "        acc_rate = np.asarray(res[:,1]).flatten()\n",
    "       \n",
    "        n_steps = min(n_step_max,\n",
    "                      max(2,np.ceil(np.log(1-c) / np.log(1-np.mean(acc_rate)))))\n",
    "        \n",
    "        print('Generation: ' + str(g) + \" ;temperature: \"+str(γ_seq[-1]) +\n",
    "               \" ;steps:\" + str(n_steps) + \" ;stepsize: \"+str(step_size)+ \n",
    "               \" ;ESS: \"+str(ESS))\n",
    "        def move_particle(particle):\n",
    "            λ, accepted = MH_move_exp(int(n_steps), step_size, \n",
    "                                      log_prob, log_prob_prior, particle, γ)\n",
    "            return([λ[-1], np.mean(accepted)])\n",
    "\n",
    "        if paralell:\n",
    "            res = np.matrix(Parallel(n_jobs=n_proc)(delayed(move_particle)(i) \n",
    "                                           for i in λ_trial))\n",
    "        else:\n",
    "             res = np.matrix([move_particle(particle) for particle in λ_trial])\n",
    "        \n",
    "        cloud['λ'] = np.asarray(res[:,0]).flatten()\n",
    "        clouds.append(cloud)\n",
    "    marginal_log_likelihood = sum(np.log(([cloud['w'].mean() \n",
    "                                            for cloud in clouds[1:g+1]])))\n",
    "        \n",
    "    return((clouds[-1].λ.values, marginal_log_likelihood))"
   ]
  },
  {
   "cell_type": "code",
   "execution_count": 10,
   "metadata": {},
   "outputs": [
    {
     "name": "stdout",
     "output_type": "stream",
     "text": [
      "sample generation 0\n",
      "Sampling particles from generation 1\n"
     ]
    },
    {
     "name": "stderr",
     "output_type": "stream",
     "text": [
      "<ipython-input-5-7eed645999b5>:20: RuntimeWarning: divide by zero encountered in log\n",
      "  return(len(X) * np.log(λ) - sum(X) * λ)\n"
     ]
    },
    {
     "name": "stdout",
     "output_type": "stream",
     "text": [
      "Generation: 1 ;temperature: 9.5367431640625e-07 ;steps:25 ;stepsize: 31.319289426407355 ;ESS: 79\n",
      "Sampling particles from generation 2\n",
      "Generation: 2 ;temperature: 0.004995343687824061 ;steps:25 ;stepsize: 22.677583896003537 ;ESS: 1000\n",
      "Sampling particles from generation 3\n",
      "Generation: 3 ;temperature: 0.025958973225001826 ;steps:17.0 ;stepsize: 9.897489097223787 ;ESS: 999\n",
      "Sampling particles from generation 4\n",
      "Generation: 4 ;temperature: 0.16483121272084944 ;steps:9.0 ;stepsize: 3.881575407927451 ;ESS: 999\n",
      "Sampling particles from generation 5\n",
      "Generation: 5 ;temperature: 1.0 ;steps:9.0 ;stepsize: 1.5546828945092765 ;ESS: 1101\n",
      "Runtime of the program is 8.616421461105347\n"
     ]
    }
   ],
   "source": [
    "popSize, a, b = 2000, 0.001, 0.001\n",
    "log_prob_vect, log_prob, log_prob_prior = logp_exp_vect(X), logp_exp(X), gamma_prior(a, b)\n",
    "c, ρ, n_step_max = 0.99, 1/2, 25\n",
    "paralell, n_proc = True, 4\n",
    "start = time.time()\n",
    "trace, log_marg = smc_exp(popSize, a, b, log_prob_vect, log_prob, log_prob_prior, c, ρ, n_step_max, paralell, n_proc)\n",
    "print(f\"Runtime of the program is {time.time() - start}\")"
   ]
  },
  {
   "cell_type": "code",
   "execution_count": 11,
   "metadata": {},
   "outputs": [
    {
     "name": "stdout",
     "output_type": "stream",
     "text": [
      "3.2419938128512995 -2.9610954597325545 -3.2769031384220355\n"
     ]
    },
    {
     "data": {
      "image/png": "[encoded data removed]",
      "text/plain": [
       "<Figure size 432x288 with 1 Axes>"
      ]
     },
     "metadata": {
      "needs_background": "light"
     },
     "output_type": "display_data"
    }
   ],
   "source": [
    "print(trace.mean(), log_marg, norm_constant(X, a, b))\n",
    "δ_pos = sample_pos_δ(X, a, b, popSize)\n",
    "positions = np.linspace(min(δ_pos), max(δ_pos), 1000)\n",
    "kernel = st.gaussian_kde(δ_pos)\n",
    "plt.plot(positions, kernel(positions), lw=2, label = \"n = \"+str(n))\n",
    "n, bins, patches = plt.hist(trace, num_bins, density=1)"
   ]
  },
  {
   "cell_type": "markdown",
   "metadata": {},
   "source": [
    "or the sample size"
   ]
  },
  {
   "cell_type": "code",
   "execution_count": 12,
   "metadata": {},
   "outputs": [],
   "source": [
    "def batch_size_search(λ, target, n_prev, X):\n",
    "    \n",
    "    n_up, n_down = 2 * len(X), n_prev\n",
    "    while n_up - n_down > 1:\n",
    "        n_new = int(np.ceil((n_up + n_down) / 2))\n",
    "        log_prob = logp_exp_vect(X[n_prev:n_new])\n",
    "        w =  np.exp(log_prob(λ))\n",
    "        \n",
    "        if sum(w) == 0 or np.any(np.isnan(w)):\n",
    "            W = 1 / popSize *np.ones(popSize)\n",
    "            ESS = 0\n",
    "        else:\n",
    "            W = w / sum(w)\n",
    "            ESS =  1 / sum(W**2)\n",
    "        # print(γ_new, ESS)\n",
    "        if ESS == target:\n",
    "            break\n",
    "        else:\n",
    "            if ESS < target:\n",
    "                n_up = n_new\n",
    "            else:\n",
    "                n_down = n_new\n",
    "    if n_new >= len(X): \n",
    "        n_new = len(X)\n",
    "        log_prob = logp_exp_vect(X[n_prev:n_new])\n",
    "        w =  np.exp(log_prob(λ))\n",
    "        W = w / sum(w)\n",
    "        ESS =  1 / sum(W**2)\n",
    "    return(n_new, w, W, int(ESS))     "
   ]
  },
  {
   "cell_type": "code",
   "execution_count": 13,
   "metadata": {},
   "outputs": [],
   "source": [
    "def smc_exp_batch(popSize, a, b, X, log_prob_prior, c, ρ, n_step_max, \n",
    "                  paralell, n_proc):\n",
    "    # popSize = number of particles\n",
    "    # a,b = hyperparameter of the prior distribution on λ\n",
    "    # c = probability that a particle is moved at least once\n",
    "    # ρ = proportion of the sample of the ESS \n",
    "    # temp_step = size of the step in the search of the right temperature\n",
    "\n",
    "    # The parameter is gamma distributed\n",
    "    λ_prior = st.gamma(a)\n",
    "    #  particles initialization\n",
    "    print('sample generation 0')\n",
    "    clouds = [pd.DataFrame({'λ': λ_prior.rvs(popSize) / b,\n",
    "                          'w':np.ones(popSize)/ popSize,\n",
    "                          'W': np.ones(popSize) / popSize\n",
    "                          })]\n",
    "    # Temperature sequence\n",
    "    n_seq = np.array([0])\n",
    "    # Generation counter\n",
    "    g=0\n",
    "    \n",
    "    # We keep on iterating until the temperature reaches 1\n",
    "    while n_seq[-1] < len(X):\n",
    "        # g, ESS, k = g + 1, 1, - err\n",
    "        g = g + 1\n",
    "        print('Sampling particles from generation ' + str(g))\n",
    "        cloud = pd.DataFrame({ 'λ':[], 'w':[], 'W':[]})\n",
    "        # Updating temperature sequence \n",
    "        n, w, W, ESS = batch_size_search(clouds[g-1]['λ'].values,\\\n",
    "                                             ρ * popSize, n_seq[-1], X)\n",
    "        \n",
    "        n_seq = np.append(n_seq, n)\n",
    "        # Updating unormalized weights\n",
    "        cloud['w'] = w\n",
    "        # Updating normalized weights\n",
    "        cloud['W'] = W\n",
    "\n",
    "        step_size = np.sqrt(np.cov(clouds[g-1]['λ'].values\n",
    "                                   , aweights=W))*2.38\n",
    "        particles = clouds[g-1]['λ'].values[np.random.choice(popSize,\n",
    "                                                     popSize, p = W)]\n",
    "        \n",
    "        log_prob = logp_exp(X[0:n])\n",
    "        def move_particle_trial(particle):\n",
    "            λ, accepted = MH_move_exp(1, step_size, \n",
    "                                      log_prob, log_prob_prior, particle, 1)\n",
    "            return([λ[-1], np.mean(accepted)])\n",
    "        if paralell:\n",
    "            \n",
    "            res = np.matrix(Parallel(n_jobs=n_proc)(delayed(move_particle_trial)(i) \n",
    "                                           for i in particles))\n",
    "            \n",
    "        else:\n",
    "           \n",
    "            res = np.matrix([move_particle_trial(particle) \n",
    "                             for particle in particles])\n",
    "            \n",
    "            \n",
    "        λ_trial = np.asarray(res[:,0]).flatten()\n",
    "        acc_rate = np.asarray(res[:,1]).flatten()\n",
    "\n",
    "        n_steps = min(n_step_max,\n",
    "                      max(2,np.ceil(np.log(1-c) / np.log(1-np.mean(acc_rate)))))\n",
    "\n",
    "        print('Generation: ' + str(g) + \" ;batch size: \"+str(n_seq[-1]) +\n",
    "               \" ;steps:\" + str(n_steps) + \" ;stepsize: \"+str(step_size)+\n",
    "               \" ;ESS: \"+str(ESS))\n",
    "        def move_particle(particle):\n",
    "            λ, accepted = MH_move_exp(int(n_steps), step_size, \n",
    "                                      log_prob, log_prob_prior, particle, 1)\n",
    "            return([λ[-1], np.mean(accepted)])\n",
    "\n",
    "        if paralell:\n",
    "            res = np.matrix(Parallel(n_jobs=n_proc)(delayed(move_particle)(i) \n",
    "                                           for i in λ_trial))\n",
    "        else:\n",
    "             res = np.matrix([move_particle(particle) for particle in λ_trial])\n",
    "\n",
    "        cloud['λ'] = np.asarray(res[:,0]).flatten()\n",
    "        clouds.append(cloud)\n",
    "    marginal_log_likelihood = sum(np.log(([cloud['w'].mean() \n",
    "                                            for cloud in clouds[1:g+1]])))\n",
    "\n",
    "    return((clouds[-1].λ.values, marginal_log_likelihood))"
   ]
  },
  {
   "cell_type": "code",
   "execution_count": 14,
   "metadata": {},
   "outputs": [
    {
     "name": "stdout",
     "output_type": "stream",
     "text": [
      "sample generation 0\n",
      "Sampling particles from generation 1\n"
     ]
    },
    {
     "name": "stderr",
     "output_type": "stream",
     "text": [
      "<ipython-input-5-7eed645999b5>:20: RuntimeWarning: divide by zero encountered in log\n",
      "  return(len(X) * np.log(λ) - sum(X) * λ)\n"
     ]
    },
    {
     "name": "stdout",
     "output_type": "stream",
     "text": [
      "Generation: 1 ;batch size: 1 ;steps:13.0 ;stepsize: 5.676265555286812 ;ESS: 782\n",
      "Sampling particles from generation 2\n",
      "Generation: 2 ;batch size: 6 ;steps:9.0 ;stepsize: 3.949874166081662 ;ESS: 8918\n",
      "Sampling particles from generation 3\n",
      "Generation: 3 ;batch size: 25 ;steps:9.0 ;stepsize: 1.547301553443724 ;ESS: 10797\n",
      "Runtime of the program is 32.323524951934814\n"
     ]
    }
   ],
   "source": [
    "popSize, a, b, log_prob_prior, c, ρ, n_step_max = 20000, 0.01, 0.01, gamma_prior(a, b), 0.99, 1/2, 25\n",
    "paralell, n_proc = False, 4\n",
    "start = time.time()\n",
    "trace, log_marg = smc_exp_batch(popSize, a, b,X, log_prob_prior, c, ρ, n_step_max, paralell, n_proc)\n",
    "print(f\"Runtime of the program is {time.time() - start}\")"
   ]
  },
  {
   "cell_type": "code",
   "execution_count": 15,
   "metadata": {},
   "outputs": [
    {
     "name": "stdout",
     "output_type": "stream",
     "text": [
      "3.2392379346321882 -0.9677223860002933 -1.027048590416591\n"
     ]
    },
    {
     "data": {
      "image/png": "[encoded data removed]",
      "text/plain": [
       "<Figure size 432x288 with 1 Axes>"
      ]
     },
     "metadata": {
      "needs_background": "light"
     },
     "output_type": "display_data"
    }
   ],
   "source": [
    "print(trace.mean(), log_marg, norm_constant(X, a, b))\n",
    "δ_pos = sample_pos_δ(X, a, b, popSize)\n",
    "positions = np.linspace(min(δ_pos), max(δ_pos), 1000)\n",
    "kernel = st.gaussian_kde(δ_pos)\n",
    "plt.plot(positions, kernel(positions), lw=2, label = \"n = \"+str(n))\n",
    "n, bins, patches = plt.hist(trace, num_bins, density=1)"
   ]
  },
  {
   "cell_type": "markdown",
   "metadata": {},
   "source": [
    "## Simulation study"
   ]
  },
  {
   "cell_type": "code",
   "execution_count": 20,
   "metadata": {},
   "outputs": [
    {
     "name": "stdout",
     "output_type": "stream",
     "text": [
      "Nombre de particules = 500\n",
      "Nombre de particules = 2000\n",
      "Nombre de particules = 5000\n"
     ]
    }
   ],
   "source": [
    "np.random.seed(123)\n",
    "# Data simulation\n",
    "# iid sample of size 50 drawn the exponential distribution with parameter 1\n",
    "δ_true, X = 3, np.random.gamma(shape = 1, scale= 1 / δ_true, size=50)\n",
    "log_prob_vect, log_prob = logp_exp_vect(X), logp_exp(X)\n",
    "# Gamma prior with parameter a and b\n",
    "a, b, log_prob_prior = 0.1, 0.1, gamma_prior(a, b)\n",
    "# SMC algorith setting\n",
    "c, ρ, n_step_max,paralell, n_proc = 0.99, 1/2, 25, False, 1 \n",
    "# Bridge sampling setting\n",
    "r_init = 1\n",
    "\n",
    "res_list = []\n",
    "for popSize in [500, 2000, 5000]:\n",
    "    print(\"Nombre de particules = \" + str(popSize) )\n",
    "    def compute_log_marg(i):\n",
    "        trace, log_marg_like = smc_exp(popSize, a, b, log_prob_vect, log_prob, log_prob_prior, c, ρ, n_step_max, paralell, \n",
    "                                       n_proc)\n",
    "#         smc_exp(popSize, a, b, log_prob_vect, log_prob, log_prob_prior, c, ρ, n_step_max, paralell, n_proc)\n",
    "        trace, log_marg_data = smc_exp_batch(popSize, a, b, X, log_prob_prior, c, ρ, n_step_max, paralell, n_proc)\n",
    "#         log_marg_bridge = bridge_log_normalizing_constant(X, a, b,log_prob, log_prob_prior, popSize, r_init)\n",
    "        return(np.array([log_marg_like, log_marg_data]))\n",
    "    res = np.array(Parallel(n_jobs=50)(delayed(compute_log_marg)(i) for i in range(100)))\n",
    "    res_list.append(res)"
   ]
  },
  {
   "cell_type": "code",
   "execution_count": 27,
   "metadata": {},
   "outputs": [
    {
     "data": {
      "image/png": "[encoded data removed]",
      "text/plain": [
       "<Figure size 432x288 with 1 Axes>"
      ]
     },
     "metadata": {
      "needs_background": "light"
     },
     "output_type": "display_data"
    }
   ],
   "source": [
    "methods = [\"smc simulated anealing\", \"smc data by batch\"]\n",
    "res = res_list[0]\n",
    "positions = np.linspace(np.min(res), np.max(res), 1000)\n",
    "linetypes = [\"solid\", \"dashed\"]\n",
    "for k in range(2):\n",
    "    kernel = st.gaussian_kde(np.asarray(res[:,k]))\n",
    "    plt.plot(positions, kernel(positions), lw=2, label = methods[k], linestyle = linetypes[k])\n",
    "plt.axvline(x = norm_constant(X, a, b), c = \"black\", lw=1, linestyle= \"dotted\", label = \"log marginal likelihood\")\n",
    "plt.legend(fontsize = 6, bbox_to_anchor=(1.05, 1), loc='upper left', borderaxespad=0.)\n",
    "for i in range(2):\n",
    "    res = res_list[i+1]\n",
    "    for k in range(2):\n",
    "        kernel = st.gaussian_kde(np.asarray(res[:,k]))\n",
    "        plt.plot(positions, kernel(positions), lw=2, linestyle = linetypes[k])\n",
    "        plt.axvline(x = norm_constant(X, a, b), c = \"black\", lw=1, linestyle= \"dotted\")\n",
    "\n",
    "plt.legend(bbox_to_anchor=(0., 1.02, 1., .102), loc='lower left',\n",
    "           ncol=2, mode=\"expand\", borderaxespad=0.,  frameon=False)\n",
    "plt.text(5.71, 4,'$N = 500$', fontsize = 10)\n",
    "plt.text(5.71, 8,'$N = 2000$', fontsize = 10)\n",
    "plt.text(5.71, 12.5,'$N = 5000$', fontsize = 10)\n",
    "sns.despine()\n",
    "plt.savefig(\"../Figures/hist_exponential_normalizing_constant_en.pdf\")\n",
    "plt.show()"
   ]
  },
  {
   "cell_type": "code",
   "execution_count": 18,
   "metadata": {},
   "outputs": [
    {
     "name": "stdout",
     "output_type": "stream",
     "text": [
      "\\begin{tabular}{lrr}\n",
      "\\toprule\n",
      "{} &  Simulated anealing &  Data by batch \\\\\n",
      "\\midrule\n",
      "N=500  &            0.106517 &       0.115674 \\\\\n",
      "N=2000 &            0.049816 &       0.048497 \\\\\n",
      "N=5000 &            0.030845 &       0.032632 \\\\\n",
      "\\bottomrule\n",
      "\\end{tabular}\n",
      "\n"
     ]
    }
   ],
   "source": [
    "res = res_list[0]\n",
    "stds = np.std(res, axis = 0)\n",
    "for k in range(2):\n",
    "    res = res_list[k+1]\n",
    "    std_temp = np.std(res, axis = 0)\n",
    "    stds = np.vstack((stds, std_temp))\n",
    "df_std = pd.DataFrame(stds, index= [\"N=500\", \"N=2000\",\"N=5000\"], columns= [\"Simulated anealing\", \"Data by batch\"])\n",
    "print(df_std.to_latex())"
   ]
  },
  {
   "cell_type": "code",
   "execution_count": null,
   "metadata": {},
   "outputs": [],
   "source": []
  }
 ],
 "metadata": {
  "kernelspec": {
   "display_name": "Python 3",
   "language": "python",
   "name": "python3"
  },
  "language_info": {
   "codemirror_mode": {
    "name": "ipython",
    "version": 3
   },
   "file_extension": ".py",
   "mimetype": "text/x-python",
   "name": "python",
   "nbconvert_exporter": "python",
   "pygments_lexer": "ipython3",
   "version": "3.8.8"
  }
 },
 "nbformat": 4,
 "nbformat_minor": 4
}
