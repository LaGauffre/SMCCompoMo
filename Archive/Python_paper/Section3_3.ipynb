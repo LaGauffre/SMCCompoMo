{
 "cells": [
  {
   "cell_type": "markdown",
   "metadata": {},
   "source": [
    "# Section 3.3"
   ]
  },
  {
   "cell_type": "code",
   "execution_count": 3,
   "metadata": {},
   "outputs": [],
   "source": [
    "%run preamble.py\n",
    "danish = pd.read_csv(\"../Data/danish.csv\").x.values"
   ]
  },
  {
   "cell_type": "markdown",
   "metadata": {},
   "source": [
    "# MLE of composite models"
   ]
  },
  {
   "cell_type": "code",
   "execution_count": 4,
   "metadata": {},
   "outputs": [
    {
     "name": "stdout",
     "output_type": "stream",
     "text": [
      "       shape      tail     thres          AIC          BIC\n",
      "0  35.667524  1.313008  1.155924  7723.681796  7741.144319\n",
      "       shape      tail     thres         AIC          BIC\n",
      "0  14.033784  1.261477  1.002991  7686.75154  7704.214063\n",
      "      shape      tail    thres          AIC          BIC\n",
      "0  0.196517  1.328223  1.20743  7737.728264  7755.190787\n"
     ]
    }
   ],
   "source": [
    "parms, BIC, AIC = mle_composite(danish, (1,1,1), \"gam-par\")\n",
    "fit_gam_par = pd.DataFrame(np.append(parms, [AIC, BIC])).T\n",
    "fit_gam_par.columns = [\"shape\", \"tail\", \"thres\", \"AIC\",\"BIC\"]\n",
    "print(fit_gam_par)\n",
    "parms, BIC, AIC = mle_composite(danish, (1,1,1), \"wei-par\")\n",
    "fit_wei_par = pd.DataFrame(np.append(parms, [AIC, BIC])).T\n",
    "fit_wei_par.columns = [\"shape\", \"tail\", \"thres\", \"AIC\",\"BIC\"]\n",
    "print(fit_wei_par)\n",
    "parms, BIC, AIC = mle_composite(danish, (0.5,1,1), \"lnorm-par\")\n",
    "fit_lnorm_par = pd.DataFrame(np.append(parms, [AIC, BIC])).T\n",
    "fit_lnorm_par.columns = [\"shape\", \"tail\", \"thres\", \"AIC\",\"BIC\"]\n",
    "print(fit_lnorm_par)"
   ]
  },
  {
   "cell_type": "markdown",
   "metadata": {},
   "source": [
    "# Bayesian inference and model comparison using SMC"
   ]
  },
  {
   "cell_type": "code",
   "execution_count": 6,
   "metadata": {},
   "outputs": [
    {
     "name": "stdout",
     "output_type": "stream",
     "text": [
      "Fitting lnorm-par model\n",
      "Fitting wei-par model\n",
      "Fitting gam-par model\n",
      "CPU times: user 1min 13s, sys: 2.36 s, total: 1min 16s\n",
      "Wall time: 1min 22s\n"
     ]
    }
   ],
   "source": [
    "np.random.seed(333)\n",
    "model_prior, a, b = \"gamma\", 0.1*np.array([1,1,1]), 0.1*np.array([1, 1, 1])\n",
    "popSize, verbose, smc_method, paralell, nproc = 1000, True, \"likelihood_anealing\", True, 20\n",
    "loss_models = ['lnorm-par', \"wei-par\", \"gam-par\"]\n",
    "%time traces_like, res_df_like = fit_composite_models_smc(danish,loss_models, model_prior, a, b, popSize, verbose, smc_method, paralell, nproc)\n"
   ]
  },
  {
   "cell_type": "code",
   "execution_count": 8,
   "metadata": {},
   "outputs": [
    {
     "name": "stdout",
     "output_type": "stream",
     "text": [
      "Fitting lnorm-par model\n",
      "Fitting wei-par model\n"
     ]
    },
    {
     "name": "stderr",
     "output_type": "stream",
     "text": [
      "/home/pgoffard/miniconda3/lib/python3.8/site-packages/joblib/externals/loky/process_executor.py:688: UserWarning: A worker stopped while some jobs were given to the executor. This can be caused by a too short worker timeout or by a memory leak.\n",
      "  warnings.warn(\n"
     ]
    },
    {
     "name": "stdout",
     "output_type": "stream",
     "text": [
      "Fitting gam-par model\n"
     ]
    },
    {
     "name": "stderr",
     "output_type": "stream",
     "text": [
      "/home/pgoffard/miniconda3/lib/python3.8/site-packages/joblib/externals/loky/process_executor.py:688: UserWarning: A worker stopped while some jobs were given to the executor. This can be caused by a too short worker timeout or by a memory leak.\n",
      "  warnings.warn(\n"
     ]
    },
    {
     "name": "stdout",
     "output_type": "stream",
     "text": [
      "CPU times: user 10min 10s, sys: 12 s, total: 10min 22s\n",
      "Wall time: 16min 39s\n"
     ]
    }
   ],
   "source": [
    "np.random.seed(333)\n",
    "model_prior, a, b = \"gamma\", np.array([0.1,0.1,0.1]), np.array([0.1, 0.1, 0.1])\n",
    "popSize, verbose, smc_method, paralell, nproc = 1000, True, \"data_by_batch\", True, 20\n",
    "loss_models = ['lnorm-par', \"wei-par\", \"gam-par\"]\n",
    "%time traces_data, res_df_data = fit_composite_models_smc(danish,loss_models, model_prior, a, b, popSize, verbose, smc_method, paralell, nproc)\n"
   ]
  },
  {
   "cell_type": "markdown",
   "metadata": {},
   "source": [
    "## Fitting the gamma-Pareto model"
   ]
  },
  {
   "cell_type": "code",
   "execution_count": 9,
   "metadata": {},
   "outputs": [
    {
     "data": {
      "image/png": "[encoded data removed]",
      "text/plain": [
       "<Figure size 360x252 with 3 Axes>"
      ]
     },
     "metadata": {
      "needs_background": "light"
     },
     "output_type": "display_data"
    }
   ],
   "source": [
    "np.random.seed(333)\n",
    "fig, axs = plt.subplots(1, 3, figsize=(5, 3.5))\n",
    "loss_model = \"gam-par\"\n",
    "parms_names = ['shape', 'tail', 'thres' ]\n",
    "x_labs = ['Shape', 'Tail', 'Threshold']\n",
    "for k in range(3):\n",
    "#     positions = np.linspace(min(trace_gibbs_gam_par[parms_names[k]]), max(trace_gibbs_gam_par[parms_names[k]]), 1000)\n",
    "#     kernel = st.gaussian_kde(trace_gibbs_gam_par[parms_names[k]])\n",
    "#     axs[k].plot(positions, kernel(positions), lw=3, label = \"Gibbs\", color = \"blue\")\n",
    "    positions = np.linspace(min(traces_like[loss_model][parms_names[k]].values), \n",
    "                            max(traces_like[loss_model][parms_names[k]].values), 1000)\n",
    "    kernel = st.gaussian_kde(traces_like[loss_model][parms_names[k]].values)\n",
    "    axs[k].plot(positions, kernel(positions), lw=3, label = \"SMC simulated annealing\", \n",
    "                color = \"blue\", linestyle = \"dotted\")\n",
    "    positions = np.linspace(min(traces_data[loss_model][parms_names[k]].values), \n",
    "                            max(traces_data[loss_model][parms_names[k]].values), 1000)\n",
    "    kernel = st.gaussian_kde(traces_data[loss_model][parms_names[k]].values)\n",
    "    axs[k].plot(positions, kernel(positions), lw=3, label = \"SMC data by batches\", \n",
    "                color = \"blue\", linestyle = \"dashed\")\n",
    "\n",
    "    axs[k].axvline(fit_gam_par[parms_names[k]].values, color = \"black\", linestyle = \"dotted\", label = \"mle\")\n",
    "    axs[k].set_yticks([])\n",
    "    axs[k].set_xlabel(x_labs[k])\n",
    "    axs[k].set_xticks(np.round(\n",
    "        traces_like[loss_model][parms_names[k]].quantile([0.05, 0.95]).values, 2))\n",
    "\n",
    "handles, labels = axs[0].get_legend_handles_labels()\n",
    "fig.legend(handles, labels, ncol = 2, borderaxespad=-0.2, loc='upper center', \n",
    "           frameon=False)\n",
    "# fig.tight_layout()\n",
    "sns.despine()\n",
    "\n",
    "plt.savefig(\"../Figures/smc_posterior_danish_gamma_par_en.pdf\")"
   ]
  },
  {
   "cell_type": "markdown",
   "metadata": {},
   "source": [
    "## Fitting the Weibull-Pareto model"
   ]
  },
  {
   "cell_type": "code",
   "execution_count": 10,
   "metadata": {},
   "outputs": [
    {
     "name": "stdout",
     "output_type": "stream",
     "text": [
      "[35.66752418]\n"
     ]
    },
    {
     "data": {
      "image/png": "[encoded data removed]",
      "text/plain": [
       "<Figure size 360x252 with 3 Axes>"
      ]
     },
     "metadata": {
      "needs_background": "light"
     },
     "output_type": "display_data"
    }
   ],
   "source": [
    "np.random.seed(333)\n",
    "fig, axs = plt.subplots(1, 3, figsize=(5, 3.5))\n",
    "loss_model = \"wei-par\"\n",
    "for k in range(3):\n",
    "#     positions = np.linspace(min(trace_gibbs_wei_par[parms_names[k]]), max(trace_gibbs_wei_par[parms_names[k]]), 1000)\n",
    "#     kernel = st.gaussian_kde(trace_gibbs_wei_par[parms_names[k]])\n",
    "#     axs[k].plot(positions, kernel(positions), lw=3, label = \"Gibbs\", color = \"green\")\n",
    "    positions = np.linspace(min(traces_like[loss_model][parms_names[k]].values), \n",
    "                            max(traces_like[loss_model][parms_names[k]].values), 1000)\n",
    "    kernel = st.gaussian_kde(traces_like[loss_model][parms_names[k]].values)\n",
    "    axs[k].plot(positions, kernel(positions), lw=3, label = \"SMC simulated annealing\", \n",
    "                color = \"green\", linestyle = \"dotted\")\n",
    "    positions = np.linspace(min(traces_data[loss_model][parms_names[k]].values), \n",
    "                            max(traces_data[loss_model][parms_names[k]].values), 1000)\n",
    "    kernel = st.gaussian_kde(traces_data[loss_model][parms_names[k]].values)\n",
    "    axs[k].plot(positions, kernel(positions), lw=3, label = \"SMC data by batches\", \n",
    "                color = \"green\", linestyle = \"dashed\")\n",
    "\n",
    "    axs[k].axvline(fit_wei_par[parms_names[k]].values, color = \"black\", linestyle = \"dotted\", label = \"mle\")\n",
    "    axs[k].set_yticks([])\n",
    "    axs[k].set_xlabel(x_labs[k])\n",
    "    axs[k].set_xticks(np.round(\n",
    "        traces_like[loss_model][parms_names[k]].quantile([0.05, 0.95]).values, 2))\n",
    "\n",
    "handles, labels = axs[0].get_legend_handles_labels()\n",
    "fig.legend(handles, labels, ncol = 2, borderaxespad=-0.2, loc='upper center', \n",
    "           frameon=False)\n",
    "sns.despine()\n",
    "print(fit_gam_par[parms_names[0]].values)\n",
    "plt.savefig(\"../Figures/smc_posterior_danish_weibull_par_en.pdf\")"
   ]
  },
  {
   "cell_type": "markdown",
   "metadata": {},
   "source": [
    "## Fitting the lognormal-Pareto model"
   ]
  },
  {
   "cell_type": "code",
   "execution_count": 11,
   "metadata": {},
   "outputs": [
    {
     "name": "stdout",
     "output_type": "stream",
     "text": [
      "[35.66752418]\n"
     ]
    },
    {
     "data": {
      "image/png": "[encoded data removed]",
      "text/plain": [
       "<Figure size 360x252 with 3 Axes>"
      ]
     },
     "metadata": {
      "needs_background": "light"
     },
     "output_type": "display_data"
    }
   ],
   "source": [
    "np.random.seed(333)\n",
    "fig, axs = plt.subplots(1, 3, figsize=(5, 3.5))\n",
    "loss_model = \"lnorm-par\"\n",
    "for k in range(3):\n",
    "#     positions = np.linspace(min(trace_gibbs_lnorm_par[parms_names[k]]), max(trace_gibbs_lnorm_par[parms_names[k]]), 1000)\n",
    "#     kernel = st.gaussian_kde(trace_gibbs_lnorm_par[parms_names[k]])\n",
    "#     axs[k].plot(positions, kernel(positions), lw=3, label = \"Gibbs\", color = \"red\")\n",
    "    positions = np.linspace(min(traces_like[loss_model][parms_names[k]].values), \n",
    "                            max(traces_like[loss_model][parms_names[k]].values), 1000)\n",
    "    kernel = st.gaussian_kde(traces_like[loss_model][parms_names[k]].values)\n",
    "    axs[k].plot(positions, kernel(positions), lw=3, label = \"SMC simulated annealing\", \n",
    "                color = \"red\", linestyle = \"dotted\")\n",
    "    positions = np.linspace(min(traces_data[loss_model][parms_names[k]].values), \n",
    "                            max(traces_data[loss_model][parms_names[k]].values), 1000)\n",
    "    kernel = st.gaussian_kde(traces_data[loss_model][parms_names[k]].values)\n",
    "    axs[k].plot(positions, kernel(positions), lw=3, label = \"SMC data by batches\", \n",
    "                color = \"red\", linestyle = \"dashed\")\n",
    "\n",
    "    axs[k].axvline(fit_lnorm_par[parms_names[k]].values, color = \"black\", linestyle = \"dotted\", label = \"mle\")\n",
    "    axs[k].set_yticks([])\n",
    "    axs[k].set_xlabel(x_labs[k])\n",
    "    axs[k].set_xticks(np.round(\n",
    "        traces_like[loss_model][parms_names[k]].quantile([0.05, 0.95]).values, 2))\n",
    "\n",
    "handles, labels = axs[0].get_legend_handles_labels()\n",
    "fig.legend(handles, labels, ncol = 2, borderaxespad=-0.2, loc='upper center', \n",
    "           frameon=False)\n",
    "sns.despine()\n",
    "print(fit_gam_par[parms_names[0]].values)\n",
    "plt.savefig(\"../Figures/smc_posterior_danish_lnorm_par_en.pdf\")"
   ]
  },
  {
   "cell_type": "code",
   "execution_count": 12,
   "metadata": {},
   "outputs": [
    {
     "name": "stdout",
     "output_type": "stream",
     "text": [
      "\\begin{tabular}{lrrrr}\n",
      "\\toprule\n",
      "loss\\_model &  log\\_marg &  model\\_evidence &     DIC &    WAIC \\\\\n",
      "\\midrule\n",
      " lnorm-par &  -3881.87 &            0.00 & 7725.54 & 7744.58 \\\\\n",
      "   wei-par &  -3857.10 &            1.00 & 7674.33 & 7689.73 \\\\\n",
      "   gam-par &  -3877.91 &            0.00 & 7711.89 & 7729.27 \\\\\n",
      "\\bottomrule\n",
      "\\end{tabular}\n",
      "\n"
     ]
    },
    {
     "data": {
      "text/html": [
       "<div>\n",
       "<style scoped>\n",
       "    .dataframe tbody tr th:only-of-type {\n",
       "        vertical-align: middle;\n",
       "    }\n",
       "\n",
       "    .dataframe tbody tr th {\n",
       "        vertical-align: top;\n",
       "    }\n",
       "\n",
       "    .dataframe thead th {\n",
       "        text-align: right;\n",
       "    }\n",
       "</style>\n",
       "<table border=\"1\" class=\"dataframe\">\n",
       "  <thead>\n",
       "    <tr style=\"text-align: right;\">\n",
       "      <th></th>\n",
       "      <th>loss_model</th>\n",
       "      <th>log_marg</th>\n",
       "      <th>DIC</th>\n",
       "      <th>WAIC</th>\n",
       "      <th>shape</th>\n",
       "      <th>tail</th>\n",
       "      <th>thres</th>\n",
       "      <th>model_evidence</th>\n",
       "    </tr>\n",
       "  </thead>\n",
       "  <tbody>\n",
       "    <tr>\n",
       "      <th>0</th>\n",
       "      <td>lnorm-par</td>\n",
       "      <td>-3881.867827</td>\n",
       "      <td>7725.537182</td>\n",
       "      <td>7744.577845</td>\n",
       "      <td>0.199127</td>\n",
       "      <td>1.330226</td>\n",
       "      <td>1.214109</td>\n",
       "      <td>1.752940e-11</td>\n",
       "    </tr>\n",
       "    <tr>\n",
       "      <th>0</th>\n",
       "      <td>wei-par</td>\n",
       "      <td>-3857.100685</td>\n",
       "      <td>7674.334828</td>\n",
       "      <td>7689.728784</td>\n",
       "      <td>13.628406</td>\n",
       "      <td>1.264802</td>\n",
       "      <td>1.008845</td>\n",
       "      <td>1.000000e+00</td>\n",
       "    </tr>\n",
       "    <tr>\n",
       "      <th>0</th>\n",
       "      <td>gam-par</td>\n",
       "      <td>-3877.908751</td>\n",
       "      <td>7711.888644</td>\n",
       "      <td>7729.269050</td>\n",
       "      <td>33.505568</td>\n",
       "      <td>1.319052</td>\n",
       "      <td>1.170828</td>\n",
       "      <td>9.186955e-10</td>\n",
       "    </tr>\n",
       "  </tbody>\n",
       "</table>\n",
       "</div>"
      ],
      "text/plain": [
       "  loss_model     log_marg          DIC         WAIC      shape      tail  \\\n",
       "0  lnorm-par -3881.867827  7725.537182  7744.577845   0.199127  1.330226   \n",
       "0    wei-par -3857.100685  7674.334828  7689.728784  13.628406  1.264802   \n",
       "0    gam-par -3877.908751  7711.888644  7729.269050  33.505568  1.319052   \n",
       "\n",
       "      thres  model_evidence  \n",
       "0  1.214109    1.752940e-11  \n",
       "0  1.008845    1.000000e+00  \n",
       "0  1.170828    9.186955e-10  "
      ]
     },
     "execution_count": 12,
     "metadata": {},
     "output_type": "execute_result"
    }
   ],
   "source": [
    "print(res_df_data.to_latex(index = False,float_format=\"%.2f\", columns = [\"loss_model\",\"log_marg\",\"model_evidence\",  \"DIC\", \"WAIC\"]))\n",
    "res_df_data"
   ]
  },
  {
   "cell_type": "code",
   "execution_count": 13,
   "metadata": {},
   "outputs": [
    {
     "name": "stdout",
     "output_type": "stream",
     "text": [
      "\\begin{tabular}{lrrrr}\n",
      "\\toprule\n",
      "loss\\_model &  log\\_marg &  model\\_evidence &     DIC &    WAIC \\\\\n",
      "\\midrule\n",
      " lnorm-par &  -3882.81 &            0.00 & 7725.32 & 7746.56 \\\\\n",
      "   wei-par &  -3858.76 &            1.00 & 7674.27 & 7690.02 \\\\\n",
      "   gam-par &  -3878.31 &            0.00 & 7711.64 & 7730.78 \\\\\n",
      "\\bottomrule\n",
      "\\end{tabular}\n",
      "\n"
     ]
    },
    {
     "data": {
      "text/html": [
       "<div>\n",
       "<style scoped>\n",
       "    .dataframe tbody tr th:only-of-type {\n",
       "        vertical-align: middle;\n",
       "    }\n",
       "\n",
       "    .dataframe tbody tr th {\n",
       "        vertical-align: top;\n",
       "    }\n",
       "\n",
       "    .dataframe thead th {\n",
       "        text-align: right;\n",
       "    }\n",
       "</style>\n",
       "<table border=\"1\" class=\"dataframe\">\n",
       "  <thead>\n",
       "    <tr style=\"text-align: right;\">\n",
       "      <th></th>\n",
       "      <th>loss_model</th>\n",
       "      <th>log_marg</th>\n",
       "      <th>DIC</th>\n",
       "      <th>WAIC</th>\n",
       "      <th>shape</th>\n",
       "      <th>tail</th>\n",
       "      <th>thres</th>\n",
       "      <th>model_evidence</th>\n",
       "    </tr>\n",
       "  </thead>\n",
       "  <tbody>\n",
       "    <tr>\n",
       "      <th>0</th>\n",
       "      <td>lnorm-par</td>\n",
       "      <td>-3882.812638</td>\n",
       "      <td>7725.324211</td>\n",
       "      <td>7746.562291</td>\n",
       "      <td>0.198108</td>\n",
       "      <td>1.329713</td>\n",
       "      <td>1.211628</td>\n",
       "      <td>3.590887e-11</td>\n",
       "    </tr>\n",
       "    <tr>\n",
       "      <th>0</th>\n",
       "      <td>wei-par</td>\n",
       "      <td>-3858.762601</td>\n",
       "      <td>7674.270774</td>\n",
       "      <td>7690.016627</td>\n",
       "      <td>13.910201</td>\n",
       "      <td>1.261798</td>\n",
       "      <td>1.005351</td>\n",
       "      <td>1.000000e+00</td>\n",
       "    </tr>\n",
       "    <tr>\n",
       "      <th>0</th>\n",
       "      <td>gam-par</td>\n",
       "      <td>-3878.306068</td>\n",
       "      <td>7711.639503</td>\n",
       "      <td>7730.783172</td>\n",
       "      <td>34.138051</td>\n",
       "      <td>1.316558</td>\n",
       "      <td>1.167525</td>\n",
       "      <td>3.253722e-09</td>\n",
       "    </tr>\n",
       "  </tbody>\n",
       "</table>\n",
       "</div>"
      ],
      "text/plain": [
       "  loss_model     log_marg          DIC         WAIC      shape      tail  \\\n",
       "0  lnorm-par -3882.812638  7725.324211  7746.562291   0.198108  1.329713   \n",
       "0    wei-par -3858.762601  7674.270774  7690.016627  13.910201  1.261798   \n",
       "0    gam-par -3878.306068  7711.639503  7730.783172  34.138051  1.316558   \n",
       "\n",
       "      thres  model_evidence  \n",
       "0  1.211628    3.590887e-11  \n",
       "0  1.005351    1.000000e+00  \n",
       "0  1.167525    3.253722e-09  "
      ]
     },
     "execution_count": 13,
     "metadata": {},
     "output_type": "execute_result"
    }
   ],
   "source": [
    "print(res_df_like.to_latex(index = False, float_format=\"%.2f\", columns = [\"loss_model\",\"log_marg\",\"model_evidence\",  \"DIC\", \"WAIC\"]))\n",
    "res_df_like"
   ]
  },
  {
   "cell_type": "code",
   "execution_count": null,
   "metadata": {},
   "outputs": [],
   "source": []
  }
 ],
 "metadata": {
  "kernelspec": {
   "display_name": "Python 3 (ipykernel)",
   "language": "python",
   "name": "python3"
  },
  "language_info": {
   "codemirror_mode": {
    "name": "ipython",
    "version": 3
   },
   "file_extension": ".py",
   "mimetype": "text/x-python",
   "name": "python",
   "nbconvert_exporter": "python",
   "pygments_lexer": "ipython3",
   "version": "3.9.7"
  }
 },
 "nbformat": 4,
 "nbformat_minor": 4
}
