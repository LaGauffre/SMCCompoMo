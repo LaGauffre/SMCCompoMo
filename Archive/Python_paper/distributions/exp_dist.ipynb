{
 "cells": [
  {
   "cell_type": "code",
   "execution_count": 1,
   "metadata": {},
   "outputs": [],
   "source": [
    "import scipy.special as sp\n",
    "import math as ma\n",
    "import numpy as np\n",
    "import scipy.stats as st\n",
    "import numba as nb\n",
    "import seaborn as sns\n",
    "import matplotlib.pyplot as plt\n",
    "import pandas as pd\n",
    "from scipy.optimize import minimize"
   ]
  },
  {
   "cell_type": "markdown",
   "metadata": {},
   "source": [
    "# Exponential distribution\n",
    "\n",
    "$X\\sim\\text{Exp}(\\lambda)$ with pdfs\n",
    "\n",
    "$$\n",
    "f(x) = \\lambda e^{-\\lambda x}\n",
    "$$"
   ]
  },
  {
   "cell_type": "code",
   "execution_count": 1,
   "metadata": {},
   "outputs": [],
   "source": [
    "class loss_model:\n",
    "    def __init__(self,name, parm_names):\n",
    "        self.name = name\n",
    "        self.parm_names = parm_names\n",
    "        self.d= len(parm_names)\n",
    "    \n",
    "    def set_logps(self):\n",
    "        if self.name == \"Exp\":\n",
    "            def logp(X, parms):\n",
    "                λ = parms[0]\n",
    "                if λ > 0:\n",
    "                    return(len(X) * np.log(λ) - λ * np.sum(X))\n",
    "                else:\n",
    "                    return(-np.inf)\n",
    "\n",
    "            def logp_body(X, parms,  γ):\n",
    "                λ = parms[0]\n",
    "                if λ > 0:\n",
    "                    return(len(X) * np.log(λ) - λ * np.sum(X) - len(X) * np.log(1-np.exp(- λ * γ)))\n",
    "                else:\n",
    "                    return(-np.inf)\n",
    "            \n",
    "            def logp_tail(X, parms,  γ):\n",
    "                λ = parms[0]\n",
    "                if λ > 0:\n",
    "                    return(len(X) * np.log(λ) - λ * (np.sum(X) - len(X) * γ))\n",
    "                else:\n",
    "                    return(-np.inf)\n",
    "            self.logp = nb.jit(nopython = True)(logp)\n",
    "            self.logp_body = nb.jit(nopython = True)(logp_body)\n",
    "            self.logp_tail = nb.jit(nopython = True)(logp_tail)\n",
    "    \n",
    "    def set_logds(self):\n",
    "        if self.name == \"Exp\":\n",
    "            def logd(x, parms):\n",
    "                λ = parms[:,0]\n",
    "                res = np.zeros(len(λ))\n",
    "                s = λ > 0\n",
    "                res[np.where(s)] = np.log(λ[s]) - λ[s] * x\n",
    "                res[np.where(np.invert(s))] = -np.inf\n",
    "                return(res)\n",
    "\n",
    "            def logd_body(x, parms,  γ):\n",
    "                λ = parms[:,0]\n",
    "                res = np.zeros(len(λ))\n",
    "                s = np.logical_and(λ > 0, x < γ)\n",
    "                res[np.where(s)] = np.log(λ[s])- λ[s] * x - np.log(1-np.exp(- λ[s] * γ[s]))\n",
    "                res[np.where(np.invert(s))] = -np.inf\n",
    "                return(res)\n",
    "            \n",
    "            def logd_tail(x, parms,  γ):\n",
    "                λ = parms[:,0]\n",
    "                res = np.zeros(len(λ))\n",
    "                s = np.logical_and(λ > 0, x > γ)\n",
    "                res[np.where(s)] = np.log(λ[s]) - λ[s] * (x - x * γ[s])\n",
    "                res[np.where(np.invert(s))] = -np.inf\n",
    "                return(res)\n",
    "            self.logd = nb.jit(nopython = True)(logd)\n",
    "            self.logd_body = nb.jit(nopython = True)(logd_body)\n",
    "            self.logd_tail = nb.jit(nopython = True)(logd_tail)\n",
    "                \n",
    "    def cdf(self, parms, x):\n",
    "        if self.name == \"Exp\":\n",
    "            λ = parms[0]\n",
    "            return(1 - np.exp(- λ * x))\n",
    "    def ppf(self, parms, y):\n",
    "        if self.name == \"Exp\":\n",
    "            λ = parms[0]\n",
    "            return( -np.log(1-y) / λ )"
   ]
  },
  {
   "cell_type": "markdown",
   "metadata": {},
   "source": [
    "## Basic checks"
   ]
  },
  {
   "cell_type": "code",
   "execution_count": 4,
   "metadata": {},
   "outputs": [
    {
     "name": "stdout",
     "output_type": "stream",
     "text": [
      "Exp ['λ'] 1\n"
     ]
    },
    {
     "data": {
      "text/plain": [
       "(0.0, 0.0)"
      ]
     },
     "execution_count": 4,
     "metadata": {},
     "output_type": "execute_result"
    }
   ],
   "source": [
    "exp_dist = single_loss_model(\"Exp\", [\"λ\"])\n",
    "print(exp_dist.name, exp_dist.parm_names, exp_dist.d)\n",
    "λ, x, y = np.array([1/3]), 2, 0.5\n",
    "exp_dist.cdf(λ, x) - st.expon().cdf(x * λ[0]), exp_dist.ppf(λ, y) - st.expon().ppf(y) / λ[0]"
   ]
  },
  {
   "cell_type": "markdown",
   "metadata": {},
   "source": [
    "## Log likelihood checks\n",
    "### Part 1"
   ]
  },
  {
   "cell_type": "code",
   "execution_count": 5,
   "metadata": {},
   "outputs": [
    {
     "name": "stdout",
     "output_type": "stream",
     "text": [
      "-1.7763568394002505e-15\n",
      "-1.7763568394002505e-15\n",
      "-2.6645352591003757e-15\n"
     ]
    }
   ],
   "source": [
    "X, γ = np.random.exponential(λ[0], size = 10), 2\n",
    "exp_dist.set_logps()\n",
    "print(exp_dist.logp(X, λ) - np.sum(np.log(st.expon().pdf(X * λ[0]) * λ[0])))\n",
    "print(exp_dist.logp_body(X, λ, γ) -  np.sum(np.log(st.expon().pdf(X * λ[0]) * λ[0] / st.expon().cdf(γ * λ[0]))))\n",
    "print(exp_dist.logp_tail(X, λ, γ)-  np.sum(np.log(st.expon().pdf(X * λ[0]) * λ[0] / (1 - st.expon().cdf(γ * λ[0])))))"
   ]
  },
  {
   "cell_type": "markdown",
   "metadata": {},
   "source": [
    "### Part 2"
   ]
  },
  {
   "cell_type": "code",
   "execution_count": 6,
   "metadata": {},
   "outputs": [
    {
     "data": {
      "text/plain": [
       "(array([-0.2120565 ,  0.26903418, -2.1059486 ,        -inf]),\n",
       " array([ 0.24661864,  0.28751963, -1.17319647,        -inf]),\n",
       " array([-inf, -inf, -inf, -inf]))"
      ]
     },
     "execution_count": 6,
     "metadata": {},
     "output_type": "execute_result"
    }
   ],
   "source": [
    "X = np.random.exponential(λ[0], size = 10)\n",
    "particle_cloud = pd.DataFrame({'λ': np.array([1, 2, 1/8, -1]),\n",
    "                               'γ': np.array([1, 2,4,8])})\n",
    "exp_dist.set_logds()\n",
    "exp_dist.logd(X[0], particle_cloud.values), exp_dist.logd_body(X[0], particle_cloud.values, particle_cloud.values[:,-1]), exp_dist.logd_tail(X[0], particle_cloud.values, particle_cloud.values[:,-1]) "
   ]
  },
  {
   "cell_type": "markdown",
   "metadata": {},
   "source": [
    "## In the composite model"
   ]
  },
  {
   "cell_type": "code",
   "execution_count": 72,
   "metadata": {},
   "outputs": [],
   "source": [
    "class composite_loss_model():\n",
    "    def __init__(self, f1, f2):\n",
    "        self.body = f1\n",
    "        self.tail = f2\n",
    "        self.d = f1.d + f2.d + 2 \n",
    "        self.parm_names = np.append(np.append(f1.parm_names, f2.parm_names), np.array(['γ','p']))\n",
    "\n",
    "    \n",
    "    def set_logp(self, X):\n",
    "        self.body.set_logps(), self.tail.set_logps()\n",
    "        def logp(parms):\n",
    "            parms_f1, parms_f2, γ, p = parms[:self.body.d], parms[self.body.d: (self.body.d + self.tail.d)], parms[(self.body.d + self.tail.d)], parms[-1]\n",
    "            if γ > 0 and p > 0 and p < 1:\n",
    "                X1 = X[X < γ]\n",
    "                X2 = X[X >= γ]\n",
    "                return(len(X1) * np.log(p) + self.body.logp_body(X1, parms_f1, γ) + len(X2) * np.log(1-p) + self.tail.logp_tail(X2, parms_f2, γ))\n",
    "            else:\n",
    "                return(-np.inf)\n",
    "        self.logp = logp\n",
    "        \n",
    "    def sample(self, parms, n):\n",
    "        parms_f1, parms_f2, γ, p = parms[:self.body.d], parms[self.body.d: (self.body.d + self.tail.d)], parms[(self.body.d + self.tail.d)], parms[-1]\n",
    "        ber_rvs = np.random.binomial(1, p, size=n)\n",
    "        unif_rvs = np.random.uniform(size = n)\n",
    "        body_rvs = self.body.ppf(parms_f1, self.body.cdf(parms_f1, γ) * unif_rvs )\n",
    "        tail_rvs = self.tail.ppf(parms_f2, 1 - (1 - self.tail.cdf(parms_f2, γ)) * unif_rvs)\n",
    "        return(ber_rvs * body_rvs + (1 - ber_rvs) * tail_rvs)\n",
    "    \n",
    "    def set_logd(self, parms):\n",
    "        self.body.set_logds(), self.tail.set_logds()\n",
    "        parms_f1, parms_f2, γ, p = parms[:,:self.body.d], parms[:,self.body.d: (self.body.d + self.tail.d)], parms[:,(self.body.d + self.tail.d)], parms[:,-1]\n",
    "        def logd(x):\n",
    "            res = np.zeros(len(γ))\n",
    "            s = np.logical_and(p > 0, p < 1)\n",
    "            s1 = np.logical_and(s, x < γ)\n",
    "            s2 = np.logical_and(s, x >= γ)\n",
    "            res1 = self.body.logd_body(x, parms_f1[s1], γ[s1])    \n",
    "            res2 = self.tail.logd_tail(x, parms_f2[s2], γ[s2])\n",
    "            res[np.where(s1)] = res1\n",
    "            res[np.where(s2)] = res2\n",
    "            res[np.where(np.invert(s))] = - np.inf\n",
    "            return(res)\n",
    "        self.logd = logd\n",
    "    "
   ]
  },
  {
   "cell_type": "code",
   "execution_count": 71,
   "metadata": {},
   "outputs": [
    {
     "name": "stdout",
     "output_type": "stream",
     "text": [
      "['λ1' 'λ2' 'γ' 'p']\n"
     ]
    },
    {
     "name": "stderr",
     "output_type": "stream",
     "text": [
      "<ipython-input-70-c09644ad6aa6>:11: NumbaWarning: \u001b[1m\n",
      "Compilation is falling back to object mode WITH looplifting enabled because Function \"logp\" failed type inference due to: \u001b[1mUntyped global name 'self':\u001b[0m \u001b[1m\u001b[1mcannot determine Numba type of <class '__main__.composite_loss_model'>\u001b[0m\n",
      "\u001b[1m\n",
      "File \"<ipython-input-70-c09644ad6aa6>\", line 12:\u001b[0m\n",
      "\u001b[1m        def logp(parms):\n",
      "\u001b[1m            parms_f1, parms_f2, γ, p = parms[:self.body.d], parms[self.body.d: (self.body.d + self.tail.d)], parms[(self.body.d + self.tail.d)], parms[-1]\n",
      "\u001b[0m            \u001b[1m^\u001b[0m\u001b[0m\n",
      "\u001b[0m\u001b[0m\n",
      "  def logp(parms):\n",
      "C:\\Users\\pierr\\anaconda3\\lib\\site-packages\\numba\\core\\object_mode_passes.py:177: NumbaWarning: \u001b[1mFunction \"logp\" was compiled in object mode without forceobj=True.\n",
      "\u001b[1m\n",
      "File \"<ipython-input-70-c09644ad6aa6>\", line 11:\u001b[0m\n",
      "\u001b[1m        self.body.set_logps(), self.tail.set_logps()\n",
      "\u001b[1m        def logp(parms):\n",
      "\u001b[0m        \u001b[1m^\u001b[0m\u001b[0m\n",
      "\u001b[0m\n",
      "  warnings.warn(errors.NumbaWarning(warn_msg,\n",
      "C:\\Users\\pierr\\anaconda3\\lib\\site-packages\\numba\\core\\object_mode_passes.py:187: NumbaDeprecationWarning: \u001b[1m\n",
      "Fall-back from the nopython compilation path to the object mode compilation path has been detected, this is deprecated behaviour.\n",
      "\n",
      "For more information visit https://numba.pydata.org/numba-doc/latest/reference/deprecation.html#deprecation-of-object-mode-fall-back-behaviour-when-using-jit\n",
      "\u001b[1m\n",
      "File \"<ipython-input-70-c09644ad6aa6>\", line 11:\u001b[0m\n",
      "\u001b[1m        self.body.set_logps(), self.tail.set_logps()\n",
      "\u001b[1m        def logp(parms):\n",
      "\u001b[0m        \u001b[1m^\u001b[0m\u001b[0m\n",
      "\u001b[0m\n",
      "  warnings.warn(errors.NumbaDeprecationWarning(msg,\n"
     ]
    },
    {
     "name": "stdout",
     "output_type": "stream",
     "text": [
      "-11964.293298361701\n"
     ]
    },
    {
     "data": {
      "image/png": "[encoded data removed]",
      "text/plain": [
       "<Figure size 432x288 with 1 Axes>"
      ]
     },
     "metadata": {
      "needs_background": "light"
     },
     "output_type": "display_data"
    }
   ],
   "source": [
    "f1, f2 = single_loss_model(\"Exp\", [\"λ1\"]), single_loss_model(\"Exp\", [\"λ2\"])\n",
    "f = composite_loss_model(f1 , f2)\n",
    "print(f.parm_names)\n",
    "parms_true = np.array([1, 1, 2, 0.4])\n",
    "X = f.sample(parms_true, 8000)\n",
    "plt.hist(X,bins=200)\n",
    "sns.despine()\n",
    "f.set_logp(X)\n",
    "print(f.logp(parms_true))"
   ]
  },
  {
   "cell_type": "code",
   "execution_count": 60,
   "metadata": {},
   "outputs": [
    {
     "name": "stdout",
     "output_type": "stream",
     "text": [
      "[1.  1.  2.  0.4]\n"
     ]
    },
    {
     "name": "stderr",
     "output_type": "stream",
     "text": [
      "C:\\Users\\pierr\\anaconda3\\lib\\site-packages\\scipy\\optimize\\_numdiff.py:497: RuntimeWarning: invalid value encountered in subtract\n",
      "  df = fun(x) - f0\n"
     ]
    },
    {
     "data": {
      "text/plain": [
       "(array([0.49999974, 1.99999895, 3.00137597, 0.50000026]),\n",
       " 30660.071465341778,\n",
       " 30632.12267805913)"
      ]
     },
     "execution_count": 60,
     "metadata": {},
     "output_type": "execute_result"
    }
   ],
   "source": [
    "def mle_composite(X, θ0, logp):\n",
    "    n = len(X) \n",
    "    costFn = lambda parms: -logp(parms)\n",
    "    bnds = ((0, None), (0, None), (0, None), (0,1))\n",
    "    minRes = minimize(costFn, θ0, bounds=bnds)\n",
    "    BIC = len(θ0) * np.log(n) - 2 * logp(minRes.x)\n",
    "    AIC = 2 * len(θ0) - 2 * logp(minRes.x)\n",
    "    return(minRes.x, BIC, AIC)\n",
    "f.set_logp(X)\n",
    "θ0, logp =np.array([0.5, 2, 3, 1/2]), f.logp\n",
    "print(parms_true)\n",
    "mle_composite(X, θ0, logp)"
   ]
  },
  {
   "cell_type": "code",
   "execution_count": 64,
   "metadata": {},
   "outputs": [],
   "source": [
    "# @nb.jit(nopython=False)\n",
    "def Gibbs_move(n_moves, step_size, log_prob, log_prob_prior, init_parms, γ, d):   \n",
    "    trace = [init_parms]\n",
    "    accepted_matrix = [np.repeat(False,d)]\n",
    "    for j in range(n_moves):\n",
    "        parms_perturbed = trace[-1].copy()\n",
    "        parms_new = trace[-1].copy()\n",
    "        accepted = []\n",
    "        for i in range(d):\n",
    "            noise = np.random.normal(0, np.sqrt(step_size[i]))\n",
    "            parms_perturbed[i] = parms_perturbed[i] + noise\n",
    "            \n",
    "            parms_new[i] = parms_perturbed[i]\n",
    "            # acceptance rate\n",
    "            old_log_p = γ * log_prob(trace[-1]) + log_prob_prior(trace[-1])\n",
    "            new_log_p = γ * log_prob(parms_new) + log_prob_prior(parms_new)        \n",
    "            ###\n",
    "            acc =  new_log_p - old_log_p \n",
    "            ###       \n",
    "            if np.log(np.random.rand()) < acc:\n",
    "                parms_new[i] = parms_perturbed[i]\n",
    "                accepted.append(True)\n",
    "            else:\n",
    "                parms_new[i] = trace[-1][i]\n",
    "                # np.put(parms_new, i, trace[-1][i])\n",
    "                accepted.append(False)\n",
    "        trace.append(parms_new) \n",
    "        accepted_matrix.append(np.array(accepted))\n",
    "                \n",
    "     \n",
    "    return(trace, accepted_matrix)"
   ]
  },
  {
   "cell_type": "code",
   "execution_count": 65,
   "metadata": {},
   "outputs": [],
   "source": [
    "def sim_gamma_beta_prior(a, b, parms_names, popSize):\n",
    "    mat = [st.gamma(a[j]).rvs(popSize) / b[j] \n",
    "               for j in range(len(a)-1)]\n",
    "    mat.append(st.beta(a[-1], b[-1]).rvs(popSize))\n",
    "    res = pd.DataFrame(np.matrix(mat).transpose())\n",
    "    res.columns = parms_names\n",
    "    return res\n",
    "def logp_gamma_beta_prior(a, b):\n",
    "    def logp_prior(parms):\n",
    "        gammas, beta, a_gammas, a_beta, b_gammas, b_beta = parms[:len(parms)-1], parms[-1], a[:len(parms)-1], a[-1], b[:len(parms)-1], b[-1]\n",
    "        if np.all(parms)>0 and beta < 1:\n",
    "            l_gamma =  np.sum((a_gammas - 1) * np.log(gammas)) - np.sum(gammas * b_gammas) + np.sum(a_gammas * np.log(b_gammas)) - np.sum(np.log(np.array([ma.gamma( a_scalar ) for a_scalar in a_gammas])))\n",
    "            l_beta = (a_beta - 1)*np.log(beta) + (b_beta - 1)*np.log(1 - beta) +  np.log(ma.gamma(a_beta)) + np.log(ma.gamma(b_beta)) - np.log(ma.gamma(a_beta + b_beta))\n",
    "\n",
    "            return(l_gamma + l_beta)\n",
    "        else:\n",
    "            return(-np.inf)\n",
    "    return nb.jit(nopython=True)(logp_prior)"
   ]
  },
  {
   "cell_type": "code",
   "execution_count": 66,
   "metadata": {},
   "outputs": [
    {
     "name": "stdout",
     "output_type": "stream",
     "text": [
      "[1.18691531e-09 5.16578356e-10 1.60956698e-02 5.82390573e-01]\n"
     ]
    }
   ],
   "source": [
    "a, b, popSize = np.append(0.1*np.ones(f.d-1), 2), np.append(0.1*np.ones(f.d-1), 2.0), 1\n",
    "log_prob_prior, particles = logp_gamma_beta_prior(a, b), sim_gamma_beta_prior(a, b, f.parm_names, popSize) \n",
    "print(particles.values[0])\n",
    "f.logp(particles.values[0])\n",
    "n_moves, step_size, log_prob, log_prob_prior, init_parms, τ, d = 15000, np.array([1.14196723e-03, 2.41954715e-04, 1.96944245e-07, 3.63115063e-05]), f.logp, logp_gamma_beta_prior(a, b), particles.values[0], 1, f.d\n",
    "trace, acceptance = Gibbs_move(n_moves, step_size, log_prob, log_prob_prior, init_parms, τ, d)\n",
    "trace_gibbs = pd.DataFrame(trace).iloc[int(n_moves / 2):]\n",
    "trace_gibbs.columns = f.parm_names"
   ]
  },
  {
   "cell_type": "code",
   "execution_count": 67,
   "metadata": {},
   "outputs": [
    {
     "data": {
      "image/png": "[encoded data removed]",
      "text/plain": [
       "<Figure size 720x252 with 4 Axes>"
      ]
     },
     "metadata": {
      "needs_background": "light"
     },
     "output_type": "display_data"
    }
   ],
   "source": [
    "fig, axs = plt.subplots(1, f.d, figsize=(10, 3.5))\n",
    "x_labs = f.parm_names\n",
    "for k in range(len(x_labs)):\n",
    "    positions = np.linspace(min(trace_gibbs[f.parm_names[k]]), max(trace_gibbs[f.parm_names[k]]), 1000)\n",
    "    kernel = st.gaussian_kde(trace_gibbs[f.parm_names[k]])\n",
    "    axs[k].plot(positions, kernel(positions), lw=3, label = \"a posteriori\", color = \"blue\")\n",
    "\n",
    "    axs[k].axvline(parms_true[k], color = \"black\", linestyle = \"dotted\", label = \"mle\")\n",
    "    axs[k].set_yticks([])\n",
    "#     axs[k].set_xticks(np.round(\n",
    "#         trace_gibbs[parms_names[k]].quantile([0.05, 0.95]).values, 2))\n",
    "    axs[k].set_xlabel(x_labs[k])\n",
    "\n",
    "handles, labels = axs[0].get_legend_handles_labels()\n",
    "fig.legend(handles, labels, ncol = 3, borderaxespad=0., loc='upper center', \n",
    "           frameon=False)\n",
    "sns.despine()\n",
    "fig.tight_layout()"
   ]
  },
  {
   "cell_type": "code",
   "execution_count": 20,
   "metadata": {},
   "outputs": [
    {
     "data": {
      "text/plain": [
       "array([1.14196723e-03, 2.41954715e-04, 1.96944245e-07, 3.63115063e-05])"
      ]
     },
     "execution_count": 20,
     "metadata": {},
     "output_type": "execute_result"
    }
   ],
   "source": [
    "np.diag(trace_gibbs.cov())"
   ]
  },
  {
   "cell_type": "code",
   "execution_count": null,
   "metadata": {},
   "outputs": [],
   "source": []
  }
 ],
 "metadata": {
  "kernelspec": {
   "display_name": "Python 3 (ipykernel)",
   "language": "python",
   "name": "python3"
  },
  "language_info": {
   "codemirror_mode": {
    "name": "ipython",
    "version": 3
   },
   "file_extension": ".py",
   "mimetype": "text/x-python",
   "name": "python",
   "nbconvert_exporter": "python",
   "pygments_lexer": "ipython3",
   "version": "3.9.7"
  }
 },
 "nbformat": 4,
 "nbformat_minor": 4
}
