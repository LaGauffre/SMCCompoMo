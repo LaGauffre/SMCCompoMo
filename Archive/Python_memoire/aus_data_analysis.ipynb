{
 "cells": [
  {
   "cell_type": "markdown",
   "metadata": {},
   "source": [
    "# Australian dataset: yearly analysis"
   ]
  },
  {
   "cell_type": "code",
   "execution_count": 1,
   "metadata": {},
   "outputs": [],
   "source": [
    "%run preamble.py\n",
    "ausautoBI8999 = pd.read_csv(\"../Data/ausautoBI8999.csv\")"
   ]
  },
  {
   "cell_type": "code",
   "execution_count": 2,
   "metadata": {},
   "outputs": [
    {
     "name": "stdout",
     "output_type": "stream",
     "text": [
      "\\begin{tabular}{lrr}\n",
      "\\toprule\n",
      "   FinDate &  FinMth &  AggClaim \\\\\n",
      "\\midrule\n",
      "1993-10-01 &      52 &     87.75 \\\\\n",
      "1994-02-01 &      56 &    353.62 \\\\\n",
      "1994-02-01 &      56 &    688.83 \\\\\n",
      "1994-05-01 &      59 &    172.80 \\\\\n",
      "1994-09-01 &      63 &     43.29 \\\\\n",
      "\\bottomrule\n",
      "\\end{tabular}\n",
      "\n",
      "\\begin{tabular}{ll}\n",
      "\\toprule\n",
      "{} &    AggClaim \\\\\n",
      "\\midrule\n",
      "count &    22036.00 \\\\\n",
      "mean  &    38367.22 \\\\\n",
      "std   &    90981.11 \\\\\n",
      "min   &        9.96 \\\\\n",
      "25\\%   &     6296.97 \\\\\n",
      "50\\%   &    13853.87 \\\\\n",
      "75\\%   &    35123.42 \\\\\n",
      "max   &  4485797.21 \\\\\n",
      "\\bottomrule\n",
      "\\end{tabular}\n",
      "\n"
     ]
    }
   ],
   "source": [
    "from datetime import datetime\n",
    "aus = pd.concat([ausautoBI8999[[\"FinDate\", \"FinMth\" ,\"AggClaim\"]], \n",
    "                 pd.DataFrame({'year':np.array([datetime.fromisoformat(ausautoBI8999[\"FinDate\"].iloc[k]).year \n",
    "                                                for k in range(len(ausautoBI8999[\"FinDate\"]))])})\n",
    "                ], axis = 1)\n",
    "print(aus[[\"FinDate\", \"FinMth\", \"AggClaim\"]].head(5).to_latex(index=False))\n",
    "print(aus[[\"AggClaim\"]].describe().applymap(\"{:.2f}\".format).to_latex())"
   ]
  },
  {
   "cell_type": "code",
   "execution_count": 4,
   "metadata": {},
   "outputs": [
    {
     "data": {
      "image/png": "[encoded data removed]",
      "text/plain": [
       "<Figure size 360x252 with 2 Axes>"
      ]
     },
     "metadata": {
      "needs_background": "light"
     },
     "output_type": "display_data"
    }
   ],
   "source": [
    "fig, axs = plt.subplots(1,2, figsize=(5, 3.5), tight_layout=True)\n",
    "num_bins = 40\n",
    "# the histogram of the data\n",
    "n, bins, patches = axs[0].hist(aus.AggClaim / 1e6, num_bins, alpha=0.5)\n",
    "axs[1].boxplot(aus.AggClaim / 1e6)\n",
    "axs[0].set_xlabel(\"\")\n",
    "axs[0].set_ylabel(\"Fréquence\")\n",
    "axs[1].set_ylabel(\"\")\n",
    "axs[1].set_xticks([])\n",
    "plt.suptitle(\"Montant des sinistres (en millions de dollars australien)\")\n",
    "# plt.show()\n",
    "sns.despine()\n",
    "plt.savefig(\"../Figures/hist_box_aus.pdf\")"
   ]
  },
  {
   "cell_type": "code",
   "execution_count": 4,
   "metadata": {},
   "outputs": [
    {
     "name": "stdout",
     "output_type": "stream",
     "text": [
      "Fitting lnorm-par model\n",
      "Fitting wei-par model\n",
      "Fitting gam-par model\n",
      "Time: 617.5342967510223\n"
     ]
    }
   ],
   "source": [
    "aus['scaled_aggclaims'] = aus['AggClaim'] / 1e6 \n",
    "aus['scaled_aggclaims'].quantile([0.95, 0.99])\n",
    "loss_models = ['lnorm-par', 'wei-par', \"gam-par\"]\n",
    "X = aus['scaled_aggclaims'].values\n",
    "model_prior, a, b =  \"gamma\", 0.1 * np.ones(3), 0.1 * np.ones(3)\n",
    "# SMC settings\n",
    "popSize, verbose, smc_method, paralell, nproc = 1000, True, \"likelihood_anealing\", True, 40\n",
    "start_time = time()\n",
    "traces, summary = fit_composite_models_smc(X,loss_models,\n",
    "                                                     model_prior, a, b, popSize, verbose, smc_method, paralell, nproc)\n",
    "print(\"Time: \"+str(time() -  start_time))"
   ]
  },
  {
   "cell_type": "code",
   "execution_count": 5,
   "metadata": {},
   "outputs": [
    {
     "data": {
      "text/html": [
       "<div>\n",
       "<style scoped>\n",
       "    .dataframe tbody tr th:only-of-type {\n",
       "        vertical-align: middle;\n",
       "    }\n",
       "\n",
       "    .dataframe tbody tr th {\n",
       "        vertical-align: top;\n",
       "    }\n",
       "\n",
       "    .dataframe thead th {\n",
       "        text-align: right;\n",
       "    }\n",
       "</style>\n",
       "<table border=\"1\" class=\"dataframe\">\n",
       "  <thead>\n",
       "    <tr style=\"text-align: right;\">\n",
       "      <th></th>\n",
       "      <th>loss_model</th>\n",
       "      <th>log_marg</th>\n",
       "      <th>DIC</th>\n",
       "      <th>WAIC</th>\n",
       "      <th>shape</th>\n",
       "      <th>tail</th>\n",
       "      <th>thres</th>\n",
       "      <th>model_evidence</th>\n",
       "    </tr>\n",
       "  </thead>\n",
       "  <tbody>\n",
       "    <tr>\n",
       "      <th>0</th>\n",
       "      <td>lnorm-par</td>\n",
       "      <td>54193.138335</td>\n",
       "      <td>-107797.023799</td>\n",
       "      <td>-108415.708740</td>\n",
       "      <td>1.461129</td>\n",
       "      <td>2.438068</td>\n",
       "      <td>2.969760</td>\n",
       "      <td>5.744347e-161</td>\n",
       "    </tr>\n",
       "    <tr>\n",
       "      <th>0</th>\n",
       "      <td>wei-par</td>\n",
       "      <td>54558.404410</td>\n",
       "      <td>-109163.091730</td>\n",
       "      <td>-109149.819075</td>\n",
       "      <td>1.052366</td>\n",
       "      <td>1.046519</td>\n",
       "      <td>0.033705</td>\n",
       "      <td>2.467638e-02</td>\n",
       "    </tr>\n",
       "    <tr>\n",
       "      <th>0</th>\n",
       "      <td>gam-par</td>\n",
       "      <td>54562.081333</td>\n",
       "      <td>-109170.876501</td>\n",
       "      <td>-109157.508827</td>\n",
       "      <td>1.074636</td>\n",
       "      <td>1.052292</td>\n",
       "      <td>0.034575</td>\n",
       "      <td>9.753236e-01</td>\n",
       "    </tr>\n",
       "  </tbody>\n",
       "</table>\n",
       "</div>"
      ],
      "text/plain": [
       "  loss_model      log_marg            DIC           WAIC     shape      tail  \\\n",
       "0  lnorm-par  54193.138335 -107797.023799 -108415.708740  1.461129  2.438068   \n",
       "0    wei-par  54558.404410 -109163.091730 -109149.819075  1.052366  1.046519   \n",
       "0    gam-par  54562.081333 -109170.876501 -109157.508827  1.074636  1.052292   \n",
       "\n",
       "      thres  model_evidence  \n",
       "0  2.969760   5.744347e-161  \n",
       "0  0.033705    2.467638e-02  \n",
       "0  0.034575    9.753236e-01  "
      ]
     },
     "execution_count": 5,
     "metadata": {},
     "output_type": "execute_result"
    }
   ],
   "source": [
    "summary"
   ]
  },
  {
   "cell_type": "code",
   "execution_count": 6,
   "metadata": {},
   "outputs": [
    {
     "data": {
      "image/png": "[encoded data removed]",
      "text/plain": [
       "<Figure size 360x252 with 3 Axes>"
      ]
     },
     "metadata": {
      "needs_background": "light"
     },
     "output_type": "display_data"
    },
    {
     "data": {
      "image/png": "[encoded data removed]",
      "text/plain": [
       "<Figure size 360x252 with 3 Axes>"
      ]
     },
     "metadata": {
      "needs_background": "light"
     },
     "output_type": "display_data"
    },
    {
     "data": {
      "image/png": "[encoded data removed]",
      "text/plain": [
       "<Figure size 360x252 with 3 Axes>"
      ]
     },
     "metadata": {
      "needs_background": "light"
     },
     "output_type": "display_data"
    }
   ],
   "source": [
    "xlabels = [\"Forme\", \"Queue\", \"Seuil\"]\n",
    "colors = [\"red\", \"green\", \"blue\"]\n",
    "parms_names = [\"shape\", \"tail\", \"thres\"]\n",
    "title_labs = [\"Forme\", \"Queue\", \"Seuil\"]\n",
    "\n",
    "for i, loss_model in enumerate(loss_models):\n",
    "    fig, axs = plt.subplots(1, 3, figsize=(5, 3.5))\n",
    "    for k in range(len(parms_names)):\n",
    "\n",
    "        trace_temp = traces[loss_model]\n",
    "\n",
    "        positions = np.linspace(min(trace_temp[parms_names[k]]), \n",
    "                                max(trace_temp[parms_names[k]]), 1000)\n",
    "        kernel = st.gaussian_kde(trace_temp[parms_names[k]])\n",
    "        axs[k].plot(positions, kernel(positions), lw=3, \n",
    "                    color = colors[i] , alpha = 0.75)\n",
    "\n",
    "        axs[k].set_yticks([])\n",
    "        axs[k].set_title(xlabels[k])\n",
    "        axs[k].set_xticks(np.round(\n",
    "        trace_temp[parms_names[k]].quantile([0.05, 0.95]).values, 2))\n",
    "        \n",
    "    handles, labels = axs[0].get_legend_handles_labels()\n",
    "    fig.tight_layout()\n",
    "    fig.legend(handles, labels, ncol = 2, borderaxespad=0., loc='upper center', \n",
    "               frameon=False)\n",
    "    \n",
    "    sns.despine()\n",
    "    plt.savefig(\"../Figures/posterior_aus_\"+str(loss_model)+\".pdf\")"
   ]
  },
  {
   "cell_type": "code",
   "execution_count": 7,
   "metadata": {},
   "outputs": [
    {
     "name": "stdout",
     "output_type": "stream",
     "text": [
      "[1.07463588 1.05229161 0.03457488]\n"
     ]
    },
    {
     "data": {
      "image/png": "[encoded data removed]",
      "text/plain": [
       "<Figure size 180x180 with 1 Axes>"
      ]
     },
     "metadata": {},
     "output_type": "display_data"
    }
   ],
   "source": [
    "K, loss_model = 100000, 'gam-par'\n",
    "parms =  traces[loss_model].mean().values\n",
    "print(parms)\n",
    "X0 = sim_gam_par(K, parms[0], parms[1], parms[2])\n",
    "qq_plot(X, X0, \"blue\")\n",
    "sns.despine()\n",
    "plt.savefig(\"../Figures/QQplot_gam_par_aus.pdf\")"
   ]
  },
  {
   "cell_type": "code",
   "execution_count": 8,
   "metadata": {},
   "outputs": [
    {
     "name": "stdout",
     "output_type": "stream",
     "text": [
      "[1.0523664  1.04651921 0.03370451]\n"
     ]
    },
    {
     "data": {
      "image/png": "[encoded data removed]",
      "text/plain": [
       "<Figure size 180x180 with 1 Axes>"
      ]
     },
     "metadata": {},
     "output_type": "display_data"
    }
   ],
   "source": [
    "K, loss_model = 100000, 'wei-par'\n",
    "parms =  traces[loss_model].mean().values\n",
    "print(parms)\n",
    "X0 = sim_wei_par(K, parms[0], parms[1], parms[2])\n",
    "qq_plot(X, X0, \"green\")\n",
    "sns.despine()\n",
    "plt.savefig(\"../Figures/QQplot_wei_par_aus.pdf\")"
   ]
  },
  {
   "cell_type": "code",
   "execution_count": 9,
   "metadata": {},
   "outputs": [
    {
     "name": "stdout",
     "output_type": "stream",
     "text": [
      "[1.46112914 2.43806812 2.96975963]\n"
     ]
    },
    {
     "data": {
      "image/png": "[encoded data removed]",
      "text/plain": [
       "<Figure size 180x180 with 1 Axes>"
      ]
     },
     "metadata": {},
     "output_type": "display_data"
    }
   ],
   "source": [
    "K, loss_model = 100000, 'lnorm-par'\n",
    "parms =  traces[loss_model].mean().values\n",
    "print(parms)\n",
    "X0 = sim_lnorm_par(K, parms[0], parms[1], parms[2])\n",
    "qq_plot(X, X0, \"red\")\n",
    "sns.despine()\n",
    "plt.savefig(\"../Figures/QQplot_lnorm_par_aus.pdf\")\n"
   ]
  },
  {
   "cell_type": "code",
   "execution_count": 10,
   "metadata": {},
   "outputs": [
    {
     "name": "stderr",
     "output_type": "stream",
     "text": [
      "Initializing SMC sampler...\n",
      "Multiprocess sampling (1 chain in 1 job)\n",
      "Stage:   0 Beta: 0.000\n",
      "Stage:   1 Beta: 0.000\n",
      "Stage:   2 Beta: 0.000\n",
      "Stage:   3 Beta: 0.000\n",
      "Stage:   4 Beta: 0.001\n",
      "Stage:   5 Beta: 0.003\n",
      "Stage:   6 Beta: 0.009\n",
      "Stage:   7 Beta: 0.033\n",
      "Stage:   8 Beta: 0.111\n",
      "Stage:   9 Beta: 0.375\n",
      "Stage:  10 Beta: 1.000\n"
     ]
    },
    {
     "name": "stdout",
     "output_type": "stream",
     "text": [
      "CPU times: user 37 s, sys: 1.34 s, total: 38.3 s\n",
      "Wall time: 16.9 s\n"
     ]
    }
   ],
   "source": [
    "with pm.Model() as model_sev:\n",
    "    μ = pm.Normal(\"mu\",mu=0, sigma=10)\n",
    "    σ = pm.Gamma(\"sig\",alpha = 0.1, beta = 0.1)\n",
    "    U = pm.Lognormal(\"U\", mu=μ, sigma=σ, observed=X)\n",
    "    %time trace_lnorm = pm.sample_smc(popSize, random_seed=1, chains = 1)"
   ]
  },
  {
   "cell_type": "code",
   "execution_count": 11,
   "metadata": {},
   "outputs": [
    {
     "name": "stdout",
     "output_type": "stream",
     "text": [
      "-4.259536124437924 1.4630420901173644\n"
     ]
    },
    {
     "data": {
      "image/png": "[encoded data removed]",
      "text/plain": [
       "<Figure size 180x180 with 1 Axes>"
      ]
     },
     "metadata": {},
     "output_type": "display_data"
    }
   ],
   "source": [
    "μ, σ = trace_lnorm['mu'].mean(), trace_lnorm['sig'].mean()\n",
    "print(μ, σ)\n",
    "X0 = np.random.lognormal(mean = μ, sigma  = σ, size=K)\n",
    "qq_plot(X, X0, \"red\")\n",
    "sns.despine()\n",
    "plt.savefig(\"../Figures/QQplot_lnorm_aus.pdf\")"
   ]
  },
  {
   "cell_type": "code",
   "execution_count": 72,
   "metadata": {},
   "outputs": [
    {
     "data": {
      "text/plain": [
       "54210.89083885919"
      ]
     },
     "execution_count": 72,
     "metadata": {},
     "output_type": "execute_result"
    }
   ],
   "source": [
    "from numba import jit\n",
    "@jit(nopython=True)\n",
    "def log_like_lnorm(X, mu, σ):\n",
    "    n = X.size\n",
    "    return - n * np.log(σ * (2 * ma.pi)**(1/2)) - np.sum(np.log(X)) - np.sum((np.log(X) - mu)**2 / 2 / σ**2)\n",
    "\n",
    "@jit(nopython=True)\n",
    "def log_pdf_lnorm(x, mu, σ):\n",
    "    return - 1 * np.log(σ * (2 * ma.pi)**(1/2)) - np.log(x) - (np.log(x) - mu)**2 / 2 / σ**2\n",
    "mu, σ = trace_lnorm['mu'].mean(), trace_lnorm['sig'].mean()\n",
    "\n",
    "μ_map, σ_map = trace_lnorm['mu'].mean(), trace_lnorm['sig'].mean(\n",
    "log_vrais_map = log_like_lnorm(X, μ_map, σ_map)\n",
    "log_vrais_map"
   ]
  },
  {
   "cell_type": "code",
   "execution_count": 74,
   "metadata": {},
   "outputs": [
    {
     "data": {
      "text/plain": [
       "-108420.42616415599"
      ]
     },
     "execution_count": 74,
     "metadata": {},
     "output_type": "execute_result"
    }
   ],
   "source": [
    "# μ_trace, σ_trace = trace_lnorm['mu'], trace_lnorm['sig']\n",
    "p_DIC = np.mean([log_like_lnorm(X, μ_trace[k], σ_trace[k]) \n",
    "                 for k in range(len(μ_trace))]) - log_vrais_map\n",
    "p_DIC\n",
    "DIC = -2 * (log_vrais_map - p_DIC)\n",
    "DIC\n",
    "lppd = np.sum([np.log(np.mean([np.exp(log_pdf_lnorm(X[j],μ_trace[k], σ_trace[k])) \n",
    "                 for k in range(len(μ_trace))])) for j in range(len(X))])\n",
    "p_WAIC = np.var([log_like_lnorm(X, μ_trace[k], σ_trace[k]) \n",
    "                 for k in range(len(μ_trace))])\n",
    "WAIC = -2 *(lppd - p_WAIC)\n",
    "WAIC"
   ]
  },
  {
   "cell_type": "code",
   "execution_count": 76,
   "metadata": {},
   "outputs": [
    {
     "name": "stdout",
     "output_type": "stream",
     "text": [
      "  loss_model      log_marg            DIC           WAIC  model_evidence\n",
      "0  lnorm-par  54193.138335 -107797.023799 -108415.708740   5.744347e-161\n",
      "0    wei-par  54558.404410 -109163.091730 -109149.819075    2.467638e-02\n",
      "0    gam-par  54562.081333 -109170.876501 -109157.508827    9.753236e-01\n",
      "0      lnorm  54196.780589 -108423.770855 -108420.426164   2.193064e-159\n",
      "\\begin{tabular}{lrrrr}\n",
      "\\toprule\n",
      "loss\\_model &  log\\_marg &  model\\_evidence &        DIC &       WAIC \\\\\n",
      "\\midrule\n",
      " lnorm-par &  54193.14 &            0.00 & -107797.02 & -108415.71 \\\\\n",
      "   wei-par &  54558.40 &            0.02 & -109163.09 & -109149.82 \\\\\n",
      "   gam-par &  54562.08 &            0.98 & -109170.88 & -109157.51 \\\\\n",
      "     lnorm &  54196.78 &            0.00 & -108423.77 & -108420.43 \\\\\n",
      "\\bottomrule\n",
      "\\end{tabular}\n",
      "\n"
     ]
    }
   ],
   "source": [
    "log_marg_compo = summary[['loss_model', 'log_marg', 'DIC', \"WAIC\"]]\n",
    "log_marg_lnorm = pd.DataFrame({'loss_model': [\"lnorm\"], \n",
    "                               'log_marg' : trace_lnorm.report.log_marginal_likelihood,\n",
    "                               'DIC':DIC,\n",
    "                               \"WAIC\":WAIC})\n",
    "log_marg_df = pd.concat([log_marg_compo, log_marg_lnorm])\n",
    "log_marg_df['model_evidence'] = np.exp(log_marg_df['log_marg'] - log_marg_df['log_marg'].max()) / \\\n",
    "np.sum(np.exp(log_marg_df['log_marg'] - log_marg_df['log_marg'].max()))\n",
    "print(log_marg_df)\n",
    "print(log_marg_df[['loss_model', 'log_marg',\"model_evidence\", 'DIC', \"WAIC\"]].to_latex(float_format=\"%.2f\", index=False))"
   ]
  },
  {
   "cell_type": "code",
   "execution_count": 17,
   "metadata": {},
   "outputs": [
    {
     "name": "stdout",
     "output_type": "stream",
     "text": [
      "\\begin{tabular}{lrr}\n",
      "\\toprule\n",
      "loss\\_model &  q95 &  q99 \\\\\n",
      "\\midrule\n",
      " lnorm-par & 0.18 & 0.48 \\\\\n",
      "   wei-par & 0.15 & 0.70 \\\\\n",
      "   gam-par & 0.15 & 0.69 \\\\\n",
      "     lnorm & 0.16 & 0.42 \\\\\n",
      "  ensemble & 0.15 & 0.69 \\\\\n",
      " empirical & 0.15 & 0.39 \\\\\n",
      "\\bottomrule\n",
      "\\end{tabular}\n",
      "\n"
     ]
    },
    {
     "data": {
      "text/html": [
       "<div>\n",
       "<style scoped>\n",
       "    .dataframe tbody tr th:only-of-type {\n",
       "        vertical-align: middle;\n",
       "    }\n",
       "\n",
       "    .dataframe tbody tr th {\n",
       "        vertical-align: top;\n",
       "    }\n",
       "\n",
       "    .dataframe thead th {\n",
       "        text-align: right;\n",
       "    }\n",
       "</style>\n",
       "<table border=\"1\" class=\"dataframe\">\n",
       "  <thead>\n",
       "    <tr style=\"text-align: right;\">\n",
       "      <th></th>\n",
       "      <th>loss_model</th>\n",
       "      <th>q95</th>\n",
       "      <th>q99</th>\n",
       "    </tr>\n",
       "  </thead>\n",
       "  <tbody>\n",
       "    <tr>\n",
       "      <th>0</th>\n",
       "      <td>lnorm-par</td>\n",
       "      <td>0.175184</td>\n",
       "      <td>0.475041</td>\n",
       "    </tr>\n",
       "    <tr>\n",
       "      <th>1</th>\n",
       "      <td>wei-par</td>\n",
       "      <td>0.150691</td>\n",
       "      <td>0.699894</td>\n",
       "    </tr>\n",
       "    <tr>\n",
       "      <th>2</th>\n",
       "      <td>gam-par</td>\n",
       "      <td>0.150074</td>\n",
       "      <td>0.693121</td>\n",
       "    </tr>\n",
       "    <tr>\n",
       "      <th>3</th>\n",
       "      <td>lnorm</td>\n",
       "      <td>0.156759</td>\n",
       "      <td>0.424862</td>\n",
       "    </tr>\n",
       "    <tr>\n",
       "      <th>0</th>\n",
       "      <td>ensemble</td>\n",
       "      <td>0.150087</td>\n",
       "      <td>0.693256</td>\n",
       "    </tr>\n",
       "    <tr>\n",
       "      <th>scaled_aggclaims</th>\n",
       "      <td>empirical</td>\n",
       "      <td>0.148715</td>\n",
       "      <td>0.394254</td>\n",
       "    </tr>\n",
       "  </tbody>\n",
       "</table>\n",
       "</div>"
      ],
      "text/plain": [
       "                 loss_model       q95       q99\n",
       "0                 lnorm-par  0.175184  0.475041\n",
       "1                   wei-par  0.150691  0.699894\n",
       "2                   gam-par  0.150074  0.693121\n",
       "3                     lnorm  0.156759  0.424862\n",
       "0                  ensemble  0.150087  0.693256\n",
       "scaled_aggclaims  empirical  0.148715  0.394254"
      ]
     },
     "execution_count": 17,
     "metadata": {},
     "output_type": "execute_result"
    }
   ],
   "source": [
    "parms_names = [\"shape\", \"tail\", \"thres\"]\n",
    "summary['index'] = np.arange(0, 3, 1)\n",
    "q_compo = pd.DataFrame(np.array([[quantile_compo(0.95, summary['loss_model'].iloc[k], summary[parms_names].iloc[k].values), \n",
    "     quantile_compo(0.99, summary['loss_model'].iloc[k], summary[parms_names].iloc[k].values )] \n",
    "                              for k in range(len(summary))]), \n",
    "                        index = np.arange(0, 3, 1))\n",
    "q_compo.columns = ['q95', 'q99']\n",
    "q_compo['loss_model'] = loss_models\n",
    "# q_compo = pd.merge(summary, q_compo.reset_index()).set_index('index')\n",
    "mu, sig = trace_lnorm['mu'].mean(), trace_lnorm['sig'].mean()\n",
    "q_lnorm = pd.DataFrame(st.lognorm(s = sig , scale = np.exp(mu)).ppf([0.95, 0.99])).T\n",
    "q_lnorm.columns = ['q95','q99']\n",
    "q_lnorm['loss_model'] = 'lnorm'\n",
    "q_loss = pd.merge(pd.concat([q_compo, q_lnorm]),log_marg_df, on = 'loss_model' )\n",
    "q_ens = pd.DataFrame({'q95':np.dot(q_loss['q95'].values, q_loss['model_evidence'].values),\n",
    "                      'q99':np.dot(q_loss['q99'].values, q_loss['model_evidence'].values)\n",
    "                     }, index = [0])\n",
    "q_ens['loss_model'] = \"ensemble\"\n",
    "q_emp = pd.DataFrame(aus['scaled_aggclaims'].quantile([0.95, 0.99])).T\n",
    "q_emp.columns = [\"q95\", \"q99\"]\n",
    "q_emp['loss_model'] = \"empirical\"\n",
    "q_emp\n",
    "q_df = pd.concat([q_loss[['loss_model', \"q95\", \"q99\"]], q_ens, q_emp])\n",
    "print(q_df.to_latex(float_format=\"%.2f\", index=False))\n",
    "q_df"
   ]
  },
  {
   "cell_type": "code",
   "execution_count": 19,
   "metadata": {},
   "outputs": [
    {
     "name": "stdout",
     "output_type": "stream",
     "text": [
      "      shape     scale            AIC            BIC\n",
      "0  1.462421 -4.259138 -108417.791268 -108401.790402\n"
     ]
    },
    {
     "data": {
      "image/png": "[encoded data removed]",
      "text/plain": [
       "<Figure size 180x180 with 1 Axes>"
      ]
     },
     "metadata": {},
     "output_type": "display_data"
    }
   ],
   "source": [
    "σ,μ, BIC, AIC = infer_lnorm(X)\n",
    "fit_lnorm = pd.DataFrame({'shape': np.array([σ]), \"scale\": np.array([μ]),\"AIC\":np.array([AIC]),\"BIC\":np.array([BIC])  })\n",
    "print(fit_lnorm)\n",
    "X0 = np.random.lognormal(mean = μ, sigma  = σ, size=K)\n",
    "qq_plot(X, X0, \"red\")"
   ]
  },
  {
   "cell_type": "code",
   "execution_count": 21,
   "metadata": {},
   "outputs": [
    {
     "name": "stdout",
     "output_type": "stream",
     "text": [
      "      shape      tail     thres            AIC            BIC\n",
      "0  1.074505  1.052334  0.034568 -109158.327083 -109134.325785\n"
     ]
    },
    {
     "data": {
      "image/png": "[encoded data removed]",
      "text/plain": [
       "<Figure size 180x180 with 1 Axes>"
      ]
     },
     "metadata": {},
     "output_type": "display_data"
    }
   ],
   "source": [
    "parms, BIC, AIC = mle_composite(X, (1,1,0.1), \"gam-par\")\n",
    "fit_gam_par = pd.DataFrame(np.append(parms, [AIC, BIC])).T\n",
    "fit_gam_par.columns = [\"shape\", \"tail\", \"thres\", \"AIC\",\"BIC\"]\n",
    "print(fit_gam_par)\n",
    "X0 = sim_gam_par(K, parms[0], parms[1], parms[2])\n",
    "qq_plot(X, X0, \"blue\")\n",
    "sns.despine()\n",
    "# plt.savefig(\"../Figures/QQplot_gam_par.pdf\")"
   ]
  },
  {
   "cell_type": "code",
   "execution_count": null,
   "metadata": {},
   "outputs": [],
   "source": []
  }
 ],
 "metadata": {
  "kernelspec": {
   "display_name": "Python 3",
   "language": "python",
   "name": "python3"
  },
  "language_info": {
   "codemirror_mode": {
    "name": "ipython",
    "version": 3
   },
   "file_extension": ".py",
   "mimetype": "text/x-python",
   "name": "python",
   "nbconvert_exporter": "python",
   "pygments_lexer": "ipython3",
   "version": "3.8.5"
  }
 },
 "nbformat": 4,
 "nbformat_minor": 4
}
