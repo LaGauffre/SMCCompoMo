{
 "cells": [
  {
   "cell_type": "markdown",
   "metadata": {},
   "source": [
    "# Australian dataset"
   ]
  },
  {
   "cell_type": "code",
   "execution_count": 1,
   "metadata": {},
   "outputs": [],
   "source": [
    "%run preamble.py\n",
    "ausautoBI8999 = pd.read_csv(\"../Data/ausautoBI8999.csv\")"
   ]
  },
  {
   "cell_type": "code",
   "execution_count": 2,
   "metadata": {},
   "outputs": [
    {
     "name": "stdout",
     "output_type": "stream",
     "text": [
      "\\begin{tabular}{lrr}\n",
      "\\toprule\n",
      "   FinDate &  FinMth &  AggClaim \\\\\n",
      "\\midrule\n",
      "1993-10-01 &      52 &     87.75 \\\\\n",
      "1994-02-01 &      56 &    353.62 \\\\\n",
      "1994-02-01 &      56 &    688.83 \\\\\n",
      "1994-05-01 &      59 &    172.80 \\\\\n",
      "1994-09-01 &      63 &     43.29 \\\\\n",
      "\\bottomrule\n",
      "\\end{tabular}\n",
      "\n",
      "\\begin{tabular}{ll}\n",
      "\\toprule\n",
      "{} &    AggClaim \\\\\n",
      "\\midrule\n",
      "count &    22036.00 \\\\\n",
      "mean  &    38367.22 \\\\\n",
      "std   &    90981.11 \\\\\n",
      "min   &        9.96 \\\\\n",
      "25\\%   &     6296.97 \\\\\n",
      "50\\%   &    13853.87 \\\\\n",
      "75\\%   &    35123.42 \\\\\n",
      "max   &  4485797.21 \\\\\n",
      "\\bottomrule\n",
      "\\end{tabular}\n",
      "\n"
     ]
    }
   ],
   "source": [
    "from datetime import datetime\n",
    "aus = pd.concat([ausautoBI8999[[\"FinDate\", \"FinMth\" ,\"AggClaim\"]], \n",
    "                 pd.DataFrame({'year':np.array([datetime.fromisoformat(ausautoBI8999[\"FinDate\"].iloc[k]).year \n",
    "                                                for k in range(len(ausautoBI8999[\"FinDate\"]))])})\n",
    "                ], axis = 1)\n",
    "print(aus[[\"FinDate\", \"FinMth\", \"AggClaim\"]].head(5).to_latex(index=False))\n",
    "print(aus[[\"AggClaim\"]].describe().applymap(\"{:.2f}\".format).to_latex())"
   ]
  },
  {
   "cell_type": "code",
   "execution_count": 3,
   "metadata": {},
   "outputs": [
    {
     "data": {
      "image/png": "[encoded data removed]",
      "text/plain": [
       "<Figure size 360x252 with 2 Axes>"
      ]
     },
     "metadata": {
      "needs_background": "light"
     },
     "output_type": "display_data"
    }
   ],
   "source": [
    "fig, axs = plt.subplots(1,2, figsize=(5, 3.5), tight_layout=True)\n",
    "num_bins = 40\n",
    "# the histogram of the data\n",
    "n, bins, patches = axs[0].hist(aus.AggClaim / 1e6, num_bins, alpha=0.5)\n",
    "axs[1].boxplot(aus.AggClaim / 1e6)\n",
    "axs[0].set_xlabel(\"\")\n",
    "axs[0].set_ylabel(\"Frequency\")\n",
    "axs[1].set_ylabel(\"\")\n",
    "axs[1].set_xticks([])\n",
    "plt.suptitle(\"Claim amounts (in millions)\")\n",
    "# plt.show()\n",
    "sns.despine()\n",
    "plt.savefig(\"../Figures/hist_box_aus_en.pdf\")"
   ]
  },
  {
   "cell_type": "code",
   "execution_count": 4,
   "metadata": {},
   "outputs": [
    {
     "name": "stdout",
     "output_type": "stream",
     "text": [
      "Fitting lnorm-par model\n",
      "Fitting wei-par model\n",
      "Fitting gam-par model\n",
      "Time: 911.5195944309235\n"
     ]
    }
   ],
   "source": [
    "np.random.seed(333)\n",
    "aus['scaled_aggclaims'] = aus['AggClaim'] / 1e6 \n",
    "aus['scaled_aggclaims'].quantile([0.95, 0.99])\n",
    "loss_models = ['lnorm-par', 'wei-par', \"gam-par\"]\n",
    "X = aus['scaled_aggclaims'].values\n",
    "model_prior, a, b =  \"gamma\", 0.1 * np.ones(3), 0.1 * np.ones(3)\n",
    "# SMC settings\n",
    "popSize, verbose, smc_method, paralell, nproc = 1000, True, \"likelihood_anealing\", True, 40\n",
    "start_time = time()\n",
    "traces, summary = fit_composite_models_smc(X,loss_models,\n",
    "                                                     model_prior, a, b, popSize, verbose, smc_method, paralell, nproc)\n",
    "print(\"Time: \"+str(time() -  start_time))"
   ]
  },
  {
   "cell_type": "code",
   "execution_count": 5,
   "metadata": {},
   "outputs": [
    {
     "data": {
      "text/html": [
       "<div>\n",
       "<style scoped>\n",
       "    .dataframe tbody tr th:only-of-type {\n",
       "        vertical-align: middle;\n",
       "    }\n",
       "\n",
       "    .dataframe tbody tr th {\n",
       "        vertical-align: top;\n",
       "    }\n",
       "\n",
       "    .dataframe thead th {\n",
       "        text-align: right;\n",
       "    }\n",
       "</style>\n",
       "<table border=\"1\" class=\"dataframe\">\n",
       "  <thead>\n",
       "    <tr style=\"text-align: right;\">\n",
       "      <th></th>\n",
       "      <th>loss_model</th>\n",
       "      <th>log_marg</th>\n",
       "      <th>DIC</th>\n",
       "      <th>WAIC</th>\n",
       "      <th>shape</th>\n",
       "      <th>tail</th>\n",
       "      <th>thres</th>\n",
       "      <th>model_evidence</th>\n",
       "    </tr>\n",
       "  </thead>\n",
       "  <tbody>\n",
       "    <tr>\n",
       "      <th>0</th>\n",
       "      <td>lnorm-par</td>\n",
       "      <td>54192.994638</td>\n",
       "      <td>-107697.451086</td>\n",
       "      <td>-108416.581189</td>\n",
       "      <td>1.463457</td>\n",
       "      <td>2.616983</td>\n",
       "      <td>4.478614</td>\n",
       "      <td>3.587248e-161</td>\n",
       "    </tr>\n",
       "    <tr>\n",
       "      <th>0</th>\n",
       "      <td>wei-par</td>\n",
       "      <td>54558.818092</td>\n",
       "      <td>-109162.844846</td>\n",
       "      <td>-109150.067741</td>\n",
       "      <td>1.052332</td>\n",
       "      <td>1.047950</td>\n",
       "      <td>0.033774</td>\n",
       "      <td>2.690722e-02</td>\n",
       "    </tr>\n",
       "    <tr>\n",
       "      <th>0</th>\n",
       "      <td>gam-par</td>\n",
       "      <td>54562.406177</td>\n",
       "      <td>-109170.786845</td>\n",
       "      <td>-109157.563796</td>\n",
       "      <td>1.074986</td>\n",
       "      <td>1.052561</td>\n",
       "      <td>0.034578</td>\n",
       "      <td>9.730928e-01</td>\n",
       "    </tr>\n",
       "  </tbody>\n",
       "</table>\n",
       "</div>"
      ],
      "text/plain": [
       "  loss_model      log_marg            DIC           WAIC     shape      tail  \\\n",
       "0  lnorm-par  54192.994638 -107697.451086 -108416.581189  1.463457  2.616983   \n",
       "0    wei-par  54558.818092 -109162.844846 -109150.067741  1.052332  1.047950   \n",
       "0    gam-par  54562.406177 -109170.786845 -109157.563796  1.074986  1.052561   \n",
       "\n",
       "      thres  model_evidence  \n",
       "0  4.478614   3.587248e-161  \n",
       "0  0.033774    2.690722e-02  \n",
       "0  0.034578    9.730928e-01  "
      ]
     },
     "execution_count": 5,
     "metadata": {},
     "output_type": "execute_result"
    }
   ],
   "source": [
    "summary"
   ]
  },
  {
   "cell_type": "code",
   "execution_count": 21,
   "metadata": {},
   "outputs": [
    {
     "data": {
      "image/png": "[encoded data removed]",
      "text/plain": [
       "<Figure size 360x252 with 3 Axes>"
      ]
     },
     "metadata": {
      "needs_background": "light"
     },
     "output_type": "display_data"
    },
    {
     "data": {
      "image/png": "[encoded data removed]",
      "text/plain": [
       "<Figure size 360x252 with 3 Axes>"
      ]
     },
     "metadata": {
      "needs_background": "light"
     },
     "output_type": "display_data"
    },
    {
     "data": {
      "image/png": "[encoded data removed]",
      "text/plain": [
       "<Figure size 360x252 with 3 Axes>"
      ]
     },
     "metadata": {
      "needs_background": "light"
     },
     "output_type": "display_data"
    }
   ],
   "source": [
    "xlabels = [\"Shape\", \"Tail\", \"Threshold\"] \n",
    "colors = [\"red\", \"green\", \"blue\"]\n",
    "parms_names = [\"shape\", \"tail\", \"thres\"]\n",
    "title_labs = [\"Shape\", \"Tail\", \"Thres\"]\n",
    "\n",
    "for i, loss_model in enumerate(loss_models):\n",
    "    fig, axs = plt.subplots(1, 3, figsize=(5, 3.5))\n",
    "    for k in range(len(parms_names)):\n",
    "\n",
    "        trace_temp = traces[loss_model]\n",
    "\n",
    "        positions = np.linspace(min(trace_temp[parms_names[k]]), \n",
    "                                max(trace_temp[parms_names[k]]), 1000)\n",
    "        kernel = st.gaussian_kde(trace_temp[parms_names[k]])\n",
    "        axs[k].plot(positions, kernel(positions), lw=3, \n",
    "                    color = colors[i] , alpha = 0.75)\n",
    "\n",
    "        axs[k].set_yticks([])\n",
    "        axs[k].set_title(xlabels[k])\n",
    "        axs[k].set_xticks(np.round(\n",
    "        trace_temp[parms_names[k]].quantile([0.05, 0.95]).values, 2))\n",
    "        \n",
    "    handles, labels = axs[0].get_legend_handles_labels()\n",
    "    fig.tight_layout()\n",
    "    fig.legend(handles, labels, ncol = 2, borderaxespad=0., loc='upper center', \n",
    "               frameon=False)\n",
    "    \n",
    "    sns.despine()\n",
    "    plt.savefig(\"../Figures/posterior_aus_\"+str(loss_model)+\"_en.pdf\")"
   ]
  },
  {
   "cell_type": "code",
   "execution_count": 7,
   "metadata": {},
   "outputs": [
    {
     "name": "stdout",
     "output_type": "stream",
     "text": [
      "[1.07498568 1.05256114 0.03457783]\n"
     ]
    },
    {
     "data": {
      "image/png": "[encoded data removed]",
      "text/plain": [
       "<Figure size 180x180 with 1 Axes>"
      ]
     },
     "metadata": {},
     "output_type": "display_data"
    }
   ],
   "source": [
    "np.random.seed(333)\n",
    "K, loss_model = 100000, 'gam-par'\n",
    "parms =  traces[loss_model].mean().values\n",
    "print(parms)\n",
    "X0 = sim_gam_par(K, parms[0], parms[1], parms[2])\n",
    "qq_plot_en(X, X0, \"blue\")\n",
    "sns.despine()\n",
    "plt.savefig(\"../Figures/QQplot_gam_par_aus_en.pdf\")"
   ]
  },
  {
   "cell_type": "code",
   "execution_count": 8,
   "metadata": {},
   "outputs": [
    {
     "name": "stdout",
     "output_type": "stream",
     "text": [
      "[1.05233248 1.04795007 0.03377382]\n"
     ]
    },
    {
     "data": {
      "image/png": "[encoded data removed]",
      "text/plain": [
       "<Figure size 180x180 with 1 Axes>"
      ]
     },
     "metadata": {},
     "output_type": "display_data"
    }
   ],
   "source": [
    "np.random.seed(333)\n",
    "K, loss_model = 100000, 'wei-par'\n",
    "parms =  traces[loss_model].mean().values\n",
    "print(parms)\n",
    "X0 = sim_wei_par(K, parms[0], parms[1], parms[2])\n",
    "qq_plot_en(X, X0, \"green\")\n",
    "sns.despine()\n",
    "plt.savefig(\"../Figures/QQplot_wei_par_aus_en.pdf\")"
   ]
  },
  {
   "cell_type": "code",
   "execution_count": 9,
   "metadata": {},
   "outputs": [
    {
     "name": "stdout",
     "output_type": "stream",
     "text": [
      "[1.46345699 2.61698338 4.47861397]\n"
     ]
    },
    {
     "data": {
      "image/png": "[encoded data removed]",
      "text/plain": [
       "<Figure size 180x180 with 1 Axes>"
      ]
     },
     "metadata": {},
     "output_type": "display_data"
    }
   ],
   "source": [
    "np.random.seed(333)\n",
    "K, loss_model = 100000, 'lnorm-par'\n",
    "parms =  traces[loss_model].mean().values\n",
    "print(parms)\n",
    "X0 = sim_lnorm_par(K, parms[0], parms[1], parms[2])\n",
    "qq_plot_en(X, X0, \"red\")\n",
    "sns.despine()\n",
    "plt.savefig(\"../Figures/QQplot_lnorm_par_aus_en.pdf\")\n"
   ]
  },
  {
   "cell_type": "code",
   "execution_count": 10,
   "metadata": {},
   "outputs": [
    {
     "name": "stderr",
     "output_type": "stream",
     "text": [
      "Initializing SMC sampler...\n",
      "Multiprocess sampling (1 chain in 1 job)\n",
      "Stage:   0 Beta: 0.000\n",
      "Stage:   1 Beta: 0.000\n",
      "Stage:   2 Beta: 0.000\n",
      "Stage:   3 Beta: 0.000\n",
      "Stage:   4 Beta: 0.001\n",
      "Stage:   5 Beta: 0.003\n",
      "Stage:   6 Beta: 0.009\n",
      "Stage:   7 Beta: 0.033\n",
      "Stage:   8 Beta: 0.111\n",
      "Stage:   9 Beta: 0.375\n",
      "Stage:  10 Beta: 1.000\n"
     ]
    },
    {
     "name": "stdout",
     "output_type": "stream",
     "text": [
      "CPU times: user 37.6 s, sys: 1.34 s, total: 38.9 s\n",
      "Wall time: 17.3 s\n"
     ]
    }
   ],
   "source": [
    "with pm.Model() as model_sev:\n",
    "    μ = pm.Normal(\"mu\",mu=0, sigma=10)\n",
    "    σ = pm.Gamma(\"sig\",alpha = 0.1, beta = 0.1)\n",
    "    U = pm.Lognormal(\"U\", mu=μ, sigma=σ, observed=X)\n",
    "    %time trace_lnorm = pm.sample_smc(popSize, random_seed=333, chains = 1)"
   ]
  },
  {
   "cell_type": "code",
   "execution_count": 12,
   "metadata": {},
   "outputs": [
    {
     "name": "stdout",
     "output_type": "stream",
     "text": [
      "-4.259536124437924 1.4630420901173644\n"
     ]
    },
    {
     "data": {
      "image/png": "[encoded data removed]",
      "text/plain": [
       "<Figure size 180x180 with 1 Axes>"
      ]
     },
     "metadata": {},
     "output_type": "display_data"
    }
   ],
   "source": [
    "np.random.seed(333)\n",
    "μ, σ = trace_lnorm['mu'].mean(), trace_lnorm['sig'].mean()\n",
    "print(μ, σ)\n",
    "X0 = np.random.lognormal(mean = μ, sigma  = σ, size=K)\n",
    "qq_plot_en(X, X0, \"red\")\n",
    "sns.despine()\n",
    "plt.savefig(\"../Figures/QQplot_lnorm_aus_en.pdf\")"
   ]
  },
  {
   "cell_type": "code",
   "execution_count": 14,
   "metadata": {},
   "outputs": [
    {
     "data": {
      "text/plain": [
       "54210.89083885919"
      ]
     },
     "execution_count": 14,
     "metadata": {},
     "output_type": "execute_result"
    }
   ],
   "source": [
    "from numba import jit\n",
    "@jit(nopython=True)\n",
    "def log_like_lnorm(X, mu, σ):\n",
    "    n = X.size\n",
    "    return - n * np.log(σ * (2 * ma.pi)**(1/2)) - np.sum(np.log(X)) - np.sum((np.log(X) - mu)**2 / 2 / σ**2)\n",
    "\n",
    "@jit(nopython=True)\n",
    "def log_pdf_lnorm(x, mu, σ):\n",
    "    return - 1 * np.log(σ * (2 * ma.pi)**(1/2)) - np.log(x) - (np.log(x) - mu)**2 / 2 / σ**2\n",
    "mu, σ = trace_lnorm['mu'].mean(), trace_lnorm['sig'].mean()\n",
    "\n",
    "μ_map, σ_map = trace_lnorm['mu'].mean(), trace_lnorm['sig'].mean()\n",
    "log_vrais_map = log_like_lnorm(X, μ_map, σ_map)\n",
    "log_vrais_map"
   ]
  },
  {
   "cell_type": "code",
   "execution_count": 16,
   "metadata": {},
   "outputs": [
    {
     "data": {
      "text/plain": [
       "-108420.42616415599"
      ]
     },
     "execution_count": 16,
     "metadata": {},
     "output_type": "execute_result"
    }
   ],
   "source": [
    "μ_trace, σ_trace = trace_lnorm['mu'], trace_lnorm['sig']\n",
    "p_DIC = np.mean([log_like_lnorm(X, μ_trace[k], σ_trace[k]) \n",
    "                 for k in range(len(μ_trace))]) - log_vrais_map\n",
    "p_DIC\n",
    "DIC = -2 * (log_vrais_map - p_DIC)\n",
    "DIC\n",
    "lppd = np.sum([np.log(np.mean([np.exp(log_pdf_lnorm(X[j],μ_trace[k], σ_trace[k])) \n",
    "                 for k in range(len(μ_trace))])) for j in range(len(X))])\n",
    "p_WAIC = np.var([log_like_lnorm(X, μ_trace[k], σ_trace[k]) \n",
    "                 for k in range(len(μ_trace))])\n",
    "WAIC = -2 *(lppd - p_WAIC)\n",
    "WAIC"
   ]
  },
  {
   "cell_type": "code",
   "execution_count": 17,
   "metadata": {},
   "outputs": [
    {
     "name": "stdout",
     "output_type": "stream",
     "text": [
      "  loss_model      log_marg            DIC           WAIC  model_evidence\n",
      "0  lnorm-par  54192.994638 -107697.451086 -108416.581189   3.587248e-161\n",
      "0    wei-par  54558.818092 -109162.844846 -109150.067741    2.690722e-02\n",
      "0    gam-par  54562.406177 -109170.786845 -109157.563796    9.730928e-01\n",
      "0      lnorm  54196.780589 -108423.770855 -108420.426164   1.581171e-159\n",
      "\\begin{tabular}{lrrrr}\n",
      "\\toprule\n",
      "loss\\_model &  log\\_marg &  model\\_evidence &        DIC &       WAIC \\\\\n",
      "\\midrule\n",
      " lnorm-par &  54192.99 &            0.00 & -107697.45 & -108416.58 \\\\\n",
      "   wei-par &  54558.82 &            0.03 & -109162.84 & -109150.07 \\\\\n",
      "   gam-par &  54562.41 &            0.97 & -109170.79 & -109157.56 \\\\\n",
      "     lnorm &  54196.78 &            0.00 & -108423.77 & -108420.43 \\\\\n",
      "\\bottomrule\n",
      "\\end{tabular}\n",
      "\n"
     ]
    }
   ],
   "source": [
    "log_marg_compo = summary[['loss_model', 'log_marg', 'DIC', \"WAIC\"]]\n",
    "log_marg_lnorm = pd.DataFrame({'loss_model': [\"lnorm\"], \n",
    "                               'log_marg' : trace_lnorm.report.log_marginal_likelihood,\n",
    "                               'DIC':DIC,\n",
    "                               \"WAIC\":WAIC})\n",
    "log_marg_df = pd.concat([log_marg_compo, log_marg_lnorm])\n",
    "log_marg_df['model_evidence'] = np.exp(log_marg_df['log_marg'] - log_marg_df['log_marg'].max()) / \\\n",
    "np.sum(np.exp(log_marg_df['log_marg'] - log_marg_df['log_marg'].max()))\n",
    "print(log_marg_df)\n",
    "print(log_marg_df[['loss_model', 'log_marg',\"model_evidence\", 'DIC', \"WAIC\"]].to_latex(float_format=\"%.2f\", index=False))"
   ]
  },
  {
   "cell_type": "code",
   "execution_count": 18,
   "metadata": {},
   "outputs": [
    {
     "name": "stdout",
     "output_type": "stream",
     "text": [
      "\\begin{tabular}{lrr}\n",
      "\\toprule\n",
      "loss\\_model &  q95 &  q99 \\\\\n",
      "\\midrule\n",
      " lnorm-par & 0.18 & 0.50 \\\\\n",
      "   wei-par & 0.15 & 0.70 \\\\\n",
      "   gam-par & 0.15 & 0.69 \\\\\n",
      "     lnorm & 0.16 & 0.42 \\\\\n",
      "  ensemble & 0.15 & 0.69 \\\\\n",
      " empirical & 0.15 & 0.39 \\\\\n",
      "\\bottomrule\n",
      "\\end{tabular}\n",
      "\n"
     ]
    },
    {
     "data": {
      "text/html": [
       "<div>\n",
       "<style scoped>\n",
       "    .dataframe tbody tr th:only-of-type {\n",
       "        vertical-align: middle;\n",
       "    }\n",
       "\n",
       "    .dataframe tbody tr th {\n",
       "        vertical-align: top;\n",
       "    }\n",
       "\n",
       "    .dataframe thead th {\n",
       "        text-align: right;\n",
       "    }\n",
       "</style>\n",
       "<table border=\"1\" class=\"dataframe\">\n",
       "  <thead>\n",
       "    <tr style=\"text-align: right;\">\n",
       "      <th></th>\n",
       "      <th>loss_model</th>\n",
       "      <th>q95</th>\n",
       "      <th>q99</th>\n",
       "    </tr>\n",
       "  </thead>\n",
       "  <tbody>\n",
       "    <tr>\n",
       "      <th>0</th>\n",
       "      <td>lnorm-par</td>\n",
       "      <td>0.183000</td>\n",
       "      <td>0.496201</td>\n",
       "    </tr>\n",
       "    <tr>\n",
       "      <th>1</th>\n",
       "      <td>wei-par</td>\n",
       "      <td>0.150684</td>\n",
       "      <td>0.699929</td>\n",
       "    </tr>\n",
       "    <tr>\n",
       "      <th>2</th>\n",
       "      <td>gam-par</td>\n",
       "      <td>0.150035</td>\n",
       "      <td>0.692241</td>\n",
       "    </tr>\n",
       "    <tr>\n",
       "      <th>3</th>\n",
       "      <td>lnorm</td>\n",
       "      <td>0.156759</td>\n",
       "      <td>0.424862</td>\n",
       "    </tr>\n",
       "    <tr>\n",
       "      <th>0</th>\n",
       "      <td>ensemble</td>\n",
       "      <td>0.150052</td>\n",
       "      <td>0.692448</td>\n",
       "    </tr>\n",
       "    <tr>\n",
       "      <th>scaled_aggclaims</th>\n",
       "      <td>empirical</td>\n",
       "      <td>0.148715</td>\n",
       "      <td>0.394254</td>\n",
       "    </tr>\n",
       "  </tbody>\n",
       "</table>\n",
       "</div>"
      ],
      "text/plain": [
       "                 loss_model       q95       q99\n",
       "0                 lnorm-par  0.183000  0.496201\n",
       "1                   wei-par  0.150684  0.699929\n",
       "2                   gam-par  0.150035  0.692241\n",
       "3                     lnorm  0.156759  0.424862\n",
       "0                  ensemble  0.150052  0.692448\n",
       "scaled_aggclaims  empirical  0.148715  0.394254"
      ]
     },
     "execution_count": 18,
     "metadata": {},
     "output_type": "execute_result"
    }
   ],
   "source": [
    "parms_names = [\"shape\", \"tail\", \"thres\"]\n",
    "summary['index'] = np.arange(0, 3, 1)\n",
    "q_compo = pd.DataFrame(np.array([[quantile_compo(0.95, summary['loss_model'].iloc[k], summary[parms_names].iloc[k].values), \n",
    "     quantile_compo(0.99, summary['loss_model'].iloc[k], summary[parms_names].iloc[k].values )] \n",
    "                              for k in range(len(summary))]), \n",
    "                        index = np.arange(0, 3, 1))\n",
    "q_compo.columns = ['q95', 'q99']\n",
    "q_compo['loss_model'] = loss_models\n",
    "# q_compo = pd.merge(summary, q_compo.reset_index()).set_index('index')\n",
    "mu, sig = trace_lnorm['mu'].mean(), trace_lnorm['sig'].mean()\n",
    "q_lnorm = pd.DataFrame(st.lognorm(s = sig , scale = np.exp(mu)).ppf([0.95, 0.99])).T\n",
    "q_lnorm.columns = ['q95','q99']\n",
    "q_lnorm['loss_model'] = 'lnorm'\n",
    "q_loss = pd.merge(pd.concat([q_compo, q_lnorm]),log_marg_df, on = 'loss_model' )\n",
    "q_ens = pd.DataFrame({'q95':np.dot(q_loss['q95'].values, q_loss['model_evidence'].values),\n",
    "                      'q99':np.dot(q_loss['q99'].values, q_loss['model_evidence'].values)\n",
    "                     }, index = [0])\n",
    "q_ens['loss_model'] = \"ensemble\"\n",
    "q_emp = pd.DataFrame(aus['scaled_aggclaims'].quantile([0.95, 0.99])).T\n",
    "q_emp.columns = [\"q95\", \"q99\"]\n",
    "q_emp['loss_model'] = \"empirical\"\n",
    "q_emp\n",
    "q_df = pd.concat([q_loss[['loss_model', \"q95\", \"q99\"]], q_ens, q_emp])\n",
    "print(q_df.to_latex(float_format=\"%.2f\", index=False))\n",
    "q_df"
   ]
  }
 ],
 "metadata": {
  "kernelspec": {
   "display_name": "Python 3",
   "language": "python",
   "name": "python3"
  },
  "language_info": {
   "codemirror_mode": {
    "name": "ipython",
    "version": 3
   },
   "file_extension": ".py",
   "mimetype": "text/x-python",
   "name": "python",
   "nbconvert_exporter": "python",
   "pygments_lexer": "ipython3",
   "version": "3.8.5"
  }
 },
 "nbformat": 4,
 "nbformat_minor": 4
}
