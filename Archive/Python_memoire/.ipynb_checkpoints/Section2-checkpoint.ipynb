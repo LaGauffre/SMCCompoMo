{
 "cells": [
  {
   "cell_type": "markdown",
   "metadata": {},
   "source": [
    "# Section 2"
   ]
  },
  {
   "cell_type": "code",
   "execution_count": 4,
   "metadata": {},
   "outputs": [],
   "source": [
    "%run preamble.py\n",
    "danish = pd.read_csv(\"../Data/danish.csv\").x"
   ]
  },
  {
   "cell_type": "markdown",
   "metadata": {},
   "source": [
    "# Descriptive statistics , histogram and boxplot"
   ]
  },
  {
   "cell_type": "code",
   "execution_count": 13,
   "metadata": {},
   "outputs": [
    {
     "name": "stdout",
     "output_type": "stream",
     "text": [
      "\\begin{tabular}{lr}\n",
      "\\toprule\n",
      "{} &            x \\\\\n",
      "\\midrule\n",
      "count &  2492.000000 \\\\\n",
      "mean  &     3.062699 \\\\\n",
      "std   &     7.976703 \\\\\n",
      "min   &     0.313404 \\\\\n",
      "25\\%   &     1.157184 \\\\\n",
      "50\\%   &     1.633858 \\\\\n",
      "75\\%   &     2.645484 \\\\\n",
      "max   &   263.250366 \\\\\n",
      "\\bottomrule\n",
      "\\end{tabular}\n",
      "\n"
     ]
    }
   ],
   "source": [
    "print(danish.describe().to_latex())"
   ]
  },
  {
   "cell_type": "code",
   "execution_count": 14,
   "metadata": {},
   "outputs": [
    {
     "data": {
      "image/png": "[encoded data removed]",
      "text/plain": [
       "<Figure size 360x180 with 2 Axes>"
      ]
     },
     "metadata": {
      "needs_background": "light"
     },
     "output_type": "display_data"
    }
   ],
   "source": [
    "fig, axs = plt.subplots(1, 2, tight_layout=True, figsize=(5, 2.5))\n",
    "num_bins = 40\n",
    "# the histogram of the data\n",
    "n, bins, patches = axs[0].hist(danish, num_bins, alpha=0.5)\n",
    "axs[1].boxplot(danish)\n",
    "axs[0].set_xlabel(\"Loss\")\n",
    "axs[0].set_ylabel(\"Frequency\")\n",
    "axs[1].set_ylabel(\"Loss\")\n",
    "axs[1].set_xticks([])\n",
    "# plt.show()\n",
    "sns.despine()\n",
    "plt.savefig(\"../Figures/hist_boxplot_danish_en.pdf\")"
   ]
  },
  {
   "cell_type": "markdown",
   "metadata": {},
   "source": [
    "# Maximum likelihood estimation of common loss distributions\n",
    "\n",
    "## Fitting the gamma distribution"
   ]
  },
  {
   "cell_type": "code",
   "execution_count": 15,
   "metadata": {},
   "outputs": [
    {
     "name": "stdout",
     "output_type": "stream",
     "text": [
      "      shape    scale           AIC           BIC\n",
      "0  1.257994  2.43459  10490.053765  10501.695447\n"
     ]
    },
    {
     "data": {
      "image/png": "[encoded data removed]",
      "text/plain": [
       "<Figure size 180x180 with 1 Axes>"
      ]
     },
     "metadata": {},
     "output_type": "display_data"
    }
   ],
   "source": [
    "np.random.seed(333)\n",
    "r, m, BIC, AIC = infer_gamma(danish, (1,1))\n",
    "fit_gamma = pd.DataFrame({'shape': np.array([r]), \"scale\": np.array([m]), \"AIC\":np.array([AIC]), \"BIC\":np.array([BIC]) })\n",
    "print(fit_gamma)\n",
    "X0 = np.random.gamma(shape = r, scale  = m, size=100000)\n",
    "# print(X0)\n",
    "qq_plot_en(danish, X0, \"blue\")\n",
    "sns.despine()\n",
    "plt.savefig(\"../Figures/QQplot_gamma_en.pdf\")"
   ]
  },
  {
   "cell_type": "markdown",
   "metadata": {},
   "source": [
    "## Fitting the lognormal distribution"
   ]
  },
  {
   "cell_type": "code",
   "execution_count": 16,
   "metadata": {},
   "outputs": [
    {
     "name": "stdout",
     "output_type": "stream",
     "text": [
      "      shape     scale          AIC          BIC\n",
      "0  0.671854  0.732317  8871.781777  8883.423459\n"
     ]
    },
    {
     "data": {
      "image/png": "[encoded data removed]",
      "text/plain": [
       "<Figure size 180x180 with 1 Axes>"
      ]
     },
     "metadata": {},
     "output_type": "display_data"
    }
   ],
   "source": [
    "np.random.seed(333)\n",
    "μ, σ, BIC, AIC = infer_lnorm(danish)\n",
    "fit_lnorm = pd.DataFrame({'shape': np.array([σ]), \"scale\": np.array([μ]),\"AIC\":np.array([AIC]),\"BIC\":np.array([BIC])  })\n",
    "print(fit_lnorm)\n",
    "X0 = np.random.lognormal(mean = μ, sigma  = σ, size=100000)\n",
    "qq_plot_en(danish, X0, \"red\")\n",
    "sns.despine()\n",
    "plt.savefig(\"../Figures/QQplot_lnorm_en.pdf\")"
   ]
  },
  {
   "cell_type": "markdown",
   "metadata": {},
   "source": [
    "## Fitting the Weibull distribution"
   ]
  },
  {
   "cell_type": "code",
   "execution_count": 17,
   "metadata": {},
   "outputs": [
    {
     "name": "stdout",
     "output_type": "stream",
     "text": [
      "      shape     scale           AIC           BIC\n",
      "0  0.947587  2.952486  10544.941033  10556.582715\n"
     ]
    },
    {
     "data": {
      "image/png": "[encoded data removed]",
      "text/plain": [
       "<Figure size 180x180 with 1 Axes>"
      ]
     },
     "metadata": {},
     "output_type": "display_data"
    }
   ],
   "source": [
    "np.random.seed(333)\n",
    "k, β, BIC, AIC = infer_weib(danish, (1,1))\n",
    "fit_weibull = pd.DataFrame({'shape': np.array([k]), \"scale\": np.array([β]), \"AIC\":np.array([AIC]), \"BIC\":np.array([BIC]) })\n",
    "print(fit_weibull)\n",
    "X0 = np.random.weibull(k, size=100000)* β\n",
    "qq_plot_en(danish, X0, \"green\")\n",
    "sns.despine()\n",
    "plt.savefig(\"../Figures/QQplot_weib_en.pdf\")"
   ]
  },
  {
   "cell_type": "markdown",
   "metadata": {},
   "source": [
    "## Fitting the Pareto distribution"
   ]
  },
  {
   "cell_type": "code",
   "execution_count": 18,
   "metadata": {},
   "outputs": [
    {
     "name": "stdout",
     "output_type": "stream",
     "text": [
      "      shape     scale           AIC          BIC\n",
      "0  0.313404  0.545817  11354.188278  11365.82996\n"
     ]
    },
    {
     "data": {
      "image/png": "[encoded data removed]",
      "text/plain": [
       "<Figure size 180x180 with 1 Axes>"
      ]
     },
     "metadata": {},
     "output_type": "display_data"
    }
   ],
   "source": [
    "np.random.seed(333)\n",
    "θ, α, BIC, AIC = infer_par(danish)\n",
    "fit_pareto = pd.DataFrame({'shape': np.array([θ]), \"scale\": np.array([α]), \"AIC\":np.array([AIC]), \"BIC\":np.array([BIC]) })\n",
    "print(fit_pareto)\n",
    "X0 = θ * np.exp(np.random.exponential(size=100000 )/ α)\n",
    "qq_plot_en(danish, X0, \"magenta\")\n",
    "sns.despine()\n",
    "plt.savefig(\"../Figures/QQplot_pareto_en.pdf\")"
   ]
  },
  {
   "cell_type": "markdown",
   "metadata": {},
   "source": [
    "# Maximum likelihood estimation of composite models\n",
    "\n",
    "## Fitting the gamma-Pareto model"
   ]
  },
  {
   "cell_type": "code",
   "execution_count": 19,
   "metadata": {},
   "outputs": [
    {
     "name": "stdout",
     "output_type": "stream",
     "text": [
      "       shape      tail     thres          AIC          BIC\n",
      "0  35.680061  1.313014  1.155857  7723.681775  7741.144298\n"
     ]
    },
    {
     "data": {
      "image/png": "[encoded data removed]",
      "text/plain": [
       "<Figure size 180x180 with 1 Axes>"
      ]
     },
     "metadata": {},
     "output_type": "display_data"
    }
   ],
   "source": [
    "np.random.seed(333)\n",
    "K = 100000\n",
    "parms, BIC, AIC = mle_composite(danish, (1,1,1), \"gam-par\")\n",
    "fit_gam_par = pd.DataFrame(np.append(parms, [AIC, BIC])).T\n",
    "fit_gam_par.columns = [\"shape\", \"tail\", \"thres\", \"AIC\",\"BIC\"]\n",
    "print(fit_gam_par)\n",
    "X0 = sim_gam_par(K, parms[0], parms[1], parms[2])\n",
    "qq_plot_en(danish, X0, \"blue\")\n",
    "sns.despine()\n",
    "plt.savefig(\"../Figures/QQplot_gam_par_en.pdf\")"
   ]
  },
  {
   "cell_type": "markdown",
   "metadata": {},
   "source": [
    "## Fitting the Weibull-Pareto model"
   ]
  },
  {
   "cell_type": "code",
   "execution_count": 20,
   "metadata": {},
   "outputs": [
    {
     "name": "stdout",
     "output_type": "stream",
     "text": [
      "       shape      tail    thres         AIC          BIC\n",
      "0  14.033839  1.261477  1.00299  7686.75154  7704.214063\n"
     ]
    },
    {
     "data": {
      "image/png": "[encoded data removed]",
      "text/plain": [
       "<Figure size 180x180 with 1 Axes>"
      ]
     },
     "metadata": {},
     "output_type": "display_data"
    }
   ],
   "source": [
    "np.random.seed(333)\n",
    "parms, BIC, AIC = mle_composite(danish, (1,1,1), \"wei-par\")\n",
    "fit_wei_par = pd.DataFrame(np.append(parms, [AIC, BIC])).T\n",
    "fit_wei_par.columns = [\"shape\", \"tail\", \"thres\", \"AIC\",\"BIC\"]\n",
    "print(fit_wei_par)\n",
    "X0 = sim_wei_par(K, parms[0], parms[1], parms[2])\n",
    "qq_plot_en(danish, X0, \"green\")\n",
    "sns.despine()\n",
    "plt.savefig(\"../Figures/QQplot_wei_par_en.pdf\")"
   ]
  },
  {
   "cell_type": "markdown",
   "metadata": {},
   "source": [
    "## Fitting the lognormal-Pareto"
   ]
  },
  {
   "cell_type": "code",
   "execution_count": 21,
   "metadata": {},
   "outputs": [
    {
     "name": "stdout",
     "output_type": "stream",
     "text": [
      "      shape      tail    thres          AIC          BIC\n",
      "0  0.196517  1.328223  1.20743  7737.728264  7755.190787\n"
     ]
    },
    {
     "data": {
      "image/png": "[encoded data removed]",
      "text/plain": [
       "<Figure size 180x180 with 1 Axes>"
      ]
     },
     "metadata": {},
     "output_type": "display_data"
    }
   ],
   "source": [
    "np.random.seed(333)\n",
    "parms, BIC, AIC = mle_composite(danish, (0.5,1,1), \"lnorm-par\")\n",
    "fit_lnorm_par = pd.DataFrame(np.append(parms, [AIC, BIC])).T\n",
    "fit_lnorm_par.columns = [\"shape\", \"tail\", \"thres\", \"AIC\",\"BIC\"]\n",
    "print(fit_lnorm_par)\n",
    "X0 = sim_lnorm_par(K, parms[0], parms[1], parms[2])\n",
    "qq_plot_en(danish, X0, \"red\")\n",
    "sns.despine()\n",
    "plt.savefig(\"../Figures/QQplot_lnorm_par_en.pdf\")"
   ]
  },
  {
   "cell_type": "code",
   "execution_count": null,
   "metadata": {},
   "outputs": [],
   "source": []
  }
 ],
 "metadata": {
  "kernelspec": {
   "display_name": "Python 3",
   "language": "python",
   "name": "python3"
  },
  "language_info": {
   "codemirror_mode": {
    "name": "ipython",
    "version": 3
   },
   "file_extension": ".py",
   "mimetype": "text/x-python",
   "name": "python",
   "nbconvert_exporter": "python",
   "pygments_lexer": "ipython3",
   "version": "3.8.5"
  }
 },
 "nbformat": 4,
 "nbformat_minor": 4
}
