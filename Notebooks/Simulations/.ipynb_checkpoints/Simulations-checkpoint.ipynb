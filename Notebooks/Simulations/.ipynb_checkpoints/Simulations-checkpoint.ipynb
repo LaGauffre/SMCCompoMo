{
 "cells": [
  {
   "cell_type": "code",
   "execution_count": 20,
   "id": "39567eae-36c5-4e0d-8cb4-d4740a487bb8",
   "metadata": {},
   "outputs": [],
   "source": [
    "%run preamble_notebooks.py"
   ]
  },
  {
   "cell_type": "code",
   "execution_count": 21,
   "id": "1dd200f6-4b8c-4591-966c-72fba682c50a",
   "metadata": {},
   "outputs": [],
   "source": [
    "expo = 100\n",
    "# Setting the true model\n",
    "f1, f2 = bs.loss_model(\"Gamma\", [\"r1\", \"m1\"]), bs.loss_model(\"Lomax\", [\"α2\", \"σ2\"])\n",
    "f_true = bs.spliced_loss_model(f1, f2, \"continuous\")\n",
    "parms_true = np.array([1/2, 1, 2.5, 3, 1.5])\n",
    "f_true.set_ppf(), f_true.set_pdf(),f_true.set_cdf()\n",
    "\n",
    "# We set the priority to the 90% quantile and the limit to the 0.99% quantile\n",
    "P, L = f_true.ppf(parms_true, 0.9), f_true.ppf(parms_true, 0.99)\n",
    "premiums = f_true.PP(parms_true), f_true.XOLP(parms_true, P, L)\n",
    "\n",
    "PnLs = np.array(f_true.PnL(parms_true, P, L, expo, premiums, safety_loadings = [0.05, 0.05], n_sim = 1e5))"
   ]
  },
  {
   "cell_type": "code",
   "execution_count": 22,
   "id": "124196a6-f8c5-462d-affd-c830e834f74b",
   "metadata": {},
   "outputs": [
    {
     "data": {
      "text/plain": [
       "array([-101.52452526,  -73.7944115 ,  -28.85287996])"
      ]
     },
     "execution_count": 22,
     "metadata": {},
     "output_type": "execute_result"
    }
   ],
   "source": [
    "true_VaRs = [f_true.ppf(parms_true, prob) for prob in [0.95, 0.99, 0.995]]\n",
    "true_cap = np.quantile(PnLs, [0.005, 0.01, 0.05])\n",
    "true_cap"
   ]
  },
  {
   "cell_type": "code",
   "execution_count": 174,
   "id": "ee979e1f-88a6-43b2-8e5d-9646a0178c56",
   "metadata": {},
   "outputs": [
    {
     "name": "stdout",
     "output_type": "stream",
     "text": [
      "Wall time: 2.88 s\n"
     ]
    }
   ],
   "source": [
    "k, nobs = 2, 2000 \n",
    "s = (well_spec_df[\"sim\"] == k).values & (well_spec_df[\"nobs\"] == nobs).values\n",
    "sorted_df = well_spec_df[s].sort_values(\"posterior_probability\", ascending = False) \n",
    "# selected_models = sorted_df.iloc[np.cumsum(sorted_df[\"posterior_probability\"].values) < 0.99]\n",
    "# selected_models = sorted_df[:1]\n",
    "selected_models = sorted_df[sorted_df.model_name == \"Gamma_Lomax_continuous\"]\n",
    "model_names_s = selected_models.model_name\n",
    "# print(model_names_s.values)\n",
    "model_weights_s = selected_models.posterior_probability\n",
    "# model_names_s.sample(int(1e5), weights = model_weights_s, replace = True)\n",
    "traces = []\n",
    "for model_name in model_names_s.values:\n",
    "    f, prior, X = f_spliced_dic[model_name], prior_dic[model_name], Xs_2000[k]\n",
    "    %time trace, log_marg, DIC, WAIC = bs.smc(X, f, 100, prior, verbose = False)\n",
    "    traces.append(trace)\n",
    "trace_dic = dict(zip(model_names_s.values, traces))\n"
   ]
  },
  {
   "cell_type": "code",
   "execution_count": 175,
   "id": "19305854-ef2a-4350-9df9-7729908a870f",
   "metadata": {},
   "outputs": [
    {
     "name": "stdout",
     "output_type": "stream",
     "text": [
      "Wall time: 2min 52s\n"
     ]
    }
   ],
   "source": [
    "def compute_cap(model_names_s, f_spliced_dic, trace_dic):\n",
    "    PNLS_post = []\n",
    "    for i in range(int(1e5)):\n",
    "        model_name = model_names_s.sample(1, weights = model_weights_s, replace = True).iloc[0]\n",
    "        f = f_spliced_dic[model_name]\n",
    "        # PNLS_post.append( f.PnL(trace_dic[model_name].sample().values[0], P, L, expo, premiums, n_sim = 1)[0])\n",
    "        PNLS_post.append( f.PnL(trace_dic[model_name].sample().values[0], P, L, expo, premiums, n_sim = 1)[0])\n",
    "    return(np.quantile(PNLS_post, [0.005, 0.01, 0.05]))\n",
    "# trace.sample(1).values\n",
    "# print(int(1e2))\n",
    "%time false_cap = compute_cap(model_names_s, f_spliced_dic, trace_dic)"
   ]
  },
  {
   "cell_type": "code",
   "execution_count": 176,
   "id": "ea893568-56ad-4810-9c8d-7931a6c7cecc",
   "metadata": {},
   "outputs": [
    {
     "data": {
      "text/plain": [
       "(array([-412.55238986, -266.3526931 ,  -86.02485927]),\n",
       " array([-101.52452526,  -73.7944115 ,  -28.85287996]))"
      ]
     },
     "execution_count": 176,
     "metadata": {},
     "output_type": "execute_result"
    }
   ],
   "source": [
    "false_cap, true_cap"
   ]
  },
  {
   "cell_type": "code",
   "execution_count": 5,
   "id": "a079b2d1-c01d-4c60-825d-d41382d35c14",
   "metadata": {},
   "outputs": [
    {
     "data": {
      "text/plain": [
       "<AxesSubplot:xlabel='nobs', ylabel='posterior_probability'>"
      ]
     },
     "execution_count": 5,
     "metadata": {},
     "output_type": "execute_result"
    },
    {
     "data": {
      "image/png": "[encoded data removed]",
      "text/plain": [
       "<Figure size 432x288 with 1 Axes>"
      ]
     },
     "metadata": {
      "needs_background": "light"
     },
     "output_type": "display_data"
    }
   ],
   "source": [
    "df = well_spec_df[well_spec_df.model_name == \"Gamma_Lomax_continuous\"]\n",
    "sns.boxplot(x = \"nobs\", y = \"posterior_probability\", data = df)"
   ]
  },
  {
   "cell_type": "code",
   "execution_count": 23,
   "id": "918feb5d-959b-4c90-b2ea-3150aa93d58e",
   "metadata": {},
   "outputs": [
    {
     "name": "stdout",
     "output_type": "stream",
     "text": [
      "     Unnamed: 0  sim                       model_name   nobs     γ_map  \\\n",
      "25           25    0         Weibull_Lomax_continuous  250.0  0.860306   \n",
      "14           14    0           Gamma_Lomax_continuous  250.0  1.034125   \n",
      "91           91    0    Log-Logistic_Lomax_continuous  250.0  0.592505   \n",
      "102         102    0            Burr_Lomax_continuous  250.0  0.591432   \n",
      "24           24    0  Weibull_Log-Logistic_continuous  250.0  1.115364   \n",
      "\n",
      "       log_marg   Wass_dist       q95        q99       q995  \\\n",
      "25  -126.909228  116.953093  4.485319  14.941451  24.448585   \n",
      "14  -127.014447  119.910645  4.728543  15.785808  25.800006   \n",
      "91  -127.268331  114.566108  3.992896  13.470922  22.104853   \n",
      "102 -127.453255  112.287368  4.063541  13.829835  22.809095   \n",
      "24  -127.504308  123.209934  4.745592  17.265049  29.759135   \n",
      "\n",
      "     posterior_probability  \n",
      "25                0.076956  \n",
      "14                0.069271  \n",
      "91                0.053739  \n",
      "102               0.044666  \n",
      "24                0.042443  \n"
     ]
    },
    {
     "data": {
      "text/plain": [
       "1"
      ]
     },
     "execution_count": 23,
     "metadata": {},
     "output_type": "execute_result"
    }
   ],
   "source": [
    "s = (well_spec_df[\"sim\"] == 0).values & (well_spec_df[\"nobs\"] == 250).values\n",
    "sorted_df = well_spec_df[s].sort_values(\"posterior_probability\", ascending = False) \n",
    "print(sorted_df[:5])\n",
    "len(sorted_df.iloc[np.cumsum(sorted_df[\"posterior_probability\"].values) < 0.08].model_name.values)\n",
    "# df = np.cumsum(\n",
    "#     well_spec_df[s].sort_values(\"posterior_probability\")\n",
    "#                .values)\n",
    "# df\n",
    "# list_model_names = df.groupby(by = [\"model_name\"]).count()\n"
   ]
  },
  {
   "cell_type": "code",
   "execution_count": null,
   "id": "d32db975-19e4-4391-9221-93a1e3740ee0",
   "metadata": {},
   "outputs": [],
   "source": [
    "df = well_spec_df[well_spec_df[\"posterior_probability\"] > 0.1]\n",
    "df.groupby(by = [\"model_name\", \"nobs\"]).count()"
   ]
  }
 ],
 "metadata": {
  "kernelspec": {
   "display_name": "Python 3 (ipykernel)",
   "language": "python",
   "name": "python3"
  },
  "language_info": {
   "codemirror_mode": {
    "name": "ipython",
    "version": 3
   },
   "file_extension": ".py",
   "mimetype": "text/x-python",
   "name": "python",
   "nbconvert_exporter": "python",
   "pygments_lexer": "ipython3",
   "version": "3.9.7"
  }
 },
 "nbformat": 4,
 "nbformat_minor": 5
}
