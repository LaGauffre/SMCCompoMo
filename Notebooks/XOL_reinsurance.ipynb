{
 "cells": [
  {
   "cell_type": "markdown",
   "id": "7170f994-a5f8-46fa-8e9e-254191623b01",
   "metadata": {},
   "source": [
    "# Excess of loss considerations\n",
    "\n",
    "We consider a one year time period for which the liability of the insurance company splits into \n",
    "$$\n",
    "S = D + R = \\sum_{i = 1}^N U_i = \\sum_{i = 1}^N \\min(U_i, \\gamma) + \\sum_{i = 1}^N \\max(U_i- \\gamma, 0)\n",
    "$$\n",
    "where $N$ is Poisson distributed with paramater $\\lambda$ hich corresponds to the expected number of claims over the period, $D$ is the loss retained by the insurance company and $R$ amount transfered to the reinsurer. $\\gamma$ is the priority of the XOL reinsurance treaty.\n",
    "\n",
    "We assume that $U\\sim\\text{composite}(f_1, f_2, \\gamma)$"
   ]
  },
  {
   "cell_type": "code",
   "execution_count": 1,
   "id": "32ba2f9a-e8bf-4655-b85b-42b5514a8206",
   "metadata": {},
   "outputs": [],
   "source": [
    "import sys\n",
    "sys.path.insert(0,'/home/pgoffard/BayesSplicedModels/')\n",
    "%run ../preamble.py\n",
    "danish = pd.read_csv(\"../Data/Danish/danish.csv\").x"
   ]
  },
  {
   "cell_type": "code",
   "execution_count": 2,
   "id": "6e57f3a9-b000-4dd1-a387-7f284c2fe9fa",
   "metadata": {},
   "outputs": [
    {
     "data": {
      "text/plain": [
       "(None, None, None, None, None, None)"
      ]
     },
     "execution_count": 2,
     "metadata": {},
     "output_type": "execute_result"
    }
   ],
   "source": [
    "f1, f2 = bsm.loss_model(\"Exp\", [\"λ1\"]), bsm.loss_model(\"Pareto-Tail\", [\"α2\"]) \n",
    "f = bsm.spliced_loss_model(f1, f2, \"disjoint\")\n",
    "parms_f1, parms_f2, γ, p = np.array([2]), np.array([2]), 1, 0.8\n",
    "parms = np.append(np.append(parms_f1, parms_f2), [γ, p])\n",
    "f1.set_pdf(), f2.set_pdf(), f1.set_cdf(), f2.set_cdf(), f.set_pdf(), f.set_cdf()"
   ]
  },
  {
   "cell_type": "code",
   "execution_count": 26,
   "id": "0d13c2f2-a2b5-4fda-a210-fae66b4c0856",
   "metadata": {},
   "outputs": [
    {
     "data": {
      "text/plain": [
       "(nan, 0.5747858858002676)"
      ]
     },
     "execution_count": 26,
     "metadata": {},
     "output_type": "execute_result"
    }
   ],
   "source": [
    "f.pdf(parms, 0.5)\n",
    "priority, limit = 2, np.inf\n",
    "π = sc.integrate.quad(lambda x: x*f.pdf(parms, x), 0, np.inf)[0]\n",
    "π2 = sc.integrate.quad(lambda x: min(x-priority, limit) * f.pdf(parms, x), priority, np.inf)[0]\n",
    "# π1 = sc.integrate.quad(lambda x: x * f.pdf(parms, x), 0, priority)[0] +\\\n",
    "# priority *(f.cdf(parms, priority + limit) - f.cdf(parms, priority)) +\\\n",
    "# sc.integrate.quad(lambda x: (x-limit) * f.pdf(parms, x), priority + limit , np.inf)[0]\n",
    "π1,  π - π2"
   ]
  },
  {
   "cell_type": "code",
   "execution_count": 28,
   "id": "c81f9c45-4d69-4a82-802c-8928a878cc1d",
   "metadata": {},
   "outputs": [
    {
     "name": "stderr",
     "output_type": "stream",
     "text": [
      "C:\\Users\\pierr\\AppData\\Local\\Temp/ipykernel_19368/3640427314.py:9: RuntimeWarning: invalid value encountered in multiply\n",
      "  S, R = np.sum(X), np.sum(X[np.logical_and(X > priority, X-priority < limit)]-priority) + np.sum(np.logical_and(X > priority, X-priority > limit)) * limit\n"
     ]
    },
    {
     "data": {
      "text/plain": [
       "nan"
      ]
     },
     "execution_count": 28,
     "metadata": {},
     "output_type": "execute_result"
    },
    {
     "data": {
      "image/png": "[encoded data removed]",
      "text/plain": [
       "<Figure size 432x288 with 1 Axes>"
      ]
     },
     "metadata": {
      "needs_background": "light"
     },
     "output_type": "display_data"
    }
   ],
   "source": [
    "λ = 1000\n",
    "PnL = []\n",
    "for k in range(10000):\n",
    "    N = np.random.poisson(λ, 1)\n",
    "    X = f.sample(parms, N)\n",
    "    π = sc.integrate.quad(lambda x: x*f.pdf(parms, x), 0, np.inf)[0]\n",
    "    π2 = sc.integrate.quad(lambda x: min(x-priority, limit) * f.pdf(parms, x), priority, np.inf)[0]\n",
    "    π1 = π - π2\n",
    "    S, R = np.sum(X), np.sum(X[np.logical_and(X > priority, X-priority < limit)]-priority) + np.sum(np.logical_and(X > priority, X-priority > limit)) * limit\n",
    "    # D = np.sum(X[X < priority]) + np.sum(X > priority)*priority  +np.sum(X[np.logical_and(X > priority, X-priority > limit)]-(priority+limit))\n",
    "    D = S - R\n",
    "    PnL.append(π1 * λ - D)\n",
    "\n",
    "plt.boxplot(PnL)\n",
    "np.quantile(np.array(PnL), 0.005)"
   ]
  },
  {
   "cell_type": "code",
   "execution_count": 7,
   "id": "3107de6e-8ea2-4b19-881d-7919601446b8",
   "metadata": {},
   "outputs": [
    {
     "data": {
      "text/plain": [
       "(674.7858858002675, 694.8913650781129)"
      ]
     },
     "execution_count": 7,
     "metadata": {},
     "output_type": "execute_result"
    }
   ],
   "source": [
    "λ*π, np.sum(X)"
   ]
  },
  {
   "cell_type": "code",
   "execution_count": null,
   "id": "5a885466-1a2c-44b6-aab7-459e1c991433",
   "metadata": {},
   "outputs": [],
   "source": []
  }
 ],
 "metadata": {
  "kernelspec": {
   "display_name": "Python 3 (ipykernel)",
   "language": "python",
   "name": "python3"
  },
  "language_info": {
   "codemirror_mode": {
    "name": "ipython",
    "version": 3
   },
   "file_extension": ".py",
   "mimetype": "text/x-python",
   "name": "python",
   "nbconvert_exporter": "python",
   "pygments_lexer": "ipython3",
   "version": "3.9.7"
  }
 },
 "nbformat": 4,
 "nbformat_minor": 5
}
