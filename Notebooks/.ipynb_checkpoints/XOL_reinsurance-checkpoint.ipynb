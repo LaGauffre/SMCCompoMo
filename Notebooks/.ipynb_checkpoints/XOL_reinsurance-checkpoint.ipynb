{
 "cells": [
  {
   "cell_type": "markdown",
   "id": "7170f994-a5f8-46fa-8e9e-254191623b01",
   "metadata": {},
   "source": [
    "# Excess of loss considerations\n",
    "\n",
    "We consider a one year time period for which the liability of the insurance company splits into \n",
    "$$\n",
    "S = D + R = \\sum_{i = 1}^N U_i = \\sum_{i = 1}^N \\min(U_i, \\gamma) + \\sum_{i = 1}^N \\max(U_i- \\gamma, 0)\n",
    "$$\n",
    "where $N$ is Poisson distributed with paramater $\\lambda$ hich corresponds to the expected number of claims over the period, $D$ is the loss retained by the insurance company and $R$ amount transfered to the reinsurer. $\\gamma$ is the priority of the XOL reinsurance treaty.\n",
    "\n",
    "We assume that $U\\sim\\text{composite}(f_1, f_2, \\gamma)$"
   ]
  },
  {
   "cell_type": "code",
   "execution_count": 3,
   "id": "32ba2f9a-e8bf-4655-b85b-42b5514a8206",
   "metadata": {},
   "outputs": [],
   "source": [
    "import sys\n",
    "sys.path.insert(0,'/home/pgoffard/BayesSplicedModels/')\n",
    "%run ../preamble.py\n",
    "danish = pd.read_csv(\"../Data/Danish/danish.csv\").x"
   ]
  },
  {
   "cell_type": "code",
   "execution_count": 33,
   "id": "6e57f3a9-b000-4dd1-a387-7f284c2fe9fa",
   "metadata": {},
   "outputs": [],
   "source": [
    "f1, f2 = bsm.loss_model(\"Exp\", [\"λ1\"]), bsm.loss_model(\"Pareto-Tail\", [\"α2\"]) \n",
    "f = bsm.spliced_loss_model(f1, f2, \"disjoint\")\n",
    "parms_f1, parms_f2, γ, p = np.array([2]), np.array([2]), 1, 0.8\n",
    "parms_f = np.append(np.append(parms_f1, parms_f2), [γ, p])"
   ]
  },
  {
   "cell_type": "code",
   "execution_count": 27,
   "id": "d07f5147-fbe1-43f8-99f3-00e2d9cadb7f",
   "metadata": {},
   "outputs": [
    {
     "data": {
      "text/plain": [
       "(0.6747858858002674, 0.2747858858002675, 0.3999999999999999)"
      ]
     },
     "execution_count": 27,
     "metadata": {},
     "output_type": "execute_result"
    }
   ],
   "source": [
    "f1.set_pdf(), f2.set_pdf(), f1.set_cdf(), f2.set_cdf()\n",
    "π1 = p * sc.integrate.quad(lambda x: x*f1.pdf(parms_f1, x), 0, γ)[0] / f1.cdf(parms_f1, γ)\n",
    "π2 = (1-p) * sc.integrate.quad(lambda x: x*f2.pdf(parms_f2, γ, x), γ, np.inf)[0] / (1 - f2.cdf(parms_f1, γ, γ))\n",
    "π = π1 + π2 \n",
    "π, π1, π2 "
   ]
  },
  {
   "cell_type": "code",
   "execution_count": 44,
   "id": "c81f9c45-4d69-4a82-802c-8928a878cc1d",
   "metadata": {},
   "outputs": [
    {
     "data": {
      "text/plain": [
       "-468.1383095100185"
      ]
     },
     "execution_count": 44,
     "metadata": {},
     "output_type": "execute_result"
    }
   ],
   "source": [
    "λ = 1000\n",
    "N = np.random.poisson(λ, 1)\n",
    "X = f.sample(parms_f, N)\n",
    "- np.sum(X) + np.sum(X[X > γ]- γ)  \n"
   ]
  },
  {
   "cell_type": "code",
   "execution_count": null,
   "id": "3107de6e-8ea2-4b19-881d-7919601446b8",
   "metadata": {},
   "outputs": [],
   "source": []
  }
 ],
 "metadata": {
  "kernelspec": {
   "display_name": "Python 3 (ipykernel)",
   "language": "python",
   "name": "python3"
  },
  "language_info": {
   "codemirror_mode": {
    "name": "ipython",
    "version": 3
   },
   "file_extension": ".py",
   "mimetype": "text/x-python",
   "name": "python",
   "nbconvert_exporter": "python",
   "pygments_lexer": "ipython3",
   "version": "3.9.7"
  }
 },
 "nbformat": 4,
 "nbformat_minor": 5
}
