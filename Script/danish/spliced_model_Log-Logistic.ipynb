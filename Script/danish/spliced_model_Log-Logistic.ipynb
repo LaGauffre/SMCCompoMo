{
 "cells": [
  {
   "cell_type": "markdown",
   "id": "30667778-2df4-4b7a-9f47-4a2ed05343d6",
   "metadata": {
    "tags": []
   },
   "source": [
    "# Danish fire insurance data"
   ]
  },
  {
   "cell_type": "code",
   "execution_count": 1,
   "id": "236790f7-bab7-45d4-b1c6-bd1ca1b9ee7a",
   "metadata": {},
   "outputs": [],
   "source": [
    "import sys\n",
    "sys.path.insert(0,'/home/pgoffard/BayesSplicedModels/')\n",
    "%run ../../preamble.py\n",
    "danish = pd.read_csv(\"../../Data/Danish/danish.csv\").x\n",
    "tea_thresholds = pd.read_csv(\"../../Data/Danish/tea_threshold.csv\")\n",
    "import random\n",
    "random.seed(123)"
   ]
  },
  {
   "cell_type": "code",
   "execution_count": 2,
   "id": "fundamental-kuwait",
   "metadata": {},
   "outputs": [],
   "source": [
    "# The data\n",
    "X = danish.values\n",
    "# Model for the bulk distribution\n",
    "body_model_names = [\"Log-Logistic\"]\n",
    "# body_model_names = [\"Exp\", \"Gamma\"]\n",
    "body_model_param_names = [[\"β1\", \"σ1\"]]\n",
    "# Prior distributions over the parameters of the bulk distribution\n",
    "body_model_priors= [\n",
    "    [bsm.prior_model('gamma',body_model_param_names[0][0], 1, 1),\n",
    "    bsm.prior_model('gamma',body_model_param_names[0][1], 1, 1)]\n",
    "]\n"
   ]
  },
  {
   "cell_type": "markdown",
   "id": "tender-procedure",
   "metadata": {},
   "source": [
    "# Spliced model with free threshold"
   ]
  },
  {
   "cell_type": "code",
   "execution_count": 6,
   "id": "general-pharmacy",
   "metadata": {},
   "outputs": [],
   "source": [
    "γ_prior = bsm.prior_model('uniform', \"γ\", min(X), max(X))"
   ]
  },
  {
   "cell_type": "code",
   "execution_count": 7,
   "id": "7ecfe15e-cd2c-46c2-86c8-d016581e2bd7",
   "metadata": {},
   "outputs": [
    {
     "data": {
      "text/plain": [
       "36.0"
      ]
     },
     "execution_count": 7,
     "metadata": {},
     "output_type": "execute_result"
    }
   ],
   "source": [
    "# Model for the tail of the distribution\n",
    "tail_model_names = [\"Exp\", \"Gamma\", \"Weibull\", \"Inverse-Gaussian\", \"Lognormal\", \"Log-Logistic\", \"Lomax\", \"Burr\", \"Pareto-Tail\", \"GPD-Tail\", \"Inverse-Gamma\", \"Inverse-Weibull\"]\n",
    "# tail_model_names = [\"Exp\", \"Gamma\", \"Weibull\"]\n",
    "\n",
    "tail_model_param_names = [['λ2'], [\"r2\", \"m2\"], [\"k2\", \"β2\"], [\"μ2\", \"λ2\"], [\"μ2\", \"σ2\"], [\"β2\", \"σ2\"], [\"α2\", \"σ2\"], [\"α2\", \"β2\", \"σ2\"], [\"α2\"], [\"ξ2\",\"σ2\"], [\"r2\", \"m2\"], [\"k2\", \"β2\"]]\n",
    "\n",
    "# Prior distributions over the parameters of the bulk distribution\n",
    "tail_model_priors= [[bsm.prior_model('gamma',tail_model_param_names[0][0], 1, 1)],\n",
    "                [bsm.prior_model('gamma',tail_model_param_names[1][0], 1, 1), bsm.prior_model('gamma',tail_model_param_names[1][1], 1, 1)], \n",
    "                [bsm.prior_model('gamma',tail_model_param_names[2][0], 1, 1), bsm.prior_model('gamma',tail_model_param_names[2][1], 1, 1)],\n",
    "                [bsm.prior_model('gamma',tail_model_param_names[3][0], 1, 1), bsm.prior_model('gamma',tail_model_param_names[3][1], 1, 1)],\n",
    "                [bsm.prior_model('normal',tail_model_param_names[4][0], 0, 0.5), bsm.prior_model('gamma',tail_model_param_names[4][1], 1, 1)],\n",
    "                [bsm.prior_model('gamma',tail_model_param_names[5][0], 1, 1), bsm.prior_model('gamma',tail_model_param_names[5][1], 1, 1)],\n",
    "                [bsm.prior_model('gamma',tail_model_param_names[6][0], 1, 1), bsm.prior_model('gamma',tail_model_param_names[6][1], 1, 1)],\n",
    "                [bsm.prior_model('gamma',tail_model_param_names[7][0], 1, 1), bsm.prior_model('gamma',tail_model_param_names[7][1], 1, 1), bsm.prior_model('gamma',tail_model_param_names[7][2], 1, 1)],\n",
    "                [bsm.prior_model('gamma',tail_model_param_names[8][0], 1, 1)],\n",
    "                [bsm.prior_model('gamma',tail_model_param_names[9][0], 1, 1), bsm.prior_model('gamma',tail_model_param_names[9][1], 1, 1)],\n",
    "                [bsm.prior_model('gamma',tail_model_param_names[10][0], 1, 1), bsm.prior_model('gamma',tail_model_param_names[10][1], 1, 1)],\n",
    "                [bsm.prior_model('gamma',tail_model_param_names[11][0], 1, 1), bsm.prior_model('gamma',tail_model_param_names[11][1], 1, 1)]\n",
    "]\n",
    "p_prior = bsm.prior_model('uniform',\"p\", 0, 1)\n",
    "\n",
    "#Splicing model type\n",
    "splicing_types = [\"continuous\", \"simple\", \"disjoint\"]\n",
    "\n",
    "# Setting the models\n",
    "fs, f_names, prior_spliced_model = [], [], []\n",
    "for i in range(len(body_model_names)):\n",
    "    for j in range(len(tail_model_names)):\n",
    "        for splicing_type in splicing_types:\n",
    "            f1, f2 =  bsm.loss_model(body_model_names[i], body_model_param_names[i]), bsm.loss_model(tail_model_names[j], tail_model_param_names[j])\n",
    "            fs.append(bsm.spliced_loss_model(f1 , f2, splicing_type))\n",
    "            f_names.append(body_model_names[i] +\"_\"+ tail_model_names[j]+\"_\"+splicing_type)\n",
    "            if splicing_type == \"disjoint\": \n",
    "                prior_spliced_model.append(bsm.independent_priors(body_model_priors[i] + tail_model_priors[j] + [γ_prior, p_prior]))\n",
    "            else:\n",
    "                prior_spliced_model.append(bsm.independent_priors(body_model_priors[i] + tail_model_priors[j] + [γ_prior]))  \n",
    "for f in fs:\n",
    "    f.set_ppf()\n",
    "f_spliced_dic = dict(zip(f_names, fs))\n",
    "splits = 1\n",
    "len(f_names)/splits"
   ]
  },
  {
   "cell_type": "code",
   "execution_count": null,
   "id": "846dbde8-0522-437e-87ae-c4f49ec632d6",
   "metadata": {},
   "outputs": [
    {
     "name": "stdout",
     "output_type": "stream",
     "text": [
      "Model batch #0\n"
     ]
    }
   ],
   "source": [
    "popSize, ρ, c, n_step_max, err, paralell, n_proc, verbose = 10000, 1/2, 0.99, 25, 1e-6, False, 4, False\n",
    "def fit_spliced_models(i):\n",
    "    print(f_names[i])\n",
    "    trace, log_marg, DIC, WAIC = bsm.smc_likelihood_annealing(X, fs[i], popSize, prior_spliced_model[i], ρ, c,n_step_max, err, paralell, 4, verbose)\n",
    "    return([trace, log_marg, DIC, WAIC])\n",
    "\n",
    "res = []\n",
    "for k in range(splits):\n",
    "    print(\"Model batch #\"+str(k))\n",
    "    %time res_sub = Parallel(n_jobs=int(len(fs)/splits))(delayed(fit_spliced_models)(i) for i in range(int(k * len(f_names) / splits), int((k+1) * len(f_names)/splits)))\n",
    "    res += res_sub\n"
   ]
  },
  {
   "cell_type": "code",
   "execution_count": null,
   "id": "9e53fb2e-7933-4a74-a831-335626a855a4",
   "metadata": {},
   "outputs": [],
   "source": [
    "fit_spliced_models_dic = dict(zip(f_names, res))\n",
    "γ_map = np.array([fit_spliced_models_dic[f_names[k]][0]['γ'].mean() for k in range(len(fit_spliced_models_dic))])\n",
    "spliced_model_df = pd.DataFrame({'model':f_names,\n",
    "                                 \"d\": np.array([f.d for f in fs]),\n",
    "                                 \"γ_map\": np.array([fit_spliced_models_dic[f_names[k]][0]['γ'].mean() for k in range(len(fit_spliced_models_dic))]),\n",
    "                                 'log_marg':  np.array([fit_spliced_models_dic[f_names[k]][1] for k in range(len(fit_spliced_models_dic))]), \n",
    "                                 \"DIC\": np.array([fit_spliced_models_dic[f_names[k]][2] for k in range(len(fit_spliced_models_dic))]), \n",
    "                                 \"WAIC\":np.array([fit_spliced_models_dic[f_names[k]][3] for k in range(len(fit_spliced_models_dic))])})\n",
    "spliced_model_df[\"posterior_probability\"] = np.exp(spliced_model_df[\"log_marg\"] - np.max(spliced_model_df[\"log_marg\"])) / np.sum(np.exp(spliced_model_df[\"log_marg\"] - np.max(spliced_model_df[\"log_marg\"]))) \n",
    "\n",
    "spliced_model_df[\"Wass_dist\"] = np.array([bsm.compute_Wasserstein(X, f_spliced_dic[model_name], fit_spliced_models_dic[model_name][0].mean().values, 1) for model_name in spliced_model_df[\"model\"].values])\n",
    "spliced_model_df.sort_values(by='log_marg', ascending=False)"
   ]
  },
  {
   "cell_type": "code",
   "execution_count": null,
   "id": "killing-permission",
   "metadata": {},
   "outputs": [],
   "source": [
    "model_names = spliced_model_df.sort_values(by='log_marg', ascending=False)[\"model\"][:3]\n",
    "for model_name in model_names:\n",
    "    f, trace = f_spliced_dic[model_name], fit_spliced_models_dic[model_name][0]\n",
    "    # print(trace.mean().values)\n",
    "    bsm.posterior_plots(f, trace)\n",
    "    # bsm.trace_plots(f, trace)\n",
    "#     bsm.qq_plot(X, f, trace.mean().values)\n"
   ]
  },
  {
   "cell_type": "code",
   "execution_count": null,
   "id": "continent-hebrew",
   "metadata": {},
   "outputs": [],
   "source": [
    "import pickle\n",
    "spliced_model_df.to_csv(\"../../Data/Danish/danish_splicing_model_fit_\"+body_model_names[0]+\".csv\", sep=',')\n",
    "with open('../../Data/Danish/trace_danish_'+body_model_names[0]+'.obj', 'wb') as fp:\n",
    "    pickle.dump(fit_spliced_models_dic, fp)"
   ]
  },
  {
   "cell_type": "code",
   "execution_count": null,
   "id": "cosmetic-picking",
   "metadata": {},
   "outputs": [],
   "source": []
  }
 ],
 "metadata": {
  "kernelspec": {
   "display_name": "Python 3 (ipykernel)",
   "language": "python",
   "name": "python3"
  },
  "language_info": {
   "codemirror_mode": {
    "name": "ipython",
    "version": 3
   },
   "file_extension": ".py",
   "mimetype": "text/x-python",
   "name": "python",
   "nbconvert_exporter": "python",
   "pygments_lexer": "ipython3",
   "version": "3.9.7"
  }
 },
 "nbformat": 4,
 "nbformat_minor": 5
}
