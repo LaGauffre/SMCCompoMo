{
 "cells": [
  {
   "cell_type": "markdown",
   "id": "30667778-2df4-4b7a-9f47-4a2ed05343d6",
   "metadata": {},
   "source": [
    "# Danish fire insurance data"
   ]
  },
  {
   "cell_type": "code",
   "execution_count": 9,
   "id": "236790f7-bab7-45d4-b1c6-bd1ca1b9ee7a",
   "metadata": {},
   "outputs": [],
   "source": [
    "import sys\n",
    "# sys.path.insert(0,'/home/pgoffard/BayesSplicedModels/')\n",
    "%run ../../preamble.py\n",
    "danish = pd.read_csv(\"../../Data/Danish/danish.csv\").x\n",
    "import random\n",
    "random.seed(123)"
   ]
  },
  {
   "cell_type": "markdown",
   "id": "excellent-treasurer",
   "metadata": {},
   "source": [
    "# Martin and Hansjoerg method"
   ]
  },
  {
   "cell_type": "code",
   "execution_count": 10,
   "id": "confident-pavilion",
   "metadata": {},
   "outputs": [
    {
     "data": {
      "text/plain": [
       "2.781844802"
      ]
     },
     "execution_count": 10,
     "metadata": {},
     "output_type": "execute_result"
    }
   ],
   "source": [
    "X = danish.values\n",
    "n, k = len(X), 30\n",
    "def compute_Tk(X, k):\n",
    "    n = len(X)\n",
    "    X_sorted = np.sort(X)\n",
    "    Y_k = np.flip(X_sorted[n-k:] / X_sorted[n-1-k])\n",
    "    num = np.cumsum(np.log(Y_k))/np.arange(1, k+1, 1)\n",
    "    denom = 1 + np.flip(np.cumsum(np.flip(np.append(1/np.arange(2, k+1, 1), 0))))\n",
    "    Tk = num / denom \n",
    "    return(Tk)\n",
    "\n",
    "def fp(p):\n",
    "    res = (1-np.exp(1-2*p)*(1-2*p)*sp.exp1(1-2*p)-np.exp(2-2*p)*sp.exp1(1-p)**2) / p**2/ (1-p)**2 + \\\n",
    "    2*(np.exp(2-p)*sp.exp1(1-p)*sp.exp1(1)-1+np.exp(1-p)*(1-p)*sp.exp1(1-p)) / p**2 / (1-p) + \\\n",
    "    (1-np.exp(1)*sp.exp1(1)-np.exp(2)*sp.exp1(1)**2) / p**2\n",
    "    return(res)\n",
    "\n",
    "\n",
    "def optimal_threshold(X, p = -1):\n",
    "    n = len(X)\n",
    "    X_sorted = np.sort(X)\n",
    "    C = 0.502727\n",
    "    emp_var = np.array([np.var(compute_Tk(X, k)) for k in np.arange(2, len(X) - int(len(X)/5), 1)])\n",
    "    k_ast = np.where(emp_var == np.min(emp_var))[0][0]\n",
    "    k0_ast = k_ast * (C / fp(p)/ (1-p)**2)**(-1/(1-2*p))\n",
    "    return(X_sorted[n-1-int(k0_ast)]) \n",
    "\n",
    "optimal_threshold(X, p = -1)"
   ]
  },
  {
   "cell_type": "markdown",
   "id": "07d5a3fa-2721-4443-90ae-c558afd7c9b5",
   "metadata": {},
   "source": [
    "# Fitting splicing models to the data with fixed threshold"
   ]
  },
  {
   "cell_type": "code",
   "execution_count": 13,
   "id": "7ecfe15e-cd2c-46c2-86c8-d016581e2bd7",
   "metadata": {},
   "outputs": [
    {
     "data": {
      "text/plain": [
       "18"
      ]
     },
     "execution_count": 13,
     "metadata": {},
     "output_type": "execute_result"
    }
   ],
   "source": [
    "# The data\n",
    "X = danish.values\n",
    "# Model for the bulk distribution\n",
    "body_model_names = [\"Burr\", \"Exp\", \"Weibull\"]\n",
    "body_model_param_names = [[\"α1\",\"β1\", \"σ1\"], [\"λ1\"], [\"k1\", \"β1\"]]\n",
    "\n",
    "# Prior distributions over the parameters of the bulk distribution\n",
    "body_model_priors= [\n",
    "    [bs.prior_model('gamma',body_model_param_names[0][0], 1, 1), \n",
    "     bs.prior_model('gamma',body_model_param_names[0][1], 1, 1),\n",
    "     bs.prior_model('gamma',body_model_param_names[0][2], 1, 1)], \n",
    "    [bs.prior_model('gamma',body_model_param_names[1][0], 1, 1)], \n",
    "     [bs.prior_model('gamma',body_model_param_names[2][0], 1, 1),\n",
    "     bs.prior_model('gamma',body_model_param_names[2][1], 1, 1)]\n",
    "]\n",
    "# Model for the tail of the distribution\n",
    "tail_model_names = [\"Pareto-Tail\", \"GPD-Tail\"]\n",
    "\n",
    "\n",
    "tail_model_param_names = [ [\"α2\"], [\"ξ2\",\"σ2\"]]\n",
    "\n",
    "# Prior distributions over the parameters of the bulk distribution\n",
    "tail_model_priors= [\n",
    "                [bs.prior_model('gamma',tail_model_param_names[0][0], 1, 1)],\n",
    "                [bs.prior_model('gamma',tail_model_param_names[1][0], 1, 1), bs.prior_model('gamma',tail_model_param_names[1][1], 1, 1)]\n",
    "]\n",
    "             \n",
    "γ_prior, p_prior = bs.prior_model('fixed', \"γ\", optimal_threshold(X, p = -1), max(X)), bs.prior_model('uniform',\"p\", 0, 1)\n",
    "\n",
    "#Splicing model type\n",
    "splicing_types = [\"disjoint\", \"simple\", \"continuous\"]\n",
    "\n",
    "# Setting the models\n",
    "fs, f_names, prior_spliced_model = [], [], []\n",
    "for i in range(len(body_model_names)):\n",
    "    for j in range(len(tail_model_names)):\n",
    "        for splicing_type in splicing_types:\n",
    "            f1, f2 =  bs.loss_model(body_model_names[i], body_model_param_names[i]), bs.loss_model(tail_model_names[j], tail_model_param_names[j])\n",
    "            fs.append(bs.spliced_loss_model(f1 , f2, splicing_type))\n",
    "            f_names.append(body_model_names[i] +\"_\"+ tail_model_names[j]+\"_\"+splicing_type)\n",
    "            if splicing_type == \"disjoint\": \n",
    "                prior_spliced_model.append(bs.independent_priors(body_model_priors[i] + tail_model_priors[j] + [γ_prior, p_prior]))\n",
    "            else:\n",
    "                prior_spliced_model.append(bs.independent_priors(body_model_priors[i] + tail_model_priors[j] + [γ_prior]))  \n",
    "for f in fs:\n",
    "    f.set_ppf()\n",
    "f_spliced_dic = dict(zip(f_names, fs))\n",
    "len(fs)"
   ]
  },
  {
   "cell_type": "code",
   "execution_count": 15,
   "id": "846dbde8-0522-437e-87ae-c4f49ec632d6",
   "metadata": {},
   "outputs": [
    {
     "name": "stdout",
     "output_type": "stream",
     "text": [
      "True\n",
      "5000\n",
      "Burr_Pareto-Tail_disjoint\n",
      "Weibull_Pareto-Tail_continuous\n",
      "Weibull_GPD-Tail_disjoint\n",
      "20000\n",
      "Burr_Pareto-Tail_disjoint\n",
      "Weibull_Pareto-Tail_continuous\n",
      "Weibull_GPD-Tail_disjoint\n"
     ]
    }
   ],
   "source": [
    "import time\n",
    "computing_times = []\n",
    "for paralell in [False, True]:\n",
    "    print(paralell)\n",
    "    for popSize in [5000, 10000, 20000] :\n",
    "        print(popSize)\n",
    "        ρ, c, n_step_max, err, n_proc, verbose =  1/2, 0.99, 25, 1e-6, 4, False\n",
    "        def fit_spliced_models(i):\n",
    "            print(f_names[i])\n",
    "            trace, log_marg, DIC, WAIC = bs.smc(X, fs[i], popSize, prior_spliced_model[i], ρ, c,n_step_max, err, paralell, 4, verbose)\n",
    "            return([trace, log_marg, DIC, WAIC])\n",
    "\n",
    "\n",
    "        for k in range(len(fs)):\n",
    "            start = time.time()\n",
    "            fit_spliced_models(k)\n",
    "            end = time.time()\n",
    "            computing_times.append(\n",
    "            pd.DataFrame({'body' : fs[k].body.name, 'tail' : fs[k].tail.name, 'model_type' : fs[k].model_type, 'popSize': popSize, 'paralell':paralell ,  'computing_time': [end - start]  \n",
    "            })\n",
    "            )\n",
    "    \n",
    "res = pd.concat(computing_times)\n",
    "res.to_csv(\"../../Data/danish/computing_time_fixed.csv\", index = False)\n",
    "\n"
   ]
  },
  {
   "cell_type": "code",
   "execution_count": 16,
   "id": "original-commercial",
   "metadata": {},
   "outputs": [
    {
     "data": {
      "text/html": [
       "<div>\n",
       "<style scoped>\n",
       "    .dataframe tbody tr th:only-of-type {\n",
       "        vertical-align: middle;\n",
       "    }\n",
       "\n",
       "    .dataframe tbody tr th {\n",
       "        vertical-align: top;\n",
       "    }\n",
       "\n",
       "    .dataframe thead th {\n",
       "        text-align: right;\n",
       "    }\n",
       "</style>\n",
       "<table border=\"1\" class=\"dataframe\">\n",
       "  <thead>\n",
       "    <tr style=\"text-align: right;\">\n",
       "      <th></th>\n",
       "      <th>body</th>\n",
       "      <th>tail</th>\n",
       "      <th>model_type</th>\n",
       "      <th>popSize</th>\n",
       "      <th>paralell</th>\n",
       "      <th>computing_time</th>\n",
       "    </tr>\n",
       "  </thead>\n",
       "  <tbody>\n",
       "    <tr>\n",
       "      <th>0</th>\n",
       "      <td>Burr</td>\n",
       "      <td>Pareto-Tail</td>\n",
       "      <td>disjoint</td>\n",
       "      <td>5000</td>\n",
       "      <td>True</td>\n",
       "      <td>82.048763</td>\n",
       "    </tr>\n",
       "    <tr>\n",
       "      <th>0</th>\n",
       "      <td>Weibull</td>\n",
       "      <td>Pareto-Tail</td>\n",
       "      <td>continuous</td>\n",
       "      <td>5000</td>\n",
       "      <td>True</td>\n",
       "      <td>42.153293</td>\n",
       "    </tr>\n",
       "    <tr>\n",
       "      <th>0</th>\n",
       "      <td>Weibull</td>\n",
       "      <td>GPD-Tail</td>\n",
       "      <td>disjoint</td>\n",
       "      <td>5000</td>\n",
       "      <td>True</td>\n",
       "      <td>54.191193</td>\n",
       "    </tr>\n",
       "    <tr>\n",
       "      <th>0</th>\n",
       "      <td>Burr</td>\n",
       "      <td>Pareto-Tail</td>\n",
       "      <td>disjoint</td>\n",
       "      <td>20000</td>\n",
       "      <td>True</td>\n",
       "      <td>259.880702</td>\n",
       "    </tr>\n",
       "    <tr>\n",
       "      <th>0</th>\n",
       "      <td>Weibull</td>\n",
       "      <td>Pareto-Tail</td>\n",
       "      <td>continuous</td>\n",
       "      <td>20000</td>\n",
       "      <td>True</td>\n",
       "      <td>117.020868</td>\n",
       "    </tr>\n",
       "    <tr>\n",
       "      <th>0</th>\n",
       "      <td>Weibull</td>\n",
       "      <td>GPD-Tail</td>\n",
       "      <td>disjoint</td>\n",
       "      <td>20000</td>\n",
       "      <td>True</td>\n",
       "      <td>186.655932</td>\n",
       "    </tr>\n",
       "  </tbody>\n",
       "</table>\n",
       "</div>"
      ],
      "text/plain": [
       "      body         tail  model_type  popSize  paralell  computing_time\n",
       "0     Burr  Pareto-Tail    disjoint     5000      True       82.048763\n",
       "0  Weibull  Pareto-Tail  continuous     5000      True       42.153293\n",
       "0  Weibull     GPD-Tail    disjoint     5000      True       54.191193\n",
       "0     Burr  Pareto-Tail    disjoint    20000      True      259.880702\n",
       "0  Weibull  Pareto-Tail  continuous    20000      True      117.020868\n",
       "0  Weibull     GPD-Tail    disjoint    20000      True      186.655932"
      ]
     },
     "execution_count": 16,
     "metadata": {},
     "output_type": "execute_result"
    }
   ],
   "source": [
    "res"
   ]
  },
  {
   "cell_type": "code",
   "execution_count": null,
   "id": "9589249e-ed5c-4ba1-b42e-769ed7c1ad6b",
   "metadata": {},
   "outputs": [],
   "source": []
  }
 ],
 "metadata": {
  "kernelspec": {
   "display_name": "Python 3 (ipykernel)",
   "language": "python",
   "name": "python3"
  },
  "language_info": {
   "codemirror_mode": {
    "name": "ipython",
    "version": 3
   },
   "file_extension": ".py",
   "mimetype": "text/x-python",
   "name": "python",
   "nbconvert_exporter": "python",
   "pygments_lexer": "ipython3",
   "version": "3.9.7"
  }
 },
 "nbformat": 4,
 "nbformat_minor": 5
}
