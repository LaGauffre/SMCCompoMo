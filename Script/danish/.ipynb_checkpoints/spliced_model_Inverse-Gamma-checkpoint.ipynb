{
 "cells": [
  {
   "cell_type": "markdown",
   "id": "30667778-2df4-4b7a-9f47-4a2ed05343d6",
   "metadata": {
    "tags": []
   },
   "source": [
    "# Danish fire insurance data"
   ]
  },
  {
   "cell_type": "code",
   "execution_count": 4,
   "id": "236790f7-bab7-45d4-b1c6-bd1ca1b9ee7a",
   "metadata": {},
   "outputs": [],
   "source": [
    "import sys\n",
    "sys.path.insert(0,'/home/pgoffard/BayesSplicedModels/')\n",
    "%run ../../preamble.py\n",
    "danish = pd.read_csv(\"../../Data/Danish/danish.csv\").x\n",
    "tea_thresholds = pd.read_csv(\"../../Data/Danish/tea_threshold.csv\")\n",
    "import random\n",
    "random.seed(123)"
   ]
  },
  {
   "cell_type": "code",
   "execution_count": 5,
   "id": "fundamental-kuwait",
   "metadata": {},
   "outputs": [],
   "source": [
    "# The data\n",
    "X = danish.values\n",
    "# Model for the bulk distribution\n",
    "body_model_names = [\"Inverse-Gamma\"]\n",
    "# body_model_names = [\"Exp\", \"Gamma\"]\n",
    "body_model_param_names = [[\"r1\", \"m1\"]]\n",
    "# Prior distributions over the parameters of the bulk distribution\n",
    "body_model_priors= [\n",
    "    [bsm.prior_model('gamma',body_model_param_names[0][0], 1, 1),\n",
    "    bsm.prior_model('gamma',body_model_param_names[0][1], 1, 1)]\n",
    "]\n"
   ]
  },
  {
   "cell_type": "markdown",
   "id": "tender-procedure",
   "metadata": {},
   "source": [
    "# Spliced model with free threshold"
   ]
  },
  {
   "cell_type": "code",
   "execution_count": 6,
   "id": "general-pharmacy",
   "metadata": {},
   "outputs": [],
   "source": [
    "γ_prior = bsm.prior_model('uniform', \"γ\", min(X), max(X))"
   ]
  },
  {
   "cell_type": "code",
   "execution_count": 7,
   "id": "7ecfe15e-cd2c-46c2-86c8-d016581e2bd7",
   "metadata": {},
   "outputs": [
    {
     "data": {
      "text/plain": [
       "36.0"
      ]
     },
     "execution_count": 7,
     "metadata": {},
     "output_type": "execute_result"
    }
   ],
   "source": [
    "# Model for the tail of the distribution\n",
    "tail_model_names = [\"Exp\", \"Gamma\", \"Weibull\", \"Inverse-Gaussian\", \"Lognormal\", \"Log-Logistic\", \"Lomax\", \"Burr\", \"Pareto-Tail\", \"GPD-Tail\", \"Inverse-Gamma\", \"Inverse-Weibull\"]\n",
    "# tail_model_names = [\"Exp\", \"Gamma\", \"Weibull\"]\n",
    "\n",
    "tail_model_param_names = [['λ2'], [\"r2\", \"m2\"], [\"k2\", \"β2\"], [\"μ2\", \"λ2\"], [\"μ2\", \"σ2\"], [\"β2\", \"σ2\"], [\"α2\", \"σ2\"], [\"α2\", \"β2\", \"σ2\"], [\"α2\"], [\"ξ2\",\"σ2\"], [\"r2\", \"m2\"], [\"k2\", \"β2\"]]\n",
    "\n",
    "# Prior distributions over the parameters of the bulk distribution\n",
    "tail_model_priors= [[bsm.prior_model('gamma',tail_model_param_names[0][0], 1, 1)],\n",
    "                [bsm.prior_model('gamma',tail_model_param_names[1][0], 1, 1), bsm.prior_model('gamma',tail_model_param_names[1][1], 1, 1)], \n",
    "                [bsm.prior_model('gamma',tail_model_param_names[2][0], 1, 1), bsm.prior_model('gamma',tail_model_param_names[2][1], 1, 1)],\n",
    "                [bsm.prior_model('gamma',tail_model_param_names[3][0], 1, 1), bsm.prior_model('gamma',tail_model_param_names[3][1], 1, 1)],\n",
    "                [bsm.prior_model('normal',tail_model_param_names[4][0], 0, 0.5), bsm.prior_model('gamma',tail_model_param_names[4][1], 1, 1)],\n",
    "                [bsm.prior_model('gamma',tail_model_param_names[5][0], 1, 1), bsm.prior_model('gamma',tail_model_param_names[5][1], 1, 1)],\n",
    "                [bsm.prior_model('gamma',tail_model_param_names[6][0], 1, 1), bsm.prior_model('gamma',tail_model_param_names[6][1], 1, 1)],\n",
    "                [bsm.prior_model('gamma',tail_model_param_names[7][0], 1, 1), bsm.prior_model('gamma',tail_model_param_names[7][1], 1, 1), bsm.prior_model('gamma',tail_model_param_names[7][2], 1, 1)],\n",
    "                [bsm.prior_model('gamma',tail_model_param_names[8][0], 1, 1)],\n",
    "                [bsm.prior_model('gamma',tail_model_param_names[9][0], 1, 1), bsm.prior_model('gamma',tail_model_param_names[9][1], 1, 1)],\n",
    "                [bsm.prior_model('gamma',tail_model_param_names[10][0], 1, 1), bsm.prior_model('gamma',tail_model_param_names[10][1], 1, 1)],\n",
    "                [bsm.prior_model('gamma',tail_model_param_names[11][0], 1, 1), bsm.prior_model('gamma',tail_model_param_names[11][1], 1, 1)]\n",
    "]\n",
    "p_prior = bsm.prior_model('uniform',\"p\", 0, 1)\n",
    "\n",
    "#Splicing model type\n",
    "splicing_types = [\"continuous\", \"simple\", \"disjoint\"]\n",
    "\n",
    "# Setting the models\n",
    "fs, f_names, prior_spliced_model = [], [], []\n",
    "for i in range(len(body_model_names)):\n",
    "    for j in range(len(tail_model_names)):\n",
    "        for splicing_type in splicing_types:\n",
    "            f1, f2 =  bsm.loss_model(body_model_names[i], body_model_param_names[i]), bsm.loss_model(tail_model_names[j], tail_model_param_names[j])\n",
    "            fs.append(bsm.spliced_loss_model(f1 , f2, splicing_type))\n",
    "            f_names.append(body_model_names[i] +\"-\"+ tail_model_names[j]+\"-\"+splicing_type)\n",
    "            if splicing_type == \"disjoint\": \n",
    "                prior_spliced_model.append(bsm.independent_priors(body_model_priors[i] + tail_model_priors[j] + [γ_prior, p_prior]))\n",
    "            else:\n",
    "                prior_spliced_model.append(bsm.independent_priors(body_model_priors[i] + tail_model_priors[j] + [γ_prior]))  \n",
    "for f in fs:\n",
    "    f.set_ppf()\n",
    "f_spliced_dic = dict(zip(f_names, fs))\n",
    "splits = 1\n",
    "len(f_names)/splits"
   ]
  },
  {
   "cell_type": "code",
   "execution_count": null,
   "id": "846dbde8-0522-437e-87ae-c4f49ec632d6",
   "metadata": {},
   "outputs": [
    {
     "name": "stdout",
     "output_type": "stream",
     "text": [
      "Model batch #0\n"
     ]
    }
   ],
   "source": [
    "popSize, ρ, c, n_step_max, err, paralell, n_proc, verbose = 10000, 1/2, 0.99, 25, 1e-6, False, 4, False\n",
    "def fit_spliced_models(i):\n",
    "    print(f_names[i])\n",
    "    trace, log_marg, DIC, WAIC = bsm.smc_likelihood_annealing(X, fs[i], popSize, prior_spliced_model[i], ρ, c,n_step_max, err, paralell, 4, verbose)\n",
    "    return([trace, log_marg, DIC, WAIC])\n",
    "\n",
    "res = []\n",
    "for k in range(splits):\n",
    "    print(\"Model batch #\"+str(k))\n",
    "    %time res_sub = Parallel(n_jobs=int(len(fs)/splits))(delayed(fit_spliced_models)(i) for i in range(int(k * len(f_names) / splits), int((k+1) * len(f_names)/splits)))\n",
    "    res += res_sub\n"
   ]
  },
  {
   "cell_type": "code",
   "execution_count": null,
   "id": "9e53fb2e-7933-4a74-a831-335626a855a4",
   "metadata": {},
   "outputs": [],
   "source": [
    "fit_spliced_models_dic = dict(zip(f_names, res))\n",
    "γ_map = np.array([fit_spliced_models_dic[f_names[k]][0]['γ'].mean() for k in range(len(fit_spliced_models_dic))])\n",
    "spliced_model_df = pd.DataFrame({'model':f_names,\n",
    "                                 \"d\": np.array([f.d for f in fs]),\n",
    "                                 \"γ_map\": np.array([fit_spliced_models_dic[f_names[k]][0]['γ'].mean() for k in range(len(fit_spliced_models_dic))]),\n",
    "                                 'log_marg':  np.array([fit_spliced_models_dic[f_names[k]][1] for k in range(len(fit_spliced_models_dic))]), \n",
    "                                 \"DIC\": np.array([fit_spliced_models_dic[f_names[k]][2] for k in range(len(fit_spliced_models_dic))]), \n",
    "                                 \"WAIC\":np.array([fit_spliced_models_dic[f_names[k]][3] for k in range(len(fit_spliced_models_dic))])})\n",
    "spliced_model_df[\"posterior_probability\"] = np.exp(spliced_model_df[\"log_marg\"] - np.max(spliced_model_df[\"log_marg\"])) / np.sum(np.exp(spliced_model_df[\"log_marg\"] - np.max(spliced_model_df[\"log_marg\"]))) \n",
    "\n",
    "spliced_model_df[\"Wass_dist\"] = np.array([bsm.compute_Wasserstein(X, f_spliced_dic[model_name], fit_spliced_models_dic[model_name][0].mean().values, 1) for model_name in spliced_model_df[\"model\"].values])\n",
    "spliced_model_df.sort_values(by='log_marg', ascending=False)"
   ]
  },
  {
   "cell_type": "code",
   "execution_count": null,
   "id": "killing-permission",
   "metadata": {},
   "outputs": [],
   "source": [
    "model_names = spliced_model_df.sort_values(by='log_marg', ascending=False)[\"model\"][:3]\n",
    "for model_name in model_names:\n",
    "    f, trace = f_spliced_dic[model_name], fit_spliced_models_dic[model_name][0]\n",
    "    # print(trace.mean().values)\n",
    "    bsm.posterior_plots(f, trace)\n",
    "    # bsm.trace_plots(f, trace)\n",
    "#     bsm.qq_plot(X, f, trace.mean().values)\n"
   ]
  },
  {
   "cell_type": "markdown",
   "id": "former-drill",
   "metadata": {},
   "source": [
    "# Spliced models with amse threshold"
   ]
  },
  {
   "cell_type": "code",
   "execution_count": null,
   "id": "level-electron",
   "metadata": {},
   "outputs": [],
   "source": [
    "method = \"AMSE Caeiro and Gomes\"\n",
    "γ_AMSE = tea_thresholds.iloc[(tea_thresholds[\"method\"] == method).values][\"threshold\"].values[0]\n",
    "γ_prior = bsm.prior_model('fixed', \"γ\", γ_AMSE, max(X))"
   ]
  },
  {
   "cell_type": "code",
   "execution_count": null,
   "id": "drawn-consultation",
   "metadata": {},
   "outputs": [],
   "source": [
    "# Model for the tail of the distribution\n",
    "tail_model_names = [\"Exp\", \"Gamma\", \"Weibull\", \"Inverse-Gaussian\", \"Lognormal\", \"Log-Logistic\", \"Lomax\", \"Burr\", \"Pareto-Tail\", \"GPD-Tail\", \"Inverse-Gamma\", \"Inverse-Weibull\"]\n",
    "# tail_model_names = [\"Exp\", \"Gamma\"]\n",
    "\n",
    "tail_model_param_names = [['λ2'], [\"r2\", \"m2\"], [\"k2\", \"β2\"], [\"μ2\", \"λ2\"], [\"μ2\", \"σ2\"], [\"β2\", \"σ2\"], [\"α2\", \"σ2\"], [\"α2\", \"β2\", \"σ2\"], [\"α2\"], [\"ξ2\",\"σ2\"], [\"r2\", \"m2\"], [\"k2\", \"β2\"]]\n",
    "\n",
    "# Prior distributions over the parameters of the bulk distribution\n",
    "tail_model_priors= [[bsm.prior_model('gamma',tail_model_param_names[0][0], 1, 1)],\n",
    "                [bsm.prior_model('gamma',tail_model_param_names[1][0], 1, 1), bsm.prior_model('gamma',tail_model_param_names[1][1], 1, 1)], \n",
    "                [bsm.prior_model('gamma',tail_model_param_names[2][0], 1, 1), bsm.prior_model('gamma',tail_model_param_names[2][1], 1, 1)],\n",
    "                [bsm.prior_model('gamma',tail_model_param_names[3][0], 1, 1), bsm.prior_model('gamma',tail_model_param_names[3][1], 1, 1)],\n",
    "                [bsm.prior_model('normal',tail_model_param_names[4][0], 0, 0.5), bsm.prior_model('gamma',tail_model_param_names[4][1], 1, 1)],\n",
    "                [bsm.prior_model('gamma',tail_model_param_names[5][0], 1, 1), bsm.prior_model('gamma',tail_model_param_names[5][1], 1, 1)],\n",
    "                [bsm.prior_model('gamma',tail_model_param_names[6][0], 1, 1), bsm.prior_model('gamma',tail_model_param_names[6][1], 1, 1)],\n",
    "                [bsm.prior_model('gamma',tail_model_param_names[7][0], 1, 1), bsm.prior_model('gamma',tail_model_param_names[7][1], 1, 1), bsm.prior_model('gamma',tail_model_param_names[7][2], 1, 1)],\n",
    "                [bsm.prior_model('gamma',tail_model_param_names[8][0], 1, 1)],\n",
    "                [bsm.prior_model('gamma',tail_model_param_names[9][0], 1, 1), bsm.prior_model('gamma',tail_model_param_names[9][1], 1, 1)],\n",
    "                [bsm.prior_model('gamma',tail_model_param_names[10][0], 1, 1), bsm.prior_model('gamma',tail_model_param_names[10][1], 1, 1)],\n",
    "                [bsm.prior_model('gamma',tail_model_param_names[11][0], 1, 1), bsm.prior_model('gamma',tail_model_param_names[11][1], 1, 1)]\n",
    "]\n",
    "p_prior = bsm.prior_model('uniform',\"p\", 0, 1)\n",
    "\n",
    "#Splicing model type\n",
    "splicing_types = [\"continuous\", \"simple\", \"disjoint\"]\n",
    "\n",
    "# Setting the models\n",
    "fs, f_names, prior_spliced_model = [], [], []\n",
    "for i in range(len(body_model_names)):\n",
    "    for j in range(len(tail_model_names)):\n",
    "        for splicing_type in splicing_types:\n",
    "            f1, f2 =  bsm.loss_model(body_model_names[i], body_model_param_names[i]), bsm.loss_model(tail_model_names[j], tail_model_param_names[j])\n",
    "            fs.append(bsm.spliced_loss_model(f1 , f2, splicing_type))\n",
    "            f_names.append(body_model_names[i] +\"-\"+ tail_model_names[j]+\"-\"+splicing_type+\"-amse\")\n",
    "            if splicing_type == \"disjoint\": \n",
    "                prior_spliced_model.append(bsm.independent_priors(body_model_priors[i] + tail_model_priors[j] + [γ_prior, p_prior]))\n",
    "            else:\n",
    "                prior_spliced_model.append(bsm.independent_priors(body_model_priors[i] + tail_model_priors[j] + [γ_prior]))  \n",
    "for f in fs:\n",
    "    f.set_ppf()\n",
    "f_spliced_amse_dic = dict(zip(f_names, fs))"
   ]
  },
  {
   "cell_type": "code",
   "execution_count": null,
   "id": "grand-situation",
   "metadata": {},
   "outputs": [],
   "source": [
    "popSize, ρ, c, n_step_max, err, paralell, n_proc, verbose = 10000, 1/2, 0.99, 25, 1e-6, False, 4, False\n",
    "def fit_spliced_models(i):\n",
    "    print(f_names[i])\n",
    "    trace, log_marg, DIC, WAIC = bsm.smc_likelihood_annealing(X, fs[i], popSize, prior_spliced_model[i], ρ, c,n_step_max, err, paralell, 4, verbose)\n",
    "    return([trace, log_marg, DIC, WAIC])\n",
    "\n",
    "res = []\n",
    "for k in range(splits):\n",
    "    print(\"Model batch #\"+str(k))\n",
    "    %time res_sub = Parallel(n_jobs=int(len(fs)/splits))(delayed(fit_spliced_models)(i) for i in range(int(k * len(f_names) / splits), int((k+1) * len(f_names)/splits)))\n",
    "    res += res_sub"
   ]
  },
  {
   "cell_type": "code",
   "execution_count": null,
   "id": "voluntary-visit",
   "metadata": {},
   "outputs": [],
   "source": [
    "fit_spliced_models_amse_dic = dict(zip(f_names, res))\n",
    "γ_map = np.array([fit_spliced_models_amse_dic[f_names[k]][0]['γ'].mean() for k in range(len(fit_spliced_models_amse_dic))])\n",
    "spliced_model_amse_df = pd.DataFrame({'model':f_names,\n",
    "                                 \"d\": np.array([f.d for f in fs]),\n",
    "                                 \"γ_map\": np.array([fit_spliced_models_amse_dic[f_names[k]][0]['γ'].mean() for k in range(len(fit_spliced_models_amse_dic))]),\n",
    "                                 'log_marg':  np.array([fit_spliced_models_amse_dic[f_names[k]][1] for k in range(len(fit_spliced_models_amse_dic))]), \n",
    "                                 \"DIC\": np.array([fit_spliced_models_amse_dic[f_names[k]][2] for k in range(len(fit_spliced_models_amse_dic))]), \n",
    "                                 \"WAIC\":np.array([fit_spliced_models_amse_dic[f_names[k]][3] for k in range(len(fit_spliced_models_amse_dic))])})\n",
    "spliced_model_amse_df[\"posterior_probability\"] = np.exp(spliced_model_amse_df[\"log_marg\"] - np.max(spliced_model_amse_df[\"log_marg\"])) / np.sum(np.exp(spliced_model_amse_df[\"log_marg\"] - np.max(spliced_model_amse_df[\"log_marg\"]))) \n",
    "\n",
    "%time spliced_model_amse_df[\"Wass_dist\"] = np.array([bsm.compute_Wasserstein(X, f_spliced_amse_dic[model_name], fit_spliced_models_amse_dic[model_name][0].mean().values, 1) for model_name in spliced_model_amse_df[\"model\"].values])\n",
    "spliced_model_amse_df.sort_values(by='log_marg', ascending=False)"
   ]
  },
  {
   "cell_type": "markdown",
   "id": "activated-serbia",
   "metadata": {},
   "source": [
    "# Spliced models with exponential test threshold"
   ]
  },
  {
   "cell_type": "code",
   "execution_count": null,
   "id": "chinese-opportunity",
   "metadata": {},
   "outputs": [],
   "source": [
    "method = \"exp test Guillou and Hall\"\n",
    "γ_exp_test = tea_thresholds.iloc[(tea_thresholds[\"method\"] == method).values][\"threshold\"].values[0]\n",
    "γ_prior = bsm.prior_model('fixed', \"γ\", γ_exp_test, max(X))"
   ]
  },
  {
   "cell_type": "code",
   "execution_count": null,
   "id": "sixth-sunday",
   "metadata": {},
   "outputs": [],
   "source": [
    "# Model for the tail of the distribution\n",
    "tail_model_names = [\"Exp\", \"Gamma\", \"Weibull\", \"Inverse-Gaussian\", \"Lognormal\", \"Log-Logistic\", \"Lomax\", \"Burr\", \"Pareto-Tail\", \"GPD-Tail\", \"Inverse-Gamma\", \"Inverse-Weibull\"]\n",
    "# tail_model_names = [\"Exp\", \"Gamma\"]\n",
    "\n",
    "tail_model_param_names = [['λ2'], [\"r2\", \"m2\"], [\"k2\", \"β2\"], [\"μ2\", \"λ2\"], [\"μ2\", \"σ2\"], [\"β2\", \"σ2\"], [\"α2\", \"σ2\"], [\"α2\", \"β2\", \"σ2\"], [\"α2\"], [\"ξ2\",\"σ2\"], [\"r2\", \"m2\"], [\"k2\", \"β2\"]]\n",
    "\n",
    "# Prior distributions over the parameters of the bulk distribution\n",
    "tail_model_priors= [[bsm.prior_model('gamma',tail_model_param_names[0][0], 1, 1)],\n",
    "                [bsm.prior_model('gamma',tail_model_param_names[1][0], 1, 1), bsm.prior_model('gamma',tail_model_param_names[1][1], 1, 1)], \n",
    "                [bsm.prior_model('gamma',tail_model_param_names[2][0], 1, 1), bsm.prior_model('gamma',tail_model_param_names[2][1], 1, 1)],\n",
    "                [bsm.prior_model('gamma',tail_model_param_names[3][0], 1, 1), bsm.prior_model('gamma',tail_model_param_names[3][1], 1, 1)],\n",
    "                [bsm.prior_model('normal',tail_model_param_names[4][0], 0, 0.5), bsm.prior_model('gamma',tail_model_param_names[4][1], 1, 1)],\n",
    "                [bsm.prior_model('gamma',tail_model_param_names[5][0], 1, 1), bsm.prior_model('gamma',tail_model_param_names[5][1], 1, 1)],\n",
    "                [bsm.prior_model('gamma',tail_model_param_names[6][0], 1, 1), bsm.prior_model('gamma',tail_model_param_names[6][1], 1, 1)],\n",
    "                [bsm.prior_model('gamma',tail_model_param_names[7][0], 1, 1), bsm.prior_model('gamma',tail_model_param_names[7][1], 1, 1), bsm.prior_model('gamma',tail_model_param_names[7][2], 1, 1)],\n",
    "                [bsm.prior_model('gamma',tail_model_param_names[8][0], 1, 1)],\n",
    "                [bsm.prior_model('gamma',tail_model_param_names[9][0], 1, 1), bsm.prior_model('gamma',tail_model_param_names[9][1], 1, 1)],\n",
    "                [bsm.prior_model('gamma',tail_model_param_names[10][0], 1, 1), bsm.prior_model('gamma',tail_model_param_names[10][1], 1, 1)],\n",
    "                [bsm.prior_model('gamma',tail_model_param_names[11][0], 1, 1), bsm.prior_model('gamma',tail_model_param_names[11][1], 1, 1)]\n",
    "]\n",
    "p_prior = bsm.prior_model('uniform',\"p\", 0, 1)\n",
    "\n",
    "#Splicing model type\n",
    "splicing_types = [\"continuous\", \"simple\", \"disjoint\"]\n",
    "\n",
    "# Setting the models\n",
    "fs, f_names, prior_spliced_model = [], [], []\n",
    "for i in range(len(body_model_names)):\n",
    "    for j in range(len(tail_model_names)):\n",
    "        for splicing_type in splicing_types:\n",
    "            f1, f2 =  bsm.loss_model(body_model_names[i], body_model_param_names[i]), bsm.loss_model(tail_model_names[j], tail_model_param_names[j])\n",
    "            fs.append(bsm.spliced_loss_model(f1 , f2, splicing_type))\n",
    "            f_names.append(body_model_names[i] +\"-\"+ tail_model_names[j]+\"-\"+splicing_type+\"-exptest\")\n",
    "            if splicing_type == \"disjoint\": \n",
    "                prior_spliced_model.append(bsm.independent_priors(body_model_priors[i] + tail_model_priors[j] + [γ_prior, p_prior]))\n",
    "            else:\n",
    "                prior_spliced_model.append(bsm.independent_priors(body_model_priors[i] + tail_model_priors[j] + [γ_prior]))  \n",
    "for f in fs:\n",
    "    f.set_ppf()\n",
    "f_spliced_exptest_dic = dict(zip(f_names, fs))"
   ]
  },
  {
   "cell_type": "code",
   "execution_count": null,
   "id": "searching-gates",
   "metadata": {},
   "outputs": [],
   "source": [
    "popSize, ρ, c, n_step_max, err, paralell, n_proc, verbose = 10000, 1/2, 0.99, 25, 1e-6, False, 4, False\n",
    "def fit_spliced_models(i):\n",
    "    print(f_names[i])\n",
    "    trace, log_marg, DIC, WAIC = bsm.smc_likelihood_annealing(X, fs[i], popSize, prior_spliced_model[i], ρ, c,n_step_max, err, paralell, 4, verbose)\n",
    "    return([trace, log_marg, DIC, WAIC])\n",
    "\n",
    "res = []\n",
    "for k in range(splits):\n",
    "    print(\"Model batch #\"+str(k))\n",
    "    %time res_sub = Parallel(n_jobs=int(len(fs)/splits))(delayed(fit_spliced_models)(i) for i in range(int(k * len(f_names) / splits), int((k+1) * len(f_names)/splits)))\n",
    "    res += res_sub"
   ]
  },
  {
   "cell_type": "code",
   "execution_count": null,
   "id": "aboriginal-pressure",
   "metadata": {},
   "outputs": [],
   "source": [
    "fit_spliced_models_exptest_dic = dict(zip(f_names, res))\n",
    "γ_map = np.array([fit_spliced_models_exptest_dic[f_names[k]][0]['γ'].mean() for k in range(len(fit_spliced_models_exptest_dic))])\n",
    "spliced_model_exptest_df = pd.DataFrame({'model':f_names,\n",
    "                                 \"d\": np.array([f.d for f in fs]),\n",
    "                                 \"γ_map\": np.array([fit_spliced_models_exptest_dic[f_names[k]][0]['γ'].mean() for k in range(len(fit_spliced_models_exptest_dic))]),\n",
    "                                 'log_marg':  np.array([fit_spliced_models_exptest_dic[f_names[k]][1] for k in range(len(fit_spliced_models_exptest_dic))]), \n",
    "                                 \"DIC\": np.array([fit_spliced_models_exptest_dic[f_names[k]][2] for k in range(len(fit_spliced_models_exptest_dic))]), \n",
    "                                 \"WAIC\":np.array([fit_spliced_models_exptest_dic[f_names[k]][3] for k in range(len(fit_spliced_models_exptest_dic))])})\n",
    "spliced_model_exptest_df[\"posterior_probability\"] = np.exp(spliced_model_exptest_df[\"log_marg\"] - np.max(spliced_model_exptest_df[\"log_marg\"])) / np.sum(np.exp(spliced_model_exptest_df[\"log_marg\"] - np.max(spliced_model_exptest_df[\"log_marg\"]))) \n",
    "\n",
    "%time spliced_model_exptest_df[\"Wass_dist\"] = np.array([bsm.compute_Wasserstein(X, f_spliced_exptest_dic[model_name], fit_spliced_models_exptest_dic[model_name][0].mean().values, 1) for model_name in spliced_model_exptest_df[\"model\"].values])\n",
    "spliced_model_exptest_df.sort_values(by='log_marg', ascending=False)"
   ]
  },
  {
   "cell_type": "markdown",
   "id": "experimental-martial",
   "metadata": {},
   "source": [
    "# Exportation"
   ]
  },
  {
   "cell_type": "code",
   "execution_count": null,
   "id": "adolescent-saturday",
   "metadata": {},
   "outputs": [],
   "source": [
    "loss_model_df=pd.concat([spliced_model_df,spliced_model_amse_df,  spliced_model_exptest_df])\n",
    "f_model_dic, fit_loss_model_dic = {**f_spliced_dic, **f_spliced_amse_dic, **f_spliced_exptest_dic }, \\\n",
    "{**fit_spliced_models_dic, **fit_spliced_models_amse_dic, **fit_spliced_models_exptest_dic}"
   ]
  },
  {
   "cell_type": "code",
   "execution_count": null,
   "id": "5b29678f-aa78-413d-bffe-3847c792fec4",
   "metadata": {},
   "outputs": [],
   "source": [
    "import pickle\n",
    "loss_model_df.to_csv(\"../../Data/Danish/danish_splicing_model_fit_\"+body_model_names[0]+\".csv\", sep=',')\n",
    "with open('../../Data/Danish/trace_danish_'+body_model_names[0]+'.obj', 'wb') as fp:\n",
    "    pickle.dump(fit_loss_model_dic, fp)\n",
    "# with open('../../Data/Danish/f_danish'+body_model_names[0]+'.obj', 'wb') as fp:\n",
    "#     pickle.dump(f_model_dic, fp)"
   ]
  },
  {
   "cell_type": "code",
   "execution_count": null,
   "id": "08f987a4-8ee0-46d3-9953-d7aa35032cb3",
   "metadata": {},
   "outputs": [],
   "source": [
    "# loss_model_df_import = pd.read_csv(\"Data/danish_splicing_model_fit.csv\")\n",
    "# with open('Data/trace_danish.obj', 'rb') as fp:\n",
    "#     fit_loss_model_dic_import = pickle.load(fp)\n",
    "# loss_model_df_import\n",
    "#     # with open('Data/f_danish.obj', 'wb') as fp:\n",
    "# #     f_model_dic = pickle.load(fp)"
   ]
  },
  {
   "cell_type": "code",
   "execution_count": null,
   "id": "expired-draft",
   "metadata": {},
   "outputs": [],
   "source": [
    "loss_model_df.sort_values(by='WAIC', ascending=True)"
   ]
  },
  {
   "cell_type": "code",
   "execution_count": null,
   "id": "cosmetic-picking",
   "metadata": {},
   "outputs": [],
   "source": []
  }
 ],
 "metadata": {
  "kernelspec": {
   "display_name": "Python 3",
   "language": "python",
   "name": "python3"
  },
  "language_info": {
   "codemirror_mode": {
    "name": "ipython",
    "version": 3
   },
   "file_extension": ".py",
   "mimetype": "text/x-python",
   "name": "python",
   "nbconvert_exporter": "python",
   "pygments_lexer": "ipython3",
   "version": "3.8.8"
  }
 },
 "nbformat": 4,
 "nbformat_minor": 5
}
