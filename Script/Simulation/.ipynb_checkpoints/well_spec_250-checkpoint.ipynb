{
 "cells": [
  {
   "cell_type": "code",
   "execution_count": 3,
   "id": "cb221404-525e-4fd8-8e76-99c3b3e08176",
   "metadata": {},
   "outputs": [],
   "source": [
    "%run preamble_scripts.py"
   ]
  },
  {
   "cell_type": "markdown",
   "id": "14b6c21d-4a4c-42e5-817c-6119f19a74e7",
   "metadata": {},
   "source": [
    "# Simulation study: the well specified case 250 observations"
   ]
  },
  {
   "cell_type": "code",
   "execution_count": 7,
   "id": "989b767d-d6f6-49ab-9688-ff473598acf7",
   "metadata": {},
   "outputs": [],
   "source": [
    "n_sim, nobs, expo = 100, 250, 250\n",
    "err_pnl, popSize_screening, popsize_capi = 3e5, 1000, 5000"
   ]
  },
  {
   "cell_type": "code",
   "execution_count": 9,
   "id": "turkish-shoulder",
   "metadata": {},
   "outputs": [
    {
     "name": "stdout",
     "output_type": "stream",
     "text": [
      "CPU times: user 22min 33s, sys: 440 ms, total: 22min 34s\n",
      "Wall time: 22min 33s\n"
     ]
    },
    {
     "data": {
      "text/plain": [
       "array([-151.6106319 , -112.36919931,  -47.38145119])"
      ]
     },
     "execution_count": 9,
     "metadata": {},
     "output_type": "execute_result"
    }
   ],
   "source": [
    "# Setting the true model\n",
    "f1, f2 = bs.loss_model(\"Gamma\", [\"r1\", \"m1\"]), bs.loss_model(\"Lomax\", [\"α2\", \"σ2\"])\n",
    "f_true = bs.spliced_loss_model(f1, f2, \"continuous\")\n",
    "parms_true = np.array([1/2, 1, 2.5, 3, 1.5])\n",
    "\n",
    "f_true.set_ppf(), f_true.set_pdf(),f_true.set_cdf()\n",
    "\n",
    "# We set the priority to the 90% quantile and the limit to the 0.99% quantile\n",
    "P, L = f_true.ppf(parms_true, 0.9), f_true.ppf(parms_true, 0.99)\n",
    "premiums = f_true.PP(parms_true), f_true.XOLP(parms_true, P, L)\n",
    "\n",
    "%time PnLs = np.array(f_true.PnL(parms_true, P, L, expo, premiums, safety_loadings = [0.05, 0.05],  n_sim = err_pnl))\n",
    "true_VaRs = [f_true.ppf(parms_true, prob) for prob in [0.95, 0.99, 0.995]]\n",
    "true_cap = np.quantile(PnLs, [0.005, 0.01, 0.05])\n",
    "true_cap"
   ]
  },
  {
   "cell_type": "markdown",
   "id": "b91cc7af-dca7-4597-ae6f-c0cbe92b571f",
   "metadata": {},
   "source": [
    "We are interested in the estimations of the extreme quantile of the claim size distribution (of order 0.95, 0.99, 0.995) and the quantile of the aggregate losses over one year with a XOL reinsurance agreement"
   ]
  },
  {
   "cell_type": "code",
   "execution_count": 6,
   "id": "ef9f2d38-e4ba-4ac6-9c73-c87a6cf4c590",
   "metadata": {},
   "outputs": [
    {
     "name": "stdout",
     "output_type": "stream",
     "text": [
      "Simulation #0\n",
      "CPU times: user 1min 56s, sys: 1.11 s, total: 1min 57s\n",
      "Wall time: 2min 4s\n",
      "Simulation #1\n",
      "CPU times: user 1min 57s, sys: 700 ms, total: 1min 57s\n",
      "Wall time: 2min 4s\n"
     ]
    }
   ],
   "source": [
    "Xs = [f_true.sample(parms_true, nobs) for k in range(n_sim)]\n",
    "ρ, c, n_step_max, err, paralell, n_proc, verbose = 1/2, 0.99, 25, 1e-6, False, 4, False\n",
    "dfs = []\n",
    "for k in range(n_sim):\n",
    "    print(\"Simulation #\"+str(k))\n",
    "    def fit_spliced_models(i):\n",
    "        trace, log_marg, DIC, WAIC = bs.smc(Xs[k], fs[i], popSize_screening, prior_spliced_model[i], ρ, c,n_step_max, err, paralell, 4, verbose)\n",
    "        Wass_dist = bs.compute_Wasserstein(Xs[k], fs[i], trace.mean().values, 1)\n",
    "        return(np.array([k, f_names[i], nobs, trace[\"γ\"].mean(), log_marg, Wass_dist]))\n",
    "    %time res = Parallel(n_jobs= 40)(delayed(fit_spliced_models)(i) for i in range(len(fs)))\n",
    "    df = pd.DataFrame(res, columns = [\"sim\", \"model_name\", \"nobs\", \"γ_map\", \"log_marg\", \"Wass_dist\"])\n",
    "    df[df.columns[2:]] = df[df.columns[2:]].astype(float)\n",
    "\n",
    "    df[\"posterior_probability\"] = np.exp(df[\"log_marg\"] - np.max(df[\"log_marg\"])) / np.sum(np.exp(df[\"log_marg\"] - np.max(df[\"log_marg\"]))) \n",
    "    dfs.append(df)\n"
   ]
  },
  {
   "cell_type": "code",
   "execution_count": 7,
   "id": "2f49d71f-fc91-4139-8243-b5825bea7575",
   "metadata": {},
   "outputs": [],
   "source": [
    "pd.concat(dfs).to_csv(\"../../Data/Simulations/simu_postp_wellspec_\"+str(nobs)+\".csv\", sep=',')"
   ]
  },
  {
   "cell_type": "code",
   "execution_count": 8,
   "id": "miniature-michael",
   "metadata": {},
   "outputs": [],
   "source": [
    "def compute_cap(k):\n",
    "    df = dfs[k]\n",
    "    s = (df[\"sim\"] == str(k)).values & (df[\"nobs\"] == nobs).values\n",
    "    sorted_df = df[s].sort_values(\"posterior_probability\", ascending = False)\n",
    "    if method  == \"true\":\n",
    "        selected_models = sorted_df[sorted_df.model_name == \"Gamma_Lomax_continuous\"]\n",
    "    elif method  == \"best\":\n",
    "        selected_models = sorted_df[:1]\n",
    "    elif method  == \"BMA\":\n",
    "        selected_models = sorted_df[:5]\n",
    "    model_names_s = selected_models.model_name\n",
    "    model_names_s\n",
    "\n",
    "    traces, log_margs = [], []\n",
    "    for model_name in model_names_s.values:\n",
    "        f, prior, X = f_spliced_dic[model_name], prior_dic[model_name], Xs[k]\n",
    "        trace, log_marg, DIC, WAIC = bs.smc(X, f, popsize_capi, prior, verbose = False)\n",
    "        traces.append(trace), log_margs.append(log_marg)\n",
    "    trace_dic = dict(zip(model_names_s.values, traces))\n",
    "    model_weights_s = np.exp(log_margs - np.max(log_margs)) / np.sum(np.exp(log_margs - np.max(log_margs)))\n",
    "    PNLS_post = []\n",
    "    for i in range(int(err_pnl)):\n",
    "        model_name = model_names_s.sample(1, weights = model_weights_s, replace = True).iloc[0]\n",
    "        f = f_spliced_dic[model_name]\n",
    "        PNLS_post.append( f.PnL(trace_dic[model_name].mean().values, P, L, \n",
    "                                expo, premiums, n_sim = 1)[0])\n",
    "    return([k, method, nobs] + np.quantile(PNLS_post, [0.005, 0.01, 0.05]).tolist())\n"
   ]
  },
  {
   "cell_type": "code",
   "execution_count": 9,
   "id": "interested-action",
   "metadata": {},
   "outputs": [
    {
     "name": "stdout",
     "output_type": "stream",
     "text": [
      "true\n",
      "CPU times: user 2.14 s, sys: 49.8 ms, total: 2.19 s\n",
      "Wall time: 13 s\n",
      "best\n",
      "CPU times: user 2.22 s, sys: 48 ms, total: 2.27 s\n",
      "Wall time: 6.95 s\n",
      "BMA\n",
      "CPU times: user 2.16 s, sys: 12 ms, total: 2.17 s\n",
      "Wall time: 23.4 s\n"
     ]
    }
   ],
   "source": [
    "methods = [\"true\", \"best\", \"BMA\"]\n",
    "dfs_cap = []\n",
    "for method in methods: \n",
    "    print(method)\n",
    "    %time res = Parallel(n_jobs= 40)(delayed(compute_cap)(i) for i in range(n_sim))\n",
    "    df_cap = pd.DataFrame(res, columns = [\"sim\", \"method\", \"nobs\", \"cap005\", \"cap01\", \"cap05\"])\n",
    "    dfs_cap.append(df_cap)"
   ]
  },
  {
   "cell_type": "code",
   "execution_count": 10,
   "id": "unexpected-surface",
   "metadata": {},
   "outputs": [],
   "source": [
    "pd.concat(dfs_cap).join(pd.DataFrame(\n",
    "    [true_cap for k in range(n_sim * len(methods))], \n",
    "    columns = [\"cap005_true\", \"cap01_true\", \"cap05_true\"])).to_csv(\n",
    "    \"../../Data/Simulations/simu_capi_wellspec_\"+str(nobs)+\".csv\", sep=',')"
   ]
  },
  {
   "cell_type": "code",
   "execution_count": 11,
   "id": "selective-perfume",
   "metadata": {},
   "outputs": [
    {
     "data": {
      "text/html": [
       "<div>\n",
       "<style scoped>\n",
       "    .dataframe tbody tr th:only-of-type {\n",
       "        vertical-align: middle;\n",
       "    }\n",
       "\n",
       "    .dataframe tbody tr th {\n",
       "        vertical-align: top;\n",
       "    }\n",
       "\n",
       "    .dataframe thead th {\n",
       "        text-align: right;\n",
       "    }\n",
       "</style>\n",
       "<table border=\"1\" class=\"dataframe\">\n",
       "  <thead>\n",
       "    <tr style=\"text-align: right;\">\n",
       "      <th></th>\n",
       "      <th>sim</th>\n",
       "      <th>method</th>\n",
       "      <th>nobs</th>\n",
       "      <th>cap005</th>\n",
       "      <th>cap01</th>\n",
       "      <th>cap05</th>\n",
       "      <th>cap005_true</th>\n",
       "      <th>cap01_true</th>\n",
       "      <th>cap05_true</th>\n",
       "    </tr>\n",
       "  </thead>\n",
       "  <tbody>\n",
       "    <tr>\n",
       "      <th>0</th>\n",
       "      <td>0</td>\n",
       "      <td>true</td>\n",
       "      <td>250</td>\n",
       "      <td>-376.089863</td>\n",
       "      <td>-370.166371</td>\n",
       "      <td>-322.778429</td>\n",
       "      <td>-69.592662</td>\n",
       "      <td>-66.573243</td>\n",
       "      <td>-42.41789</td>\n",
       "    </tr>\n",
       "    <tr>\n",
       "      <th>0</th>\n",
       "      <td>0</td>\n",
       "      <td>best</td>\n",
       "      <td>250</td>\n",
       "      <td>-2738.308244</td>\n",
       "      <td>-2618.479075</td>\n",
       "      <td>-1659.845721</td>\n",
       "      <td>-69.592662</td>\n",
       "      <td>-66.573243</td>\n",
       "      <td>-42.41789</td>\n",
       "    </tr>\n",
       "    <tr>\n",
       "      <th>0</th>\n",
       "      <td>0</td>\n",
       "      <td>BMA</td>\n",
       "      <td>250</td>\n",
       "      <td>-201.439986</td>\n",
       "      <td>-193.694123</td>\n",
       "      <td>-131.727223</td>\n",
       "      <td>-69.592662</td>\n",
       "      <td>-66.573243</td>\n",
       "      <td>-42.41789</td>\n",
       "    </tr>\n",
       "    <tr>\n",
       "      <th>1</th>\n",
       "      <td>1</td>\n",
       "      <td>true</td>\n",
       "      <td>250</td>\n",
       "      <td>-22.063328</td>\n",
       "      <td>-21.841611</td>\n",
       "      <td>-20.067870</td>\n",
       "      <td>-69.592662</td>\n",
       "      <td>-66.573243</td>\n",
       "      <td>-42.41789</td>\n",
       "    </tr>\n",
       "    <tr>\n",
       "      <th>1</th>\n",
       "      <td>1</td>\n",
       "      <td>best</td>\n",
       "      <td>250</td>\n",
       "      <td>-1.975616</td>\n",
       "      <td>-1.491454</td>\n",
       "      <td>2.381842</td>\n",
       "      <td>-69.592662</td>\n",
       "      <td>-66.573243</td>\n",
       "      <td>-42.41789</td>\n",
       "    </tr>\n",
       "    <tr>\n",
       "      <th>1</th>\n",
       "      <td>1</td>\n",
       "      <td>BMA</td>\n",
       "      <td>250</td>\n",
       "      <td>-41.062683</td>\n",
       "      <td>-39.680097</td>\n",
       "      <td>-28.619414</td>\n",
       "      <td>-69.592662</td>\n",
       "      <td>-66.573243</td>\n",
       "      <td>-42.41789</td>\n",
       "    </tr>\n",
       "  </tbody>\n",
       "</table>\n",
       "</div>"
      ],
      "text/plain": [
       "   sim method  nobs       cap005        cap01        cap05  cap005_true  \\\n",
       "0    0   true   250  -376.089863  -370.166371  -322.778429   -69.592662   \n",
       "0    0   best   250 -2738.308244 -2618.479075 -1659.845721   -69.592662   \n",
       "0    0    BMA   250  -201.439986  -193.694123  -131.727223   -69.592662   \n",
       "1    1   true   250   -22.063328   -21.841611   -20.067870   -69.592662   \n",
       "1    1   best   250    -1.975616    -1.491454     2.381842   -69.592662   \n",
       "1    1    BMA   250   -41.062683   -39.680097   -28.619414   -69.592662   \n",
       "\n",
       "   cap01_true  cap05_true  \n",
       "0  -66.573243   -42.41789  \n",
       "0  -66.573243   -42.41789  \n",
       "0  -66.573243   -42.41789  \n",
       "1  -66.573243   -42.41789  \n",
       "1  -66.573243   -42.41789  \n",
       "1  -66.573243   -42.41789  "
      ]
     },
     "execution_count": 11,
     "metadata": {},
     "output_type": "execute_result"
    }
   ],
   "source": [
    "pd.concat(dfs_cap).join(pd.DataFrame(\n",
    "    [true_cap for k in range(n_sim * len(methods))], \n",
    "    columns = [\"cap005_true\", \"cap01_true\", \"cap05_true\"]))"
   ]
  },
  {
   "cell_type": "code",
   "execution_count": null,
   "id": "convertible-arlington",
   "metadata": {},
   "outputs": [],
   "source": []
  }
 ],
 "metadata": {
  "kernelspec": {
   "display_name": "Python 3",
   "language": "python",
   "name": "python3"
  },
  "language_info": {
   "codemirror_mode": {
    "name": "ipython",
    "version": 3
   },
   "file_extension": ".py",
   "mimetype": "text/x-python",
   "name": "python",
   "nbconvert_exporter": "python",
   "pygments_lexer": "ipython3",
   "version": "3.8.8"
  }
 },
 "nbformat": 4,
 "nbformat_minor": 5
}
