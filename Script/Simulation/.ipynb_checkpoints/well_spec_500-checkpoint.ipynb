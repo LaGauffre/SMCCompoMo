{
 "cells": [
  {
   "cell_type": "code",
   "execution_count": 1,
   "id": "cb221404-525e-4fd8-8e76-99c3b3e08176",
   "metadata": {},
   "outputs": [],
   "source": [
    "%run ../../preamble.py"
   ]
  },
  {
   "cell_type": "markdown",
   "id": "14b6c21d-4a4c-42e5-817c-6119f19a74e7",
   "metadata": {},
   "source": [
    "# Simulation study: the well specified case"
   ]
  },
  {
   "cell_type": "code",
   "execution_count": 13,
   "id": "989b767d-d6f6-49ab-9688-ff473598acf7",
   "metadata": {},
   "outputs": [],
   "source": [
    "# Setting the true model\n",
    "f1, f2 = bs.loss_model(\"Gamma\", [\"μ1\", \"λ1\"]), bs.loss_model(\"Lomax\", [\"α2\", \"σ2\"])\n",
    "f_true = bs.spliced_loss_model(f1, f2, \"continuous\")\n",
    "parms_true = np.array([1/2, 1, 2, 3, 1.5])\n",
    "f_true.set_ppf(), f_true.set_pdf(),f_true.set_cdf()\n",
    "\n",
    "# We set the priority to the 90% quantile and the limit to the 0.99% quantile\n",
    "P, L = f_true.ppf(parms_true, 0.9), f_true.ppf(parms_true, 0.99)\n",
    "premiums = f_true.PP(parms_true), f_true.XOLP(parms_true, P, L)\n",
    "expo = 250\n",
    "PnLs = np.array(f_true.PnL(parms_true, P, L, expo, premiums, safety_loadings = [0.05, 0.05], n_sim = 10))"
   ]
  },
  {
   "cell_type": "markdown",
   "id": "b91cc7af-dca7-4597-ae6f-c0cbe92b571f",
   "metadata": {},
   "source": [
    "We are interested in the estimations of the extreme quantile of the claim size distribution (of order 0.95, 0.99, 0.995) and the quantile of the aggregate losses over one year with a XOL reinsurance agreement"
   ]
  },
  {
   "cell_type": "code",
   "execution_count": 14,
   "id": "fb9b0c23-e77b-4939-9d9e-043c59cb9b1b",
   "metadata": {},
   "outputs": [
    {
     "data": {
      "text/plain": [
       "array([-223.20282111, -214.50522799, -144.92448303])"
      ]
     },
     "execution_count": 14,
     "metadata": {},
     "output_type": "execute_result"
    }
   ],
   "source": [
    "true_VaRs = [f_true.ppf(parms_true, prob) for prob in [0.95, 0.99, 0.995]]\n",
    "true_cap = np.quantile(PnLs, [0.005, 0.01, 0.05])\n",
    "true_cap"
   ]
  },
  {
   "cell_type": "code",
   "execution_count": 15,
   "id": "7dd2abf5-8de3-4ea8-8f75-29b2e578a1ed",
   "metadata": {},
   "outputs": [],
   "source": [
    "# Model for the bulk distribution\n",
    "body_model_names = [\"Exp\", \"Gamma\", \"Weibull\", \"Inverse-Gaussian\", \"Lognormal\", \"Inverse-Weibull\", \"Inverse-Gamma\"]\n",
    "body_model_param_names = [ [\"λ1\"], [\"r1\", \"m1\"], [\"k1\", \"β1\"],[\"μ1\", \"λ1\"],\n",
    "                          [\"μ1\", \"σ1\"], [\"k1\", \"β1\"], [\"r1\", \"m1\"]]\n",
    "\n",
    "# Prior distributions over the parameters of the bulk distribution\n",
    "body_model_priors= [ \n",
    "    [bs.prior_model('gamma',body_model_param_names[0][0], 1, 1)], \n",
    "     [bs.prior_model('gamma',body_model_param_names[1][0], 1, 1), bs.prior_model('gamma',body_model_param_names[1][1], 1, 1)],\n",
    "    [bs.prior_model('gamma',body_model_param_names[2][0], 1, 1), bs.prior_model('gamma',body_model_param_names[2][1], 1, 1)],\n",
    "    [bs.prior_model('gamma',body_model_param_names[3][0], 1, 1), bs.prior_model('gamma',body_model_param_names[3][1], 1, 1)],\n",
    "    [bs.prior_model('normal',body_model_param_names[4][0], 0, 0.5), bs.prior_model('gamma',body_model_param_names[4][1], 1, 1)],\n",
    "     [bs.prior_model('gamma',body_model_param_names[5][0], 1, 1), bs.prior_model('gamma',body_model_param_names[5][1], 1, 1)], \n",
    "    [bs.prior_model('gamma',body_model_param_names[5][0], 1, 1), bs.prior_model('gamma',body_model_param_names[5][1], 1, 1)]\n",
    "]\n",
    "\n",
    "# Model for the tail of the distribution\n",
    "tail_model_names = [\"Weibull\", \"Lognormal\", \"Log-Logistic\", \"Lomax\", \"Burr\", \"Pareto-Tail\", \"GPD-Tail\", \"Inverse-Gamma\", \"Inverse-Weibull\"]\n",
    "\n",
    "tail_model_param_names = [[\"k2\", \"β2\"], [\"μ2\", \"σ2\"], [\"β2\", \"σ2\"], [\"α2\", \"σ2\"], [\"α2\", \"β2\", \"σ2\"], [\"α2\"], [\"ξ2\",\"σ2\"], [\"r2\", \"m2\"], [\"k2\", \"β2\"]]\n",
    "\n",
    "# Prior distributions over the parameters of the bulk distribution\n",
    "tail_model_priors= [\n",
    "                [bs.prior_model('gamma',tail_model_param_names[0][0], 1, 1), bs.prior_model('gamma',tail_model_param_names[0][1], 1, 1)],\n",
    "                [bs.prior_model('normal',tail_model_param_names[1][0], 0, 0.5), bs.prior_model('gamma',tail_model_param_names[1][1], 1, 1)],\n",
    "                [bs.prior_model('gamma',tail_model_param_names[2][0], 1, 1), bs.prior_model('gamma',tail_model_param_names[2][1], 1, 1)],\n",
    "                [bs.prior_model('gamma',tail_model_param_names[3][0], 1, 1), bs.prior_model('gamma',tail_model_param_names[3][1], 1, 1)],\n",
    "                [bs.prior_model('gamma',tail_model_param_names[4][0], 1, 1), bs.prior_model('gamma',tail_model_param_names[4][1], 1, 1), bs.prior_model('gamma',tail_model_param_names[4][2], 1, 1)],\n",
    "                [bs.prior_model('gamma',tail_model_param_names[5][0], 1, 1)],\n",
    "                [bs.prior_model('gamma',tail_model_param_names[6][0], 1, 1), bs.prior_model('gamma',tail_model_param_names[6][1], 1, 1)],\n",
    "                [bs.prior_model('gamma',tail_model_param_names[7][0], 1, 1), bs.prior_model('gamma',tail_model_param_names[7][1], 1, 1)],\n",
    "                [bs.prior_model('gamma',tail_model_param_names[8][0], 1, 1), bs.prior_model('gamma',tail_model_param_names[8][1], 1, 1)]\n",
    "]\n",
    "\n",
    "γ_prior = bs.prior_model('gamma',\"γ\", 1, 1)\n",
    "\n",
    "#Splicing model type\n",
    "splicing_types = [\"continuous\"]\n",
    "\n",
    "# Setting the models\n",
    "fs, f_names, prior_spliced_model = [], [], []\n",
    "for i in range(len(body_model_names)):\n",
    "    for j in range(len(tail_model_names)):\n",
    "        for splicing_type in splicing_types:\n",
    "            f1, f2 =  bs.loss_model(body_model_names[i], body_model_param_names[i]), bs.loss_model(tail_model_names[j], tail_model_param_names[j])\n",
    "            fs.append(bs.spliced_loss_model(f1 , f2, splicing_type))\n",
    "            f_names.append(body_model_names[i] +\"_\"+ tail_model_names[j]+\"_\"+splicing_type)\n",
    "            if splicing_type == \"disjoint\": \n",
    "                prior_spliced_model.append(bs.independent_priors(body_model_priors[i] + tail_model_priors[j] + [γ_prior, p_prior]))\n",
    "            else:\n",
    "                prior_spliced_model.append(bs.independent_priors(body_model_priors[i] + tail_model_priors[j] + [γ_prior]))  \n",
    "for f in fs:\n",
    "    f.set_ppf(), f.set_cdf(), f.set_pdf() \n",
    "f_spliced_dic = dict(zip(f_names, fs))\n"
   ]
  },
  {
   "cell_type": "code",
   "execution_count": 17,
   "id": "ef9f2d38-e4ba-4ac6-9c73-c87a6cf4c590",
   "metadata": {},
   "outputs": [
    {
     "name": "stdout",
     "output_type": "stream",
     "text": [
      "0 Exp_Weibull_continuous\n",
      "1 Exp_Lognormal_continuous\n",
      "2 Exp_Log-Logistic_continuous\n"
     ]
    },
    {
     "name": "stderr",
     "output_type": "stream",
     "text": [
      "C:\\Users\\pierr\\anaconda3\\lib\\site-packages\\bayes_splicing\\spliced_distribution.py:246: IntegrationWarning: The integral is probably divergent, or slowly convergent.\n",
      "  return(sc.integrate.quad(lambda x: x*self.pdf(parms, x), 0, np.inf)[0])\n",
      "C:\\Users\\pierr\\anaconda3\\lib\\site-packages\\bayes_splicing\\spliced_distribution.py:249: IntegrationWarning: The integral is probably divergent, or slowly convergent.\n",
      "  return(sc.integrate.quad(lambda x: min(x - P, L) * self.pdf(parms, x), P, np.inf)[0])\n"
     ]
    },
    {
     "name": "stdout",
     "output_type": "stream",
     "text": [
      "3 Exp_Lomax_continuous\n",
      "4 Exp_Burr_continuous\n",
      "5 Exp_Pareto-Tail_continuous\n"
     ]
    },
    {
     "name": "stderr",
     "output_type": "stream",
     "text": [
      "C:\\Users\\pierr\\anaconda3\\lib\\site-packages\\bayes_splicing\\spliced_distribution.py:246: IntegrationWarning: The integral is probably divergent, or slowly convergent.\n",
      "  return(sc.integrate.quad(lambda x: x*self.pdf(parms, x), 0, np.inf)[0])\n"
     ]
    },
    {
     "name": "stdout",
     "output_type": "stream",
     "text": [
      "6 Exp_GPD-Tail_continuous\n",
      "7 Exp_Inverse-Gamma_continuous\n",
      "8 Exp_Inverse-Weibull_continuous\n",
      "9 Gamma_Weibull_continuous\n",
      "10 Gamma_Lognormal_continuous\n",
      "11 Gamma_Log-Logistic_continuous\n"
     ]
    },
    {
     "name": "stderr",
     "output_type": "stream",
     "text": [
      "C:\\Users\\pierr\\anaconda3\\lib\\site-packages\\bayes_splicing\\spliced_distribution.py:246: IntegrationWarning: The integral is probably divergent, or slowly convergent.\n",
      "  return(sc.integrate.quad(lambda x: x*self.pdf(parms, x), 0, np.inf)[0])\n"
     ]
    },
    {
     "name": "stdout",
     "output_type": "stream",
     "text": [
      "12 Gamma_Lomax_continuous\n",
      "13 Gamma_Burr_continuous\n",
      "14 Gamma_Pareto-Tail_continuous\n",
      "15 Gamma_GPD-Tail_continuous\n",
      "16 Gamma_Inverse-Gamma_continuous\n",
      "17 Gamma_Inverse-Weibull_continuous\n",
      "18 Weibull_Weibull_continuous\n",
      "19 Weibull_Lognormal_continuous\n",
      "20 Weibull_Log-Logistic_continuous\n"
     ]
    },
    {
     "name": "stderr",
     "output_type": "stream",
     "text": [
      "C:\\Users\\pierr\\anaconda3\\lib\\site-packages\\bayes_splicing\\spliced_distribution.py:246: IntegrationWarning: The maximum number of subdivisions (50) has been achieved.\n",
      "  If increasing the limit yields no improvement it is advised to analyze \n",
      "  the integrand in order to determine the difficulties.  If the position of a \n",
      "  local difficulty can be determined (singularity, discontinuity) one will \n",
      "  probably gain from splitting up the interval and calling the integrator \n",
      "  on the subranges.  Perhaps a special-purpose integrator should be used.\n",
      "  return(sc.integrate.quad(lambda x: x*self.pdf(parms, x), 0, np.inf)[0])\n",
      "C:\\Users\\pierr\\anaconda3\\lib\\site-packages\\bayes_splicing\\spliced_distribution.py:249: IntegrationWarning: The integral is probably divergent, or slowly convergent.\n",
      "  return(sc.integrate.quad(lambda x: min(x - P, L) * self.pdf(parms, x), P, np.inf)[0])\n"
     ]
    },
    {
     "name": "stdout",
     "output_type": "stream",
     "text": [
      "21 Weibull_Lomax_continuous\n",
      "22 Weibull_Burr_continuous\n"
     ]
    },
    {
     "name": "stderr",
     "output_type": "stream",
     "text": [
      "C:\\Users\\pierr\\anaconda3\\lib\\site-packages\\bayes_splicing\\spliced_distribution.py:246: IntegrationWarning: The integral is probably divergent, or slowly convergent.\n",
      "  return(sc.integrate.quad(lambda x: x*self.pdf(parms, x), 0, np.inf)[0])\n",
      "C:\\Users\\pierr\\anaconda3\\lib\\site-packages\\bayes_splicing\\spliced_distribution.py:249: IntegrationWarning: The integral is probably divergent, or slowly convergent.\n",
      "  return(sc.integrate.quad(lambda x: min(x - P, L) * self.pdf(parms, x), P, np.inf)[0])\n"
     ]
    },
    {
     "name": "stdout",
     "output_type": "stream",
     "text": [
      "23 Weibull_Pareto-Tail_continuous\n",
      "24 Weibull_GPD-Tail_continuous\n",
      "25 Weibull_Inverse-Gamma_continuous\n",
      "26 Weibull_Inverse-Weibull_continuous\n",
      "27 Inverse-Gaussian_Weibull_continuous\n",
      "28 Inverse-Gaussian_Lognormal_continuous\n",
      "29 Inverse-Gaussian_Log-Logistic_continuous\n",
      "30 Inverse-Gaussian_Lomax_continuous\n",
      "31 Inverse-Gaussian_Burr_continuous\n",
      "32 Inverse-Gaussian_Pareto-Tail_continuous\n"
     ]
    },
    {
     "name": "stderr",
     "output_type": "stream",
     "text": [
      "C:\\Users\\pierr\\anaconda3\\lib\\site-packages\\bayes_splicing\\spliced_distribution.py:246: IntegrationWarning: The algorithm does not converge.  Roundoff error is detected\n",
      "  in the extrapolation table.  It is assumed that the requested tolerance\n",
      "  cannot be achieved, and that the returned result (if full_output = 1) is \n",
      "  the best which can be obtained.\n",
      "  return(sc.integrate.quad(lambda x: x*self.pdf(parms, x), 0, np.inf)[0])\n"
     ]
    },
    {
     "name": "stdout",
     "output_type": "stream",
     "text": [
      "33 Inverse-Gaussian_GPD-Tail_continuous\n",
      "34 Inverse-Gaussian_Inverse-Gamma_continuous\n"
     ]
    },
    {
     "name": "stderr",
     "output_type": "stream",
     "text": [
      "C:\\Users\\pierr\\anaconda3\\lib\\site-packages\\bayes_splicing\\spliced_distribution.py:246: IntegrationWarning: The integral is probably divergent, or slowly convergent.\n",
      "  return(sc.integrate.quad(lambda x: x*self.pdf(parms, x), 0, np.inf)[0])\n"
     ]
    },
    {
     "name": "stdout",
     "output_type": "stream",
     "text": [
      "35 Inverse-Gaussian_Inverse-Weibull_continuous\n"
     ]
    },
    {
     "name": "stderr",
     "output_type": "stream",
     "text": [
      "C:\\Users\\pierr\\anaconda3\\lib\\site-packages\\bayes_splicing\\spliced_distribution.py:246: IntegrationWarning: The integral is probably divergent, or slowly convergent.\n",
      "  return(sc.integrate.quad(lambda x: x*self.pdf(parms, x), 0, np.inf)[0])\n"
     ]
    },
    {
     "name": "stdout",
     "output_type": "stream",
     "text": [
      "36 Lognormal_Weibull_continuous\n",
      "37 Lognormal_Lognormal_continuous\n",
      "38 Lognormal_Log-Logistic_continuous\n"
     ]
    },
    {
     "name": "stderr",
     "output_type": "stream",
     "text": [
      "C:\\Users\\pierr\\anaconda3\\lib\\site-packages\\bayes_splicing\\spliced_distribution.py:246: IntegrationWarning: The algorithm does not converge.  Roundoff error is detected\n",
      "  in the extrapolation table.  It is assumed that the requested tolerance\n",
      "  cannot be achieved, and that the returned result (if full_output = 1) is \n",
      "  the best which can be obtained.\n",
      "  return(sc.integrate.quad(lambda x: x*self.pdf(parms, x), 0, np.inf)[0])\n",
      "C:\\Users\\pierr\\anaconda3\\lib\\site-packages\\bayes_splicing\\spliced_distribution.py:249: IntegrationWarning: The integral is probably divergent, or slowly convergent.\n",
      "  return(sc.integrate.quad(lambda x: min(x - P, L) * self.pdf(parms, x), P, np.inf)[0])\n"
     ]
    },
    {
     "name": "stdout",
     "output_type": "stream",
     "text": [
      "39 Lognormal_Lomax_continuous\n",
      "40 Lognormal_Burr_continuous\n"
     ]
    },
    {
     "name": "stderr",
     "output_type": "stream",
     "text": [
      "C:\\Users\\pierr\\anaconda3\\lib\\site-packages\\bayes_splicing\\spliced_distribution.py:246: IntegrationWarning: The maximum number of subdivisions (50) has been achieved.\n",
      "  If increasing the limit yields no improvement it is advised to analyze \n",
      "  the integrand in order to determine the difficulties.  If the position of a \n",
      "  local difficulty can be determined (singularity, discontinuity) one will \n",
      "  probably gain from splitting up the interval and calling the integrator \n",
      "  on the subranges.  Perhaps a special-purpose integrator should be used.\n",
      "  return(sc.integrate.quad(lambda x: x*self.pdf(parms, x), 0, np.inf)[0])\n",
      "C:\\Users\\pierr\\anaconda3\\lib\\site-packages\\bayes_splicing\\spliced_distribution.py:249: IntegrationWarning: The integral is probably divergent, or slowly convergent.\n",
      "  return(sc.integrate.quad(lambda x: min(x - P, L) * self.pdf(parms, x), P, np.inf)[0])\n"
     ]
    },
    {
     "name": "stdout",
     "output_type": "stream",
     "text": [
      "41 Lognormal_Pareto-Tail_continuous\n",
      "42 Lognormal_GPD-Tail_continuous\n",
      "43 Lognormal_Inverse-Gamma_continuous\n",
      "44 Lognormal_Inverse-Weibull_continuous\n",
      "45 Inverse-Weibull_Weibull_continuous\n",
      "46 Inverse-Weibull_Lognormal_continuous\n",
      "47 Inverse-Weibull_Log-Logistic_continuous\n",
      "48 Inverse-Weibull_Lomax_continuous\n",
      "49 Inverse-Weibull_Burr_continuous\n",
      "50 Inverse-Weibull_Pareto-Tail_continuous\n",
      "51 Inverse-Weibull_GPD-Tail_continuous\n",
      "52 Inverse-Weibull_Inverse-Gamma_continuous\n",
      "53 Inverse-Weibull_Inverse-Weibull_continuous\n"
     ]
    },
    {
     "name": "stderr",
     "output_type": "stream",
     "text": [
      "C:\\Users\\pierr\\anaconda3\\lib\\site-packages\\bayes_splicing\\spliced_distribution.py:246: IntegrationWarning: The integral is probably divergent, or slowly convergent.\n",
      "  return(sc.integrate.quad(lambda x: x*self.pdf(parms, x), 0, np.inf)[0])\n"
     ]
    }
   ],
   "source": [
    "nobs = 250\n",
    "Xs = [f_true.sample(parms_true, nobs) for k in range(4)]\n",
    "i = 27\n",
    "k = 0\n",
    "popSize, ρ, c, n_step_max, err, paralell, n_proc, verbose = 100, 1/2, 0.99, 25, 1e-6, False, 4, False\n",
    "res = []\n",
    "for i in range(len(fs)):\n",
    "    print(i, f_names[i])\n",
    "    trace, log_marg, DIC, WAIC = bs.smc(Xs[k], fs[i], popSize, prior_spliced_model[i], ρ, c,n_step_max, err, paralell, 4, verbose)\n",
    "    VaRs = [fs[i].ppf(trace.mean().values, prob) for prob in [0.95, 0.99, 0.995]]\n",
    "    premiums = fs[i].PP(trace.mean().values), fs[i].XOLP(trace.mean().values, P, L)\n",
    "    PnLs = np.array(fs[i].PnL(trace.mean().values, P, L, expo, premiums, safety_loadings = [0.05, 0.05], n_sim = 10))\n",
    "    caps = np.quantile(PnLs, [0.005, 0.01, 0.05])\n",
    "    res.append(np.array([k, f_names[i], log_marg] + VaRs + caps.tolist()))\n",
    "\n",
    "# def fit_spliced_models(i):\n",
    "#     print(f_names[i])\n",
    "#     trace, log_marg, DIC, WAIC = bs.smc(X, fs[i], popSize, prior_spliced_model[i], ρ, c,n_step_max, err, paralell, 4, verbose)\n",
    "#     return([trace, log_marg, DIC, WAIC])\n",
    "\n",
    "# splits, res = 2, []\n",
    "# for k in range(splits):\n",
    "#     print(\"Model batch #\"+str(k))\n",
    "#     %time res_sub = Parallel(n_jobs=int(len(fs)/splits))(delayed(fit_spliced_models)(i) for i in range(int(k * len(f_names) / splits), int((k+1) * len(f_names)/splits)))\n",
    "#     res += res_sub\n"
   ]
  },
  {
   "cell_type": "code",
   "execution_count": null,
   "id": "2f49d71f-fc91-4139-8243-b5825bea7575",
   "metadata": {},
   "outputs": [],
   "source": [
    "df = pd.DataFrame(res)\n",
    "df.columns = [\"model_name\", \"log_marg\", \"q95\", \"q99\", \"q995\", \"cap005\", \"cap01\",  \"cap05\"]\n",
    "df"
   ]
  },
  {
   "cell_type": "code",
   "execution_count": null,
   "id": "0c26b526-1fcd-4087-ad0c-8e08a5023d95",
   "metadata": {},
   "outputs": [],
   "source": []
  }
 ],
 "metadata": {
  "kernelspec": {
   "display_name": "Python 3 (ipykernel)",
   "language": "python",
   "name": "python3"
  },
  "language_info": {
   "codemirror_mode": {
    "name": "ipython",
    "version": 3
   },
   "file_extension": ".py",
   "mimetype": "text/x-python",
   "name": "python",
   "nbconvert_exporter": "python",
   "pygments_lexer": "ipython3",
   "version": "3.9.7"
  }
 },
 "nbformat": 4,
 "nbformat_minor": 5
}
