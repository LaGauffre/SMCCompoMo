{
 "cells": [
  {
   "cell_type": "code",
   "execution_count": 1,
   "id": "cb221404-525e-4fd8-8e76-99c3b3e08176",
   "metadata": {},
   "outputs": [],
   "source": [
    "%run preamble_scripts.py"
   ]
  },
  {
   "cell_type": "markdown",
   "id": "14b6c21d-4a4c-42e5-817c-6119f19a74e7",
   "metadata": {},
   "source": [
    "# Simulation study: the well specified case 500 observations"
   ]
  },
  {
   "cell_type": "code",
   "execution_count": 2,
   "id": "989b767d-d6f6-49ab-9688-ff473598acf7",
   "metadata": {},
   "outputs": [],
   "source": [
    "n_sim, nobs, expo = 100, 500, 250\n",
    "err_pnl, popsize = 3e5, 5000"
   ]
  },
  {
   "cell_type": "code",
   "execution_count": 3,
   "id": "turkish-shoulder",
   "metadata": {},
   "outputs": [
    {
     "name": "stdout",
     "output_type": "stream",
     "text": [
      "CPU times: user 39.6 ms, sys: 0 ns, total: 39.6 ms\n",
      "Wall time: 39.6 ms\n"
     ]
    },
    {
     "data": {
      "text/plain": [
       "array([-433.78618324, -119.00500314,  -52.95173865])"
      ]
     },
     "execution_count": 3,
     "metadata": {},
     "output_type": "execute_result"
    }
   ],
   "source": [
    "# Setting the true model\n",
    "f1, f2 = bs.loss_model(\"Weibull\", [\"k1\", \"β1\"]), bs.loss_model(\"Lomax\", [\"α2\", \"σ2\"])\n",
    "f_true = bs.spliced_loss_model(f1, f2, \"continuous\")\n",
    "parms_true = np.array([1/2, 1, 2.5, 3, 1.5])\n",
    "\n",
    "f_true.set_ppf(), f_true.set_pdf(),f_true.set_cdf()\n",
    "\n",
    "# We set the priority to the 90% quantile and the limit to the 0.99% quantile\n",
    "P, L = f_true.ppf(parms_true, 0.9), f_true.ppf(parms_true, 0.99)\n",
    "premiums = f_true.PP(parms_true), f_true.XOLP(parms_true, P, L)\n",
    "\n",
    "%time PnLs = np.array(f_true.PnL(parms_true, P, L, expo, premiums, safety_loadings = [0.05, 0.05],  n_sim = err_pnl))\n",
    "true_VaRs = [f_true.ppf(parms_true, prob) for prob in [0.95, 0.99, 0.995]]\n",
    "true_cap = np.quantile(PnLs, [0.005, 0.01, 0.05])\n",
    "true_cap"
   ]
  },
  {
   "cell_type": "markdown",
   "id": "b91cc7af-dca7-4597-ae6f-c0cbe92b571f",
   "metadata": {},
   "source": [
    "We are interested in the estimations of the extreme quantile of the claim size distribution (of order 0.95, 0.99, 0.995) and the quantile of the aggregate losses over one year with a XOL reinsurance agreement"
   ]
  },
  {
   "cell_type": "code",
   "execution_count": 6,
   "id": "ef9f2d38-e4ba-4ac6-9c73-c87a6cf4c590",
   "metadata": {},
   "outputs": [
    {
     "name": "stdout",
     "output_type": "stream",
     "text": [
      "CPU times: user 130 ms, sys: 12.2 ms, total: 142 ms\n",
      "Wall time: 34.8 s\n"
     ]
    }
   ],
   "source": [
    "Xs = [f_true.sample(parms_true, nobs) for k in range(n_sim)]\n",
    "def fit_one(k, f, f_name,  prior, X):\n",
    "    trace, log_marg, DIC, WAIC = bs.smc(X, f, popsize, prior, verbose = False)\n",
    "    PnLs = np.array(f.PnL(trace.mean().values, P, L, expo, premiums, safety_loadings = [0.05, 0.05],  n_sim = err_pnl))\n",
    "    cap = np.quantile(PnLs, [0.005, 0.01, 0.05])\n",
    "    return([k, f_name , nobs, log_marg, trace[\"γ\"].mean(), parms_true[-1] ] + cap.tolist() + true_cap.tolist())\n",
    "def fit_all(k):\n",
    "    print(\"simulation #\"+ str(k))\n",
    "    col_names = [\"sim\", \"model_name\", \"nobs\", \"log_marg\", \"γ_map\", \"γ_true\", \"cap005\", \"cap01\", \"cap05\", \"cap005_true\", \"cap01_true\", \"cap05_true\" ]\n",
    "    df_temp = pd.DataFrame([fit_one(k, fs[i], f_names[i], prior_spliced_model[i], Xs[k]) for i in range(len(fs))], columns = col_names)\n",
    "    df_temp['posterior_probability'] = np.exp(df_temp['log_marg'].values - np.max(df_temp['log_marg'].values)) / \\\n",
    "    np.sum(np.exp(df_temp['log_marg'].values - np.max(df_temp['log_marg'].values)))  \n",
    "    γ_BMA = np.dot(df_temp['posterior_probability'].values, df_temp['γ_map'])\n",
    "    cap_bma = np.dot(df_temp['posterior_probability'].values, df_temp[[\"cap005\", \"cap01\", \"cap05\"]].values)\n",
    "    BMA_df = pd.DataFrame([[k, \"BMA\" , nobs, None, γ_BMA, parms_true[-1] ] + cap_bma.tolist() + true_cap.tolist()],\n",
    "            columns = col_names)\n",
    "    df_temp = pd.concat([df_temp, BMA_df])\n",
    "    return(df_temp)\n",
    "%time res = Parallel(n_jobs= 50)(delayed(fit_all)(k) for k in range(n_sim))\n",
    "pd.concat(res).to_csv(\"../../Data/Simulations/simu_wellspec_\"+str(nobs)+\".csv\", sep=',')"
   ]
  },
  {
   "cell_type": "code",
   "execution_count": null,
   "id": "massive-porcelain",
   "metadata": {},
   "outputs": [],
   "source": [
    "pd.concat(res)"
   ]
  },
  {
   "cell_type": "code",
   "execution_count": null,
   "id": "convertible-arlington",
   "metadata": {},
   "outputs": [],
   "source": []
  }
 ],
 "metadata": {
  "kernelspec": {
   "display_name": "Python 3 (ipykernel)",
   "language": "python",
   "name": "python3"
  },
  "language_info": {
   "codemirror_mode": {
    "name": "ipython",
    "version": 3
   },
   "file_extension": ".py",
   "mimetype": "text/x-python",
   "name": "python",
   "nbconvert_exporter": "python",
   "pygments_lexer": "ipython3",
   "version": "3.9.7"
  }
 },
 "nbformat": 4,
 "nbformat_minor": 5
}
