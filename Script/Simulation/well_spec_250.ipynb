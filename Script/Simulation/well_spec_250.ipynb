{
 "cells": [
  {
   "cell_type": "code",
   "execution_count": 1,
   "id": "cb221404-525e-4fd8-8e76-99c3b3e08176",
   "metadata": {},
   "outputs": [],
   "source": [
    "%run preamble_scripts.py"
   ]
  },
  {
   "cell_type": "markdown",
   "id": "14b6c21d-4a4c-42e5-817c-6119f19a74e7",
   "metadata": {},
   "source": [
    "# Simulation study: the well specified case 250 observations"
   ]
  },
  {
   "cell_type": "code",
   "execution_count": 2,
   "id": "989b767d-d6f6-49ab-9688-ff473598acf7",
   "metadata": {},
   "outputs": [],
   "source": [
    "expo = 250\n",
    "# Setting the true model\n",
    "f1, f2 = bs.loss_model(\"Gamma\", [\"r1\", \"m1\"]), bs.loss_model(\"Lomax\", [\"α2\", \"σ2\"])\n",
    "f_true = bs.spliced_loss_model(f1, f2, \"continuous\")\n",
    "parms_true = np.array([1/2, 1, 2.5, 3, 1.5])\n",
    "f_true.set_ppf(), f_true.set_pdf(),f_true.set_cdf()\n",
    "\n",
    "# We set the priority to the 90% quantile and the limit to the 0.99% quantile\n",
    "P, L = f_true.ppf(parms_true, 0.9), f_true.ppf(parms_true, 0.99)\n",
    "premiums = f_true.PP(parms_true), f_true.XOLP(parms_true, P, L)\n",
    "\n",
    "PnLs = np.array(f_true.PnL(parms_true, P, L, expo, premiums, safety_loadings = [0.05, 0.05], n_sim = 10))"
   ]
  },
  {
   "cell_type": "markdown",
   "id": "b91cc7af-dca7-4597-ae6f-c0cbe92b571f",
   "metadata": {},
   "source": [
    "We are interested in the estimations of the extreme quantile of the claim size distribution (of order 0.95, 0.99, 0.995) and the quantile of the aggregate losses over one year with a XOL reinsurance agreement"
   ]
  },
  {
   "cell_type": "code",
   "execution_count": 3,
   "id": "fb9b0c23-e77b-4939-9d9e-043c59cb9b1b",
   "metadata": {},
   "outputs": [
    {
     "data": {
      "text/plain": [
       "array([-10.79364386, -10.70701413, -10.01397631])"
      ]
     },
     "execution_count": 3,
     "metadata": {},
     "output_type": "execute_result"
    }
   ],
   "source": [
    "true_VaRs = [f_true.ppf(parms_true, prob) for prob in [0.95, 0.99, 0.995]]\n",
    "true_cap = np.quantile(PnLs, [0.005, 0.01, 0.05])\n",
    "true_cap"
   ]
  },
  {
   "cell_type": "code",
   "execution_count": 4,
   "id": "7dd2abf5-8de3-4ea8-8f75-29b2e578a1ed",
   "metadata": {},
   "outputs": [
    {
     "data": {
      "text/plain": [
       "110"
      ]
     },
     "execution_count": 4,
     "metadata": {},
     "output_type": "execute_result"
    }
   ],
   "source": [
    "# Model for the bulk distribution\n",
    "body_model_names = [\"Exp\", \"Gamma\", \"Weibull\", \"Lognormal\", \"Inverse-Weibull\", \"Inverse-Gamma\", \"Inverse-Gaussian\", \"Lomax\", \"Log-Logistic\", \"Burr\"]\n",
    "body_model_param_names = [ [\"λ1\"], [\"r1\", \"m1\"], [\"k1\", \"β1\"],\n",
    "                          [\"μ1\", \"σ1\"], [\"k1\", \"β1\"], [\"r1\", \"m1\"], [\"μ1\", \"λ1\"], [\"α1\", \"σ1\"], [\"β1\", \"σ1\"], [\"α1\", \"β1\", \"σ1\"] ]\n",
    "\n",
    "# Prior distributions over the parameters of the bulk distribution\n",
    "body_model_priors= [ \n",
    "    [bs.prior_model('gamma',body_model_param_names[0][0], 1, 1)], \n",
    "     [bs.prior_model('gamma',body_model_param_names[1][0], 1, 1), bs.prior_model('gamma',body_model_param_names[1][1], 1, 1)],\n",
    "    [bs.prior_model('gamma',body_model_param_names[2][0], 1, 1), bs.prior_model('gamma',body_model_param_names[2][1], 1, 1)],\n",
    "    [bs.prior_model('normal',body_model_param_names[3][0], 0, 0.5), bs.prior_model('gamma',body_model_param_names[3][1], 1, 1)],\n",
    "     [bs.prior_model('gamma',body_model_param_names[4][0], 1, 1), bs.prior_model('gamma',body_model_param_names[4][1], 1, 1)], \n",
    "    [bs.prior_model('gamma',body_model_param_names[5][0], 1, 1), bs.prior_model('gamma',body_model_param_names[5][1], 1, 1)], \n",
    "    [bs.prior_model('gamma',body_model_param_names[6][0], 1, 1), bs.prior_model('gamma',body_model_param_names[6][1], 1, 1)], \n",
    "    [bs.prior_model('gamma',body_model_param_names[7][0], 1, 1), bs.prior_model('gamma',body_model_param_names[7][1], 1, 1)], \n",
    "    [bs.prior_model('gamma',body_model_param_names[8][0], 1, 1), bs.prior_model('gamma',body_model_param_names[8][1], 1, 1)],\n",
    "    [bs.prior_model('gamma',body_model_param_names[9][0], 1, 1), bs.prior_model('gamma',body_model_param_names[9][1], 1, 1), \n",
    "     bs.prior_model('gamma',body_model_param_names[9][2], 1, 1)]\n",
    "]\n",
    "\n",
    "# Model for the tail of the distribution\n",
    "tail_model_names = [\"Weibull\", \"Lognormal\", \"Log-Logistic\", \"Lomax\", \"Burr\", \"Pareto-Tail\", \"GPD-Tail\", \"Inverse-Gamma\", \"Inverse-Weibull\", \"Exp\", \"Gamma\"]\n",
    "\n",
    "tail_model_param_names = [[\"k2\", \"β2\"], [\"μ2\", \"σ2\"], [\"β2\", \"σ2\"], [\"α2\", \"σ2\"], [\"α2\", \"β2\", \"σ2\"], [\"α2\"], [\"ξ2\",\"σ2\"], [\"r2\", \"m2\"], [\"k2\", \"β2\"], [\"λ2\"], [\"r2\", \"m2\"]]\n",
    "\n",
    "# Prior distributions over the parameters of the bulk distribution\n",
    "tail_model_priors= [\n",
    "                [bs.prior_model('gamma',tail_model_param_names[0][0], 1, 1), bs.prior_model('gamma',tail_model_param_names[0][1], 1, 1)],\n",
    "                [bs.prior_model('normal',tail_model_param_names[1][0], 0, 0.5), bs.prior_model('gamma',tail_model_param_names[1][1], 1, 1)],\n",
    "                [bs.prior_model('gamma',tail_model_param_names[2][0], 1, 1), bs.prior_model('gamma',tail_model_param_names[2][1], 1, 1)],\n",
    "                [bs.prior_model('gamma',tail_model_param_names[3][0], 1, 1), bs.prior_model('gamma',tail_model_param_names[3][1], 1, 1)],\n",
    "                [bs.prior_model('gamma',tail_model_param_names[4][0], 1, 1), bs.prior_model('gamma',tail_model_param_names[4][1], 1, 1), bs.prior_model('gamma',tail_model_param_names[4][2], 1, 1)],\n",
    "                [bs.prior_model('gamma',tail_model_param_names[5][0], 1, 1)],\n",
    "                [bs.prior_model('gamma',tail_model_param_names[6][0], 1, 1), bs.prior_model('gamma',tail_model_param_names[6][1], 1, 1)],\n",
    "                [bs.prior_model('gamma',tail_model_param_names[7][0], 1, 1), bs.prior_model('gamma',tail_model_param_names[7][1], 1, 1)],\n",
    "                [bs.prior_model('gamma',tail_model_param_names[8][0], 1, 1), bs.prior_model('gamma',tail_model_param_names[8][1], 1, 1)],\n",
    "                [bs.prior_model('gamma',tail_model_param_names[9][0], 1, 1)],\n",
    "                [bs.prior_model('gamma',tail_model_param_names[10][0], 1, 1), bs.prior_model('gamma',tail_model_param_names[10][1], 1, 1)]\n",
    "]\n",
    "\n",
    "γ_prior = bs.prior_model('gamma',\"γ\", 1, 1)\n",
    "\n",
    "#Splicing model type\n",
    "splicing_types = [\"continuous\"]\n",
    "\n",
    "# Setting the models\n",
    "fs, f_names, prior_spliced_model = [], [], []\n",
    "for i in range(len(body_model_names)):\n",
    "    for j in range(len(tail_model_names)):\n",
    "        for splicing_type in splicing_types:\n",
    "            f1, f2 =  bs.loss_model(body_model_names[i], body_model_param_names[i]), bs.loss_model(tail_model_names[j], tail_model_param_names[j])\n",
    "            fs.append(bs.spliced_loss_model(f1 , f2, splicing_type))\n",
    "            f_names.append(body_model_names[i] +\"_\"+ tail_model_names[j]+\"_\"+splicing_type)\n",
    "            if splicing_type == \"disjoint\": \n",
    "                prior_spliced_model.append(bs.independent_priors(body_model_priors[i] + tail_model_priors[j] + [γ_prior, p_prior]))\n",
    "            else:\n",
    "                prior_spliced_model.append(bs.independent_priors(body_model_priors[i] + tail_model_priors[j] + [γ_prior]))  \n",
    "for f in fs:\n",
    "    f.set_ppf(), f.set_cdf(), f.set_pdf() \n",
    "f_spliced_dic = dict(zip(f_names, fs))\n",
    "prior_dic = dict(zip(f_names, prior_spliced_model))\n",
    "len(fs)"
   ]
  },
  {
   "cell_type": "code",
   "execution_count": 6,
   "id": "ef9f2d38-e4ba-4ac6-9c73-c87a6cf4c590",
   "metadata": {},
   "outputs": [],
   "source": [
    "nobs, n_sim = expo, 2\n",
    "Xs = [f_true.sample(parms_true, nobs) for k in range(n_sim)]\n",
    "popSize, ρ, c, n_step_max, err, paralell, n_proc, verbose = 10, 1/2, 0.99, 25, 1e-6, False, 4, False\n",
    "dfs = []\n",
    "for k in range(n_sim):\n",
    "    print(\"Simulation #\"+str(k))\n",
    "    def fit_spliced_models(i):\n",
    "        trace, log_marg, DIC, WAIC = bs.smc(Xs[k], fs[i], popSize, prior_spliced_model[i], ρ, c,n_step_max, err, paralell, 4, verbose)\n",
    "        VaRs = [fs[i].ppf(trace.mean().values, prob) for prob in [0.95, 0.99, 0.995]]\n",
    "#         premiums = fs[i].PP(trace.mean().values), fs[i].XOLP(trace.mean().values, P, L)\n",
    "#         PnLs = np.array(fs[i].PnL(trace.mean().values, P, L, expo, premiums, safety_loadings = [0.05, 0.05], n_sim = int(1e5)))\n",
    "#         caps = np.quantile(PnLs, [0.005, 0.01, 0.05])\n",
    "        Wass_dist = bs.compute_Wasserstein(Xs[k], fs[i], trace.mean().values, 1)\n",
    "        return(np.array([k, f_names[i], nobs, trace[\"γ\"].mean(), log_marg, Wass_dist] + VaRs))\n",
    "    %time res = Parallel(n_jobs= 40)(delayed(fit_spliced_models)(i) for i in range(len(fs)))\n",
    "    df = pd.DataFrame(res, columns = [\"sim\", \"model_name\", \"nobs\", \"γ_map\", \"log_marg\", \"Wass_dist\", \"q95\", \"q99\", \"q995\"])\n",
    "    df[df.columns[2:]] = df[df.columns[2:]].astype(float)\n",
    "\n",
    "    df[\"posterior_probability\"] = np.exp(df[\"log_marg\"] - np.max(df[\"log_marg\"])) / np.sum(np.exp(df[\"log_marg\"] - np.max(df[\"log_marg\"]))) \n",
    "    dfs.append(df)\n"
   ]
  },
  {
   "cell_type": "code",
   "execution_count": 6,
   "id": "2f49d71f-fc91-4139-8243-b5825bea7575",
   "metadata": {},
   "outputs": [],
   "source": [
    "pd.concat(dfs).to_csv(\"../../Data/Simulations/simu_well_spec_\"+str(expo)+\".csv\", sep=',')\n",
    "with open('../../Data/Simulations/sim_data_'+str(expo)+'.obj', 'wb') as fp:\n",
    "    pickle.dump(Xs, fp)"
   ]
  },
  {
   "cell_type": "code",
   "execution_count": 7,
   "id": "interested-action",
   "metadata": {},
   "outputs": [],
   "source": [
    "with open('../../Data/Simulations/sim_data_'+str(expo)+'.obj', 'wb') as fp:\n",
    "    pickle.dump(Xs, fp)"
   ]
  },
  {
   "cell_type": "code",
   "execution_count": 11,
   "id": "apart-lounge",
   "metadata": {},
   "outputs": [],
   "source": [
    "favorite_color = pickle.load( open( \"../../Data/Simulations/sim_data_250.obj\", \"rb\" ) )\n",
    "# for k in range(n_sim):\n",
    "#     best_models= df_final[df_final.sim == str(k)].sort_values(by='log_marg', ascending=False).iloc[:10]\n",
    "#     print(best_models)"
   ]
  },
  {
   "cell_type": "code",
   "execution_count": 12,
   "id": "selective-perfume",
   "metadata": {},
   "outputs": [
    {
     "data": {
      "text/plain": [
       "[array([1.52164909e-01, 7.32371844e-01, 1.19857396e-01, 8.25188794e-01,\n",
       "        1.47358469e+00, 3.02820324e+00, 2.12038408e+01, 1.75394423e-01,\n",
       "        1.00086669e+01, 1.19620566e+00, 4.96739655e-02, 3.48922355e+00,\n",
       "        1.61145149e-01, 2.25610034e+00, 1.45157522e+00, 1.11443149e-01,\n",
       "        2.26185748e-03, 1.24909844e+00, 1.21273885e-01, 1.91641645e+00,\n",
       "        3.69097571e-01, 5.96121010e-01, 5.69808271e-02, 3.83735087e-03,\n",
       "        1.74101491e-01, 1.05766239e+00, 3.23558300e-01, 1.31891744e+00,\n",
       "        6.07664023e-02, 2.90487099e-03, 6.08133916e-02, 3.30596157e-01,\n",
       "        3.33273758e+00, 1.09723322e+00, 8.95495436e-01, 1.08143316e-01,\n",
       "        1.40878058e+00, 2.99406093e-01, 2.09052785e-01, 8.18320313e-01,\n",
       "        6.08945240e-01, 1.49347947e+00, 1.00643786e+00, 6.50493899e-01,\n",
       "        7.09283667e-01, 8.84273743e-03, 4.98292382e-01, 1.03501848e-02,\n",
       "        5.51539029e-01, 6.76489812e-01, 2.46849177e+00, 5.32326884e-02,\n",
       "        4.84925076e-01, 1.64120530e+00, 9.80026582e+00, 1.57959555e+00,\n",
       "        1.74175869e-01, 1.38821277e-01, 9.97734857e-01, 3.77108654e-01,\n",
       "        7.95951453e-04, 1.94594294e-01, 8.15420822e-02, 2.16250324e-01,\n",
       "        5.90148610e-01, 3.75071622e-02, 2.22170514e-02, 1.73437305e-01,\n",
       "        2.43522916e-01, 5.33176274e-01, 6.28355665e-01, 2.06905081e-01,\n",
       "        5.57728842e-04, 6.94527961e-02, 5.69168317e-01, 1.74235716e-04,\n",
       "        2.12476551e+00, 2.44778176e+00, 7.99024938e-01, 2.56494639e-02,\n",
       "        5.15824148e-02, 1.15802681e+00, 6.58179788e-02, 7.30007196e-01,\n",
       "        1.52697430e+00, 1.76299223e-01, 5.65117055e+00, 1.36506611e+00,\n",
       "        1.91766595e-01, 1.03405709e-04, 2.37511401e-02, 2.10898300e-01,\n",
       "        1.29372279e-01, 2.98680608e-01, 4.30052318e+00, 4.26896713e-03,\n",
       "        4.74269887e-01, 6.39375862e+00, 1.32299649e-02, 2.68361192e-02,\n",
       "        3.44258722e-01, 4.98190267e-01, 1.45467930e+00, 5.09883861e+00,\n",
       "        3.20595130e-01, 2.27388692e+01, 9.32102135e-02, 2.65835163e-01,\n",
       "        2.62425354e+00, 1.23336525e+00, 5.41188246e-02, 6.24294993e-02,\n",
       "        5.16139432e-01, 4.78246436e-03, 9.06017323e-02, 4.91125780e-04,\n",
       "        4.95381598e-03, 4.09056147e-01, 5.17560949e-01, 2.93811258e-02,\n",
       "        3.73309952e-01, 3.40871422e-01, 2.37027864e-02, 2.71980969e-01,\n",
       "        1.68573682e-01, 1.17181692e+00, 2.51546060e-01, 4.38455643e-02,\n",
       "        6.88223199e+00, 6.69273048e+00, 9.28333452e-02, 4.67504426e-01,\n",
       "        2.10371872e-01, 2.35262122e-02, 1.94712220e+00, 1.19668841e-01,\n",
       "        6.83681517e-01, 1.29594743e-06, 3.38201221e-03, 1.61813121e+00,\n",
       "        2.69340674e-01, 8.50822071e-02, 7.24783935e-02, 1.49889554e-02,\n",
       "        2.64417054e-03, 3.85366894e-01, 7.36334112e-03, 1.20030798e+00,\n",
       "        2.11069278e-02, 5.79951600e-04, 1.96191310e-01, 8.05066233e-02,\n",
       "        2.52458239e+01, 1.79776782e+00, 9.04062715e-01, 1.04787905e+00,\n",
       "        1.42344180e-03, 1.08522467e-01, 2.20384324e-01, 5.73424308e-01,\n",
       "        2.90810331e-01, 1.28691520e+00, 3.05793908e-02, 3.22333330e-02,\n",
       "        5.71354934e-01, 3.97334522e-01, 2.71494141e-01, 3.45144832e-01,\n",
       "        5.78621984e+00, 2.77587363e+00, 2.28545944e-01, 1.52631138e-01,\n",
       "        1.05569799e+00, 1.89208848e-03, 1.67709062e-03, 1.72502019e-01,\n",
       "        8.56652561e-01, 2.03406694e+00, 6.07236323e-02, 9.67767772e-01,\n",
       "        1.29655890e-01, 4.43666030e+00, 2.66800729e-01, 4.09329401e-01,\n",
       "        3.67849864e-02, 4.45020693e+00, 1.72998400e-01, 1.53666627e-03,\n",
       "        3.40219227e+00, 3.43133387e+00, 8.26647846e-01, 1.64855018e-09,\n",
       "        2.23466065e-02, 1.88303668e-01, 6.78182056e-03, 1.09303351e-01,\n",
       "        8.21891490e+00, 5.55148216e-01, 3.18343588e-01, 1.45176341e+00,\n",
       "        3.76926672e-01, 9.53235602e-01, 5.23251908e-02, 2.48541860e-01,\n",
       "        3.12731030e-01, 1.96825896e+00, 5.06396054e-01, 2.64047515e+00,\n",
       "        4.09207314e-02, 2.67139272e-01, 1.32954978e-01, 9.75195450e-01,\n",
       "        1.14666377e-01, 4.29752087e-01, 2.32019980e-01, 2.16540858e+00,\n",
       "        3.12696748e-01, 1.10617084e+00, 8.42704145e+00, 2.01135765e-04,\n",
       "        3.54287434e-02, 8.21438911e-02, 6.19167748e-01, 4.38400622e-01,\n",
       "        3.73446294e-02, 2.34039768e+00, 3.28673846e-01, 5.06018549e-02,\n",
       "        2.79062455e-02, 2.22962868e-02, 1.35691986e+00, 1.30397309e-02,\n",
       "        3.30337956e-02, 1.01090619e+00, 7.63690881e-01, 8.77341617e-01,\n",
       "        1.01960267e+01, 4.54282778e+00, 2.85134868e-01, 4.01036737e-01,\n",
       "        1.13764844e-01, 6.22661484e-02, 1.34121393e-02, 4.75230993e+00,\n",
       "        1.47017025e-02, 9.29384396e-03, 1.86806313e-01, 7.74344590e-01,\n",
       "        3.96656693e+00, 5.23990323e+00]),\n",
       " array([3.97181415e+00, 1.74995899e-02, 1.06195884e-01, 6.25197502e-03,\n",
       "        1.81096665e-01, 6.98906098e-01, 4.43572913e-02, 1.54883446e+00,\n",
       "        2.39079484e-01, 1.69143211e-02, 1.88529880e-01, 1.34235344e-02,\n",
       "        9.22077653e-03, 4.21962611e-01, 1.09889732e-01, 2.68859431e+00,\n",
       "        1.01544729e+00, 1.51028476e-02, 1.02924736e-01, 5.16447922e-02,\n",
       "        9.78280528e-01, 5.83404296e-02, 1.92087394e-01, 2.69080813e+00,\n",
       "        1.04138952e+00, 2.29398701e+00, 5.96891889e+00, 1.42548458e-02,\n",
       "        7.93644317e+00, 2.85772058e-01, 4.18281946e+00, 3.74926082e-01,\n",
       "        2.44868244e-03, 4.17019520e-01, 4.17235679e-01, 6.52179654e-04,\n",
       "        2.05790678e+00, 7.53140601e-01, 1.52355307e-01, 3.83204536e+00,\n",
       "        1.24354654e-01, 5.06434360e-01, 9.10678520e-01, 3.72506984e+00,\n",
       "        5.37755258e-02, 9.27221569e-03, 1.76694252e-02, 1.40419021e+00,\n",
       "        1.03027942e-01, 3.68918450e+00, 9.64427395e-03, 3.09823992e-03,\n",
       "        9.99279796e-01, 7.61517913e-01, 2.93693452e+00, 2.05422943e-01,\n",
       "        9.13480583e-02, 5.35701872e-03, 3.12444275e-02, 8.09127856e-02,\n",
       "        4.18306582e-02, 2.45329814e-02, 1.43681230e-02, 2.16742506e-03,\n",
       "        1.88161736e-01, 7.47693895e-01, 5.19094558e-01, 5.85129975e-02,\n",
       "        1.88708574e+00, 1.63975820e-01, 2.25144232e-01, 1.85835289e-01,\n",
       "        4.51445129e+00, 5.45170172e-02, 1.31629405e+00, 3.01626392e-02,\n",
       "        1.03580307e-01, 1.18135100e+00, 6.46392202e-02, 1.88284446e-02,\n",
       "        8.64863518e-02, 2.03630247e-01, 5.94058158e-02, 7.74674163e-01,\n",
       "        2.61745769e-01, 2.09333702e-03, 3.22060787e-01, 3.78109030e-02,\n",
       "        3.96235326e-01, 9.78635072e-01, 2.69437082e+00, 2.08659468e+00,\n",
       "        1.29560302e-03, 1.45091830e-01, 2.76093056e-01, 2.90908187e-01,\n",
       "        3.74714744e-01, 1.02532614e+00, 1.98516334e-02, 3.76583473e-01,\n",
       "        9.54415477e-01, 4.47660406e-01, 2.84985630e-03, 4.79630471e-03,\n",
       "        2.78294096e-03, 9.37408655e-01, 1.18596186e+00, 4.13330579e-02,\n",
       "        3.97130916e-01, 1.99780922e-01, 2.45065439e-01, 7.71374984e+00,\n",
       "        8.95999548e+00, 1.96030718e-01, 5.26104779e-01, 2.72934884e+00,\n",
       "        2.93711228e-01, 4.68216034e-02, 8.81079075e-01, 1.27465141e+00,\n",
       "        1.67133389e+00, 4.11798011e+00, 4.75304602e-03, 1.24908035e-02,\n",
       "        1.23500471e+00, 3.85802774e+00, 3.43639408e-01, 1.80727729e+00,\n",
       "        9.06412341e-02, 9.80546922e-04, 9.14883194e-02, 6.99887487e-02,\n",
       "        2.73052522e+00, 1.07226988e+00, 1.62916999e+00, 5.93348750e-01,\n",
       "        4.93297024e-01, 7.55867698e-01, 1.18347817e-01, 2.63433525e-02,\n",
       "        9.70805199e-02, 8.96604526e-01, 4.20140419e-01, 3.35680696e-02,\n",
       "        1.57679420e-02, 6.01934270e-01, 6.88633721e-01, 1.06906952e+00,\n",
       "        1.67537736e-02, 6.05282542e-01, 1.75806258e-04, 1.41755741e+00,\n",
       "        2.12431965e-01, 1.51979386e+00, 1.13971863e+00, 1.16005490e-02,\n",
       "        1.86568342e+00, 3.77891768e-01, 7.77382518e-01, 4.74000727e-02,\n",
       "        1.86687188e-01, 5.55553104e-02, 1.39262554e+00, 1.09281504e+00,\n",
       "        7.98164176e-01, 8.03071644e-02, 7.35640653e-01, 4.64860031e-01,\n",
       "        8.17429211e-02, 1.56856413e-04, 6.95772842e+00, 2.69541507e-01,\n",
       "        6.72372791e-01, 6.34511235e-02, 9.38188734e-01, 3.22742122e-02,\n",
       "        2.49463446e-02, 2.92361791e-01, 7.38357399e-01, 1.26871318e-04,\n",
       "        6.87919644e-02, 4.89135348e-01, 4.75722238e-01, 1.83025490e-01,\n",
       "        9.23782586e-02, 1.85639704e+00, 1.19707305e-01, 1.98224049e-01,\n",
       "        9.03597371e-01, 3.64265038e-03, 3.58205589e-01, 1.85329946e-02,\n",
       "        2.88579971e-02, 6.76763266e-01, 3.10530217e-02, 8.05461601e-01,\n",
       "        1.36653494e-01, 5.36548061e-01, 6.91057537e-02, 3.80710936e-01,\n",
       "        1.13096322e+00, 1.99107225e-02, 5.29868981e-01, 8.76909807e-02,\n",
       "        6.39785952e-01, 5.70160431e+00, 1.41614636e+00, 5.51196507e-01,\n",
       "        5.97436969e-01, 8.58958880e+00, 6.36384727e-02, 3.46038808e-03,\n",
       "        2.75930697e-01, 7.03253031e-01, 1.69555022e-01, 2.72861865e-02,\n",
       "        4.90519519e-02, 4.60123191e-01, 4.96440071e-01, 2.06961676e-01,\n",
       "        8.84136744e-01, 1.45524099e-01, 4.98930504e+00, 3.41317854e+00,\n",
       "        2.72061941e-01, 7.61712997e-02, 3.03018401e-01, 3.95052702e-01,\n",
       "        1.14116884e-01, 1.93919842e+00, 5.63941631e-02, 1.37289333e+00,\n",
       "        3.15756449e-01, 3.09952288e-01, 6.73463532e-01, 1.67264361e-01,\n",
       "        7.44635840e-01, 7.87477404e+00, 2.52636186e-01, 1.68218498e+00,\n",
       "        5.67875919e-02, 4.54197518e-02, 1.29121536e+01, 8.75659838e+00,\n",
       "        3.22215922e-03, 5.06930343e-01, 1.49948510e-01, 3.01035664e-01,\n",
       "        4.20113607e-02, 5.58320291e-01])]"
      ]
     },
     "execution_count": 12,
     "metadata": {},
     "output_type": "execute_result"
    }
   ],
   "source": [
    "favorite_color"
   ]
  },
  {
   "cell_type": "code",
   "execution_count": null,
   "id": "08b0548b-752b-4a5d-89bc-37cdc7075f05",
   "metadata": {},
   "outputs": [],
   "source": []
  }
 ],
 "metadata": {
  "kernelspec": {
   "display_name": "Python 3 (ipykernel)",
   "language": "python",
   "name": "python3"
  },
  "language_info": {
   "codemirror_mode": {
    "name": "ipython",
    "version": 3
   },
   "file_extension": ".py",
   "mimetype": "text/x-python",
   "name": "python",
   "nbconvert_exporter": "python",
   "pygments_lexer": "ipython3",
   "version": "3.9.7"
  }
 },
 "nbformat": 4,
 "nbformat_minor": 5
}
