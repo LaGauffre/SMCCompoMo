{
 "cells": [
  {
   "cell_type": "code",
   "execution_count": 1,
   "id": "cb221404-525e-4fd8-8e76-99c3b3e08176",
   "metadata": {
    "execution": {
     "iopub.execute_input": "2022-01-31T17:10:07.618624Z",
     "iopub.status.busy": "2022-01-31T17:10:07.618032Z",
     "iopub.status.idle": "2022-01-31T17:10:08.707610Z",
     "shell.execute_reply": "2022-01-31T17:10:08.708532Z"
    }
   },
   "outputs": [],
   "source": [
    "%run preamble_scripts.py"
   ]
  },
  {
   "cell_type": "markdown",
   "id": "14b6c21d-4a4c-42e5-817c-6119f19a74e7",
   "metadata": {},
   "source": [
    "# Simulation study: the well specified case 500 observations"
   ]
  },
  {
   "cell_type": "code",
   "execution_count": 2,
   "id": "989b767d-d6f6-49ab-9688-ff473598acf7",
   "metadata": {
    "execution": {
     "iopub.execute_input": "2022-01-31T17:10:08.713691Z",
     "iopub.status.busy": "2022-01-31T17:10:08.712603Z",
     "iopub.status.idle": "2022-01-31T17:10:08.714842Z",
     "shell.execute_reply": "2022-01-31T17:10:08.715739Z"
    }
   },
   "outputs": [],
   "source": [
    "n_sim, nobs, expo = 1000, 500, 250\n",
    "err_pnl, popsize = 3e5, 8000"
   ]
  },
  {
   "cell_type": "code",
   "execution_count": 3,
   "id": "turkish-shoulder",
   "metadata": {
    "execution": {
     "iopub.execute_input": "2022-01-31T17:10:08.726421Z",
     "iopub.status.busy": "2022-01-31T17:10:08.725296Z",
     "iopub.status.idle": "2022-01-31T17:10:49.352840Z",
     "shell.execute_reply": "2022-01-31T17:10:49.353738Z"
    }
   },
   "outputs": [
    {
     "name": "stdout",
     "output_type": "stream",
     "text": [
      "CPU times: user 39.6 s, sys: 27.1 ms, total: 39.7 s\n",
      "Wall time: 39.7 s\n"
     ]
    },
    {
     "data": {
      "text/plain": [
       "array([-169.54582835, -125.42571575,  -54.56573389])"
      ]
     },
     "execution_count": 1,
     "metadata": {},
     "output_type": "execute_result"
    }
   ],
   "source": [
    "# Setting the true model\n",
    "f1, f2 = bs.loss_model(\"Weibull\", [\"k1\", \"β1\"]), bs.loss_model(\"Lomax\", [\"α2\", \"σ2\"])\n",
    "f_true = bs.spliced_loss_model(f1, f2, \"continuous\")\n",
    "parms_true = np.array([1/2, 1, 2.5, 3, 1.5])\n",
    "\n",
    "f_true.set_ppf(), f_true.set_pdf(),f_true.set_cdf()\n",
    "\n",
    "# We set the priority to the 90% quantile and the limit to the 0.99% quantile\n",
    "P, L = f_true.ppf(parms_true, 0.9), f_true.ppf(parms_true, 0.99)\n",
    "premiums = f_true.PP(parms_true), f_true.XOLP(parms_true, P, L)\n",
    "\n",
    "%time PnLs = np.array(f_true.PnL(parms_true, P, L, expo, premiums, safety_loadings = [0.05, 0.05],  n_sim = err_pnl))\n",
    "true_VaRs = [f_true.ppf(parms_true, prob) for prob in [0.95, 0.99, 0.995]]\n",
    "true_cap = np.quantile(PnLs, [0.005, 0.01, 0.05])\n",
    "true_cap"
   ]
  },
  {
   "cell_type": "markdown",
   "id": "b91cc7af-dca7-4597-ae6f-c0cbe92b571f",
   "metadata": {},
   "source": [
    "We are interested in the estimations of the extreme quantile of the claim size distribution (of order 0.95, 0.99, 0.995) and the quantile of the aggregate losses over one year with a XOL reinsurance agreement"
   ]
  },
  {
   "cell_type": "code",
   "execution_count": 4,
   "id": "ef9f2d38-e4ba-4ac6-9c73-c87a6cf4c590",
   "metadata": {
    "execution": {
     "iopub.execute_input": "2022-01-31T17:10:49.368856Z",
     "iopub.status.busy": "2022-01-31T17:10:49.367269Z",
     "iopub.status.idle": "2022-01-31T21:22:33.919887Z",
     "shell.execute_reply": "2022-01-31T21:22:33.918816Z"
    }
   },
   "outputs": [
    {
     "name": "stderr",
     "output_type": "stream",
     "text": [
      "/home/pgoffard/miniconda3/lib/python3.8/site-packages/joblib/externals/loky/process_executor.py:688: UserWarning: A worker stopped while some jobs were given to the executor. This can be caused by a too short worker timeout or by a memory leak.\n",
      "  warnings.warn(\n"
     ]
    },
    {
     "name": "stdout",
     "output_type": "stream",
     "text": [
      "CPU times: user 2min 37s, sys: 5.72 s, total: 2min 43s\n",
      "Wall time: 4h 11min 43s\n"
     ]
    }
   ],
   "source": [
    "Xs = [f_true.sample(parms_true, nobs) for k in range(n_sim)]\n",
    "def fit_one(k, f, f_name,  prior, X):\n",
    "    trace, log_marg, DIC, WAIC = bs.smc(X, f, popsize, prior, verbose = False)\n",
    "    PnLs = np.array(f.PnL(trace.mean().values, P, L, expo, premiums, safety_loadings = [0.05, 0.05],  n_sim = err_pnl))\n",
    "    cap = np.quantile(PnLs, [0.005, 0.01, 0.05])\n",
    "    return([k, f_name , nobs, log_marg, trace[\"γ\"].mean(), parms_true[-1] ] + cap.tolist() + true_cap.tolist())\n",
    "def fit_all(k):\n",
    "    print(\"simulation #\"+ str(k))\n",
    "    col_names = [\"sim\", \"model_name\", \"nobs\", \"log_marg\", \"γ_map\", \"γ_true\", \"cap005\", \"cap01\", \"cap05\", \"cap005_true\", \"cap01_true\", \"cap05_true\" ]\n",
    "    df_temp = pd.DataFrame([fit_one(k, fs[i], f_names[i], prior_spliced_model[i], Xs[k]) for i in range(len(fs))], columns = col_names)\n",
    "    df_temp['posterior_probability'] = np.exp(df_temp['log_marg'].values - np.max(df_temp['log_marg'].values)) / \\\n",
    "    np.sum(np.exp(df_temp['log_marg'].values - np.max(df_temp['log_marg'].values)))  \n",
    "    γ_BMA = np.dot(df_temp['posterior_probability'].values, df_temp['γ_map'])\n",
    "    cap_bma = np.dot(df_temp['posterior_probability'].values, df_temp[[\"cap005\", \"cap01\", \"cap05\"]].values)\n",
    "    BMA_df = pd.DataFrame([[k, \"BMA\" , nobs, None, γ_BMA, parms_true[-1] ] + cap_bma.tolist() + true_cap.tolist()],\n",
    "            columns = col_names)\n",
    "    df_temp = pd.concat([df_temp, BMA_df])\n",
    "    return(df_temp)\n",
    "%time res = Parallel(n_jobs= 50)(delayed(fit_all)(k) for k in range(n_sim))\n",
    "pd.concat(res).to_csv(\"../../Data/Simulations/simu_wellspec_\"+str(nobs)+\".csv\", sep=',')"
   ]
  },
  {
   "cell_type": "code",
   "execution_count": 5,
   "id": "massive-porcelain",
   "metadata": {
    "execution": {
     "iopub.execute_input": "2022-01-31T21:22:33.947025Z",
     "iopub.status.busy": "2022-01-31T21:22:33.938522Z",
     "iopub.status.idle": "2022-01-31T21:22:34.258402Z",
     "shell.execute_reply": "2022-01-31T21:22:34.257486Z"
    }
   },
   "outputs": [
    {
     "data": {
      "text/html": [
       "<div>\n",
       "<style scoped>\n",
       "    .dataframe tbody tr th:only-of-type {\n",
       "        vertical-align: middle;\n",
       "    }\n",
       "\n",
       "    .dataframe tbody tr th {\n",
       "        vertical-align: top;\n",
       "    }\n",
       "\n",
       "    .dataframe thead th {\n",
       "        text-align: right;\n",
       "    }\n",
       "</style>\n",
       "<table border=\"1\" class=\"dataframe\">\n",
       "  <thead>\n",
       "    <tr style=\"text-align: right;\">\n",
       "      <th></th>\n",
       "      <th>sim</th>\n",
       "      <th>model_name</th>\n",
       "      <th>nobs</th>\n",
       "      <th>log_marg</th>\n",
       "      <th>γ_map</th>\n",
       "      <th>γ_true</th>\n",
       "      <th>cap005</th>\n",
       "      <th>cap01</th>\n",
       "      <th>cap05</th>\n",
       "      <th>cap005_true</th>\n",
       "      <th>cap01_true</th>\n",
       "      <th>cap05_true</th>\n",
       "      <th>posterior_probability</th>\n",
       "    </tr>\n",
       "  </thead>\n",
       "  <tbody>\n",
       "    <tr>\n",
       "      <th>0</th>\n",
       "      <td>0</td>\n",
       "      <td>Weibull_Log-Logistic</td>\n",
       "      <td>500</td>\n",
       "      <td>-395.804474</td>\n",
       "      <td>1.908442</td>\n",
       "      <td>1.5</td>\n",
       "      <td>-411.128935</td>\n",
       "      <td>-270.364388</td>\n",
       "      <td>-84.815071</td>\n",
       "      <td>-169.545828</td>\n",
       "      <td>-125.425716</td>\n",
       "      <td>-54.565734</td>\n",
       "      <td>2.837346e-01</td>\n",
       "    </tr>\n",
       "    <tr>\n",
       "      <th>1</th>\n",
       "      <td>0</td>\n",
       "      <td>Weibull_Lomax</td>\n",
       "      <td>500</td>\n",
       "      <td>-395.250382</td>\n",
       "      <td>1.609427</td>\n",
       "      <td>1.5</td>\n",
       "      <td>-218.559162</td>\n",
       "      <td>-151.210244</td>\n",
       "      <td>-53.197721</td>\n",
       "      <td>-169.545828</td>\n",
       "      <td>-125.425716</td>\n",
       "      <td>-54.565734</td>\n",
       "      <td>4.938000e-01</td>\n",
       "    </tr>\n",
       "    <tr>\n",
       "      <th>2</th>\n",
       "      <td>0</td>\n",
       "      <td>Weibull_Inverse-Weibull</td>\n",
       "      <td>500</td>\n",
       "      <td>-396.047741</td>\n",
       "      <td>2.278764</td>\n",
       "      <td>1.5</td>\n",
       "      <td>-513.356465</td>\n",
       "      <td>-332.860779</td>\n",
       "      <td>-110.962150</td>\n",
       "      <td>-169.545828</td>\n",
       "      <td>-125.425716</td>\n",
       "      <td>-54.565734</td>\n",
       "      <td>2.224654e-01</td>\n",
       "    </tr>\n",
       "    <tr>\n",
       "      <th>3</th>\n",
       "      <td>0</td>\n",
       "      <td>Inverse-Weibull_Log-Logistic</td>\n",
       "      <td>500</td>\n",
       "      <td>-416.814063</td>\n",
       "      <td>0.601580</td>\n",
       "      <td>1.5</td>\n",
       "      <td>-459.211184</td>\n",
       "      <td>-289.244449</td>\n",
       "      <td>-77.369198</td>\n",
       "      <td>-169.545828</td>\n",
       "      <td>-125.425716</td>\n",
       "      <td>-54.565734</td>\n",
       "      <td>2.130902e-10</td>\n",
       "    </tr>\n",
       "    <tr>\n",
       "      <th>4</th>\n",
       "      <td>0</td>\n",
       "      <td>Inverse-Weibull_Lomax</td>\n",
       "      <td>500</td>\n",
       "      <td>-415.536253</td>\n",
       "      <td>0.204253</td>\n",
       "      <td>1.5</td>\n",
       "      <td>-262.403483</td>\n",
       "      <td>-175.547350</td>\n",
       "      <td>-55.451665</td>\n",
       "      <td>-169.545828</td>\n",
       "      <td>-125.425716</td>\n",
       "      <td>-54.565734</td>\n",
       "      <td>7.647320e-10</td>\n",
       "    </tr>\n",
       "    <tr>\n",
       "      <th>...</th>\n",
       "      <td>...</td>\n",
       "      <td>...</td>\n",
       "      <td>...</td>\n",
       "      <td>...</td>\n",
       "      <td>...</td>\n",
       "      <td>...</td>\n",
       "      <td>...</td>\n",
       "      <td>...</td>\n",
       "      <td>...</td>\n",
       "      <td>...</td>\n",
       "      <td>...</td>\n",
       "      <td>...</td>\n",
       "      <td>...</td>\n",
       "    </tr>\n",
       "    <tr>\n",
       "      <th>2</th>\n",
       "      <td>999</td>\n",
       "      <td>Weibull_Inverse-Weibull</td>\n",
       "      <td>500</td>\n",
       "      <td>-370.665818</td>\n",
       "      <td>2.851018</td>\n",
       "      <td>1.5</td>\n",
       "      <td>-233.130217</td>\n",
       "      <td>-152.723323</td>\n",
       "      <td>-41.408368</td>\n",
       "      <td>-169.545828</td>\n",
       "      <td>-125.425716</td>\n",
       "      <td>-54.565734</td>\n",
       "      <td>3.203569e-01</td>\n",
       "    </tr>\n",
       "    <tr>\n",
       "      <th>3</th>\n",
       "      <td>999</td>\n",
       "      <td>Inverse-Weibull_Log-Logistic</td>\n",
       "      <td>500</td>\n",
       "      <td>-385.573883</td>\n",
       "      <td>2.772482</td>\n",
       "      <td>1.5</td>\n",
       "      <td>-182.625994</td>\n",
       "      <td>-113.807948</td>\n",
       "      <td>-19.173438</td>\n",
       "      <td>-169.545828</td>\n",
       "      <td>-125.425716</td>\n",
       "      <td>-54.565734</td>\n",
       "      <td>1.074345e-07</td>\n",
       "    </tr>\n",
       "    <tr>\n",
       "      <th>4</th>\n",
       "      <td>999</td>\n",
       "      <td>Inverse-Weibull_Lomax</td>\n",
       "      <td>500</td>\n",
       "      <td>-385.621967</td>\n",
       "      <td>2.593172</td>\n",
       "      <td>1.5</td>\n",
       "      <td>-153.238279</td>\n",
       "      <td>-97.920461</td>\n",
       "      <td>-18.034123</td>\n",
       "      <td>-169.545828</td>\n",
       "      <td>-125.425716</td>\n",
       "      <td>-54.565734</td>\n",
       "      <td>1.023908e-07</td>\n",
       "    </tr>\n",
       "    <tr>\n",
       "      <th>5</th>\n",
       "      <td>999</td>\n",
       "      <td>Inverse-Weibull_Inverse-Weibull</td>\n",
       "      <td>500</td>\n",
       "      <td>-385.682896</td>\n",
       "      <td>2.900940</td>\n",
       "      <td>1.5</td>\n",
       "      <td>-217.767389</td>\n",
       "      <td>-134.620021</td>\n",
       "      <td>-29.201068</td>\n",
       "      <td>-169.545828</td>\n",
       "      <td>-125.425716</td>\n",
       "      <td>-54.565734</td>\n",
       "      <td>9.633858e-08</td>\n",
       "    </tr>\n",
       "    <tr>\n",
       "      <th>0</th>\n",
       "      <td>999</td>\n",
       "      <td>BMA</td>\n",
       "      <td>500</td>\n",
       "      <td>None</td>\n",
       "      <td>2.740922</td>\n",
       "      <td>1.5</td>\n",
       "      <td>-200.329870</td>\n",
       "      <td>-131.357062</td>\n",
       "      <td>-36.222619</td>\n",
       "      <td>-169.545828</td>\n",
       "      <td>-125.425716</td>\n",
       "      <td>-54.565734</td>\n",
       "      <td>NaN</td>\n",
       "    </tr>\n",
       "  </tbody>\n",
       "</table>\n",
       "<p>7000 rows × 13 columns</p>\n",
       "</div>"
      ],
      "text/plain": [
       "    sim                       model_name  nobs    log_marg     γ_map  γ_true  \\\n",
       "0     0             Weibull_Log-Logistic   500 -395.804474  1.908442     1.5   \n",
       "1     0                    Weibull_Lomax   500 -395.250382  1.609427     1.5   \n",
       "2     0          Weibull_Inverse-Weibull   500 -396.047741  2.278764     1.5   \n",
       "3     0     Inverse-Weibull_Log-Logistic   500 -416.814063  0.601580     1.5   \n",
       "4     0            Inverse-Weibull_Lomax   500 -415.536253  0.204253     1.5   \n",
       "..  ...                              ...   ...         ...       ...     ...   \n",
       "2   999          Weibull_Inverse-Weibull   500 -370.665818  2.851018     1.5   \n",
       "3   999     Inverse-Weibull_Log-Logistic   500 -385.573883  2.772482     1.5   \n",
       "4   999            Inverse-Weibull_Lomax   500 -385.621967  2.593172     1.5   \n",
       "5   999  Inverse-Weibull_Inverse-Weibull   500 -385.682896  2.900940     1.5   \n",
       "0   999                              BMA   500        None  2.740922     1.5   \n",
       "\n",
       "        cap005       cap01       cap05  cap005_true  cap01_true  cap05_true  \\\n",
       "0  -411.128935 -270.364388  -84.815071  -169.545828 -125.425716  -54.565734   \n",
       "1  -218.559162 -151.210244  -53.197721  -169.545828 -125.425716  -54.565734   \n",
       "2  -513.356465 -332.860779 -110.962150  -169.545828 -125.425716  -54.565734   \n",
       "3  -459.211184 -289.244449  -77.369198  -169.545828 -125.425716  -54.565734   \n",
       "4  -262.403483 -175.547350  -55.451665  -169.545828 -125.425716  -54.565734   \n",
       "..         ...         ...         ...          ...         ...         ...   \n",
       "2  -233.130217 -152.723323  -41.408368  -169.545828 -125.425716  -54.565734   \n",
       "3  -182.625994 -113.807948  -19.173438  -169.545828 -125.425716  -54.565734   \n",
       "4  -153.238279  -97.920461  -18.034123  -169.545828 -125.425716  -54.565734   \n",
       "5  -217.767389 -134.620021  -29.201068  -169.545828 -125.425716  -54.565734   \n",
       "0  -200.329870 -131.357062  -36.222619  -169.545828 -125.425716  -54.565734   \n",
       "\n",
       "    posterior_probability  \n",
       "0            2.837346e-01  \n",
       "1            4.938000e-01  \n",
       "2            2.224654e-01  \n",
       "3            2.130902e-10  \n",
       "4            7.647320e-10  \n",
       "..                    ...  \n",
       "2            3.203569e-01  \n",
       "3            1.074345e-07  \n",
       "4            1.023908e-07  \n",
       "5            9.633858e-08  \n",
       "0                     NaN  \n",
       "\n",
       "[7000 rows x 13 columns]"
      ]
     },
     "execution_count": 1,
     "metadata": {},
     "output_type": "execute_result"
    }
   ],
   "source": [
    "pd.concat(res)"
   ]
  },
  {
   "cell_type": "code",
   "execution_count": null,
   "id": "convertible-arlington",
   "metadata": {},
   "outputs": [],
   "source": []
  }
 ],
 "metadata": {
  "kernelspec": {
   "display_name": "Python 3",
   "language": "python",
   "name": "python3"
  },
  "language_info": {
   "codemirror_mode": {
    "name": "ipython",
    "version": 3
   },
   "file_extension": ".py",
   "mimetype": "text/x-python",
   "name": "python",
   "nbconvert_exporter": "python",
   "pygments_lexer": "ipython3",
   "version": "3.8.8"
  }
 },
 "nbformat": 4,
 "nbformat_minor": 5
}
