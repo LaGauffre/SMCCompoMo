{
 "cells": [
  {
   "cell_type": "code",
   "execution_count": 1,
   "id": "cb221404-525e-4fd8-8e76-99c3b3e08176",
   "metadata": {
    "execution": {
     "iopub.execute_input": "2022-02-01T19:47:05.858211Z",
     "iopub.status.busy": "2022-02-01T19:47:05.857011Z",
     "iopub.status.idle": "2022-02-01T19:47:06.940397Z",
     "shell.execute_reply": "2022-02-01T19:47:06.941017Z"
    }
   },
   "outputs": [],
   "source": [
    "%run preamble_scripts.py"
   ]
  },
  {
   "cell_type": "markdown",
   "id": "14b6c21d-4a4c-42e5-817c-6119f19a74e7",
   "metadata": {},
   "source": [
    "# Simulation study: the miss specified case 1000 observations"
   ]
  },
  {
   "cell_type": "code",
   "execution_count": 2,
   "id": "989b767d-d6f6-49ab-9688-ff473598acf7",
   "metadata": {
    "execution": {
     "iopub.execute_input": "2022-02-01T19:47:06.945139Z",
     "iopub.status.busy": "2022-02-01T19:47:06.944414Z",
     "iopub.status.idle": "2022-02-01T19:47:06.946482Z",
     "shell.execute_reply": "2022-02-01T19:47:06.947069Z"
    }
   },
   "outputs": [],
   "source": [
    "n_sim, nobs, expo = 1000, 1000, 250\n",
    "err_pnl, popsize = 3e5, 8000"
   ]
  },
  {
   "cell_type": "code",
   "execution_count": 3,
   "id": "turkish-shoulder",
   "metadata": {
    "execution": {
     "iopub.execute_input": "2022-02-01T19:47:06.956805Z",
     "iopub.status.busy": "2022-02-01T19:47:06.956058Z",
     "iopub.status.idle": "2022-02-01T19:47:47.650268Z",
     "shell.execute_reply": "2022-02-01T19:47:47.651151Z"
    }
   },
   "outputs": [
    {
     "name": "stdout",
     "output_type": "stream",
     "text": [
      "CPU times: user 39.7 s, sys: 47.4 ms, total: 39.8 s\n",
      "Wall time: 39.8 s\n"
     ]
    },
    {
     "data": {
      "text/plain": [
       "array([-73.25996488, -63.23777169, -36.41477555])"
      ]
     },
     "execution_count": 1,
     "metadata": {},
     "output_type": "execute_result"
    }
   ],
   "source": [
    "# Setting up the true model\n",
    "f1, f2 = bs.loss_model(\"Exp\", [\"λ1\"]), bs.loss_model(\"Burr\", [\"α2\", \"β2\", \"σ2\"])\n",
    "f_true = bs.spliced_loss_model(f1, f2, \"continuous\")\n",
    "parms_true = np.array([1/2, 1.8, 2, 3, 2.5])\n",
    "f_true.set_ppf(), f_true.set_pdf(),f_true.set_cdf()\n",
    "\n",
    "\n",
    "# # We set the priority to the 90% quantile and the limit to the 0.99% quantile\n",
    "P, L = f_true.ppf(parms_true, 0.9), f_true.ppf(parms_true, 0.99)\n",
    "premiums = f_true.PP(parms_true), f_true.XOLP(parms_true, P, L)\n",
    "\n",
    "%time PnLs = np.array(f_true.PnL(parms_true, P, L, expo, premiums, safety_loadings = [0.05, 0.05],  n_sim = err_pnl))\n",
    "true_VaRs = [f_true.ppf(parms_true, prob) for prob in [0.95, 0.99, 0.995]]\n",
    "true_cap = np.quantile(PnLs, [0.005, 0.01, 0.05])\n",
    "true_cap"
   ]
  },
  {
   "cell_type": "markdown",
   "id": "b91cc7af-dca7-4597-ae6f-c0cbe92b571f",
   "metadata": {},
   "source": [
    "We are interested in the estimations of the extreme quantile of the claim size distribution (of order 0.95, 0.99, 0.995) and the quantile of the aggregate losses over one year with a XOL reinsurance agreement"
   ]
  },
  {
   "cell_type": "code",
   "execution_count": 4,
   "id": "ef9f2d38-e4ba-4ac6-9c73-c87a6cf4c590",
   "metadata": {
    "execution": {
     "iopub.execute_input": "2022-02-01T19:47:47.667210Z",
     "iopub.status.busy": "2022-02-01T19:47:47.666059Z",
     "iopub.status.idle": "2022-02-02T02:47:20.381350Z",
     "shell.execute_reply": "2022-02-02T02:47:20.381947Z"
    }
   },
   "outputs": [
    {
     "name": "stderr",
     "output_type": "stream",
     "text": [
      "/home/pgoffard/miniconda3/lib/python3.8/site-packages/joblib/externals/loky/process_executor.py:688: UserWarning: A worker stopped while some jobs were given to the executor. This can be caused by a too short worker timeout or by a memory leak.\n",
      "  warnings.warn(\n"
     ]
    },
    {
     "name": "stdout",
     "output_type": "stream",
     "text": [
      "CPU times: user 2min 37s, sys: 13.6 s, total: 2min 50s\n",
      "Wall time: 6h 59min 31s\n"
     ]
    }
   ],
   "source": [
    "Xs = [f_true.sample(parms_true, nobs) for k in range(n_sim)]\n",
    "def fit_one(k, f, f_name,  prior, X):\n",
    "    trace, log_marg, DIC, WAIC = bs.smc(X, f, popsize, prior, verbose = False)\n",
    "    PnLs = np.array(f.PnL(trace.mean().values, P, L, expo, premiums, safety_loadings = [0.05, 0.05],  n_sim = err_pnl))\n",
    "    cap = np.quantile(PnLs, [0.005, 0.01, 0.05])\n",
    "    return([k, f_name , nobs, log_marg, trace[\"γ\"].mean(), parms_true[-1] ] + cap.tolist() + true_cap.tolist())\n",
    "def fit_all(k):\n",
    "    print(\"simulation #\"+ str(k))\n",
    "    col_names = [\"sim\", \"model_name\", \"nobs\", \"log_marg\", \"γ_map\", \"γ_true\", \"cap005\", \"cap01\", \"cap05\", \"cap005_true\", \"cap01_true\", \"cap05_true\" ]\n",
    "    df_temp = pd.DataFrame([fit_one(k, fs[i], f_names[i], prior_spliced_model[i], Xs[k]) for i in range(len(fs))], columns = col_names)\n",
    "    df_temp['posterior_probability'] = np.exp(df_temp['log_marg'].values - np.max(df_temp['log_marg'].values)) / \\\n",
    "    np.sum(np.exp(df_temp['log_marg'].values - np.max(df_temp['log_marg'].values)))  \n",
    "    γ_BMA = np.dot(df_temp['posterior_probability'].values, df_temp['γ_map'])\n",
    "    cap_bma = np.dot(df_temp['posterior_probability'].values, df_temp[[\"cap005\", \"cap01\", \"cap05\"]].values)\n",
    "    BMA_df = pd.DataFrame([[k, \"BMA\" , nobs, None, γ_BMA, parms_true[-1] ] + cap_bma.tolist() + true_cap.tolist()],\n",
    "            columns = col_names)\n",
    "    df_temp = pd.concat([df_temp, BMA_df])\n",
    "    return(df_temp)\n",
    "%time res = Parallel(n_jobs= 50)(delayed(fit_all)(k) for k in range(n_sim))\n",
    "pd.concat(res).to_csv(\"../../Data/Simulations/simu_missspec_\"+str(nobs)+\".csv\", sep=',')"
   ]
  },
  {
   "cell_type": "code",
   "execution_count": null,
   "id": "convertible-arlington",
   "metadata": {},
   "outputs": [],
   "source": []
  }
 ],
 "metadata": {
  "kernelspec": {
   "display_name": "Python 3 (ipykernel)",
   "language": "python",
   "name": "python3"
  },
  "language_info": {
   "codemirror_mode": {
    "name": "ipython",
    "version": 3
   },
   "file_extension": ".py",
   "mimetype": "text/x-python",
   "name": "python",
   "nbconvert_exporter": "python",
   "pygments_lexer": "ipython3",
   "version": "3.9.7"
  }
 },
 "nbformat": 4,
 "nbformat_minor": 5
}
