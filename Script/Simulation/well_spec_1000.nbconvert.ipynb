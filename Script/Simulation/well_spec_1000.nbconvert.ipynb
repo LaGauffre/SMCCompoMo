{
 "cells": [
  {
   "cell_type": "code",
   "execution_count": 1,
   "id": "cb221404-525e-4fd8-8e76-99c3b3e08176",
   "metadata": {
    "execution": {
     "iopub.execute_input": "2022-01-31T21:22:38.747307Z",
     "iopub.status.busy": "2022-01-31T21:22:38.746091Z",
     "iopub.status.idle": "2022-01-31T21:22:39.818920Z",
     "shell.execute_reply": "2022-01-31T21:22:39.819868Z"
    }
   },
   "outputs": [],
   "source": [
    "%run preamble_scripts.py"
   ]
  },
  {
   "cell_type": "markdown",
   "id": "14b6c21d-4a4c-42e5-817c-6119f19a74e7",
   "metadata": {},
   "source": [
    "# Simulation study: the well specified case 1000 observations"
   ]
  },
  {
   "cell_type": "code",
   "execution_count": 2,
   "id": "989b767d-d6f6-49ab-9688-ff473598acf7",
   "metadata": {
    "execution": {
     "iopub.execute_input": "2022-01-31T21:22:39.825002Z",
     "iopub.status.busy": "2022-01-31T21:22:39.823917Z",
     "iopub.status.idle": "2022-01-31T21:22:39.826166Z",
     "shell.execute_reply": "2022-01-31T21:22:39.827044Z"
    }
   },
   "outputs": [],
   "source": [
    "n_sim, nobs, expo = 1000, 1000, 250\n",
    "err_pnl, popsize = 3e5, 8000"
   ]
  },
  {
   "cell_type": "code",
   "execution_count": 3,
   "id": "turkish-shoulder",
   "metadata": {
    "execution": {
     "iopub.execute_input": "2022-01-31T21:22:39.839878Z",
     "iopub.status.busy": "2022-01-31T21:22:39.838805Z",
     "iopub.status.idle": "2022-01-31T21:23:20.318361Z",
     "shell.execute_reply": "2022-01-31T21:23:20.319274Z"
    }
   },
   "outputs": [
    {
     "name": "stdout",
     "output_type": "stream",
     "text": [
      "CPU times: user 39.5 s, sys: 24.3 ms, total: 39.5 s\n",
      "Wall time: 39.5 s\n"
     ]
    },
    {
     "data": {
      "text/plain": [
       "array([-170.08350669, -124.97720512,  -54.78927556])"
      ]
     },
     "execution_count": 1,
     "metadata": {},
     "output_type": "execute_result"
    }
   ],
   "source": [
    "# Setting the true model\n",
    "f1, f2 = bs.loss_model(\"Weibull\", [\"k1\", \"β1\"]), bs.loss_model(\"Lomax\", [\"α2\", \"σ2\"])\n",
    "f_true = bs.spliced_loss_model(f1, f2, \"continuous\")\n",
    "parms_true = np.array([1/2, 1, 2.5, 3, 1.5])\n",
    "\n",
    "f_true.set_ppf(), f_true.set_pdf(),f_true.set_cdf()\n",
    "\n",
    "# We set the priority to the 90% quantile and the limit to the 0.99% quantile\n",
    "P, L = f_true.ppf(parms_true, 0.9), f_true.ppf(parms_true, 0.99)\n",
    "premiums = f_true.PP(parms_true), f_true.XOLP(parms_true, P, L)\n",
    "\n",
    "%time PnLs = np.array(f_true.PnL(parms_true, P, L, expo, premiums, safety_loadings = [0.05, 0.05],  n_sim = err_pnl))\n",
    "true_VaRs = [f_true.ppf(parms_true, prob) for prob in [0.95, 0.99, 0.995]]\n",
    "true_cap = np.quantile(PnLs, [0.005, 0.01, 0.05])\n",
    "true_cap"
   ]
  },
  {
   "cell_type": "markdown",
   "id": "b91cc7af-dca7-4597-ae6f-c0cbe92b571f",
   "metadata": {},
   "source": [
    "We are interested in the estimations of the extreme quantile of the claim size distribution (of order 0.95, 0.99, 0.995) and the quantile of the aggregate losses over one year with a XOL reinsurance agreement"
   ]
  },
  {
   "cell_type": "code",
   "execution_count": 4,
   "id": "ef9f2d38-e4ba-4ac6-9c73-c87a6cf4c590",
   "metadata": {
    "execution": {
     "iopub.execute_input": "2022-01-31T21:23:20.335172Z",
     "iopub.status.busy": "2022-01-31T21:23:20.334034Z",
     "iopub.status.idle": "2022-02-01T03:49:13.037348Z",
     "shell.execute_reply": "2022-02-01T03:49:13.037792Z"
    }
   },
   "outputs": [
    {
     "name": "stderr",
     "output_type": "stream",
     "text": [
      "/home/pgoffard/miniconda3/lib/python3.8/site-packages/joblib/externals/loky/process_executor.py:688: UserWarning: A worker stopped while some jobs were given to the executor. This can be caused by a too short worker timeout or by a memory leak.\n",
      "  warnings.warn(\n"
     ]
    },
    {
     "name": "stdout",
     "output_type": "stream",
     "text": [
      "CPU times: user 2min 36s, sys: 13.6 s, total: 2min 50s\n",
      "Wall time: 6h 25min 51s\n"
     ]
    }
   ],
   "source": [
    "Xs = [f_true.sample(parms_true, nobs) for k in range(n_sim)]\n",
    "def fit_one(k, f, f_name,  prior, X):\n",
    "    trace, log_marg, DIC, WAIC = bs.smc(X, f, popsize, prior, verbose = False)\n",
    "    PnLs = np.array(f.PnL(trace.mean().values, P, L, expo, premiums, safety_loadings = [0.05, 0.05],  n_sim = err_pnl))\n",
    "    cap = np.quantile(PnLs, [0.005, 0.01, 0.05])\n",
    "    return([k, f_name , nobs, log_marg, trace[\"γ\"].mean(), parms_true[-1] ] + cap.tolist() + true_cap.tolist())\n",
    "def fit_all(k):\n",
    "    print(\"simulation #\"+ str(k))\n",
    "    col_names = [\"sim\", \"model_name\", \"nobs\", \"log_marg\", \"γ_map\", \"γ_true\", \"cap005\", \"cap01\", \"cap05\", \"cap005_true\", \"cap01_true\", \"cap05_true\" ]\n",
    "    df_temp = pd.DataFrame([fit_one(k, fs[i], f_names[i], prior_spliced_model[i], Xs[k]) for i in range(len(fs))], columns = col_names)\n",
    "    df_temp['posterior_probability'] = np.exp(df_temp['log_marg'].values - np.max(df_temp['log_marg'].values)) / \\\n",
    "    np.sum(np.exp(df_temp['log_marg'].values - np.max(df_temp['log_marg'].values)))  \n",
    "    γ_BMA = np.dot(df_temp['posterior_probability'].values, df_temp['γ_map'])\n",
    "    cap_bma = np.dot(df_temp['posterior_probability'].values, df_temp[[\"cap005\", \"cap01\", \"cap05\"]].values)\n",
    "    BMA_df = pd.DataFrame([[k, \"BMA\" , nobs, None, γ_BMA, parms_true[-1] ] + cap_bma.tolist() + true_cap.tolist()],\n",
    "            columns = col_names)\n",
    "    df_temp = pd.concat([df_temp, BMA_df])\n",
    "    return(df_temp)\n",
    "%time res = Parallel(n_jobs= 50)(delayed(fit_all)(k) for k in range(n_sim))\n",
    "pd.concat(res).to_csv(\"../../Data/Simulations/simu_wellspec_\"+str(nobs)+\".csv\", sep=',')"
   ]
  },
  {
   "cell_type": "code",
   "execution_count": 5,
   "id": "massive-porcelain",
   "metadata": {
    "execution": {
     "iopub.execute_input": "2022-02-01T03:49:13.064669Z",
     "iopub.status.busy": "2022-02-01T03:49:13.063830Z",
     "iopub.status.idle": "2022-02-01T03:49:13.387917Z",
     "shell.execute_reply": "2022-02-01T03:49:13.387467Z"
    }
   },
   "outputs": [
    {
     "data": {
      "text/html": [
       "<div>\n",
       "<style scoped>\n",
       "    .dataframe tbody tr th:only-of-type {\n",
       "        vertical-align: middle;\n",
       "    }\n",
       "\n",
       "    .dataframe tbody tr th {\n",
       "        vertical-align: top;\n",
       "    }\n",
       "\n",
       "    .dataframe thead th {\n",
       "        text-align: right;\n",
       "    }\n",
       "</style>\n",
       "<table border=\"1\" class=\"dataframe\">\n",
       "  <thead>\n",
       "    <tr style=\"text-align: right;\">\n",
       "      <th></th>\n",
       "      <th>sim</th>\n",
       "      <th>model_name</th>\n",
       "      <th>nobs</th>\n",
       "      <th>log_marg</th>\n",
       "      <th>γ_map</th>\n",
       "      <th>γ_true</th>\n",
       "      <th>cap005</th>\n",
       "      <th>cap01</th>\n",
       "      <th>cap05</th>\n",
       "      <th>cap005_true</th>\n",
       "      <th>cap01_true</th>\n",
       "      <th>cap05_true</th>\n",
       "      <th>posterior_probability</th>\n",
       "    </tr>\n",
       "  </thead>\n",
       "  <tbody>\n",
       "    <tr>\n",
       "      <th>0</th>\n",
       "      <td>0</td>\n",
       "      <td>Weibull_Log-Logistic</td>\n",
       "      <td>1000</td>\n",
       "      <td>-695.198951</td>\n",
       "      <td>2.387208</td>\n",
       "      <td>1.5</td>\n",
       "      <td>-432.168760</td>\n",
       "      <td>-276.810293</td>\n",
       "      <td>-77.126270</td>\n",
       "      <td>-170.083507</td>\n",
       "      <td>-124.977205</td>\n",
       "      <td>-54.789276</td>\n",
       "      <td>2.137331e-01</td>\n",
       "    </tr>\n",
       "    <tr>\n",
       "      <th>1</th>\n",
       "      <td>0</td>\n",
       "      <td>Weibull_Lomax</td>\n",
       "      <td>1000</td>\n",
       "      <td>-694.083278</td>\n",
       "      <td>1.608097</td>\n",
       "      <td>1.5</td>\n",
       "      <td>-215.514123</td>\n",
       "      <td>-144.505447</td>\n",
       "      <td>-44.311241</td>\n",
       "      <td>-170.083507</td>\n",
       "      <td>-124.977205</td>\n",
       "      <td>-54.789276</td>\n",
       "      <td>6.522324e-01</td>\n",
       "    </tr>\n",
       "    <tr>\n",
       "      <th>2</th>\n",
       "      <td>0</td>\n",
       "      <td>Weibull_Inverse-Weibull</td>\n",
       "      <td>1000</td>\n",
       "      <td>-695.665582</td>\n",
       "      <td>3.515591</td>\n",
       "      <td>1.5</td>\n",
       "      <td>-434.846582</td>\n",
       "      <td>-281.252643</td>\n",
       "      <td>-91.158412</td>\n",
       "      <td>-170.083507</td>\n",
       "      <td>-124.977205</td>\n",
       "      <td>-54.789276</td>\n",
       "      <td>1.340345e-01</td>\n",
       "    </tr>\n",
       "    <tr>\n",
       "      <th>3</th>\n",
       "      <td>0</td>\n",
       "      <td>Inverse-Weibull_Log-Logistic</td>\n",
       "      <td>1000</td>\n",
       "      <td>-740.635753</td>\n",
       "      <td>0.803413</td>\n",
       "      <td>1.5</td>\n",
       "      <td>-651.189465</td>\n",
       "      <td>-409.248294</td>\n",
       "      <td>-124.220259</td>\n",
       "      <td>-170.083507</td>\n",
       "      <td>-124.977205</td>\n",
       "      <td>-54.789276</td>\n",
       "      <td>3.952932e-21</td>\n",
       "    </tr>\n",
       "    <tr>\n",
       "      <th>4</th>\n",
       "      <td>0</td>\n",
       "      <td>Inverse-Weibull_Lomax</td>\n",
       "      <td>1000</td>\n",
       "      <td>-738.626819</td>\n",
       "      <td>0.363668</td>\n",
       "      <td>1.5</td>\n",
       "      <td>-279.344012</td>\n",
       "      <td>-192.493223</td>\n",
       "      <td>-65.993288</td>\n",
       "      <td>-170.083507</td>\n",
       "      <td>-124.977205</td>\n",
       "      <td>-54.789276</td>\n",
       "      <td>2.947057e-20</td>\n",
       "    </tr>\n",
       "    <tr>\n",
       "      <th>...</th>\n",
       "      <td>...</td>\n",
       "      <td>...</td>\n",
       "      <td>...</td>\n",
       "      <td>...</td>\n",
       "      <td>...</td>\n",
       "      <td>...</td>\n",
       "      <td>...</td>\n",
       "      <td>...</td>\n",
       "      <td>...</td>\n",
       "      <td>...</td>\n",
       "      <td>...</td>\n",
       "      <td>...</td>\n",
       "      <td>...</td>\n",
       "    </tr>\n",
       "    <tr>\n",
       "      <th>2</th>\n",
       "      <td>999</td>\n",
       "      <td>Weibull_Inverse-Weibull</td>\n",
       "      <td>1000</td>\n",
       "      <td>-815.384584</td>\n",
       "      <td>2.637527</td>\n",
       "      <td>1.5</td>\n",
       "      <td>-831.543858</td>\n",
       "      <td>-547.638845</td>\n",
       "      <td>-186.008731</td>\n",
       "      <td>-170.083507</td>\n",
       "      <td>-124.977205</td>\n",
       "      <td>-54.789276</td>\n",
       "      <td>2.413740e-01</td>\n",
       "    </tr>\n",
       "    <tr>\n",
       "      <th>3</th>\n",
       "      <td>999</td>\n",
       "      <td>Inverse-Weibull_Log-Logistic</td>\n",
       "      <td>1000</td>\n",
       "      <td>-853.287709</td>\n",
       "      <td>0.340186</td>\n",
       "      <td>1.5</td>\n",
       "      <td>-2202.672013</td>\n",
       "      <td>-1293.289220</td>\n",
       "      <td>-385.557676</td>\n",
       "      <td>-170.083507</td>\n",
       "      <td>-124.977205</td>\n",
       "      <td>-54.789276</td>\n",
       "      <td>8.347808e-18</td>\n",
       "    </tr>\n",
       "    <tr>\n",
       "      <th>4</th>\n",
       "      <td>999</td>\n",
       "      <td>Inverse-Weibull_Lomax</td>\n",
       "      <td>1000</td>\n",
       "      <td>-847.631221</td>\n",
       "      <td>0.124457</td>\n",
       "      <td>1.5</td>\n",
       "      <td>-754.498888</td>\n",
       "      <td>-504.133562</td>\n",
       "      <td>-188.927577</td>\n",
       "      <td>-170.083507</td>\n",
       "      <td>-124.977205</td>\n",
       "      <td>-54.789276</td>\n",
       "      <td>2.388658e-15</td>\n",
       "    </tr>\n",
       "    <tr>\n",
       "      <th>5</th>\n",
       "      <td>999</td>\n",
       "      <td>Inverse-Weibull_Inverse-Weibull</td>\n",
       "      <td>1000</td>\n",
       "      <td>-855.873263</td>\n",
       "      <td>2.150676</td>\n",
       "      <td>1.5</td>\n",
       "      <td>-832.017200</td>\n",
       "      <td>-525.724222</td>\n",
       "      <td>-163.357166</td>\n",
       "      <td>-170.083507</td>\n",
       "      <td>-124.977205</td>\n",
       "      <td>-54.789276</td>\n",
       "      <td>6.290430e-19</td>\n",
       "    </tr>\n",
       "    <tr>\n",
       "      <th>0</th>\n",
       "      <td>999</td>\n",
       "      <td>BMA</td>\n",
       "      <td>1000</td>\n",
       "      <td>None</td>\n",
       "      <td>2.260264</td>\n",
       "      <td>1.5</td>\n",
       "      <td>-628.572601</td>\n",
       "      <td>-420.738760</td>\n",
       "      <td>-149.949083</td>\n",
       "      <td>-170.083507</td>\n",
       "      <td>-124.977205</td>\n",
       "      <td>-54.789276</td>\n",
       "      <td>NaN</td>\n",
       "    </tr>\n",
       "  </tbody>\n",
       "</table>\n",
       "<p>7000 rows × 13 columns</p>\n",
       "</div>"
      ],
      "text/plain": [
       "    sim                       model_name  nobs    log_marg     γ_map  γ_true  \\\n",
       "0     0             Weibull_Log-Logistic  1000 -695.198951  2.387208     1.5   \n",
       "1     0                    Weibull_Lomax  1000 -694.083278  1.608097     1.5   \n",
       "2     0          Weibull_Inverse-Weibull  1000 -695.665582  3.515591     1.5   \n",
       "3     0     Inverse-Weibull_Log-Logistic  1000 -740.635753  0.803413     1.5   \n",
       "4     0            Inverse-Weibull_Lomax  1000 -738.626819  0.363668     1.5   \n",
       "..  ...                              ...   ...         ...       ...     ...   \n",
       "2   999          Weibull_Inverse-Weibull  1000 -815.384584  2.637527     1.5   \n",
       "3   999     Inverse-Weibull_Log-Logistic  1000 -853.287709  0.340186     1.5   \n",
       "4   999            Inverse-Weibull_Lomax  1000 -847.631221  0.124457     1.5   \n",
       "5   999  Inverse-Weibull_Inverse-Weibull  1000 -855.873263  2.150676     1.5   \n",
       "0   999                              BMA  1000        None  2.260264     1.5   \n",
       "\n",
       "         cap005        cap01       cap05  cap005_true  cap01_true  cap05_true  \\\n",
       "0   -432.168760  -276.810293  -77.126270  -170.083507 -124.977205  -54.789276   \n",
       "1   -215.514123  -144.505447  -44.311241  -170.083507 -124.977205  -54.789276   \n",
       "2   -434.846582  -281.252643  -91.158412  -170.083507 -124.977205  -54.789276   \n",
       "3   -651.189465  -409.248294 -124.220259  -170.083507 -124.977205  -54.789276   \n",
       "4   -279.344012  -192.493223  -65.993288  -170.083507 -124.977205  -54.789276   \n",
       "..          ...          ...         ...          ...         ...         ...   \n",
       "2   -831.543858  -547.638845 -186.008731  -170.083507 -124.977205  -54.789276   \n",
       "3  -2202.672013 -1293.289220 -385.557676  -170.083507 -124.977205  -54.789276   \n",
       "4   -754.498888  -504.133562 -188.927577  -170.083507 -124.977205  -54.789276   \n",
       "5   -832.017200  -525.724222 -163.357166  -170.083507 -124.977205  -54.789276   \n",
       "0   -628.572601  -420.738760 -149.949083  -170.083507 -124.977205  -54.789276   \n",
       "\n",
       "    posterior_probability  \n",
       "0            2.137331e-01  \n",
       "1            6.522324e-01  \n",
       "2            1.340345e-01  \n",
       "3            3.952932e-21  \n",
       "4            2.947057e-20  \n",
       "..                    ...  \n",
       "2            2.413740e-01  \n",
       "3            8.347808e-18  \n",
       "4            2.388658e-15  \n",
       "5            6.290430e-19  \n",
       "0                     NaN  \n",
       "\n",
       "[7000 rows x 13 columns]"
      ]
     },
     "execution_count": 1,
     "metadata": {},
     "output_type": "execute_result"
    }
   ],
   "source": [
    "pd.concat(res)"
   ]
  },
  {
   "cell_type": "code",
   "execution_count": null,
   "id": "convertible-arlington",
   "metadata": {},
   "outputs": [],
   "source": []
  }
 ],
 "metadata": {
  "kernelspec": {
   "display_name": "Python 3",
   "language": "python",
   "name": "python3"
  },
  "language_info": {
   "codemirror_mode": {
    "name": "ipython",
    "version": 3
   },
   "file_extension": ".py",
   "mimetype": "text/x-python",
   "name": "python",
   "nbconvert_exporter": "python",
   "pygments_lexer": "ipython3",
   "version": "3.8.8"
  }
 },
 "nbformat": 4,
 "nbformat_minor": 5
}
