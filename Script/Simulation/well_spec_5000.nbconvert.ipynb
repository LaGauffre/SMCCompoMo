{
 "cells": [
  {
   "cell_type": "code",
   "execution_count": 1,
   "id": "cb221404-525e-4fd8-8e76-99c3b3e08176",
   "metadata": {
    "execution": {
     "iopub.execute_input": "2022-02-04T17:52:06.555618Z",
     "iopub.status.busy": "2022-02-04T17:52:06.554712Z",
     "iopub.status.idle": "2022-02-04T17:52:07.621435Z",
     "shell.execute_reply": "2022-02-04T17:52:07.622335Z"
    }
   },
   "outputs": [],
   "source": [
    "%run preamble_scripts.py"
   ]
  },
  {
   "cell_type": "markdown",
   "id": "14b6c21d-4a4c-42e5-817c-6119f19a74e7",
   "metadata": {},
   "source": [
    "# Simulation study: the well specified case 2000 observations"
   ]
  },
  {
   "cell_type": "code",
   "execution_count": 2,
   "id": "989b767d-d6f6-49ab-9688-ff473598acf7",
   "metadata": {
    "execution": {
     "iopub.execute_input": "2022-02-04T17:52:07.627437Z",
     "iopub.status.busy": "2022-02-04T17:52:07.626347Z",
     "iopub.status.idle": "2022-02-04T17:52:07.628578Z",
     "shell.execute_reply": "2022-02-04T17:52:07.629437Z"
    }
   },
   "outputs": [],
   "source": [
    "n_sim, nobs, expo = 1000, 5000, 250\n",
    "err_pnl, popsize = 3e5, 10000"
   ]
  },
  {
   "cell_type": "code",
   "execution_count": 3,
   "id": "turkish-shoulder",
   "metadata": {
    "execution": {
     "iopub.execute_input": "2022-02-04T17:52:07.639745Z",
     "iopub.status.busy": "2022-02-04T17:52:07.638888Z",
     "iopub.status.idle": "2022-02-04T17:52:46.983437Z",
     "shell.execute_reply": "2022-02-04T17:52:46.984321Z"
    }
   },
   "outputs": [
    {
     "name": "stdout",
     "output_type": "stream",
     "text": [
      "CPU times: user 38.4 s, sys: 36 ms, total: 38.4 s\n",
      "Wall time: 38.4 s\n"
     ]
    },
    {
     "data": {
      "text/plain": [
       "array([-176.26278572, -128.95343056,  -54.59176095])"
      ]
     },
     "execution_count": 1,
     "metadata": {},
     "output_type": "execute_result"
    }
   ],
   "source": [
    "# Setting the true model\n",
    "f1, f2 = bs.loss_model(\"Weibull\", [\"k1\", \"β1\"]), bs.loss_model(\"Lomax\", [\"α2\", \"σ2\"])\n",
    "f_true = bs.spliced_loss_model(f1, f2, \"continuous\")\n",
    "parms_true = np.array([1/2, 1, 2.5, 3, 1.5])\n",
    "\n",
    "f_true.set_ppf(), f_true.set_pdf(),f_true.set_cdf()\n",
    "\n",
    "# We set the priority to the 90% quantile and the limit to the 0.99% quantile\n",
    "P, L = f_true.ppf(parms_true, 0.9), f_true.ppf(parms_true, 0.99)\n",
    "premiums = f_true.PP(parms_true), f_true.XOLP(parms_true, P, L)\n",
    "\n",
    "%time PnLs = np.array(f_true.PnL(parms_true, P, L, expo, premiums, safety_loadings = [0.05, 0.05],  n_sim = err_pnl))\n",
    "true_VaRs = [f_true.ppf(parms_true, prob) for prob in [0.95, 0.99, 0.995]]\n",
    "true_cap = np.quantile(PnLs, [0.005, 0.01, 0.05])\n",
    "true_cap"
   ]
  },
  {
   "cell_type": "markdown",
   "id": "b91cc7af-dca7-4597-ae6f-c0cbe92b571f",
   "metadata": {},
   "source": [
    "We are interested in the estimations of the extreme quantile of the claim size distribution (of order 0.95, 0.99, 0.995) and the quantile of the aggregate losses over one year with a XOL reinsurance agreement"
   ]
  },
  {
   "cell_type": "code",
   "execution_count": 4,
   "id": "ef9f2d38-e4ba-4ac6-9c73-c87a6cf4c590",
   "metadata": {
    "execution": {
     "iopub.execute_input": "2022-02-04T17:52:47.000165Z",
     "iopub.status.busy": "2022-02-04T17:52:46.999352Z",
     "iopub.status.idle": "2022-02-06T08:15:40.126341Z",
     "shell.execute_reply": "2022-02-06T08:15:40.125341Z"
    }
   },
   "outputs": [
    {
     "name": "stderr",
     "output_type": "stream",
     "text": [
      "/home/pgoffard/miniconda3/lib/python3.8/site-packages/joblib/externals/loky/process_executor.py:688: UserWarning: A worker stopped while some jobs were given to the executor. This can be caused by a too short worker timeout or by a memory leak.\n",
      "  warnings.warn(\n"
     ]
    },
    {
     "name": "stdout",
     "output_type": "stream",
     "text": [
      "CPU times: user 3min 4s, sys: 54.8 s, total: 3min 59s\n",
      "Wall time: 1d 14h 22min 51s\n"
     ]
    }
   ],
   "source": [
    "Xs = [f_true.sample(parms_true, nobs) for k in range(n_sim)]\n",
    "def fit_one(k, f, f_name,  prior, X):\n",
    "    trace, log_marg, DIC, WAIC = bs.smc(X, f, popsize, prior, verbose = False)\n",
    "    PnLs = np.array(f.PnL(trace.mean().values, P, L, expo, premiums, safety_loadings = [0.05, 0.05],  n_sim = err_pnl))\n",
    "    cap = np.quantile(PnLs, [0.005, 0.01, 0.05])\n",
    "    return([k, f_name , nobs, log_marg, trace[\"γ\"].mean(), parms_true[-1] ] + cap.tolist() + true_cap.tolist())\n",
    "def fit_all(k):\n",
    "    print(\"simulation #\"+ str(k))\n",
    "    col_names = [\"sim\", \"model_name\", \"nobs\", \"log_marg\", \"γ_map\", \"γ_true\", \"cap005\", \"cap01\", \"cap05\", \"cap005_true\", \"cap01_true\", \"cap05_true\" ]\n",
    "    df_temp = pd.DataFrame([fit_one(k, fs[i], f_names[i], prior_spliced_model[i], Xs[k]) for i in range(len(fs))], columns = col_names)\n",
    "    df_temp['posterior_probability'] = np.exp(df_temp['log_marg'].values - np.max(df_temp['log_marg'].values)) / \\\n",
    "    np.sum(np.exp(df_temp['log_marg'].values - np.max(df_temp['log_marg'].values)))  \n",
    "    γ_BMA = np.dot(df_temp['posterior_probability'].values, df_temp['γ_map'])\n",
    "    cap_bma = np.dot(df_temp['posterior_probability'].values, df_temp[[\"cap005\", \"cap01\", \"cap05\"]].values)\n",
    "    BMA_df = pd.DataFrame([[k, \"BMA\" , nobs, None, γ_BMA, parms_true[-1] ] + cap_bma.tolist() + true_cap.tolist()],\n",
    "            columns = col_names)\n",
    "    df_temp = pd.concat([df_temp, BMA_df])\n",
    "    return(df_temp)\n",
    "%time res = Parallel(n_jobs= 50)(delayed(fit_all)(k) for k in range(n_sim))\n",
    "pd.concat(res).to_csv(\"../../Data/Simulations/simu_wellspec_\"+str(nobs)+\".csv\", sep=',')"
   ]
  },
  {
   "cell_type": "code",
   "execution_count": 5,
   "id": "massive-porcelain",
   "metadata": {
    "execution": {
     "iopub.execute_input": "2022-02-06T08:15:40.153622Z",
     "iopub.status.busy": "2022-02-06T08:15:40.139825Z",
     "iopub.status.idle": "2022-02-06T08:15:40.540911Z",
     "shell.execute_reply": "2022-02-06T08:15:40.540002Z"
    }
   },
   "outputs": [
    {
     "data": {
      "text/html": [
       "<div>\n",
       "<style scoped>\n",
       "    .dataframe tbody tr th:only-of-type {\n",
       "        vertical-align: middle;\n",
       "    }\n",
       "\n",
       "    .dataframe tbody tr th {\n",
       "        vertical-align: top;\n",
       "    }\n",
       "\n",
       "    .dataframe thead th {\n",
       "        text-align: right;\n",
       "    }\n",
       "</style>\n",
       "<table border=\"1\" class=\"dataframe\">\n",
       "  <thead>\n",
       "    <tr style=\"text-align: right;\">\n",
       "      <th></th>\n",
       "      <th>sim</th>\n",
       "      <th>model_name</th>\n",
       "      <th>nobs</th>\n",
       "      <th>log_marg</th>\n",
       "      <th>γ_map</th>\n",
       "      <th>γ_true</th>\n",
       "      <th>cap005</th>\n",
       "      <th>cap01</th>\n",
       "      <th>cap05</th>\n",
       "      <th>cap005_true</th>\n",
       "      <th>cap01_true</th>\n",
       "      <th>cap05_true</th>\n",
       "      <th>posterior_probability</th>\n",
       "    </tr>\n",
       "  </thead>\n",
       "  <tbody>\n",
       "    <tr>\n",
       "      <th>0</th>\n",
       "      <td>0</td>\n",
       "      <td>Weibull_Log-Logistic</td>\n",
       "      <td>5000</td>\n",
       "      <td>-3823.66223</td>\n",
       "      <td>2.566335</td>\n",
       "      <td>1.5</td>\n",
       "      <td>-393.316015</td>\n",
       "      <td>-257.237486</td>\n",
       "      <td>-87.394002</td>\n",
       "      <td>-176.262786</td>\n",
       "      <td>-128.953431</td>\n",
       "      <td>-54.591761</td>\n",
       "      <td>1.999001e-01</td>\n",
       "    </tr>\n",
       "    <tr>\n",
       "      <th>1</th>\n",
       "      <td>0</td>\n",
       "      <td>Weibull_Lomax</td>\n",
       "      <td>5000</td>\n",
       "      <td>-3822.480563</td>\n",
       "      <td>2.044409</td>\n",
       "      <td>1.5</td>\n",
       "      <td>-237.518967</td>\n",
       "      <td>-165.314228</td>\n",
       "      <td>-65.327566</td>\n",
       "      <td>-176.262786</td>\n",
       "      <td>-128.953431</td>\n",
       "      <td>-54.591761</td>\n",
       "      <td>6.516350e-01</td>\n",
       "    </tr>\n",
       "    <tr>\n",
       "      <th>2</th>\n",
       "      <td>0</td>\n",
       "      <td>Weibull_Inverse-Weibull</td>\n",
       "      <td>5000</td>\n",
       "      <td>-3823.959699</td>\n",
       "      <td>2.857912</td>\n",
       "      <td>1.5</td>\n",
       "      <td>-430.538805</td>\n",
       "      <td>-282.875339</td>\n",
       "      <td>-96.322515</td>\n",
       "      <td>-176.262786</td>\n",
       "      <td>-128.953431</td>\n",
       "      <td>-54.591761</td>\n",
       "      <td>1.484649e-01</td>\n",
       "    </tr>\n",
       "    <tr>\n",
       "      <th>3</th>\n",
       "      <td>0</td>\n",
       "      <td>Inverse-Weibull_Log-Logistic</td>\n",
       "      <td>5000</td>\n",
       "      <td>-3959.310756</td>\n",
       "      <td>0.180976</td>\n",
       "      <td>1.5</td>\n",
       "      <td>-2581.792724</td>\n",
       "      <td>-1575.059482</td>\n",
       "      <td>-476.372487</td>\n",
       "      <td>-176.262786</td>\n",
       "      <td>-128.953431</td>\n",
       "      <td>-54.591761</td>\n",
       "      <td>2.451357e-60</td>\n",
       "    </tr>\n",
       "    <tr>\n",
       "      <th>4</th>\n",
       "      <td>0</td>\n",
       "      <td>Inverse-Weibull_Lomax</td>\n",
       "      <td>5000</td>\n",
       "      <td>-3926.570876</td>\n",
       "      <td>0.123042</td>\n",
       "      <td>1.5</td>\n",
       "      <td>-465.541002</td>\n",
       "      <td>-318.000560</td>\n",
       "      <td>-118.332817</td>\n",
       "      <td>-176.262786</td>\n",
       "      <td>-128.953431</td>\n",
       "      <td>-54.591761</td>\n",
       "      <td>4.056539e-46</td>\n",
       "    </tr>\n",
       "    <tr>\n",
       "      <th>...</th>\n",
       "      <td>...</td>\n",
       "      <td>...</td>\n",
       "      <td>...</td>\n",
       "      <td>...</td>\n",
       "      <td>...</td>\n",
       "      <td>...</td>\n",
       "      <td>...</td>\n",
       "      <td>...</td>\n",
       "      <td>...</td>\n",
       "      <td>...</td>\n",
       "      <td>...</td>\n",
       "      <td>...</td>\n",
       "      <td>...</td>\n",
       "    </tr>\n",
       "    <tr>\n",
       "      <th>2</th>\n",
       "      <td>999</td>\n",
       "      <td>Weibull_Inverse-Weibull</td>\n",
       "      <td>5000</td>\n",
       "      <td>-4141.890438</td>\n",
       "      <td>3.132476</td>\n",
       "      <td>1.5</td>\n",
       "      <td>-305.768419</td>\n",
       "      <td>-202.954292</td>\n",
       "      <td>-74.326596</td>\n",
       "      <td>-176.262786</td>\n",
       "      <td>-128.953431</td>\n",
       "      <td>-54.591761</td>\n",
       "      <td>2.190327e-03</td>\n",
       "    </tr>\n",
       "    <tr>\n",
       "      <th>3</th>\n",
       "      <td>999</td>\n",
       "      <td>Inverse-Weibull_Log-Logistic</td>\n",
       "      <td>5000</td>\n",
       "      <td>-4313.464236</td>\n",
       "      <td>0.149965</td>\n",
       "      <td>1.5</td>\n",
       "      <td>-2981.786340</td>\n",
       "      <td>-1780.836722</td>\n",
       "      <td>-534.771521</td>\n",
       "      <td>-176.262786</td>\n",
       "      <td>-128.953431</td>\n",
       "      <td>-54.591761</td>\n",
       "      <td>6.713596e-78</td>\n",
       "    </tr>\n",
       "    <tr>\n",
       "      <th>4</th>\n",
       "      <td>999</td>\n",
       "      <td>Inverse-Weibull_Lomax</td>\n",
       "      <td>5000</td>\n",
       "      <td>-4268.058221</td>\n",
       "      <td>0.091195</td>\n",
       "      <td>1.5</td>\n",
       "      <td>-469.518385</td>\n",
       "      <td>-320.085106</td>\n",
       "      <td>-123.024368</td>\n",
       "      <td>-176.262786</td>\n",
       "      <td>-128.953431</td>\n",
       "      <td>-54.591761</td>\n",
       "      <td>3.519952e-58</td>\n",
       "    </tr>\n",
       "    <tr>\n",
       "      <th>5</th>\n",
       "      <td>999</td>\n",
       "      <td>Inverse-Weibull_Inverse-Weibull</td>\n",
       "      <td>5000</td>\n",
       "      <td>-4333.290489</td>\n",
       "      <td>1.856897</td>\n",
       "      <td>1.5</td>\n",
       "      <td>-417.546329</td>\n",
       "      <td>-273.370534</td>\n",
       "      <td>-91.881831</td>\n",
       "      <td>-176.262786</td>\n",
       "      <td>-128.953431</td>\n",
       "      <td>-54.591761</td>\n",
       "      <td>1.646354e-86</td>\n",
       "    </tr>\n",
       "    <tr>\n",
       "      <th>0</th>\n",
       "      <td>999</td>\n",
       "      <td>BMA</td>\n",
       "      <td>5000</td>\n",
       "      <td>None</td>\n",
       "      <td>1.354765</td>\n",
       "      <td>1.5</td>\n",
       "      <td>-155.440791</td>\n",
       "      <td>-112.439440</td>\n",
       "      <td>-46.888235</td>\n",
       "      <td>-176.262786</td>\n",
       "      <td>-128.953431</td>\n",
       "      <td>-54.591761</td>\n",
       "      <td>NaN</td>\n",
       "    </tr>\n",
       "  </tbody>\n",
       "</table>\n",
       "<p>7000 rows × 13 columns</p>\n",
       "</div>"
      ],
      "text/plain": [
       "    sim                       model_name  nobs     log_marg     γ_map  γ_true  \\\n",
       "0     0             Weibull_Log-Logistic  5000  -3823.66223  2.566335     1.5   \n",
       "1     0                    Weibull_Lomax  5000 -3822.480563  2.044409     1.5   \n",
       "2     0          Weibull_Inverse-Weibull  5000 -3823.959699  2.857912     1.5   \n",
       "3     0     Inverse-Weibull_Log-Logistic  5000 -3959.310756  0.180976     1.5   \n",
       "4     0            Inverse-Weibull_Lomax  5000 -3926.570876  0.123042     1.5   \n",
       "..  ...                              ...   ...          ...       ...     ...   \n",
       "2   999          Weibull_Inverse-Weibull  5000 -4141.890438  3.132476     1.5   \n",
       "3   999     Inverse-Weibull_Log-Logistic  5000 -4313.464236  0.149965     1.5   \n",
       "4   999            Inverse-Weibull_Lomax  5000 -4268.058221  0.091195     1.5   \n",
       "5   999  Inverse-Weibull_Inverse-Weibull  5000 -4333.290489  1.856897     1.5   \n",
       "0   999                              BMA  5000         None  1.354765     1.5   \n",
       "\n",
       "         cap005        cap01       cap05  cap005_true  cap01_true  cap05_true  \\\n",
       "0   -393.316015  -257.237486  -87.394002  -176.262786 -128.953431  -54.591761   \n",
       "1   -237.518967  -165.314228  -65.327566  -176.262786 -128.953431  -54.591761   \n",
       "2   -430.538805  -282.875339  -96.322515  -176.262786 -128.953431  -54.591761   \n",
       "3  -2581.792724 -1575.059482 -476.372487  -176.262786 -128.953431  -54.591761   \n",
       "4   -465.541002  -318.000560 -118.332817  -176.262786 -128.953431  -54.591761   \n",
       "..          ...          ...         ...          ...         ...         ...   \n",
       "2   -305.768419  -202.954292  -74.326596  -176.262786 -128.953431  -54.591761   \n",
       "3  -2981.786340 -1780.836722 -534.771521  -176.262786 -128.953431  -54.591761   \n",
       "4   -469.518385  -320.085106 -123.024368  -176.262786 -128.953431  -54.591761   \n",
       "5   -417.546329  -273.370534  -91.881831  -176.262786 -128.953431  -54.591761   \n",
       "0   -155.440791  -112.439440  -46.888235  -176.262786 -128.953431  -54.591761   \n",
       "\n",
       "    posterior_probability  \n",
       "0            1.999001e-01  \n",
       "1            6.516350e-01  \n",
       "2            1.484649e-01  \n",
       "3            2.451357e-60  \n",
       "4            4.056539e-46  \n",
       "..                    ...  \n",
       "2            2.190327e-03  \n",
       "3            6.713596e-78  \n",
       "4            3.519952e-58  \n",
       "5            1.646354e-86  \n",
       "0                     NaN  \n",
       "\n",
       "[7000 rows x 13 columns]"
      ]
     },
     "execution_count": 1,
     "metadata": {},
     "output_type": "execute_result"
    }
   ],
   "source": [
    "pd.concat(res)"
   ]
  },
  {
   "cell_type": "code",
   "execution_count": null,
   "id": "convertible-arlington",
   "metadata": {},
   "outputs": [],
   "source": []
  }
 ],
 "metadata": {
  "kernelspec": {
   "display_name": "Python 3",
   "language": "python",
   "name": "python3"
  },
  "language_info": {
   "codemirror_mode": {
    "name": "ipython",
    "version": 3
   },
   "file_extension": ".py",
   "mimetype": "text/x-python",
   "name": "python",
   "nbconvert_exporter": "python",
   "pygments_lexer": "ipython3",
   "version": "3.8.8"
  }
 },
 "nbformat": 4,
 "nbformat_minor": 5
}
