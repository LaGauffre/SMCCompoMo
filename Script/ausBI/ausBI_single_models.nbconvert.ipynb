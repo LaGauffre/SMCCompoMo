{
 "cells": [
  {
   "cell_type": "markdown",
   "id": "30667778-2df4-4b7a-9f47-4a2ed05343d6",
   "metadata": {},
   "source": [
    "# Australian motor insurance data"
   ]
  },
  {
   "cell_type": "code",
   "execution_count": 1,
   "id": "236790f7-bab7-45d4-b1c6-bd1ca1b9ee7a",
   "metadata": {
    "execution": {
     "iopub.execute_input": "2022-01-26T08:41:09.415702Z",
     "iopub.status.busy": "2022-01-26T08:41:09.415073Z",
     "iopub.status.idle": "2022-01-26T08:41:10.711784Z",
     "shell.execute_reply": "2022-01-26T08:41:10.712582Z"
    }
   },
   "outputs": [],
   "source": [
    "%run preamble_scripts.py\n",
    "ausautoBI8999 = pd.read_csv(\"../../Data/Aus_Auto/ausautoBI8999.csv\")\n",
    "aus = pd.concat([ausautoBI8999[[\"FinDate\", \"FinMth\" ,\"AggClaim\"]], \n",
    "                 pd.DataFrame({'year':np.array([dat.datetime.fromisoformat(ausautoBI8999[\"FinDate\"].iloc[k]).year \n",
    "                                                for k in range(len(ausautoBI8999[\"FinDate\"]))])})\n",
    "                ], axis = 1)\n",
    "import random\n",
    "random.seed(123)"
   ]
  },
  {
   "cell_type": "markdown",
   "id": "979b5c34-45e0-4c08-af42-2cd6a6d490f7",
   "metadata": {},
   "source": [
    "## Yearly claim frequency"
   ]
  },
  {
   "cell_type": "code",
   "execution_count": 2,
   "id": "77151f4f-f495-4f34-ae09-5a8bafc4c93c",
   "metadata": {
    "execution": {
     "iopub.execute_input": "2022-01-26T08:41:10.717847Z",
     "iopub.status.busy": "2022-01-26T08:41:10.716918Z",
     "iopub.status.idle": "2022-01-26T08:41:10.725271Z",
     "shell.execute_reply": "2022-01-26T08:41:10.725858Z"
    }
   },
   "outputs": [
    {
     "data": {
      "text/plain": [
       "3148.0"
      ]
     },
     "execution_count": 1,
     "metadata": {},
     "output_type": "execute_result"
    }
   ],
   "source": [
    "count_nb_claim = aus.groupby('year').count()['AggClaim'].reset_index()\n",
    "expo = np.mean(count_nb_claim['AggClaim'])\n",
    "expo"
   ]
  },
  {
   "cell_type": "code",
   "execution_count": 3,
   "id": "126bb5fa-8d5a-4ba5-a659-1dcc69bcff41",
   "metadata": {
    "execution": {
     "iopub.execute_input": "2022-01-26T08:41:10.731529Z",
     "iopub.status.busy": "2022-01-26T08:41:10.730788Z",
     "iopub.status.idle": "2022-01-26T08:41:10.759116Z",
     "shell.execute_reply": "2022-01-26T08:41:10.758509Z"
    }
   },
   "outputs": [],
   "source": [
    "#Rolling mean, median 95 and 99% quantile for years and month\n",
    "Quantities = ['q50', 'q75', 'q95', 'q99']\n",
    "Quantity_labels  = [\"Quantile à $50\\%$\",\n",
    "                   \"Quantile à $75\\%$\",\n",
    "                   \"Quantile à $95\\%$\",\n",
    "                   \"Quantile à $99\\%$\"\n",
    "                  ]\n",
    "aus['scaled_aggclaims'] = aus['AggClaim'] / 1e6 \n",
    "yearly_df = pd.DataFrame({'year':np.unique(aus['year']),\n",
    "                          'q50':aus[['year', \"scaled_aggclaims\"]].groupby('year').quantile(0.5).values.flatten(), \n",
    "                          'q75': aus[['year', \"scaled_aggclaims\"]].groupby('year').quantile(0.75).values.flatten(), \n",
    "                          'q95': aus[['year', \"scaled_aggclaims\"]].groupby('year').quantile(0.95).values.flatten(), \n",
    "                          'q99' : aus[['year', \"scaled_aggclaims\"]].groupby('year').quantile(0.99).values.flatten()}\n",
    "                        )"
   ]
  },
  {
   "cell_type": "markdown",
   "id": "100b8d8a-b3a1-49b8-956a-7878ebe20096",
   "metadata": {},
   "source": [
    "## Single loss model fit"
   ]
  },
  {
   "cell_type": "code",
   "execution_count": 4,
   "id": "35a0bcfb-9f02-4059-bfa8-565ab50f9816",
   "metadata": {
    "execution": {
     "iopub.execute_input": "2022-01-26T08:41:10.773439Z",
     "iopub.status.busy": "2022-01-26T08:41:10.772503Z",
     "iopub.status.idle": "2022-01-26T08:41:10.775520Z",
     "shell.execute_reply": "2022-01-26T08:41:10.776345Z"
    }
   },
   "outputs": [
    {
     "data": {
      "text/plain": [
       "10"
      ]
     },
     "execution_count": 1,
     "metadata": {},
     "output_type": "execute_result"
    }
   ],
   "source": [
    "f_names = [\"Log-Logistic\", \"Lomax\", \"Burr\", \"Exp\", \"Gamma\", \"Weibull\", \"Inverse-Gaussian\", \"Lognormal\", \n",
    "           \"Inverse-Weibull\", \"Inverse-Gamma\"]\n",
    "model_param_names = [[\"β\", \"σ\"], [\"α\", \"σ\"], [\"α\",\"β\", \"σ\"], [\"λ\"], [\"r\", \"m\"], \n",
    "                     [\"k\", \"β\"],[\"μ\", \"λ\"], [\"μ\", \"σ\"], [\"k\", \"β\"], [\"r\", \"m\"],\n",
    "                    [\"k\", \"α\", \"γ\"],[\"σ\", \"α\", \"γ\"], [\"r\", \"α\", \"γ\"]]\n",
    "\n",
    "# Prior distributions over the parameters of the bulk distribution\n",
    "model_priors= [\n",
    "                [bs.prior_model('gamma',model_param_names[0][0], 1, 1), \n",
    "                 bs.prior_model('gamma',model_param_names[0][1], 1, 1)],\n",
    "    [bs.prior_model('gamma',model_param_names[1][0], 1, 1), \n",
    "     bs.prior_model('gamma',model_param_names[1][1], 1, 1)],\n",
    "    [bs.prior_model('gamma',model_param_names[2][0], 1, 1), \n",
    "     bs.prior_model('gamma',model_param_names[2][1], 1, 1),\n",
    "     bs.prior_model('gamma',model_param_names[2][2], 1, 1)], \n",
    "    [bs.prior_model('gamma',model_param_names[3][0], 1, 1)], \n",
    "     [bs.prior_model('gamma',model_param_names[4][0], 1, 1),\n",
    "     bs.prior_model('gamma',model_param_names[4][1], 1, 1)],\n",
    "    [bs.prior_model('gamma',model_param_names[5][0], 1, 1),\n",
    "     bs.prior_model('gamma',model_param_names[5][1], 1, 1)],\n",
    "    [bs.prior_model('gamma',model_param_names[6][0], 1, 1),\n",
    "     bs.prior_model('gamma',model_param_names[6][1], 1, 1)],\n",
    "    [bs.prior_model('normal',model_param_names[7][0], 0, 0.5),\n",
    "     bs.prior_model('gamma',model_param_names[7][1], 1,  1)],\n",
    "     [bs.prior_model('gamma',model_param_names[8][0], 1, 1),\n",
    "     bs.prior_model('gamma',model_param_names[8][1], 1, 1)],\n",
    "    [bs.prior_model('gamma',model_param_names[9][0], 1, 1),\n",
    "     bs.prior_model('gamma',model_param_names[9][1], 1, 1)]\n",
    "]\n",
    "\n",
    "fs, prior_single_model = [], []\n",
    "for i in range(len(f_names)):\n",
    "    fs.append(bs.loss_model(f_names[i], model_param_names[i]))\n",
    "    prior_single_model.append(bs.independent_priors(model_priors[i]))\n",
    "    fs[i].set_ppf(), fs[i].set_pdf(), fs[i].set_cdf()  \n",
    "f_single_dic = dict(zip(f_names, fs))\n",
    "prior_dic = dict(zip(f_names, prior_single_model))\n",
    "len(fs)"
   ]
  },
  {
   "cell_type": "code",
   "execution_count": 5,
   "id": "36ce917e-5617-4bd3-a518-0a3673fce3f2",
   "metadata": {
    "execution": {
     "iopub.execute_input": "2022-01-26T08:41:10.788198Z",
     "iopub.status.busy": "2022-01-26T08:41:10.787277Z",
     "iopub.status.idle": "2022-01-26T09:38:11.987607Z",
     "shell.execute_reply": "2022-01-26T09:38:11.988506Z"
    }
   },
   "outputs": [
    {
     "name": "stdout",
     "output_type": "stream",
     "text": [
      "1993\n",
      "CPU times: user 144 ms, sys: 73.5 ms, total: 218 ms\n",
      "Wall time: 2min 43s\n",
      "1994\n",
      "CPU times: user 140 ms, sys: 18.7 ms, total: 158 ms\n",
      "Wall time: 7min 8s\n",
      "1995\n",
      "CPU times: user 146 ms, sys: 66.8 ms, total: 213 ms\n",
      "Wall time: 9min\n",
      "1996\n",
      "CPU times: user 141 ms, sys: 78.1 ms, total: 219 ms\n",
      "Wall time: 8min 50s\n",
      "1997\n",
      "CPU times: user 153 ms, sys: 81.8 ms, total: 234 ms\n",
      "Wall time: 11min 52s\n",
      "1998\n",
      "CPU times: user 177 ms, sys: 89.8 ms, total: 267 ms\n",
      "Wall time: 14min 51s\n",
      "1999\n",
      "CPU times: user 139 ms, sys: 79.8 ms, total: 218 ms\n",
      "Wall time: 2min 32s\n"
     ]
    }
   ],
   "source": [
    "years = aus.year.drop_duplicates().values\n",
    "dfs = []\n",
    "for year in years:\n",
    "    print(year)\n",
    "    X = aus.scaled_aggclaims.values[aus.year == year]\n",
    "    popSize, ρ, c, n_step_max, err, paralell, n_proc, verbose = 10000, 1/2, 0.99, 25, 1e-6, False, 4, False\n",
    "    def fit_single_models(i):\n",
    "        print(f_names[i])\n",
    "        trace, log_marg, DIC, WAIC = bs.smc(X, fs[i], popSize, prior_single_model[i], ρ, c,n_step_max, err, paralell, 4, verbose)\n",
    "        VaRs = [fs[i].ppf(trace.mean().values, prob) for prob in [0.95, 0.99, 0.995]]\n",
    "        # premiums = fs[i].PP(trace.mean().values), fs[i].XOLP(trace.mean().values, P, L)\n",
    "        # PnLs = np.array(fs[i].PnL(trace.mean().values, P, L, expo, premiums, safety_loadings = [0.05, 0.05], n_sim = int(1e5)))\n",
    "        # caps = np.quantile(PnLs, [0.005, 0.01, 0.05])\n",
    "        Wass_dist = bs.compute_Wasserstein(X, fs[i], trace.mean().values, 1)\n",
    "        return(np.array([year, f_names[i], log_marg, Wass_dist] + VaRs))\n",
    "        \n",
    "\n",
    "    %time res = Parallel(n_jobs= len(fs))(delayed(fit_single_models)(i) for i in range(len(fs)))\n",
    "    df = pd.DataFrame(res, columns = [\"year\", \"model_name\", \"log_marg\", \"Wass_dist\", \"q95\", \"q99\", \"q995\"])\n",
    "    df[df.columns[2:]] = df[df.columns[2:]].astype(float)\n",
    "\n",
    "    df[\"posterior_probability\"] = np.exp(df[\"log_marg\"] - np.max(df[\"log_marg\"])) / np.sum(np.exp(df[\"log_marg\"] - np.max(df[\"log_marg\"]))) \n",
    "    dfs.append(df)"
   ]
  },
  {
   "cell_type": "code",
   "execution_count": 6,
   "id": "75e02965-4790-44df-b90d-dbf069ce4a69",
   "metadata": {
    "execution": {
     "iopub.execute_input": "2022-01-26T09:38:11.996941Z",
     "iopub.status.busy": "2022-01-26T09:38:11.995852Z",
     "iopub.status.idle": "2022-01-26T09:38:12.000788Z",
     "shell.execute_reply": "2022-01-26T09:38:12.001213Z"
    }
   },
   "outputs": [],
   "source": [
    "single_models_df = pd.concat(dfs)\n",
    "single_models_df.to_csv(\"../../Data/Aus_Auto/aus_single_model_fit.csv\", sep=',')\n",
    "# for year in years:\n",
    "#     X = aus.scaled_aggclaims.values[aus.year == year]\n",
    "#     best_model_name = single_models_df[single_models_df.year == str(year)].sort_values(by='log_marg', ascending=False)[\"model_name\"].values[0]\n",
    "#     # best_model_name = \"Lognormal\"\n",
    "#     print(best_model_name)\n",
    "#     f, prior = f_single_dic[best_model_name], prior_dic[best_model_name] \n",
    "#     trace, log_marg, DIC, WAIC = bs.smc(X, f_single_dic[best_model_name], 5000, prior_dic[best_model_name], verbose = False)\n",
    "#     print(log_marg)\n",
    "#     bs.qq_plot(X, f, trace.mean().values)"
   ]
  },
  {
   "cell_type": "code",
   "execution_count": 7,
   "id": "e8d2fdab-e220-4a34-9278-8fbc70a5fa5c",
   "metadata": {
    "execution": {
     "iopub.execute_input": "2022-01-26T09:38:12.003831Z",
     "iopub.status.busy": "2022-01-26T09:38:12.003320Z",
     "iopub.status.idle": "2022-01-26T09:38:12.005352Z",
     "shell.execute_reply": "2022-01-26T09:38:12.005798Z"
    }
   },
   "outputs": [],
   "source": [
    "# for year in years:\n",
    "#     best_models= single_models_df[single_models_df.year == str(year)].sort_values(by='log_marg', ascending=False).iloc[:5]\n",
    "#     print(best_models)"
   ]
  },
  {
   "cell_type": "code",
   "execution_count": null,
   "id": "2a53b5cb-7d08-46a2-8a1e-f4a729958fd0",
   "metadata": {},
   "outputs": [],
   "source": []
  }
 ],
 "metadata": {
  "kernelspec": {
   "display_name": "Python 3",
   "language": "python",
   "name": "python3"
  },
  "language_info": {
   "codemirror_mode": {
    "name": "ipython",
    "version": 3
   },
   "file_extension": ".py",
   "mimetype": "text/x-python",
   "name": "python",
   "nbconvert_exporter": "python",
   "pygments_lexer": "ipython3",
   "version": "3.8.8"
  }
 },
 "nbformat": 4,
 "nbformat_minor": 5
}
