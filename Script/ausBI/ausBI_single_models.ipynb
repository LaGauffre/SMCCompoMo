{
 "cells": [
  {
   "cell_type": "markdown",
   "id": "30667778-2df4-4b7a-9f47-4a2ed05343d6",
   "metadata": {},
   "source": [
    "# Australian motor insurance data"
   ]
  },
  {
   "cell_type": "code",
   "execution_count": 1,
   "id": "236790f7-bab7-45d4-b1c6-bd1ca1b9ee7a",
   "metadata": {},
   "outputs": [
    {
     "ename": "Exception",
     "evalue": "File `'preamble_scripts.py*.py'` not found.",
     "output_type": "error",
     "traceback": [
      "\u001b[0;31m---------------------------------------------------------------------------\u001b[0m",
      "\u001b[0;31mOSError\u001b[0m                                   Traceback (most recent call last)",
      "\u001b[0;32m~/miniconda3/lib/python3.8/site-packages/IPython/core/magics/execution.py\u001b[0m in \u001b[0;36mrun\u001b[0;34m(self, parameter_s, runner, file_finder)\u001b[0m\n\u001b[1;32m    702\u001b[0m             \u001b[0mfpath\u001b[0m \u001b[0;34m=\u001b[0m \u001b[0marg_lst\u001b[0m\u001b[0;34m[\u001b[0m\u001b[0;36m0\u001b[0m\u001b[0;34m]\u001b[0m\u001b[0;34m\u001b[0m\u001b[0;34m\u001b[0m\u001b[0m\n\u001b[0;32m--> 703\u001b[0;31m             \u001b[0mfilename\u001b[0m \u001b[0;34m=\u001b[0m \u001b[0mfile_finder\u001b[0m\u001b[0;34m(\u001b[0m\u001b[0mfpath\u001b[0m\u001b[0;34m)\u001b[0m\u001b[0;34m\u001b[0m\u001b[0;34m\u001b[0m\u001b[0m\n\u001b[0m\u001b[1;32m    704\u001b[0m         \u001b[0;32mexcept\u001b[0m \u001b[0mIndexError\u001b[0m\u001b[0;34m:\u001b[0m\u001b[0;34m\u001b[0m\u001b[0;34m\u001b[0m\u001b[0m\n",
      "\u001b[0;32m~/miniconda3/lib/python3.8/site-packages/IPython/utils/path.py\u001b[0m in \u001b[0;36mget_py_filename\u001b[0;34m(name, force_win32)\u001b[0m\n\u001b[1;32m    108\u001b[0m     \u001b[0;32melse\u001b[0m\u001b[0;34m:\u001b[0m\u001b[0;34m\u001b[0m\u001b[0;34m\u001b[0m\u001b[0m\n\u001b[0;32m--> 109\u001b[0;31m         \u001b[0;32mraise\u001b[0m \u001b[0mIOError\u001b[0m\u001b[0;34m(\u001b[0m\u001b[0;34m'File `%r` not found.'\u001b[0m \u001b[0;34m%\u001b[0m \u001b[0mname\u001b[0m\u001b[0;34m)\u001b[0m\u001b[0;34m\u001b[0m\u001b[0;34m\u001b[0m\u001b[0m\n\u001b[0m\u001b[1;32m    110\u001b[0m \u001b[0;34m\u001b[0m\u001b[0m\n",
      "\u001b[0;31mOSError\u001b[0m: File `'preamble_scripts.py*.py'` not found.",
      "\nDuring handling of the above exception, another exception occurred:\n",
      "\u001b[0;31mException\u001b[0m                                 Traceback (most recent call last)",
      "\u001b[0;32m<ipython-input-1-4ccd2a7ca161>\u001b[0m in \u001b[0;36m<module>\u001b[0;34m\u001b[0m\n\u001b[0;32m----> 1\u001b[0;31m \u001b[0mget_ipython\u001b[0m\u001b[0;34m(\u001b[0m\u001b[0;34m)\u001b[0m\u001b[0;34m.\u001b[0m\u001b[0mrun_line_magic\u001b[0m\u001b[0;34m(\u001b[0m\u001b[0;34m'run'\u001b[0m\u001b[0;34m,\u001b[0m \u001b[0;34m'preamble_scripts.py*'\u001b[0m\u001b[0;34m)\u001b[0m\u001b[0;34m\u001b[0m\u001b[0;34m\u001b[0m\u001b[0m\n\u001b[0m\u001b[1;32m      2\u001b[0m \u001b[0mausautoBI8999\u001b[0m \u001b[0;34m=\u001b[0m \u001b[0mpd\u001b[0m\u001b[0;34m.\u001b[0m\u001b[0mread_csv\u001b[0m\u001b[0;34m(\u001b[0m\u001b[0;34m\"../../Data/Aus_Auto/ausautoBI8999.csv\"\u001b[0m\u001b[0;34m)\u001b[0m\u001b[0;34m\u001b[0m\u001b[0;34m\u001b[0m\u001b[0m\n\u001b[1;32m      3\u001b[0m aus = pd.concat([ausautoBI8999[[\"FinDate\", \"FinMth\" ,\"AggClaim\"]], \n\u001b[1;32m      4\u001b[0m                  pd.DataFrame({'year':np.array([dat.datetime.fromisoformat(ausautoBI8999[\"FinDate\"].iloc[k]).year \n\u001b[1;32m      5\u001b[0m                                                 for k in range(len(ausautoBI8999[\"FinDate\"]))])})\n",
      "\u001b[0;32m~/miniconda3/lib/python3.8/site-packages/IPython/core/interactiveshell.py\u001b[0m in \u001b[0;36mrun_line_magic\u001b[0;34m(self, magic_name, line, _stack_depth)\u001b[0m\n\u001b[1;32m   2342\u001b[0m                 \u001b[0mkwargs\u001b[0m\u001b[0;34m[\u001b[0m\u001b[0;34m'local_ns'\u001b[0m\u001b[0;34m]\u001b[0m \u001b[0;34m=\u001b[0m \u001b[0mself\u001b[0m\u001b[0;34m.\u001b[0m\u001b[0mget_local_scope\u001b[0m\u001b[0;34m(\u001b[0m\u001b[0mstack_depth\u001b[0m\u001b[0;34m)\u001b[0m\u001b[0;34m\u001b[0m\u001b[0;34m\u001b[0m\u001b[0m\n\u001b[1;32m   2343\u001b[0m             \u001b[0;32mwith\u001b[0m \u001b[0mself\u001b[0m\u001b[0;34m.\u001b[0m\u001b[0mbuiltin_trap\u001b[0m\u001b[0;34m:\u001b[0m\u001b[0;34m\u001b[0m\u001b[0;34m\u001b[0m\u001b[0m\n\u001b[0;32m-> 2344\u001b[0;31m                 \u001b[0mresult\u001b[0m \u001b[0;34m=\u001b[0m \u001b[0mfn\u001b[0m\u001b[0;34m(\u001b[0m\u001b[0;34m*\u001b[0m\u001b[0margs\u001b[0m\u001b[0;34m,\u001b[0m \u001b[0;34m**\u001b[0m\u001b[0mkwargs\u001b[0m\u001b[0;34m)\u001b[0m\u001b[0;34m\u001b[0m\u001b[0;34m\u001b[0m\u001b[0m\n\u001b[0m\u001b[1;32m   2345\u001b[0m             \u001b[0;32mreturn\u001b[0m \u001b[0mresult\u001b[0m\u001b[0;34m\u001b[0m\u001b[0;34m\u001b[0m\u001b[0m\n\u001b[1;32m   2346\u001b[0m \u001b[0;34m\u001b[0m\u001b[0m\n",
      "\u001b[0;32m<decorator-gen-52>\u001b[0m in \u001b[0;36mrun\u001b[0;34m(self, parameter_s, runner, file_finder)\u001b[0m\n",
      "\u001b[0;32m~/miniconda3/lib/python3.8/site-packages/IPython/core/magic.py\u001b[0m in \u001b[0;36m<lambda>\u001b[0;34m(f, *a, **k)\u001b[0m\n\u001b[1;32m    185\u001b[0m     \u001b[0;31m# but it's overkill for just that one bit of state.\u001b[0m\u001b[0;34m\u001b[0m\u001b[0;34m\u001b[0m\u001b[0;34m\u001b[0m\u001b[0m\n\u001b[1;32m    186\u001b[0m     \u001b[0;32mdef\u001b[0m \u001b[0mmagic_deco\u001b[0m\u001b[0;34m(\u001b[0m\u001b[0marg\u001b[0m\u001b[0;34m)\u001b[0m\u001b[0;34m:\u001b[0m\u001b[0;34m\u001b[0m\u001b[0;34m\u001b[0m\u001b[0m\n\u001b[0;32m--> 187\u001b[0;31m         \u001b[0mcall\u001b[0m \u001b[0;34m=\u001b[0m \u001b[0;32mlambda\u001b[0m \u001b[0mf\u001b[0m\u001b[0;34m,\u001b[0m \u001b[0;34m*\u001b[0m\u001b[0ma\u001b[0m\u001b[0;34m,\u001b[0m \u001b[0;34m**\u001b[0m\u001b[0mk\u001b[0m\u001b[0;34m:\u001b[0m \u001b[0mf\u001b[0m\u001b[0;34m(\u001b[0m\u001b[0;34m*\u001b[0m\u001b[0ma\u001b[0m\u001b[0;34m,\u001b[0m \u001b[0;34m**\u001b[0m\u001b[0mk\u001b[0m\u001b[0;34m)\u001b[0m\u001b[0;34m\u001b[0m\u001b[0;34m\u001b[0m\u001b[0m\n\u001b[0m\u001b[1;32m    188\u001b[0m \u001b[0;34m\u001b[0m\u001b[0m\n\u001b[1;32m    189\u001b[0m         \u001b[0;32mif\u001b[0m \u001b[0mcallable\u001b[0m\u001b[0;34m(\u001b[0m\u001b[0marg\u001b[0m\u001b[0;34m)\u001b[0m\u001b[0;34m:\u001b[0m\u001b[0;34m\u001b[0m\u001b[0;34m\u001b[0m\u001b[0m\n",
      "\u001b[0;32m~/miniconda3/lib/python3.8/site-packages/IPython/core/magics/execution.py\u001b[0m in \u001b[0;36mrun\u001b[0;34m(self, parameter_s, runner, file_finder)\u001b[0m\n\u001b[1;32m    712\u001b[0m             \u001b[0;32mif\u001b[0m \u001b[0mos\u001b[0m\u001b[0;34m.\u001b[0m\u001b[0mname\u001b[0m \u001b[0;34m==\u001b[0m \u001b[0;34m'nt'\u001b[0m \u001b[0;32mand\u001b[0m \u001b[0mre\u001b[0m\u001b[0;34m.\u001b[0m\u001b[0mmatch\u001b[0m\u001b[0;34m(\u001b[0m\u001b[0;34mr\"^'.*'$\"\u001b[0m\u001b[0;34m,\u001b[0m\u001b[0mfpath\u001b[0m\u001b[0;34m)\u001b[0m\u001b[0;34m:\u001b[0m\u001b[0;34m\u001b[0m\u001b[0;34m\u001b[0m\u001b[0m\n\u001b[1;32m    713\u001b[0m                 \u001b[0mwarn\u001b[0m\u001b[0;34m(\u001b[0m\u001b[0;34m'For Windows, use double quotes to wrap a filename: %run \"mypath\\\\myfile.py\"'\u001b[0m\u001b[0;34m)\u001b[0m\u001b[0;34m\u001b[0m\u001b[0;34m\u001b[0m\u001b[0m\n\u001b[0;32m--> 714\u001b[0;31m             \u001b[0;32mraise\u001b[0m \u001b[0mException\u001b[0m\u001b[0;34m(\u001b[0m\u001b[0mmsg\u001b[0m\u001b[0;34m)\u001b[0m\u001b[0;34m\u001b[0m\u001b[0;34m\u001b[0m\u001b[0m\n\u001b[0m\u001b[1;32m    715\u001b[0m         \u001b[0;32mexcept\u001b[0m \u001b[0mTypeError\u001b[0m\u001b[0;34m:\u001b[0m\u001b[0;34m\u001b[0m\u001b[0;34m\u001b[0m\u001b[0m\n\u001b[1;32m    716\u001b[0m             \u001b[0;32mif\u001b[0m \u001b[0mfpath\u001b[0m \u001b[0;32min\u001b[0m \u001b[0msys\u001b[0m\u001b[0;34m.\u001b[0m\u001b[0mmeta_path\u001b[0m\u001b[0;34m:\u001b[0m\u001b[0;34m\u001b[0m\u001b[0;34m\u001b[0m\u001b[0m\n",
      "\u001b[0;31mException\u001b[0m: File `'preamble_scripts.py*.py'` not found."
     ]
    }
   ],
   "source": [
    "%run preamble_scripts.py\n",
    "ausautoBI8999 = pd.read_csv(\"../../Data/Aus_Auto/ausautoBI8999.csv\")\n",
    "aus = pd.concat([ausautoBI8999[[\"FinDate\", \"FinMth\" ,\"AggClaim\"]], \n",
    "                 pd.DataFrame({'year':np.array([dat.datetime.fromisoformat(ausautoBI8999[\"FinDate\"].iloc[k]).year \n",
    "                                                for k in range(len(ausautoBI8999[\"FinDate\"]))])})\n",
    "                ], axis = 1)\n",
    "import random\n",
    "random.seed(123)"
   ]
  },
  {
   "cell_type": "markdown",
   "id": "979b5c34-45e0-4c08-af42-2cd6a6d490f7",
   "metadata": {},
   "source": [
    "## Yearly claim frequency"
   ]
  },
  {
   "cell_type": "code",
   "execution_count": 2,
   "id": "77151f4f-f495-4f34-ae09-5a8bafc4c93c",
   "metadata": {},
   "outputs": [
    {
     "data": {
      "text/plain": [
       "3148.0"
      ]
     },
     "execution_count": 2,
     "metadata": {},
     "output_type": "execute_result"
    }
   ],
   "source": [
    "count_nb_claim = aus.groupby('year').count()['AggClaim'].reset_index()\n",
    "expo = np.mean(count_nb_claim['AggClaim'])\n",
    "expo"
   ]
  },
  {
   "cell_type": "code",
   "execution_count": 3,
   "id": "126bb5fa-8d5a-4ba5-a659-1dcc69bcff41",
   "metadata": {},
   "outputs": [],
   "source": [
    "#Rolling mean, median 95 and 99% quantile for years and month\n",
    "Quantities = ['q50', 'q75', 'q95', 'q99']\n",
    "Quantity_labels  = [\"Quantile à $50\\%$\",\n",
    "                   \"Quantile à $75\\%$\",\n",
    "                   \"Quantile à $95\\%$\",\n",
    "                   \"Quantile à $99\\%$\"\n",
    "                  ]\n",
    "aus['scaled_aggclaims'] = aus['AggClaim'] / 1e6 \n",
    "yearly_df = pd.DataFrame({'year':np.unique(aus['year']),\n",
    "                          'q50':aus[['year', \"scaled_aggclaims\"]].groupby('year').quantile(0.5).values.flatten(), \n",
    "                          'q75': aus[['year', \"scaled_aggclaims\"]].groupby('year').quantile(0.75).values.flatten(), \n",
    "                          'q95': aus[['year', \"scaled_aggclaims\"]].groupby('year').quantile(0.95).values.flatten(), \n",
    "                          'q99' : aus[['year', \"scaled_aggclaims\"]].groupby('year').quantile(0.99).values.flatten()}\n",
    "                        )"
   ]
  },
  {
   "cell_type": "markdown",
   "id": "100b8d8a-b3a1-49b8-956a-7878ebe20096",
   "metadata": {},
   "source": [
    "## Single loss model fit"
   ]
  },
  {
   "cell_type": "code",
   "execution_count": 4,
   "id": "35a0bcfb-9f02-4059-bfa8-565ab50f9816",
   "metadata": {},
   "outputs": [
    {
     "data": {
      "text/plain": [
       "10"
      ]
     },
     "execution_count": 4,
     "metadata": {},
     "output_type": "execute_result"
    }
   ],
   "source": [
    "f_names = [\"Log-Logistic\", \"Lomax\", \"Burr\", \"Exp\", \"Gamma\", \"Weibull\", \"Inverse-Gaussian\", \"Lognormal\", \n",
    "           \"Inverse-Weibull\", \"Inverse-Gamma\"]\n",
    "model_param_names = [[\"β\", \"σ\"], [\"α\", \"σ\"], [\"α\",\"β\", \"σ\"], [\"λ\"], [\"r\", \"m\"], \n",
    "                     [\"k\", \"β\"],[\"μ\", \"λ\"], [\"μ\", \"σ\"], [\"k\", \"β\"], [\"r\", \"m\"],\n",
    "                    [\"k\", \"α\", \"γ\"],[\"σ\", \"α\", \"γ\"], [\"r\", \"α\", \"γ\"]]\n",
    "\n",
    "# Prior distributions over the parameters of the bulk distribution\n",
    "model_priors= [\n",
    "                [bs.prior_model('gamma',model_param_names[0][0], 1, 1), \n",
    "                 bs.prior_model('gamma',model_param_names[0][1], 1, 1)],\n",
    "    [bs.prior_model('gamma',model_param_names[1][0], 1, 1), \n",
    "     bs.prior_model('gamma',model_param_names[1][1], 1, 1)],\n",
    "    [bs.prior_model('gamma',model_param_names[2][0], 1, 1), \n",
    "     bs.prior_model('gamma',model_param_names[2][1], 1, 1),\n",
    "     bs.prior_model('gamma',model_param_names[2][2], 1, 1)], \n",
    "    [bs.prior_model('gamma',model_param_names[3][0], 1, 1)], \n",
    "     [bs.prior_model('gamma',model_param_names[4][0], 1, 1),\n",
    "     bs.prior_model('gamma',model_param_names[4][1], 1, 1)],\n",
    "    [bs.prior_model('gamma',model_param_names[5][0], 1, 1),\n",
    "     bs.prior_model('gamma',model_param_names[5][1], 1, 1)],\n",
    "    [bs.prior_model('gamma',model_param_names[6][0], 1, 1),\n",
    "     bs.prior_model('gamma',model_param_names[6][1], 1, 1)],\n",
    "    [bs.prior_model('normal',model_param_names[7][0], 0, 0.5),\n",
    "     bs.prior_model('gamma',model_param_names[7][1], 1,  1)],\n",
    "     [bs.prior_model('gamma',model_param_names[8][0], 1, 1),\n",
    "     bs.prior_model('gamma',model_param_names[8][1], 1, 1)],\n",
    "    [bs.prior_model('gamma',model_param_names[9][0], 1, 1),\n",
    "     bs.prior_model('gamma',model_param_names[9][1], 1, 1)]\n",
    "]\n",
    "\n",
    "fs, prior_single_model = [], []\n",
    "for i in range(len(f_names)):\n",
    "    fs.append(bs.loss_model(f_names[i], model_param_names[i]))\n",
    "    prior_single_model.append(bs.independent_priors(model_priors[i]))\n",
    "    fs[i].set_ppf(), fs[i].set_pdf(), fs[i].set_cdf()  \n",
    "f_single_dic = dict(zip(f_names, fs))\n",
    "prior_dic = dict(zip(f_names, prior_single_model))\n",
    "len(fs)"
   ]
  },
  {
   "cell_type": "code",
   "execution_count": 5,
   "id": "36ce917e-5617-4bd3-a518-0a3673fce3f2",
   "metadata": {},
   "outputs": [
    {
     "name": "stdout",
     "output_type": "stream",
     "text": [
      "1993\n",
      "CPU times: user 242 ms, sys: 93.1 ms, total: 335 ms\n",
      "Wall time: 15.9 s\n",
      "1994\n",
      "CPU times: user 197 ms, sys: 55 µs, total: 197 ms\n",
      "Wall time: 19.5 s\n",
      "1995\n",
      "CPU times: user 190 ms, sys: 3.7 ms, total: 193 ms\n",
      "Wall time: 23 s\n",
      "1996\n",
      "CPU times: user 219 ms, sys: 386 µs, total: 219 ms\n",
      "Wall time: 23.4 s\n",
      "1997\n",
      "CPU times: user 200 ms, sys: 604 µs, total: 201 ms\n",
      "Wall time: 28.8 s\n",
      "1998\n",
      "CPU times: user 203 ms, sys: 11.9 ms, total: 215 ms\n",
      "Wall time: 37 s\n",
      "1999\n",
      "CPU times: user 179 ms, sys: 4.48 ms, total: 183 ms\n",
      "Wall time: 9.39 s\n"
     ]
    }
   ],
   "source": [
    "years = aus.year.drop_duplicates().values\n",
    "dfs = []\n",
    "for year in years:\n",
    "    print(year)\n",
    "    X = aus.scaled_aggclaims.values[aus.year == year]\n",
    "    popSize, ρ, c, n_step_max, err, paralell, n_proc, verbose = 10000, 1/2, 0.99, 25, 1e-6, False, 4, False\n",
    "    def fit_single_models(i):\n",
    "        print(f_names[i])\n",
    "        trace, log_marg, DIC, WAIC = bs.smc(X, fs[i], popSize, prior_single_model[i], ρ, c,n_step_max, err, paralell, 4, verbose)\n",
    "        VaRs = [fs[i].ppf(trace.mean().values, prob) for prob in [0.95, 0.99, 0.995]]\n",
    "        # premiums = fs[i].PP(trace.mean().values), fs[i].XOLP(trace.mean().values, P, L)\n",
    "        # PnLs = np.array(fs[i].PnL(trace.mean().values, P, L, expo, premiums, safety_loadings = [0.05, 0.05], n_sim = int(1e5)))\n",
    "        # caps = np.quantile(PnLs, [0.005, 0.01, 0.05])\n",
    "        Wass_dist = bs.compute_Wasserstein(X, fs[i], trace.mean().values, 1)\n",
    "        return(np.array([year, f_names[i], log_marg, Wass_dist] + VaRs))\n",
    "        \n",
    "\n",
    "    %time res = Parallel(n_jobs= len(fs))(delayed(fit_single_models)(i) for i in range(len(fs)))\n",
    "    df = pd.DataFrame(res, columns = [\"year\", \"model_name\", \"log_marg\", \"Wass_dist\", \"q95\", \"q99\", \"q995\"])\n",
    "    df[df.columns[2:]] = df[df.columns[2:]].astype(float)\n",
    "\n",
    "    df[\"posterior_probability\"] = np.exp(df[\"log_marg\"] - np.max(df[\"log_marg\"])) / np.sum(np.exp(df[\"log_marg\"] - np.max(df[\"log_marg\"]))) \n",
    "    dfs.append(df)"
   ]
  },
  {
   "cell_type": "code",
   "execution_count": 6,
   "id": "75e02965-4790-44df-b90d-dbf069ce4a69",
   "metadata": {},
   "outputs": [],
   "source": [
    "single_models_df = pd.concat(dfs)\n",
    "single_models_df.to_csv(\"../../Data/Aus_Auto/aus_single_model_fit.csv\", sep=',')\n",
    "# for year in years:\n",
    "#     X = aus.scaled_aggclaims.values[aus.year == year]\n",
    "#     best_model_name = single_models_df[single_models_df.year == str(year)].sort_values(by='log_marg', ascending=False)[\"model_name\"].values[0]\n",
    "#     # best_model_name = \"Lognormal\"\n",
    "#     print(best_model_name)\n",
    "#     f, prior = f_single_dic[best_model_name], prior_dic[best_model_name] \n",
    "#     trace, log_marg, DIC, WAIC = bs.smc(X, f_single_dic[best_model_name], 5000, prior_dic[best_model_name], verbose = False)\n",
    "#     print(log_marg)\n",
    "#     bs.qq_plot(X, f, trace.mean().values)"
   ]
  },
  {
   "cell_type": "code",
   "execution_count": 42,
   "id": "e8d2fdab-e220-4a34-9278-8fbc70a5fa5c",
   "metadata": {},
   "outputs": [],
   "source": [
    "# for year in years:\n",
    "#     best_models= single_models_df[single_models_df.year == str(year)].sort_values(by='log_marg', ascending=False).iloc[:5]\n",
    "#     print(best_models)"
   ]
  },
  {
   "cell_type": "code",
   "execution_count": null,
   "id": "2a53b5cb-7d08-46a2-8a1e-f4a729958fd0",
   "metadata": {},
   "outputs": [],
   "source": []
  }
 ],
 "metadata": {
  "kernelspec": {
   "display_name": "Python 3",
   "language": "python",
   "name": "python3"
  },
  "language_info": {
   "codemirror_mode": {
    "name": "ipython",
    "version": 3
   },
   "file_extension": ".py",
   "mimetype": "text/x-python",
   "name": "python",
   "nbconvert_exporter": "python",
   "pygments_lexer": "ipython3",
   "version": "3.8.8"
  }
 },
 "nbformat": 4,
 "nbformat_minor": 5
}
